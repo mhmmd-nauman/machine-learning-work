{
 "cells": [
  {
   "cell_type": "code",
   "execution_count": 3,
   "metadata": {},
   "outputs": [
    {
     "data": {
      "application/vnd.plotly.v1+json": {
       "config": {
        "plotlyServerURL": "https://plot.ly"
       },
       "data": [
        {
         "customdata": [
          [
           "OPEN"
          ],
          [
           "Bahawalpur"
          ],
          [
           "Bahawalpur"
          ],
          [
           "Bahawalpur"
          ],
          [
           "Bahawalpur"
          ],
          [
           "Bahawalpur"
          ],
          [
           "Bahawalpur"
          ],
          [
           "Bahawalpur"
          ],
          [
           "Bahawalpur"
          ],
          [
           "Bahawalpur"
          ],
          [
           "Bahawalpur"
          ],
          [
           "Bahawalpur"
          ],
          [
           "Bahawalpur"
          ],
          [
           "Bahawalpur"
          ],
          [
           "Bahawalpur"
          ],
          [
           "Bahawalpur"
          ],
          [
           "Bahawalpur"
          ],
          [
           "Bahawalpur"
          ],
          [
           "Bahawalpur"
          ],
          [
           "Bahawalpur"
          ],
          [
           "Bahawalpur"
          ],
          [
           "Bahawalpur"
          ],
          [
           "Bahawalpur"
          ],
          [
           "Bahawalpur"
          ],
          [
           "Bahawalpur"
          ],
          [
           "Bahawalpur"
          ],
          [
           "Bahawalpur"
          ],
          [
           "Bahawalpur"
          ],
          [
           "Bahawalpur"
          ],
          [
           "Bahawalpur"
          ],
          [
           "Bahawalpur"
          ],
          [
           "Bahawalpur"
          ],
          [
           "Bahawalpur"
          ],
          [
           "Bahawalpur"
          ],
          [
           "Bahawalpur"
          ],
          [
           "Bahawalpur"
          ],
          [
           "Bahawalpur"
          ],
          [
           "Bahawalpur"
          ],
          [
           "Bahawalpur"
          ],
          [
           "Bahawalpur"
          ],
          [
           "Bahawalpur"
          ],
          [
           "Bahawalpur"
          ],
          [
           "Bahawalpur"
          ],
          [
           "Bahawalpur"
          ],
          [
           "Bahawalpur"
          ],
          [
           "Bahawalpur"
          ],
          [
           "Bahawalpur"
          ],
          [
           "Bahawalpur"
          ],
          [
           "Bahawalpur"
          ],
          [
           "Bahawalpur"
          ],
          [
           "Bahawalpur"
          ],
          [
           "Bahawalpur"
          ],
          [
           "Bahawalpur"
          ],
          [
           "Bahawalpur"
          ],
          [
           "OPEN"
          ],
          [
           "OPEN"
          ],
          [
           "OPEN"
          ],
          [
           "Bahawalpur"
          ],
          [
           "OPEN"
          ],
          [
           "OPEN"
          ],
          [
           "Bahawalpur"
          ],
          [
           "OPEN"
          ],
          [
           "OPEN"
          ]
         ],
         "hovertemplate": "Offered=Not Offered<br>NTS=%{x}<br>FA/FSC=%{y}<br>Domicile=%{customdata[0]}<extra></extra>",
         "legendgroup": "Not Offered",
         "marker": {
          "color": "#636efa",
          "symbol": "circle"
         },
         "mode": "markers",
         "name": "Not Offered",
         "showlegend": true,
         "type": "scatter",
         "x": [
          0,
          49,
          46,
          56,
          54,
          51,
          49,
          60,
          48,
          61,
          52,
          47,
          59,
          50,
          62,
          48,
          40,
          56,
          53,
          46,
          42,
          40,
          52,
          71,
          31,
          58,
          63,
          53,
          48,
          62,
          53,
          45,
          61,
          52,
          63,
          50,
          56,
          50,
          52,
          63,
          52,
          42,
          53,
          40,
          55,
          57,
          63,
          51,
          54,
          50,
          40,
          58,
          40,
          41,
          40,
          53,
          60,
          51,
          59,
          40,
          65,
          57,
          57
         ],
         "xaxis": "x",
         "y": [
          689,
          841,
          773,
          829,
          813,
          802,
          606,
          804,
          820,
          624,
          836,
          841,
          795,
          805,
          791,
          671,
          692,
          817,
          800,
          721,
          598,
          604,
          812,
          744,
          511,
          662,
          682,
          822,
          807,
          707,
          791,
          698,
          784,
          811,
          776,
          764,
          643,
          492,
          589,
          781,
          803,
          724,
          810,
          523,
          811,
          645,
          703,
          773,
          813,
          855,
          583,
          782,
          859,
          840,
          715,
          815,
          765,
          825,
          791,
          772,
          773,
          853,
          772
         ],
         "yaxis": "y"
        },
        {
         "customdata": [
          [
           "Bahawalpur"
          ],
          [
           "Bahawalpur"
          ],
          [
           "Bahawalpur"
          ],
          [
           "Bahawalpur"
          ],
          [
           "Bahawalpur"
          ],
          [
           "Bahawalpur"
          ],
          [
           "Bahawalpur"
          ],
          [
           "Bahawalpur"
          ],
          [
           "Bahawalpur"
          ],
          [
           "Bahawalpur"
          ],
          [
           "Bahawalpur"
          ],
          [
           "Bahawalpur"
          ],
          [
           "Bahawalpur"
          ],
          [
           "Bahawalpur"
          ],
          [
           "Bahawalpur"
          ],
          [
           "OPEN"
          ],
          [
           "OPEN"
          ],
          [
           "OPEN"
          ],
          [
           "OPEN"
          ],
          [
           "OPEN"
          ],
          [
           "OPEN"
          ],
          [
           "OPEN"
          ],
          [
           "OPEN"
          ],
          [
           "OPEN"
          ],
          [
           "OPEN"
          ],
          [
           "OPEN"
          ],
          [
           "OPEN"
          ],
          [
           "OPEN"
          ],
          [
           "Bahawalpur"
          ],
          [
           "OPEN"
          ]
         ],
         "hovertemplate": "Offered=Offered_IN_OPEN_QUOTA<br>NTS=%{x}<br>FA/FSC=%{y}<br>Domicile=%{customdata[0]}<extra></extra>",
         "legendgroup": "Offered_IN_OPEN_QUOTA",
         "marker": {
          "color": "#EF553B",
          "symbol": "circle"
         },
         "mode": "markers",
         "name": "Offered_IN_OPEN_QUOTA",
         "showlegend": true,
         "type": "scatter",
         "x": [
          59,
          54,
          67,
          54,
          58,
          47,
          68,
          66,
          67,
          82,
          61,
          61,
          85,
          62,
          52,
          52,
          62,
          53,
          59,
          62,
          57,
          55,
          66,
          61,
          61,
          67,
          57,
          69,
          49,
          68
         ],
         "xaxis": "x",
         "y": [
          1100,
          893,
          954,
          913,
          865,
          902,
          924,
          913,
          938,
          972,
          920,
          907,
          868,
          874,
          897,
          856,
          841,
          849,
          905,
          913,
          920,
          951,
          888,
          838,
          860,
          925,
          857,
          865,
          1018,
          809
         ],
         "yaxis": "y"
        },
        {
         "customdata": [
          [
           "Bahawalpur"
          ],
          [
           "Bahawalpur"
          ],
          [
           "Bahawalpur"
          ],
          [
           "Bahawalpur"
          ],
          [
           "Bahawalpur"
          ],
          [
           "Bahawalpur"
          ],
          [
           "Bahawalpur"
          ],
          [
           "Bahawalpur"
          ],
          [
           "Bahawalpur"
          ],
          [
           "Bahawalpur"
          ],
          [
           "Bahawalpur"
          ],
          [
           "Bahawalpur"
          ],
          [
           "Bahawalpur"
          ],
          [
           "Bahawalpur"
          ],
          [
           "Bahawalpur"
          ],
          [
           "Bahawalpur"
          ],
          [
           "Bahawalpur"
          ],
          [
           "Bahawalpur"
          ],
          [
           "Bahawalpur"
          ],
          [
           "Bahawalpur"
          ],
          [
           "Bahawalpur"
          ],
          [
           "Bahawalpur"
          ],
          [
           "Bahawalpur"
          ],
          [
           "Bahawalpur"
          ],
          [
           "Bahawalpur"
          ],
          [
           "Bahawalpur"
          ],
          [
           "Bahawalpur"
          ],
          [
           "Bahawalpur"
          ],
          [
           "Bahawalpur"
          ]
         ],
         "hovertemplate": "Offered=Offered_IN_BWP_QUOTA<br>NTS=%{x}<br>FA/FSC=%{y}<br>Domicile=%{customdata[0]}<extra></extra>",
         "legendgroup": "Offered_IN_BWP_QUOTA",
         "marker": {
          "color": "#00cc96",
          "symbol": "circle"
         },
         "mode": "markers",
         "name": "Offered_IN_BWP_QUOTA",
         "showlegend": true,
         "type": "scatter",
         "x": [
          55,
          60,
          63,
          51,
          55,
          54,
          53,
          56,
          50,
          64,
          46,
          58,
          53,
          60,
          62,
          56,
          47,
          57,
          47,
          51,
          55,
          54,
          50,
          59,
          65,
          53,
          59,
          44,
          62
         ],
         "xaxis": "x",
         "y": [
          850,
          815,
          814,
          882,
          802,
          843,
          850,
          825,
          834,
          802,
          849,
          822,
          853,
          808,
          838,
          830,
          850,
          824,
          857,
          845,
          864,
          846,
          867,
          854,
          814,
          859,
          873,
          852,
          835
         ],
         "yaxis": "y"
        }
       ],
       "layout": {
        "legend": {
         "title": {
          "text": "Offered"
         },
         "tracegroupgap": 0
        },
        "margin": {
         "t": 60
        },
        "template": {
         "data": {
          "bar": [
           {
            "error_x": {
             "color": "#2a3f5f"
            },
            "error_y": {
             "color": "#2a3f5f"
            },
            "marker": {
             "line": {
              "color": "#E5ECF6",
              "width": 0.5
             }
            },
            "type": "bar"
           }
          ],
          "barpolar": [
           {
            "marker": {
             "line": {
              "color": "#E5ECF6",
              "width": 0.5
             }
            },
            "type": "barpolar"
           }
          ],
          "carpet": [
           {
            "aaxis": {
             "endlinecolor": "#2a3f5f",
             "gridcolor": "white",
             "linecolor": "white",
             "minorgridcolor": "white",
             "startlinecolor": "#2a3f5f"
            },
            "baxis": {
             "endlinecolor": "#2a3f5f",
             "gridcolor": "white",
             "linecolor": "white",
             "minorgridcolor": "white",
             "startlinecolor": "#2a3f5f"
            },
            "type": "carpet"
           }
          ],
          "choropleth": [
           {
            "colorbar": {
             "outlinewidth": 0,
             "ticks": ""
            },
            "type": "choropleth"
           }
          ],
          "contour": [
           {
            "colorbar": {
             "outlinewidth": 0,
             "ticks": ""
            },
            "colorscale": [
             [
              0,
              "#0d0887"
             ],
             [
              0.1111111111111111,
              "#46039f"
             ],
             [
              0.2222222222222222,
              "#7201a8"
             ],
             [
              0.3333333333333333,
              "#9c179e"
             ],
             [
              0.4444444444444444,
              "#bd3786"
             ],
             [
              0.5555555555555556,
              "#d8576b"
             ],
             [
              0.6666666666666666,
              "#ed7953"
             ],
             [
              0.7777777777777778,
              "#fb9f3a"
             ],
             [
              0.8888888888888888,
              "#fdca26"
             ],
             [
              1,
              "#f0f921"
             ]
            ],
            "type": "contour"
           }
          ],
          "contourcarpet": [
           {
            "colorbar": {
             "outlinewidth": 0,
             "ticks": ""
            },
            "type": "contourcarpet"
           }
          ],
          "heatmap": [
           {
            "colorbar": {
             "outlinewidth": 0,
             "ticks": ""
            },
            "colorscale": [
             [
              0,
              "#0d0887"
             ],
             [
              0.1111111111111111,
              "#46039f"
             ],
             [
              0.2222222222222222,
              "#7201a8"
             ],
             [
              0.3333333333333333,
              "#9c179e"
             ],
             [
              0.4444444444444444,
              "#bd3786"
             ],
             [
              0.5555555555555556,
              "#d8576b"
             ],
             [
              0.6666666666666666,
              "#ed7953"
             ],
             [
              0.7777777777777778,
              "#fb9f3a"
             ],
             [
              0.8888888888888888,
              "#fdca26"
             ],
             [
              1,
              "#f0f921"
             ]
            ],
            "type": "heatmap"
           }
          ],
          "heatmapgl": [
           {
            "colorbar": {
             "outlinewidth": 0,
             "ticks": ""
            },
            "colorscale": [
             [
              0,
              "#0d0887"
             ],
             [
              0.1111111111111111,
              "#46039f"
             ],
             [
              0.2222222222222222,
              "#7201a8"
             ],
             [
              0.3333333333333333,
              "#9c179e"
             ],
             [
              0.4444444444444444,
              "#bd3786"
             ],
             [
              0.5555555555555556,
              "#d8576b"
             ],
             [
              0.6666666666666666,
              "#ed7953"
             ],
             [
              0.7777777777777778,
              "#fb9f3a"
             ],
             [
              0.8888888888888888,
              "#fdca26"
             ],
             [
              1,
              "#f0f921"
             ]
            ],
            "type": "heatmapgl"
           }
          ],
          "histogram": [
           {
            "marker": {
             "colorbar": {
              "outlinewidth": 0,
              "ticks": ""
             }
            },
            "type": "histogram"
           }
          ],
          "histogram2d": [
           {
            "colorbar": {
             "outlinewidth": 0,
             "ticks": ""
            },
            "colorscale": [
             [
              0,
              "#0d0887"
             ],
             [
              0.1111111111111111,
              "#46039f"
             ],
             [
              0.2222222222222222,
              "#7201a8"
             ],
             [
              0.3333333333333333,
              "#9c179e"
             ],
             [
              0.4444444444444444,
              "#bd3786"
             ],
             [
              0.5555555555555556,
              "#d8576b"
             ],
             [
              0.6666666666666666,
              "#ed7953"
             ],
             [
              0.7777777777777778,
              "#fb9f3a"
             ],
             [
              0.8888888888888888,
              "#fdca26"
             ],
             [
              1,
              "#f0f921"
             ]
            ],
            "type": "histogram2d"
           }
          ],
          "histogram2dcontour": [
           {
            "colorbar": {
             "outlinewidth": 0,
             "ticks": ""
            },
            "colorscale": [
             [
              0,
              "#0d0887"
             ],
             [
              0.1111111111111111,
              "#46039f"
             ],
             [
              0.2222222222222222,
              "#7201a8"
             ],
             [
              0.3333333333333333,
              "#9c179e"
             ],
             [
              0.4444444444444444,
              "#bd3786"
             ],
             [
              0.5555555555555556,
              "#d8576b"
             ],
             [
              0.6666666666666666,
              "#ed7953"
             ],
             [
              0.7777777777777778,
              "#fb9f3a"
             ],
             [
              0.8888888888888888,
              "#fdca26"
             ],
             [
              1,
              "#f0f921"
             ]
            ],
            "type": "histogram2dcontour"
           }
          ],
          "mesh3d": [
           {
            "colorbar": {
             "outlinewidth": 0,
             "ticks": ""
            },
            "type": "mesh3d"
           }
          ],
          "parcoords": [
           {
            "line": {
             "colorbar": {
              "outlinewidth": 0,
              "ticks": ""
             }
            },
            "type": "parcoords"
           }
          ],
          "pie": [
           {
            "automargin": true,
            "type": "pie"
           }
          ],
          "scatter": [
           {
            "marker": {
             "colorbar": {
              "outlinewidth": 0,
              "ticks": ""
             }
            },
            "type": "scatter"
           }
          ],
          "scatter3d": [
           {
            "line": {
             "colorbar": {
              "outlinewidth": 0,
              "ticks": ""
             }
            },
            "marker": {
             "colorbar": {
              "outlinewidth": 0,
              "ticks": ""
             }
            },
            "type": "scatter3d"
           }
          ],
          "scattercarpet": [
           {
            "marker": {
             "colorbar": {
              "outlinewidth": 0,
              "ticks": ""
             }
            },
            "type": "scattercarpet"
           }
          ],
          "scattergeo": [
           {
            "marker": {
             "colorbar": {
              "outlinewidth": 0,
              "ticks": ""
             }
            },
            "type": "scattergeo"
           }
          ],
          "scattergl": [
           {
            "marker": {
             "colorbar": {
              "outlinewidth": 0,
              "ticks": ""
             }
            },
            "type": "scattergl"
           }
          ],
          "scattermapbox": [
           {
            "marker": {
             "colorbar": {
              "outlinewidth": 0,
              "ticks": ""
             }
            },
            "type": "scattermapbox"
           }
          ],
          "scatterpolar": [
           {
            "marker": {
             "colorbar": {
              "outlinewidth": 0,
              "ticks": ""
             }
            },
            "type": "scatterpolar"
           }
          ],
          "scatterpolargl": [
           {
            "marker": {
             "colorbar": {
              "outlinewidth": 0,
              "ticks": ""
             }
            },
            "type": "scatterpolargl"
           }
          ],
          "scatterternary": [
           {
            "marker": {
             "colorbar": {
              "outlinewidth": 0,
              "ticks": ""
             }
            },
            "type": "scatterternary"
           }
          ],
          "surface": [
           {
            "colorbar": {
             "outlinewidth": 0,
             "ticks": ""
            },
            "colorscale": [
             [
              0,
              "#0d0887"
             ],
             [
              0.1111111111111111,
              "#46039f"
             ],
             [
              0.2222222222222222,
              "#7201a8"
             ],
             [
              0.3333333333333333,
              "#9c179e"
             ],
             [
              0.4444444444444444,
              "#bd3786"
             ],
             [
              0.5555555555555556,
              "#d8576b"
             ],
             [
              0.6666666666666666,
              "#ed7953"
             ],
             [
              0.7777777777777778,
              "#fb9f3a"
             ],
             [
              0.8888888888888888,
              "#fdca26"
             ],
             [
              1,
              "#f0f921"
             ]
            ],
            "type": "surface"
           }
          ],
          "table": [
           {
            "cells": {
             "fill": {
              "color": "#EBF0F8"
             },
             "line": {
              "color": "white"
             }
            },
            "header": {
             "fill": {
              "color": "#C8D4E3"
             },
             "line": {
              "color": "white"
             }
            },
            "type": "table"
           }
          ]
         },
         "layout": {
          "annotationdefaults": {
           "arrowcolor": "#2a3f5f",
           "arrowhead": 0,
           "arrowwidth": 1
          },
          "coloraxis": {
           "colorbar": {
            "outlinewidth": 0,
            "ticks": ""
           }
          },
          "colorscale": {
           "diverging": [
            [
             0,
             "#8e0152"
            ],
            [
             0.1,
             "#c51b7d"
            ],
            [
             0.2,
             "#de77ae"
            ],
            [
             0.3,
             "#f1b6da"
            ],
            [
             0.4,
             "#fde0ef"
            ],
            [
             0.5,
             "#f7f7f7"
            ],
            [
             0.6,
             "#e6f5d0"
            ],
            [
             0.7,
             "#b8e186"
            ],
            [
             0.8,
             "#7fbc41"
            ],
            [
             0.9,
             "#4d9221"
            ],
            [
             1,
             "#276419"
            ]
           ],
           "sequential": [
            [
             0,
             "#0d0887"
            ],
            [
             0.1111111111111111,
             "#46039f"
            ],
            [
             0.2222222222222222,
             "#7201a8"
            ],
            [
             0.3333333333333333,
             "#9c179e"
            ],
            [
             0.4444444444444444,
             "#bd3786"
            ],
            [
             0.5555555555555556,
             "#d8576b"
            ],
            [
             0.6666666666666666,
             "#ed7953"
            ],
            [
             0.7777777777777778,
             "#fb9f3a"
            ],
            [
             0.8888888888888888,
             "#fdca26"
            ],
            [
             1,
             "#f0f921"
            ]
           ],
           "sequentialminus": [
            [
             0,
             "#0d0887"
            ],
            [
             0.1111111111111111,
             "#46039f"
            ],
            [
             0.2222222222222222,
             "#7201a8"
            ],
            [
             0.3333333333333333,
             "#9c179e"
            ],
            [
             0.4444444444444444,
             "#bd3786"
            ],
            [
             0.5555555555555556,
             "#d8576b"
            ],
            [
             0.6666666666666666,
             "#ed7953"
            ],
            [
             0.7777777777777778,
             "#fb9f3a"
            ],
            [
             0.8888888888888888,
             "#fdca26"
            ],
            [
             1,
             "#f0f921"
            ]
           ]
          },
          "colorway": [
           "#636efa",
           "#EF553B",
           "#00cc96",
           "#ab63fa",
           "#FFA15A",
           "#19d3f3",
           "#FF6692",
           "#B6E880",
           "#FF97FF",
           "#FECB52"
          ],
          "font": {
           "color": "#2a3f5f"
          },
          "geo": {
           "bgcolor": "white",
           "lakecolor": "white",
           "landcolor": "#E5ECF6",
           "showlakes": true,
           "showland": true,
           "subunitcolor": "white"
          },
          "hoverlabel": {
           "align": "left"
          },
          "hovermode": "closest",
          "mapbox": {
           "style": "light"
          },
          "paper_bgcolor": "white",
          "plot_bgcolor": "#E5ECF6",
          "polar": {
           "angularaxis": {
            "gridcolor": "white",
            "linecolor": "white",
            "ticks": ""
           },
           "bgcolor": "#E5ECF6",
           "radialaxis": {
            "gridcolor": "white",
            "linecolor": "white",
            "ticks": ""
           }
          },
          "scene": {
           "xaxis": {
            "backgroundcolor": "#E5ECF6",
            "gridcolor": "white",
            "gridwidth": 2,
            "linecolor": "white",
            "showbackground": true,
            "ticks": "",
            "zerolinecolor": "white"
           },
           "yaxis": {
            "backgroundcolor": "#E5ECF6",
            "gridcolor": "white",
            "gridwidth": 2,
            "linecolor": "white",
            "showbackground": true,
            "ticks": "",
            "zerolinecolor": "white"
           },
           "zaxis": {
            "backgroundcolor": "#E5ECF6",
            "gridcolor": "white",
            "gridwidth": 2,
            "linecolor": "white",
            "showbackground": true,
            "ticks": "",
            "zerolinecolor": "white"
           }
          },
          "shapedefaults": {
           "line": {
            "color": "#2a3f5f"
           }
          },
          "ternary": {
           "aaxis": {
            "gridcolor": "white",
            "linecolor": "white",
            "ticks": ""
           },
           "baxis": {
            "gridcolor": "white",
            "linecolor": "white",
            "ticks": ""
           },
           "bgcolor": "#E5ECF6",
           "caxis": {
            "gridcolor": "white",
            "linecolor": "white",
            "ticks": ""
           }
          },
          "title": {
           "x": 0.05
          },
          "xaxis": {
           "automargin": true,
           "gridcolor": "white",
           "linecolor": "white",
           "ticks": "",
           "title": {
            "standoff": 15
           },
           "zerolinecolor": "white",
           "zerolinewidth": 2
          },
          "yaxis": {
           "automargin": true,
           "gridcolor": "white",
           "linecolor": "white",
           "ticks": "",
           "title": {
            "standoff": 15
           },
           "zerolinecolor": "white",
           "zerolinewidth": 2
          }
         }
        },
        "xaxis": {
         "anchor": "y",
         "domain": [
          0,
          1
         ],
         "title": {
          "text": "NTS"
         }
        },
        "yaxis": {
         "anchor": "x",
         "domain": [
          0,
          1
         ],
         "title": {
          "text": "FA/FSC"
         }
        }
       }
      },
      "text/html": [
       "<div>\n",
       "        \n",
       "        \n",
       "            <div id=\"7dcd005e-b23b-44a8-acf7-d36784fa9a06\" class=\"plotly-graph-div\" style=\"height:525px; width:100%;\"></div>\n",
       "            <script type=\"text/javascript\">\n",
       "                require([\"plotly\"], function(Plotly) {\n",
       "                    window.PLOTLYENV=window.PLOTLYENV || {};\n",
       "                    \n",
       "                if (document.getElementById(\"7dcd005e-b23b-44a8-acf7-d36784fa9a06\")) {\n",
       "                    Plotly.newPlot(\n",
       "                        '7dcd005e-b23b-44a8-acf7-d36784fa9a06',\n",
       "                        [{\"customdata\": [[\"OPEN\"], [\"Bahawalpur\"], [\"Bahawalpur\"], [\"Bahawalpur\"], [\"Bahawalpur\"], [\"Bahawalpur\"], [\"Bahawalpur\"], [\"Bahawalpur\"], [\"Bahawalpur\"], [\"Bahawalpur\"], [\"Bahawalpur\"], [\"Bahawalpur\"], [\"Bahawalpur\"], [\"Bahawalpur\"], [\"Bahawalpur\"], [\"Bahawalpur\"], [\"Bahawalpur\"], [\"Bahawalpur\"], [\"Bahawalpur\"], [\"Bahawalpur\"], [\"Bahawalpur\"], [\"Bahawalpur\"], [\"Bahawalpur\"], [\"Bahawalpur\"], [\"Bahawalpur\"], [\"Bahawalpur\"], [\"Bahawalpur\"], [\"Bahawalpur\"], [\"Bahawalpur\"], [\"Bahawalpur\"], [\"Bahawalpur\"], [\"Bahawalpur\"], [\"Bahawalpur\"], [\"Bahawalpur\"], [\"Bahawalpur\"], [\"Bahawalpur\"], [\"Bahawalpur\"], [\"Bahawalpur\"], [\"Bahawalpur\"], [\"Bahawalpur\"], [\"Bahawalpur\"], [\"Bahawalpur\"], [\"Bahawalpur\"], [\"Bahawalpur\"], [\"Bahawalpur\"], [\"Bahawalpur\"], [\"Bahawalpur\"], [\"Bahawalpur\"], [\"Bahawalpur\"], [\"Bahawalpur\"], [\"Bahawalpur\"], [\"Bahawalpur\"], [\"Bahawalpur\"], [\"Bahawalpur\"], [\"OPEN\"], [\"OPEN\"], [\"OPEN\"], [\"Bahawalpur\"], [\"OPEN\"], [\"OPEN\"], [\"Bahawalpur\"], [\"OPEN\"], [\"OPEN\"]], \"hovertemplate\": \"Offered=Not Offered<br>NTS=%{x}<br>FA/FSC=%{y}<br>Domicile=%{customdata[0]}<extra></extra>\", \"legendgroup\": \"Not Offered\", \"marker\": {\"color\": \"#636efa\", \"symbol\": \"circle\"}, \"mode\": \"markers\", \"name\": \"Not Offered\", \"showlegend\": true, \"type\": \"scatter\", \"x\": [0, 49, 46, 56, 54, 51, 49, 60, 48, 61, 52, 47, 59, 50, 62, 48, 40, 56, 53, 46, 42, 40, 52, 71, 31, 58, 63, 53, 48, 62, 53, 45, 61, 52, 63, 50, 56, 50, 52, 63, 52, 42, 53, 40, 55, 57, 63, 51, 54, 50, 40, 58, 40, 41, 40, 53, 60, 51, 59, 40, 65, 57, 57], \"xaxis\": \"x\", \"y\": [689, 841, 773, 829, 813, 802, 606, 804, 820, 624, 836, 841, 795, 805, 791, 671, 692, 817, 800, 721, 598, 604, 812, 744, 511, 662, 682, 822, 807, 707, 791, 698, 784, 811, 776, 764, 643, 492, 589, 781, 803, 724, 810, 523, 811, 645, 703, 773, 813, 855, 583, 782, 859, 840, 715, 815, 765, 825, 791, 772, 773, 853, 772], \"yaxis\": \"y\"}, {\"customdata\": [[\"Bahawalpur\"], [\"Bahawalpur\"], [\"Bahawalpur\"], [\"Bahawalpur\"], [\"Bahawalpur\"], [\"Bahawalpur\"], [\"Bahawalpur\"], [\"Bahawalpur\"], [\"Bahawalpur\"], [\"Bahawalpur\"], [\"Bahawalpur\"], [\"Bahawalpur\"], [\"Bahawalpur\"], [\"Bahawalpur\"], [\"Bahawalpur\"], [\"OPEN\"], [\"OPEN\"], [\"OPEN\"], [\"OPEN\"], [\"OPEN\"], [\"OPEN\"], [\"OPEN\"], [\"OPEN\"], [\"OPEN\"], [\"OPEN\"], [\"OPEN\"], [\"OPEN\"], [\"OPEN\"], [\"Bahawalpur\"], [\"OPEN\"]], \"hovertemplate\": \"Offered=Offered_IN_OPEN_QUOTA<br>NTS=%{x}<br>FA/FSC=%{y}<br>Domicile=%{customdata[0]}<extra></extra>\", \"legendgroup\": \"Offered_IN_OPEN_QUOTA\", \"marker\": {\"color\": \"#EF553B\", \"symbol\": \"circle\"}, \"mode\": \"markers\", \"name\": \"Offered_IN_OPEN_QUOTA\", \"showlegend\": true, \"type\": \"scatter\", \"x\": [59, 54, 67, 54, 58, 47, 68, 66, 67, 82, 61, 61, 85, 62, 52, 52, 62, 53, 59, 62, 57, 55, 66, 61, 61, 67, 57, 69, 49, 68], \"xaxis\": \"x\", \"y\": [1100, 893, 954, 913, 865, 902, 924, 913, 938, 972, 920, 907, 868, 874, 897, 856, 841, 849, 905, 913, 920, 951, 888, 838, 860, 925, 857, 865, 1018, 809], \"yaxis\": \"y\"}, {\"customdata\": [[\"Bahawalpur\"], [\"Bahawalpur\"], [\"Bahawalpur\"], [\"Bahawalpur\"], [\"Bahawalpur\"], [\"Bahawalpur\"], [\"Bahawalpur\"], [\"Bahawalpur\"], [\"Bahawalpur\"], [\"Bahawalpur\"], [\"Bahawalpur\"], [\"Bahawalpur\"], [\"Bahawalpur\"], [\"Bahawalpur\"], [\"Bahawalpur\"], [\"Bahawalpur\"], [\"Bahawalpur\"], [\"Bahawalpur\"], [\"Bahawalpur\"], [\"Bahawalpur\"], [\"Bahawalpur\"], [\"Bahawalpur\"], [\"Bahawalpur\"], [\"Bahawalpur\"], [\"Bahawalpur\"], [\"Bahawalpur\"], [\"Bahawalpur\"], [\"Bahawalpur\"], [\"Bahawalpur\"]], \"hovertemplate\": \"Offered=Offered_IN_BWP_QUOTA<br>NTS=%{x}<br>FA/FSC=%{y}<br>Domicile=%{customdata[0]}<extra></extra>\", \"legendgroup\": \"Offered_IN_BWP_QUOTA\", \"marker\": {\"color\": \"#00cc96\", \"symbol\": \"circle\"}, \"mode\": \"markers\", \"name\": \"Offered_IN_BWP_QUOTA\", \"showlegend\": true, \"type\": \"scatter\", \"x\": [55, 60, 63, 51, 55, 54, 53, 56, 50, 64, 46, 58, 53, 60, 62, 56, 47, 57, 47, 51, 55, 54, 50, 59, 65, 53, 59, 44, 62], \"xaxis\": \"x\", \"y\": [850, 815, 814, 882, 802, 843, 850, 825, 834, 802, 849, 822, 853, 808, 838, 830, 850, 824, 857, 845, 864, 846, 867, 854, 814, 859, 873, 852, 835], \"yaxis\": \"y\"}],\n",
       "                        {\"legend\": {\"title\": {\"text\": \"Offered\"}, \"tracegroupgap\": 0}, \"margin\": {\"t\": 60}, \"template\": {\"data\": {\"bar\": [{\"error_x\": {\"color\": \"#2a3f5f\"}, \"error_y\": {\"color\": \"#2a3f5f\"}, \"marker\": {\"line\": {\"color\": \"#E5ECF6\", \"width\": 0.5}}, \"type\": \"bar\"}], \"barpolar\": [{\"marker\": {\"line\": {\"color\": \"#E5ECF6\", \"width\": 0.5}}, \"type\": \"barpolar\"}], \"carpet\": [{\"aaxis\": {\"endlinecolor\": \"#2a3f5f\", \"gridcolor\": \"white\", \"linecolor\": \"white\", \"minorgridcolor\": \"white\", \"startlinecolor\": \"#2a3f5f\"}, \"baxis\": {\"endlinecolor\": \"#2a3f5f\", \"gridcolor\": \"white\", \"linecolor\": \"white\", \"minorgridcolor\": \"white\", \"startlinecolor\": \"#2a3f5f\"}, \"type\": \"carpet\"}], \"choropleth\": [{\"colorbar\": {\"outlinewidth\": 0, \"ticks\": \"\"}, \"type\": \"choropleth\"}], \"contour\": [{\"colorbar\": {\"outlinewidth\": 0, \"ticks\": \"\"}, \"colorscale\": [[0.0, \"#0d0887\"], [0.1111111111111111, \"#46039f\"], [0.2222222222222222, \"#7201a8\"], [0.3333333333333333, \"#9c179e\"], [0.4444444444444444, \"#bd3786\"], [0.5555555555555556, \"#d8576b\"], [0.6666666666666666, \"#ed7953\"], [0.7777777777777778, \"#fb9f3a\"], [0.8888888888888888, \"#fdca26\"], [1.0, \"#f0f921\"]], \"type\": \"contour\"}], \"contourcarpet\": [{\"colorbar\": {\"outlinewidth\": 0, \"ticks\": \"\"}, \"type\": \"contourcarpet\"}], \"heatmap\": [{\"colorbar\": {\"outlinewidth\": 0, \"ticks\": \"\"}, \"colorscale\": [[0.0, \"#0d0887\"], [0.1111111111111111, \"#46039f\"], [0.2222222222222222, \"#7201a8\"], [0.3333333333333333, \"#9c179e\"], [0.4444444444444444, \"#bd3786\"], [0.5555555555555556, \"#d8576b\"], [0.6666666666666666, \"#ed7953\"], [0.7777777777777778, \"#fb9f3a\"], [0.8888888888888888, \"#fdca26\"], [1.0, \"#f0f921\"]], \"type\": \"heatmap\"}], \"heatmapgl\": [{\"colorbar\": {\"outlinewidth\": 0, \"ticks\": \"\"}, \"colorscale\": [[0.0, \"#0d0887\"], [0.1111111111111111, \"#46039f\"], [0.2222222222222222, \"#7201a8\"], [0.3333333333333333, \"#9c179e\"], [0.4444444444444444, \"#bd3786\"], [0.5555555555555556, \"#d8576b\"], [0.6666666666666666, \"#ed7953\"], [0.7777777777777778, \"#fb9f3a\"], [0.8888888888888888, \"#fdca26\"], [1.0, \"#f0f921\"]], \"type\": \"heatmapgl\"}], \"histogram\": [{\"marker\": {\"colorbar\": {\"outlinewidth\": 0, \"ticks\": \"\"}}, \"type\": \"histogram\"}], \"histogram2d\": [{\"colorbar\": {\"outlinewidth\": 0, \"ticks\": \"\"}, \"colorscale\": [[0.0, \"#0d0887\"], [0.1111111111111111, \"#46039f\"], [0.2222222222222222, \"#7201a8\"], [0.3333333333333333, \"#9c179e\"], [0.4444444444444444, \"#bd3786\"], [0.5555555555555556, \"#d8576b\"], [0.6666666666666666, \"#ed7953\"], [0.7777777777777778, \"#fb9f3a\"], [0.8888888888888888, \"#fdca26\"], [1.0, \"#f0f921\"]], \"type\": \"histogram2d\"}], \"histogram2dcontour\": [{\"colorbar\": {\"outlinewidth\": 0, \"ticks\": \"\"}, \"colorscale\": [[0.0, \"#0d0887\"], [0.1111111111111111, \"#46039f\"], [0.2222222222222222, \"#7201a8\"], [0.3333333333333333, \"#9c179e\"], [0.4444444444444444, \"#bd3786\"], [0.5555555555555556, \"#d8576b\"], [0.6666666666666666, \"#ed7953\"], [0.7777777777777778, \"#fb9f3a\"], [0.8888888888888888, \"#fdca26\"], [1.0, \"#f0f921\"]], \"type\": \"histogram2dcontour\"}], \"mesh3d\": [{\"colorbar\": {\"outlinewidth\": 0, \"ticks\": \"\"}, \"type\": \"mesh3d\"}], \"parcoords\": [{\"line\": {\"colorbar\": {\"outlinewidth\": 0, \"ticks\": \"\"}}, \"type\": \"parcoords\"}], \"pie\": [{\"automargin\": true, \"type\": \"pie\"}], \"scatter\": [{\"marker\": {\"colorbar\": {\"outlinewidth\": 0, \"ticks\": \"\"}}, \"type\": \"scatter\"}], \"scatter3d\": [{\"line\": {\"colorbar\": {\"outlinewidth\": 0, \"ticks\": \"\"}}, \"marker\": {\"colorbar\": {\"outlinewidth\": 0, \"ticks\": \"\"}}, \"type\": \"scatter3d\"}], \"scattercarpet\": [{\"marker\": {\"colorbar\": {\"outlinewidth\": 0, \"ticks\": \"\"}}, \"type\": \"scattercarpet\"}], \"scattergeo\": [{\"marker\": {\"colorbar\": {\"outlinewidth\": 0, \"ticks\": \"\"}}, \"type\": \"scattergeo\"}], \"scattergl\": [{\"marker\": {\"colorbar\": {\"outlinewidth\": 0, \"ticks\": \"\"}}, \"type\": \"scattergl\"}], \"scattermapbox\": [{\"marker\": {\"colorbar\": {\"outlinewidth\": 0, \"ticks\": \"\"}}, \"type\": \"scattermapbox\"}], \"scatterpolar\": [{\"marker\": {\"colorbar\": {\"outlinewidth\": 0, \"ticks\": \"\"}}, \"type\": \"scatterpolar\"}], \"scatterpolargl\": [{\"marker\": {\"colorbar\": {\"outlinewidth\": 0, \"ticks\": \"\"}}, \"type\": \"scatterpolargl\"}], \"scatterternary\": [{\"marker\": {\"colorbar\": {\"outlinewidth\": 0, \"ticks\": \"\"}}, \"type\": \"scatterternary\"}], \"surface\": [{\"colorbar\": {\"outlinewidth\": 0, \"ticks\": \"\"}, \"colorscale\": [[0.0, \"#0d0887\"], [0.1111111111111111, \"#46039f\"], [0.2222222222222222, \"#7201a8\"], [0.3333333333333333, \"#9c179e\"], [0.4444444444444444, \"#bd3786\"], [0.5555555555555556, \"#d8576b\"], [0.6666666666666666, \"#ed7953\"], [0.7777777777777778, \"#fb9f3a\"], [0.8888888888888888, \"#fdca26\"], [1.0, \"#f0f921\"]], \"type\": \"surface\"}], \"table\": [{\"cells\": {\"fill\": {\"color\": \"#EBF0F8\"}, \"line\": {\"color\": \"white\"}}, \"header\": {\"fill\": {\"color\": \"#C8D4E3\"}, \"line\": {\"color\": \"white\"}}, \"type\": \"table\"}]}, \"layout\": {\"annotationdefaults\": {\"arrowcolor\": \"#2a3f5f\", \"arrowhead\": 0, \"arrowwidth\": 1}, \"coloraxis\": {\"colorbar\": {\"outlinewidth\": 0, \"ticks\": \"\"}}, \"colorscale\": {\"diverging\": [[0, \"#8e0152\"], [0.1, \"#c51b7d\"], [0.2, \"#de77ae\"], [0.3, \"#f1b6da\"], [0.4, \"#fde0ef\"], [0.5, \"#f7f7f7\"], [0.6, \"#e6f5d0\"], [0.7, \"#b8e186\"], [0.8, \"#7fbc41\"], [0.9, \"#4d9221\"], [1, \"#276419\"]], \"sequential\": [[0.0, \"#0d0887\"], [0.1111111111111111, \"#46039f\"], [0.2222222222222222, \"#7201a8\"], [0.3333333333333333, \"#9c179e\"], [0.4444444444444444, \"#bd3786\"], [0.5555555555555556, \"#d8576b\"], [0.6666666666666666, \"#ed7953\"], [0.7777777777777778, \"#fb9f3a\"], [0.8888888888888888, \"#fdca26\"], [1.0, \"#f0f921\"]], \"sequentialminus\": [[0.0, \"#0d0887\"], [0.1111111111111111, \"#46039f\"], [0.2222222222222222, \"#7201a8\"], [0.3333333333333333, \"#9c179e\"], [0.4444444444444444, \"#bd3786\"], [0.5555555555555556, \"#d8576b\"], [0.6666666666666666, \"#ed7953\"], [0.7777777777777778, \"#fb9f3a\"], [0.8888888888888888, \"#fdca26\"], [1.0, \"#f0f921\"]]}, \"colorway\": [\"#636efa\", \"#EF553B\", \"#00cc96\", \"#ab63fa\", \"#FFA15A\", \"#19d3f3\", \"#FF6692\", \"#B6E880\", \"#FF97FF\", \"#FECB52\"], \"font\": {\"color\": \"#2a3f5f\"}, \"geo\": {\"bgcolor\": \"white\", \"lakecolor\": \"white\", \"landcolor\": \"#E5ECF6\", \"showlakes\": true, \"showland\": true, \"subunitcolor\": \"white\"}, \"hoverlabel\": {\"align\": \"left\"}, \"hovermode\": \"closest\", \"mapbox\": {\"style\": \"light\"}, \"paper_bgcolor\": \"white\", \"plot_bgcolor\": \"#E5ECF6\", \"polar\": {\"angularaxis\": {\"gridcolor\": \"white\", \"linecolor\": \"white\", \"ticks\": \"\"}, \"bgcolor\": \"#E5ECF6\", \"radialaxis\": {\"gridcolor\": \"white\", \"linecolor\": \"white\", \"ticks\": \"\"}}, \"scene\": {\"xaxis\": {\"backgroundcolor\": \"#E5ECF6\", \"gridcolor\": \"white\", \"gridwidth\": 2, \"linecolor\": \"white\", \"showbackground\": true, \"ticks\": \"\", \"zerolinecolor\": \"white\"}, \"yaxis\": {\"backgroundcolor\": \"#E5ECF6\", \"gridcolor\": \"white\", \"gridwidth\": 2, \"linecolor\": \"white\", \"showbackground\": true, \"ticks\": \"\", \"zerolinecolor\": \"white\"}, \"zaxis\": {\"backgroundcolor\": \"#E5ECF6\", \"gridcolor\": \"white\", \"gridwidth\": 2, \"linecolor\": \"white\", \"showbackground\": true, \"ticks\": \"\", \"zerolinecolor\": \"white\"}}, \"shapedefaults\": {\"line\": {\"color\": \"#2a3f5f\"}}, \"ternary\": {\"aaxis\": {\"gridcolor\": \"white\", \"linecolor\": \"white\", \"ticks\": \"\"}, \"baxis\": {\"gridcolor\": \"white\", \"linecolor\": \"white\", \"ticks\": \"\"}, \"bgcolor\": \"#E5ECF6\", \"caxis\": {\"gridcolor\": \"white\", \"linecolor\": \"white\", \"ticks\": \"\"}}, \"title\": {\"x\": 0.05}, \"xaxis\": {\"automargin\": true, \"gridcolor\": \"white\", \"linecolor\": \"white\", \"ticks\": \"\", \"title\": {\"standoff\": 15}, \"zerolinecolor\": \"white\", \"zerolinewidth\": 2}, \"yaxis\": {\"automargin\": true, \"gridcolor\": \"white\", \"linecolor\": \"white\", \"ticks\": \"\", \"title\": {\"standoff\": 15}, \"zerolinecolor\": \"white\", \"zerolinewidth\": 2}}}, \"xaxis\": {\"anchor\": \"y\", \"domain\": [0.0, 1.0], \"title\": {\"text\": \"NTS\"}}, \"yaxis\": {\"anchor\": \"x\", \"domain\": [0.0, 1.0], \"title\": {\"text\": \"FA/FSC\"}}},\n",
       "                        {\"responsive\": true}\n",
       "                    ).then(function(){\n",
       "                            \n",
       "var gd = document.getElementById('7dcd005e-b23b-44a8-acf7-d36784fa9a06');\n",
       "var x = new MutationObserver(function (mutations, observer) {{\n",
       "        var display = window.getComputedStyle(gd).display;\n",
       "        if (!display || display === 'none') {{\n",
       "            console.log([gd, 'removed!']);\n",
       "            Plotly.purge(gd);\n",
       "            observer.disconnect();\n",
       "        }}\n",
       "}});\n",
       "\n",
       "// Listen for the removal of the full notebook cells\n",
       "var notebookContainer = gd.closest('#notebook-container');\n",
       "if (notebookContainer) {{\n",
       "    x.observe(notebookContainer, {childList: true});\n",
       "}}\n",
       "\n",
       "// Listen for the clearing of the current output cell\n",
       "var outputEl = gd.closest('.output');\n",
       "if (outputEl) {{\n",
       "    x.observe(outputEl, {childList: true});\n",
       "}}\n",
       "\n",
       "                        })\n",
       "                };\n",
       "                });\n",
       "            </script>\n",
       "        </div>"
      ]
     },
     "metadata": {},
     "output_type": "display_data"
    }
   ],
   "source": [
    "# Visulize BSCS Applicants\n",
    "import plotly.express as px\n",
    "import pandas as pd\n",
    "df = pd.read_csv('dataset/fall18/2018-12-11-bs-cs-fall18.csv')\n",
    "#print(df.columns)\n",
    "fig = px.scatter(df, x=\"NTS\", y=\"FA/FSC\",color=\"Offered\",hover_data=['Domicile'])\n",
    "fig.show()"
   ]
  },
  {
   "cell_type": "code",
   "execution_count": 4,
   "metadata": {},
   "outputs": [
    {
     "data": {
      "application/vnd.plotly.v1+json": {
       "config": {
        "plotlyServerURL": "https://plot.ly"
       },
       "data": [
        {
         "customdata": [
          [
           "OPEN"
          ],
          [
           "Bahawalpur"
          ],
          [
           "Bahawalpur"
          ],
          [
           "Bahawalpur"
          ],
          [
           "Bahawalpur"
          ],
          [
           "Bahawalpur"
          ],
          [
           "Bahawalpur"
          ],
          [
           "Bahawalpur"
          ],
          [
           "Bahawalpur"
          ],
          [
           "Bahawalpur"
          ],
          [
           "Bahawalpur"
          ],
          [
           "Bahawalpur"
          ],
          [
           "Bahawalpur"
          ],
          [
           "Bahawalpur"
          ],
          [
           "Bahawalpur"
          ],
          [
           "Bahawalpur"
          ],
          [
           "Bahawalpur"
          ],
          [
           "Bahawalpur"
          ],
          [
           "Bahawalpur"
          ],
          [
           "Bahawalpur"
          ],
          [
           "Bahawalpur"
          ],
          [
           "Bahawalpur"
          ],
          [
           "Bahawalpur"
          ],
          [
           "Bahawalpur"
          ],
          [
           "Bahawalpur"
          ],
          [
           "Bahawalpur"
          ],
          [
           "Bahawalpur"
          ],
          [
           "Bahawalpur"
          ],
          [
           "Bahawalpur"
          ],
          [
           "Bahawalpur"
          ],
          [
           "Bahawalpur"
          ],
          [
           "Bahawalpur"
          ],
          [
           "Bahawalpur"
          ],
          [
           "Bahawalpur"
          ],
          [
           "OPEN"
          ],
          [
           "OPEN"
          ],
          [
           "OPEN"
          ],
          [
           "OPEN"
          ],
          [
           "OPEN"
          ],
          [
           "Bahawalpur"
          ],
          [
           "Bahawalpur"
          ],
          [
           "OPEN"
          ],
          [
           "OPEN"
          ],
          [
           "OPEN"
          ],
          [
           "OPEN"
          ]
         ],
         "hovertemplate": "Offered=Not Offered<br>NTS=%{x}<br>FA/FSC=%{y}<br>Domicile=%{customdata[0]}<extra></extra>",
         "legendgroup": "Not Offered",
         "marker": {
          "color": "#636efa",
          "symbol": "circle"
         },
         "mode": "markers",
         "name": "Not Offered",
         "showlegend": true,
         "type": "scatter",
         "x": [
          0,
          58,
          50,
          49,
          48,
          55,
          48,
          58,
          39,
          50,
          62,
          43,
          48,
          48,
          51,
          49,
          40,
          64,
          58,
          63,
          56,
          58,
          45,
          52,
          54,
          42,
          55,
          55,
          51,
          46,
          52,
          58,
          40,
          40,
          48,
          52,
          50,
          45,
          40,
          65,
          44,
          50,
          40,
          48,
          50
         ],
         "xaxis": "x",
         "y": [
          767,
          766,
          701,
          606,
          807,
          767,
          792,
          760,
          827,
          805,
          744,
          496,
          671,
          791,
          788,
          793,
          604,
          747,
          662,
          682,
          776,
          638,
          698,
          589,
          770,
          724,
          771,
          811,
          773,
          802,
          792,
          697,
          583,
          859,
          704,
          690,
          592,
          601,
          709,
          773,
          801,
          736,
          765,
          794,
          702
         ],
         "yaxis": "y"
        },
        {
         "customdata": [
          [
           "Bahawalpur"
          ],
          [
           "Bahawalpur"
          ],
          [
           "Bahawalpur"
          ],
          [
           "Bahawalpur"
          ],
          [
           "Bahawalpur"
          ],
          [
           "Bahawalpur"
          ],
          [
           "Bahawalpur"
          ],
          [
           "Bahawalpur"
          ],
          [
           "Bahawalpur"
          ],
          [
           "Bahawalpur"
          ],
          [
           "Bahawalpur"
          ],
          [
           "Bahawalpur"
          ],
          [
           "Bahawalpur"
          ],
          [
           "Bahawalpur"
          ],
          [
           "Bahawalpur"
          ],
          [
           "Bahawalpur"
          ],
          [
           "Bahawalpur"
          ],
          [
           "Bahawalpur"
          ],
          [
           "Bahawalpur"
          ],
          [
           "Bahawalpur"
          ],
          [
           "Bahawalpur"
          ],
          [
           "Bahawalpur"
          ],
          [
           "Bahawalpur"
          ],
          [
           "Bahawalpur"
          ],
          [
           "Bahawalpur"
          ],
          [
           "Bahawalpur"
          ],
          [
           "Bahawalpur"
          ],
          [
           "Bahawalpur"
          ]
         ],
         "hovertemplate": "Offered=Offered_IN_BWP_QUOTA<br>NTS=%{x}<br>FA/FSC=%{y}<br>Domicile=%{customdata[0]}<extra></extra>",
         "legendgroup": "Offered_IN_BWP_QUOTA",
         "marker": {
          "color": "#EF553B",
          "symbol": "circle"
         },
         "mode": "markers",
         "name": "Offered_IN_BWP_QUOTA",
         "showlegend": true,
         "type": "scatter",
         "x": [
          60,
          52,
          48,
          52,
          46,
          47,
          54,
          56,
          64,
          71,
          58,
          62,
          60,
          53,
          59,
          53,
          56,
          53,
          61,
          52,
          63,
          57,
          63,
          48,
          51,
          48,
          41,
          51
         ],
         "xaxis": "x",
         "y": [
          825,
          796,
          820,
          836,
          858,
          841,
          804,
          825,
          802,
          752,
          822,
          753,
          808,
          800,
          782,
          822,
          830,
          791,
          784,
          811,
          776,
          824,
          781,
          831,
          801,
          832,
          840,
          825
         ],
         "yaxis": "y"
        },
        {
         "customdata": [
          [
           "Bahawalpur"
          ],
          [
           "Bahawalpur"
          ],
          [
           "Bahawalpur"
          ],
          [
           "Bahawalpur"
          ],
          [
           "Bahawalpur"
          ],
          [
           "Bahawalpur"
          ],
          [
           "OPEN"
          ],
          [
           "OPEN"
          ],
          [
           "OPEN"
          ],
          [
           "OPEN"
          ],
          [
           "OPEN"
          ],
          [
           "OPEN"
          ],
          [
           "OPEN"
          ],
          [
           "OPEN"
          ],
          [
           "OPEN"
          ],
          [
           "OPEN"
          ],
          [
           "OPEN"
          ],
          [
           "OPEN"
          ],
          [
           "OPEN"
          ],
          [
           "OPEN"
          ],
          [
           "OPEN"
          ],
          [
           "OPEN"
          ],
          [
           "OPEN"
          ],
          [
           "OPEN"
          ],
          [
           "OPEN"
          ],
          [
           "OPEN"
          ],
          [
           "OPEN"
          ],
          [
           "OPEN"
          ],
          [
           "OPEN"
          ],
          [
           "OPEN"
          ],
          [
           "OPEN"
          ],
          [
           "OPEN"
          ],
          [
           "OPEN"
          ]
         ],
         "hovertemplate": "Offered=Offered_IN_OPEN_QUOTA<br>NTS=%{x}<br>FA/FSC=%{y}<br>Domicile=%{customdata[0]}<extra></extra>",
         "legendgroup": "Offered_IN_OPEN_QUOTA",
         "marker": {
          "color": "#00cc96",
          "symbol": "circle"
         },
         "mode": "markers",
         "name": "Offered_IN_OPEN_QUOTA",
         "showlegend": true,
         "type": "scatter",
         "x": [
          65,
          53,
          54,
          53,
          58,
          85,
          56,
          48,
          53,
          52,
          63,
          73,
          49,
          52,
          60,
          46,
          42,
          59,
          56,
          42,
          62,
          54,
          59,
          55,
          66,
          67,
          76,
          52,
          63,
          54,
          52,
          57,
          68
         ],
         "xaxis": "x",
         "y": [
          865,
          850,
          913,
          853,
          891,
          868,
          829,
          861,
          815,
          856,
          884,
          834,
          842,
          828,
          927,
          918,
          856,
          890,
          851,
          878,
          913,
          854,
          791,
          951,
          888,
          925,
          917,
          839,
          831,
          852,
          848,
          853,
          809
         ],
         "yaxis": "y"
        }
       ],
       "layout": {
        "legend": {
         "title": {
          "text": "Offered"
         },
         "tracegroupgap": 0
        },
        "margin": {
         "t": 60
        },
        "template": {
         "data": {
          "bar": [
           {
            "error_x": {
             "color": "#2a3f5f"
            },
            "error_y": {
             "color": "#2a3f5f"
            },
            "marker": {
             "line": {
              "color": "#E5ECF6",
              "width": 0.5
             }
            },
            "type": "bar"
           }
          ],
          "barpolar": [
           {
            "marker": {
             "line": {
              "color": "#E5ECF6",
              "width": 0.5
             }
            },
            "type": "barpolar"
           }
          ],
          "carpet": [
           {
            "aaxis": {
             "endlinecolor": "#2a3f5f",
             "gridcolor": "white",
             "linecolor": "white",
             "minorgridcolor": "white",
             "startlinecolor": "#2a3f5f"
            },
            "baxis": {
             "endlinecolor": "#2a3f5f",
             "gridcolor": "white",
             "linecolor": "white",
             "minorgridcolor": "white",
             "startlinecolor": "#2a3f5f"
            },
            "type": "carpet"
           }
          ],
          "choropleth": [
           {
            "colorbar": {
             "outlinewidth": 0,
             "ticks": ""
            },
            "type": "choropleth"
           }
          ],
          "contour": [
           {
            "colorbar": {
             "outlinewidth": 0,
             "ticks": ""
            },
            "colorscale": [
             [
              0,
              "#0d0887"
             ],
             [
              0.1111111111111111,
              "#46039f"
             ],
             [
              0.2222222222222222,
              "#7201a8"
             ],
             [
              0.3333333333333333,
              "#9c179e"
             ],
             [
              0.4444444444444444,
              "#bd3786"
             ],
             [
              0.5555555555555556,
              "#d8576b"
             ],
             [
              0.6666666666666666,
              "#ed7953"
             ],
             [
              0.7777777777777778,
              "#fb9f3a"
             ],
             [
              0.8888888888888888,
              "#fdca26"
             ],
             [
              1,
              "#f0f921"
             ]
            ],
            "type": "contour"
           }
          ],
          "contourcarpet": [
           {
            "colorbar": {
             "outlinewidth": 0,
             "ticks": ""
            },
            "type": "contourcarpet"
           }
          ],
          "heatmap": [
           {
            "colorbar": {
             "outlinewidth": 0,
             "ticks": ""
            },
            "colorscale": [
             [
              0,
              "#0d0887"
             ],
             [
              0.1111111111111111,
              "#46039f"
             ],
             [
              0.2222222222222222,
              "#7201a8"
             ],
             [
              0.3333333333333333,
              "#9c179e"
             ],
             [
              0.4444444444444444,
              "#bd3786"
             ],
             [
              0.5555555555555556,
              "#d8576b"
             ],
             [
              0.6666666666666666,
              "#ed7953"
             ],
             [
              0.7777777777777778,
              "#fb9f3a"
             ],
             [
              0.8888888888888888,
              "#fdca26"
             ],
             [
              1,
              "#f0f921"
             ]
            ],
            "type": "heatmap"
           }
          ],
          "heatmapgl": [
           {
            "colorbar": {
             "outlinewidth": 0,
             "ticks": ""
            },
            "colorscale": [
             [
              0,
              "#0d0887"
             ],
             [
              0.1111111111111111,
              "#46039f"
             ],
             [
              0.2222222222222222,
              "#7201a8"
             ],
             [
              0.3333333333333333,
              "#9c179e"
             ],
             [
              0.4444444444444444,
              "#bd3786"
             ],
             [
              0.5555555555555556,
              "#d8576b"
             ],
             [
              0.6666666666666666,
              "#ed7953"
             ],
             [
              0.7777777777777778,
              "#fb9f3a"
             ],
             [
              0.8888888888888888,
              "#fdca26"
             ],
             [
              1,
              "#f0f921"
             ]
            ],
            "type": "heatmapgl"
           }
          ],
          "histogram": [
           {
            "marker": {
             "colorbar": {
              "outlinewidth": 0,
              "ticks": ""
             }
            },
            "type": "histogram"
           }
          ],
          "histogram2d": [
           {
            "colorbar": {
             "outlinewidth": 0,
             "ticks": ""
            },
            "colorscale": [
             [
              0,
              "#0d0887"
             ],
             [
              0.1111111111111111,
              "#46039f"
             ],
             [
              0.2222222222222222,
              "#7201a8"
             ],
             [
              0.3333333333333333,
              "#9c179e"
             ],
             [
              0.4444444444444444,
              "#bd3786"
             ],
             [
              0.5555555555555556,
              "#d8576b"
             ],
             [
              0.6666666666666666,
              "#ed7953"
             ],
             [
              0.7777777777777778,
              "#fb9f3a"
             ],
             [
              0.8888888888888888,
              "#fdca26"
             ],
             [
              1,
              "#f0f921"
             ]
            ],
            "type": "histogram2d"
           }
          ],
          "histogram2dcontour": [
           {
            "colorbar": {
             "outlinewidth": 0,
             "ticks": ""
            },
            "colorscale": [
             [
              0,
              "#0d0887"
             ],
             [
              0.1111111111111111,
              "#46039f"
             ],
             [
              0.2222222222222222,
              "#7201a8"
             ],
             [
              0.3333333333333333,
              "#9c179e"
             ],
             [
              0.4444444444444444,
              "#bd3786"
             ],
             [
              0.5555555555555556,
              "#d8576b"
             ],
             [
              0.6666666666666666,
              "#ed7953"
             ],
             [
              0.7777777777777778,
              "#fb9f3a"
             ],
             [
              0.8888888888888888,
              "#fdca26"
             ],
             [
              1,
              "#f0f921"
             ]
            ],
            "type": "histogram2dcontour"
           }
          ],
          "mesh3d": [
           {
            "colorbar": {
             "outlinewidth": 0,
             "ticks": ""
            },
            "type": "mesh3d"
           }
          ],
          "parcoords": [
           {
            "line": {
             "colorbar": {
              "outlinewidth": 0,
              "ticks": ""
             }
            },
            "type": "parcoords"
           }
          ],
          "pie": [
           {
            "automargin": true,
            "type": "pie"
           }
          ],
          "scatter": [
           {
            "marker": {
             "colorbar": {
              "outlinewidth": 0,
              "ticks": ""
             }
            },
            "type": "scatter"
           }
          ],
          "scatter3d": [
           {
            "line": {
             "colorbar": {
              "outlinewidth": 0,
              "ticks": ""
             }
            },
            "marker": {
             "colorbar": {
              "outlinewidth": 0,
              "ticks": ""
             }
            },
            "type": "scatter3d"
           }
          ],
          "scattercarpet": [
           {
            "marker": {
             "colorbar": {
              "outlinewidth": 0,
              "ticks": ""
             }
            },
            "type": "scattercarpet"
           }
          ],
          "scattergeo": [
           {
            "marker": {
             "colorbar": {
              "outlinewidth": 0,
              "ticks": ""
             }
            },
            "type": "scattergeo"
           }
          ],
          "scattergl": [
           {
            "marker": {
             "colorbar": {
              "outlinewidth": 0,
              "ticks": ""
             }
            },
            "type": "scattergl"
           }
          ],
          "scattermapbox": [
           {
            "marker": {
             "colorbar": {
              "outlinewidth": 0,
              "ticks": ""
             }
            },
            "type": "scattermapbox"
           }
          ],
          "scatterpolar": [
           {
            "marker": {
             "colorbar": {
              "outlinewidth": 0,
              "ticks": ""
             }
            },
            "type": "scatterpolar"
           }
          ],
          "scatterpolargl": [
           {
            "marker": {
             "colorbar": {
              "outlinewidth": 0,
              "ticks": ""
             }
            },
            "type": "scatterpolargl"
           }
          ],
          "scatterternary": [
           {
            "marker": {
             "colorbar": {
              "outlinewidth": 0,
              "ticks": ""
             }
            },
            "type": "scatterternary"
           }
          ],
          "surface": [
           {
            "colorbar": {
             "outlinewidth": 0,
             "ticks": ""
            },
            "colorscale": [
             [
              0,
              "#0d0887"
             ],
             [
              0.1111111111111111,
              "#46039f"
             ],
             [
              0.2222222222222222,
              "#7201a8"
             ],
             [
              0.3333333333333333,
              "#9c179e"
             ],
             [
              0.4444444444444444,
              "#bd3786"
             ],
             [
              0.5555555555555556,
              "#d8576b"
             ],
             [
              0.6666666666666666,
              "#ed7953"
             ],
             [
              0.7777777777777778,
              "#fb9f3a"
             ],
             [
              0.8888888888888888,
              "#fdca26"
             ],
             [
              1,
              "#f0f921"
             ]
            ],
            "type": "surface"
           }
          ],
          "table": [
           {
            "cells": {
             "fill": {
              "color": "#EBF0F8"
             },
             "line": {
              "color": "white"
             }
            },
            "header": {
             "fill": {
              "color": "#C8D4E3"
             },
             "line": {
              "color": "white"
             }
            },
            "type": "table"
           }
          ]
         },
         "layout": {
          "annotationdefaults": {
           "arrowcolor": "#2a3f5f",
           "arrowhead": 0,
           "arrowwidth": 1
          },
          "coloraxis": {
           "colorbar": {
            "outlinewidth": 0,
            "ticks": ""
           }
          },
          "colorscale": {
           "diverging": [
            [
             0,
             "#8e0152"
            ],
            [
             0.1,
             "#c51b7d"
            ],
            [
             0.2,
             "#de77ae"
            ],
            [
             0.3,
             "#f1b6da"
            ],
            [
             0.4,
             "#fde0ef"
            ],
            [
             0.5,
             "#f7f7f7"
            ],
            [
             0.6,
             "#e6f5d0"
            ],
            [
             0.7,
             "#b8e186"
            ],
            [
             0.8,
             "#7fbc41"
            ],
            [
             0.9,
             "#4d9221"
            ],
            [
             1,
             "#276419"
            ]
           ],
           "sequential": [
            [
             0,
             "#0d0887"
            ],
            [
             0.1111111111111111,
             "#46039f"
            ],
            [
             0.2222222222222222,
             "#7201a8"
            ],
            [
             0.3333333333333333,
             "#9c179e"
            ],
            [
             0.4444444444444444,
             "#bd3786"
            ],
            [
             0.5555555555555556,
             "#d8576b"
            ],
            [
             0.6666666666666666,
             "#ed7953"
            ],
            [
             0.7777777777777778,
             "#fb9f3a"
            ],
            [
             0.8888888888888888,
             "#fdca26"
            ],
            [
             1,
             "#f0f921"
            ]
           ],
           "sequentialminus": [
            [
             0,
             "#0d0887"
            ],
            [
             0.1111111111111111,
             "#46039f"
            ],
            [
             0.2222222222222222,
             "#7201a8"
            ],
            [
             0.3333333333333333,
             "#9c179e"
            ],
            [
             0.4444444444444444,
             "#bd3786"
            ],
            [
             0.5555555555555556,
             "#d8576b"
            ],
            [
             0.6666666666666666,
             "#ed7953"
            ],
            [
             0.7777777777777778,
             "#fb9f3a"
            ],
            [
             0.8888888888888888,
             "#fdca26"
            ],
            [
             1,
             "#f0f921"
            ]
           ]
          },
          "colorway": [
           "#636efa",
           "#EF553B",
           "#00cc96",
           "#ab63fa",
           "#FFA15A",
           "#19d3f3",
           "#FF6692",
           "#B6E880",
           "#FF97FF",
           "#FECB52"
          ],
          "font": {
           "color": "#2a3f5f"
          },
          "geo": {
           "bgcolor": "white",
           "lakecolor": "white",
           "landcolor": "#E5ECF6",
           "showlakes": true,
           "showland": true,
           "subunitcolor": "white"
          },
          "hoverlabel": {
           "align": "left"
          },
          "hovermode": "closest",
          "mapbox": {
           "style": "light"
          },
          "paper_bgcolor": "white",
          "plot_bgcolor": "#E5ECF6",
          "polar": {
           "angularaxis": {
            "gridcolor": "white",
            "linecolor": "white",
            "ticks": ""
           },
           "bgcolor": "#E5ECF6",
           "radialaxis": {
            "gridcolor": "white",
            "linecolor": "white",
            "ticks": ""
           }
          },
          "scene": {
           "xaxis": {
            "backgroundcolor": "#E5ECF6",
            "gridcolor": "white",
            "gridwidth": 2,
            "linecolor": "white",
            "showbackground": true,
            "ticks": "",
            "zerolinecolor": "white"
           },
           "yaxis": {
            "backgroundcolor": "#E5ECF6",
            "gridcolor": "white",
            "gridwidth": 2,
            "linecolor": "white",
            "showbackground": true,
            "ticks": "",
            "zerolinecolor": "white"
           },
           "zaxis": {
            "backgroundcolor": "#E5ECF6",
            "gridcolor": "white",
            "gridwidth": 2,
            "linecolor": "white",
            "showbackground": true,
            "ticks": "",
            "zerolinecolor": "white"
           }
          },
          "shapedefaults": {
           "line": {
            "color": "#2a3f5f"
           }
          },
          "ternary": {
           "aaxis": {
            "gridcolor": "white",
            "linecolor": "white",
            "ticks": ""
           },
           "baxis": {
            "gridcolor": "white",
            "linecolor": "white",
            "ticks": ""
           },
           "bgcolor": "#E5ECF6",
           "caxis": {
            "gridcolor": "white",
            "linecolor": "white",
            "ticks": ""
           }
          },
          "title": {
           "x": 0.05
          },
          "xaxis": {
           "automargin": true,
           "gridcolor": "white",
           "linecolor": "white",
           "ticks": "",
           "title": {
            "standoff": 15
           },
           "zerolinecolor": "white",
           "zerolinewidth": 2
          },
          "yaxis": {
           "automargin": true,
           "gridcolor": "white",
           "linecolor": "white",
           "ticks": "",
           "title": {
            "standoff": 15
           },
           "zerolinecolor": "white",
           "zerolinewidth": 2
          }
         }
        },
        "xaxis": {
         "anchor": "y",
         "domain": [
          0,
          1
         ],
         "title": {
          "text": "NTS"
         }
        },
        "yaxis": {
         "anchor": "x",
         "domain": [
          0,
          1
         ],
         "title": {
          "text": "FA/FSC"
         }
        }
       }
      },
      "text/html": [
       "<div>\n",
       "        \n",
       "        \n",
       "            <div id=\"c1c2b863-c5d2-4378-9ce6-2c675a62a330\" class=\"plotly-graph-div\" style=\"height:525px; width:100%;\"></div>\n",
       "            <script type=\"text/javascript\">\n",
       "                require([\"plotly\"], function(Plotly) {\n",
       "                    window.PLOTLYENV=window.PLOTLYENV || {};\n",
       "                    \n",
       "                if (document.getElementById(\"c1c2b863-c5d2-4378-9ce6-2c675a62a330\")) {\n",
       "                    Plotly.newPlot(\n",
       "                        'c1c2b863-c5d2-4378-9ce6-2c675a62a330',\n",
       "                        [{\"customdata\": [[\"OPEN\"], [\"Bahawalpur\"], [\"Bahawalpur\"], [\"Bahawalpur\"], [\"Bahawalpur\"], [\"Bahawalpur\"], [\"Bahawalpur\"], [\"Bahawalpur\"], [\"Bahawalpur\"], [\"Bahawalpur\"], [\"Bahawalpur\"], [\"Bahawalpur\"], [\"Bahawalpur\"], [\"Bahawalpur\"], [\"Bahawalpur\"], [\"Bahawalpur\"], [\"Bahawalpur\"], [\"Bahawalpur\"], [\"Bahawalpur\"], [\"Bahawalpur\"], [\"Bahawalpur\"], [\"Bahawalpur\"], [\"Bahawalpur\"], [\"Bahawalpur\"], [\"Bahawalpur\"], [\"Bahawalpur\"], [\"Bahawalpur\"], [\"Bahawalpur\"], [\"Bahawalpur\"], [\"Bahawalpur\"], [\"Bahawalpur\"], [\"Bahawalpur\"], [\"Bahawalpur\"], [\"Bahawalpur\"], [\"OPEN\"], [\"OPEN\"], [\"OPEN\"], [\"OPEN\"], [\"OPEN\"], [\"Bahawalpur\"], [\"Bahawalpur\"], [\"OPEN\"], [\"OPEN\"], [\"OPEN\"], [\"OPEN\"]], \"hovertemplate\": \"Offered=Not Offered<br>NTS=%{x}<br>FA/FSC=%{y}<br>Domicile=%{customdata[0]}<extra></extra>\", \"legendgroup\": \"Not Offered\", \"marker\": {\"color\": \"#636efa\", \"symbol\": \"circle\"}, \"mode\": \"markers\", \"name\": \"Not Offered\", \"showlegend\": true, \"type\": \"scatter\", \"x\": [0, 58, 50, 49, 48, 55, 48, 58, 39, 50, 62, 43, 48, 48, 51, 49, 40, 64, 58, 63, 56, 58, 45, 52, 54, 42, 55, 55, 51, 46, 52, 58, 40, 40, 48, 52, 50, 45, 40, 65, 44, 50, 40, 48, 50], \"xaxis\": \"x\", \"y\": [767, 766, 701, 606, 807, 767, 792, 760, 827, 805, 744, 496, 671, 791, 788, 793, 604, 747, 662, 682, 776, 638, 698, 589, 770, 724, 771, 811, 773, 802, 792, 697, 583, 859, 704, 690, 592, 601, 709, 773, 801, 736, 765, 794, 702], \"yaxis\": \"y\"}, {\"customdata\": [[\"Bahawalpur\"], [\"Bahawalpur\"], [\"Bahawalpur\"], [\"Bahawalpur\"], [\"Bahawalpur\"], [\"Bahawalpur\"], [\"Bahawalpur\"], [\"Bahawalpur\"], [\"Bahawalpur\"], [\"Bahawalpur\"], [\"Bahawalpur\"], [\"Bahawalpur\"], [\"Bahawalpur\"], [\"Bahawalpur\"], [\"Bahawalpur\"], [\"Bahawalpur\"], [\"Bahawalpur\"], [\"Bahawalpur\"], [\"Bahawalpur\"], [\"Bahawalpur\"], [\"Bahawalpur\"], [\"Bahawalpur\"], [\"Bahawalpur\"], [\"Bahawalpur\"], [\"Bahawalpur\"], [\"Bahawalpur\"], [\"Bahawalpur\"], [\"Bahawalpur\"]], \"hovertemplate\": \"Offered=Offered_IN_BWP_QUOTA<br>NTS=%{x}<br>FA/FSC=%{y}<br>Domicile=%{customdata[0]}<extra></extra>\", \"legendgroup\": \"Offered_IN_BWP_QUOTA\", \"marker\": {\"color\": \"#EF553B\", \"symbol\": \"circle\"}, \"mode\": \"markers\", \"name\": \"Offered_IN_BWP_QUOTA\", \"showlegend\": true, \"type\": \"scatter\", \"x\": [60, 52, 48, 52, 46, 47, 54, 56, 64, 71, 58, 62, 60, 53, 59, 53, 56, 53, 61, 52, 63, 57, 63, 48, 51, 48, 41, 51], \"xaxis\": \"x\", \"y\": [825, 796, 820, 836, 858, 841, 804, 825, 802, 752, 822, 753, 808, 800, 782, 822, 830, 791, 784, 811, 776, 824, 781, 831, 801, 832, 840, 825], \"yaxis\": \"y\"}, {\"customdata\": [[\"Bahawalpur\"], [\"Bahawalpur\"], [\"Bahawalpur\"], [\"Bahawalpur\"], [\"Bahawalpur\"], [\"Bahawalpur\"], [\"OPEN\"], [\"OPEN\"], [\"OPEN\"], [\"OPEN\"], [\"OPEN\"], [\"OPEN\"], [\"OPEN\"], [\"OPEN\"], [\"OPEN\"], [\"OPEN\"], [\"OPEN\"], [\"OPEN\"], [\"OPEN\"], [\"OPEN\"], [\"OPEN\"], [\"OPEN\"], [\"OPEN\"], [\"OPEN\"], [\"OPEN\"], [\"OPEN\"], [\"OPEN\"], [\"OPEN\"], [\"OPEN\"], [\"OPEN\"], [\"OPEN\"], [\"OPEN\"], [\"OPEN\"]], \"hovertemplate\": \"Offered=Offered_IN_OPEN_QUOTA<br>NTS=%{x}<br>FA/FSC=%{y}<br>Domicile=%{customdata[0]}<extra></extra>\", \"legendgroup\": \"Offered_IN_OPEN_QUOTA\", \"marker\": {\"color\": \"#00cc96\", \"symbol\": \"circle\"}, \"mode\": \"markers\", \"name\": \"Offered_IN_OPEN_QUOTA\", \"showlegend\": true, \"type\": \"scatter\", \"x\": [65, 53, 54, 53, 58, 85, 56, 48, 53, 52, 63, 73, 49, 52, 60, 46, 42, 59, 56, 42, 62, 54, 59, 55, 66, 67, 76, 52, 63, 54, 52, 57, 68], \"xaxis\": \"x\", \"y\": [865, 850, 913, 853, 891, 868, 829, 861, 815, 856, 884, 834, 842, 828, 927, 918, 856, 890, 851, 878, 913, 854, 791, 951, 888, 925, 917, 839, 831, 852, 848, 853, 809], \"yaxis\": \"y\"}],\n",
       "                        {\"legend\": {\"title\": {\"text\": \"Offered\"}, \"tracegroupgap\": 0}, \"margin\": {\"t\": 60}, \"template\": {\"data\": {\"bar\": [{\"error_x\": {\"color\": \"#2a3f5f\"}, \"error_y\": {\"color\": \"#2a3f5f\"}, \"marker\": {\"line\": {\"color\": \"#E5ECF6\", \"width\": 0.5}}, \"type\": \"bar\"}], \"barpolar\": [{\"marker\": {\"line\": {\"color\": \"#E5ECF6\", \"width\": 0.5}}, \"type\": \"barpolar\"}], \"carpet\": [{\"aaxis\": {\"endlinecolor\": \"#2a3f5f\", \"gridcolor\": \"white\", \"linecolor\": \"white\", \"minorgridcolor\": \"white\", \"startlinecolor\": \"#2a3f5f\"}, \"baxis\": {\"endlinecolor\": \"#2a3f5f\", \"gridcolor\": \"white\", \"linecolor\": \"white\", \"minorgridcolor\": \"white\", \"startlinecolor\": \"#2a3f5f\"}, \"type\": \"carpet\"}], \"choropleth\": [{\"colorbar\": {\"outlinewidth\": 0, \"ticks\": \"\"}, \"type\": \"choropleth\"}], \"contour\": [{\"colorbar\": {\"outlinewidth\": 0, \"ticks\": \"\"}, \"colorscale\": [[0.0, \"#0d0887\"], [0.1111111111111111, \"#46039f\"], [0.2222222222222222, \"#7201a8\"], [0.3333333333333333, \"#9c179e\"], [0.4444444444444444, \"#bd3786\"], [0.5555555555555556, \"#d8576b\"], [0.6666666666666666, \"#ed7953\"], [0.7777777777777778, \"#fb9f3a\"], [0.8888888888888888, \"#fdca26\"], [1.0, \"#f0f921\"]], \"type\": \"contour\"}], \"contourcarpet\": [{\"colorbar\": {\"outlinewidth\": 0, \"ticks\": \"\"}, \"type\": \"contourcarpet\"}], \"heatmap\": [{\"colorbar\": {\"outlinewidth\": 0, \"ticks\": \"\"}, \"colorscale\": [[0.0, \"#0d0887\"], [0.1111111111111111, \"#46039f\"], [0.2222222222222222, \"#7201a8\"], [0.3333333333333333, \"#9c179e\"], [0.4444444444444444, \"#bd3786\"], [0.5555555555555556, \"#d8576b\"], [0.6666666666666666, \"#ed7953\"], [0.7777777777777778, \"#fb9f3a\"], [0.8888888888888888, \"#fdca26\"], [1.0, \"#f0f921\"]], \"type\": \"heatmap\"}], \"heatmapgl\": [{\"colorbar\": {\"outlinewidth\": 0, \"ticks\": \"\"}, \"colorscale\": [[0.0, \"#0d0887\"], [0.1111111111111111, \"#46039f\"], [0.2222222222222222, \"#7201a8\"], [0.3333333333333333, \"#9c179e\"], [0.4444444444444444, \"#bd3786\"], [0.5555555555555556, \"#d8576b\"], [0.6666666666666666, \"#ed7953\"], [0.7777777777777778, \"#fb9f3a\"], [0.8888888888888888, \"#fdca26\"], [1.0, \"#f0f921\"]], \"type\": \"heatmapgl\"}], \"histogram\": [{\"marker\": {\"colorbar\": {\"outlinewidth\": 0, \"ticks\": \"\"}}, \"type\": \"histogram\"}], \"histogram2d\": [{\"colorbar\": {\"outlinewidth\": 0, \"ticks\": \"\"}, \"colorscale\": [[0.0, \"#0d0887\"], [0.1111111111111111, \"#46039f\"], [0.2222222222222222, \"#7201a8\"], [0.3333333333333333, \"#9c179e\"], [0.4444444444444444, \"#bd3786\"], [0.5555555555555556, \"#d8576b\"], [0.6666666666666666, \"#ed7953\"], [0.7777777777777778, \"#fb9f3a\"], [0.8888888888888888, \"#fdca26\"], [1.0, \"#f0f921\"]], \"type\": \"histogram2d\"}], \"histogram2dcontour\": [{\"colorbar\": {\"outlinewidth\": 0, \"ticks\": \"\"}, \"colorscale\": [[0.0, \"#0d0887\"], [0.1111111111111111, \"#46039f\"], [0.2222222222222222, \"#7201a8\"], [0.3333333333333333, \"#9c179e\"], [0.4444444444444444, \"#bd3786\"], [0.5555555555555556, \"#d8576b\"], [0.6666666666666666, \"#ed7953\"], [0.7777777777777778, \"#fb9f3a\"], [0.8888888888888888, \"#fdca26\"], [1.0, \"#f0f921\"]], \"type\": \"histogram2dcontour\"}], \"mesh3d\": [{\"colorbar\": {\"outlinewidth\": 0, \"ticks\": \"\"}, \"type\": \"mesh3d\"}], \"parcoords\": [{\"line\": {\"colorbar\": {\"outlinewidth\": 0, \"ticks\": \"\"}}, \"type\": \"parcoords\"}], \"pie\": [{\"automargin\": true, \"type\": \"pie\"}], \"scatter\": [{\"marker\": {\"colorbar\": {\"outlinewidth\": 0, \"ticks\": \"\"}}, \"type\": \"scatter\"}], \"scatter3d\": [{\"line\": {\"colorbar\": {\"outlinewidth\": 0, \"ticks\": \"\"}}, \"marker\": {\"colorbar\": {\"outlinewidth\": 0, \"ticks\": \"\"}}, \"type\": \"scatter3d\"}], \"scattercarpet\": [{\"marker\": {\"colorbar\": {\"outlinewidth\": 0, \"ticks\": \"\"}}, \"type\": \"scattercarpet\"}], \"scattergeo\": [{\"marker\": {\"colorbar\": {\"outlinewidth\": 0, \"ticks\": \"\"}}, \"type\": \"scattergeo\"}], \"scattergl\": [{\"marker\": {\"colorbar\": {\"outlinewidth\": 0, \"ticks\": \"\"}}, \"type\": \"scattergl\"}], \"scattermapbox\": [{\"marker\": {\"colorbar\": {\"outlinewidth\": 0, \"ticks\": \"\"}}, \"type\": \"scattermapbox\"}], \"scatterpolar\": [{\"marker\": {\"colorbar\": {\"outlinewidth\": 0, \"ticks\": \"\"}}, \"type\": \"scatterpolar\"}], \"scatterpolargl\": [{\"marker\": {\"colorbar\": {\"outlinewidth\": 0, \"ticks\": \"\"}}, \"type\": \"scatterpolargl\"}], \"scatterternary\": [{\"marker\": {\"colorbar\": {\"outlinewidth\": 0, \"ticks\": \"\"}}, \"type\": \"scatterternary\"}], \"surface\": [{\"colorbar\": {\"outlinewidth\": 0, \"ticks\": \"\"}, \"colorscale\": [[0.0, \"#0d0887\"], [0.1111111111111111, \"#46039f\"], [0.2222222222222222, \"#7201a8\"], [0.3333333333333333, \"#9c179e\"], [0.4444444444444444, \"#bd3786\"], [0.5555555555555556, \"#d8576b\"], [0.6666666666666666, \"#ed7953\"], [0.7777777777777778, \"#fb9f3a\"], [0.8888888888888888, \"#fdca26\"], [1.0, \"#f0f921\"]], \"type\": \"surface\"}], \"table\": [{\"cells\": {\"fill\": {\"color\": \"#EBF0F8\"}, \"line\": {\"color\": \"white\"}}, \"header\": {\"fill\": {\"color\": \"#C8D4E3\"}, \"line\": {\"color\": \"white\"}}, \"type\": \"table\"}]}, \"layout\": {\"annotationdefaults\": {\"arrowcolor\": \"#2a3f5f\", \"arrowhead\": 0, \"arrowwidth\": 1}, \"coloraxis\": {\"colorbar\": {\"outlinewidth\": 0, \"ticks\": \"\"}}, \"colorscale\": {\"diverging\": [[0, \"#8e0152\"], [0.1, \"#c51b7d\"], [0.2, \"#de77ae\"], [0.3, \"#f1b6da\"], [0.4, \"#fde0ef\"], [0.5, \"#f7f7f7\"], [0.6, \"#e6f5d0\"], [0.7, \"#b8e186\"], [0.8, \"#7fbc41\"], [0.9, \"#4d9221\"], [1, \"#276419\"]], \"sequential\": [[0.0, \"#0d0887\"], [0.1111111111111111, \"#46039f\"], [0.2222222222222222, \"#7201a8\"], [0.3333333333333333, \"#9c179e\"], [0.4444444444444444, \"#bd3786\"], [0.5555555555555556, \"#d8576b\"], [0.6666666666666666, \"#ed7953\"], [0.7777777777777778, \"#fb9f3a\"], [0.8888888888888888, \"#fdca26\"], [1.0, \"#f0f921\"]], \"sequentialminus\": [[0.0, \"#0d0887\"], [0.1111111111111111, \"#46039f\"], [0.2222222222222222, \"#7201a8\"], [0.3333333333333333, \"#9c179e\"], [0.4444444444444444, \"#bd3786\"], [0.5555555555555556, \"#d8576b\"], [0.6666666666666666, \"#ed7953\"], [0.7777777777777778, \"#fb9f3a\"], [0.8888888888888888, \"#fdca26\"], [1.0, \"#f0f921\"]]}, \"colorway\": [\"#636efa\", \"#EF553B\", \"#00cc96\", \"#ab63fa\", \"#FFA15A\", \"#19d3f3\", \"#FF6692\", \"#B6E880\", \"#FF97FF\", \"#FECB52\"], \"font\": {\"color\": \"#2a3f5f\"}, \"geo\": {\"bgcolor\": \"white\", \"lakecolor\": \"white\", \"landcolor\": \"#E5ECF6\", \"showlakes\": true, \"showland\": true, \"subunitcolor\": \"white\"}, \"hoverlabel\": {\"align\": \"left\"}, \"hovermode\": \"closest\", \"mapbox\": {\"style\": \"light\"}, \"paper_bgcolor\": \"white\", \"plot_bgcolor\": \"#E5ECF6\", \"polar\": {\"angularaxis\": {\"gridcolor\": \"white\", \"linecolor\": \"white\", \"ticks\": \"\"}, \"bgcolor\": \"#E5ECF6\", \"radialaxis\": {\"gridcolor\": \"white\", \"linecolor\": \"white\", \"ticks\": \"\"}}, \"scene\": {\"xaxis\": {\"backgroundcolor\": \"#E5ECF6\", \"gridcolor\": \"white\", \"gridwidth\": 2, \"linecolor\": \"white\", \"showbackground\": true, \"ticks\": \"\", \"zerolinecolor\": \"white\"}, \"yaxis\": {\"backgroundcolor\": \"#E5ECF6\", \"gridcolor\": \"white\", \"gridwidth\": 2, \"linecolor\": \"white\", \"showbackground\": true, \"ticks\": \"\", \"zerolinecolor\": \"white\"}, \"zaxis\": {\"backgroundcolor\": \"#E5ECF6\", \"gridcolor\": \"white\", \"gridwidth\": 2, \"linecolor\": \"white\", \"showbackground\": true, \"ticks\": \"\", \"zerolinecolor\": \"white\"}}, \"shapedefaults\": {\"line\": {\"color\": \"#2a3f5f\"}}, \"ternary\": {\"aaxis\": {\"gridcolor\": \"white\", \"linecolor\": \"white\", \"ticks\": \"\"}, \"baxis\": {\"gridcolor\": \"white\", \"linecolor\": \"white\", \"ticks\": \"\"}, \"bgcolor\": \"#E5ECF6\", \"caxis\": {\"gridcolor\": \"white\", \"linecolor\": \"white\", \"ticks\": \"\"}}, \"title\": {\"x\": 0.05}, \"xaxis\": {\"automargin\": true, \"gridcolor\": \"white\", \"linecolor\": \"white\", \"ticks\": \"\", \"title\": {\"standoff\": 15}, \"zerolinecolor\": \"white\", \"zerolinewidth\": 2}, \"yaxis\": {\"automargin\": true, \"gridcolor\": \"white\", \"linecolor\": \"white\", \"ticks\": \"\", \"title\": {\"standoff\": 15}, \"zerolinecolor\": \"white\", \"zerolinewidth\": 2}}}, \"xaxis\": {\"anchor\": \"y\", \"domain\": [0.0, 1.0], \"title\": {\"text\": \"NTS\"}}, \"yaxis\": {\"anchor\": \"x\", \"domain\": [0.0, 1.0], \"title\": {\"text\": \"FA/FSC\"}}},\n",
       "                        {\"responsive\": true}\n",
       "                    ).then(function(){\n",
       "                            \n",
       "var gd = document.getElementById('c1c2b863-c5d2-4378-9ce6-2c675a62a330');\n",
       "var x = new MutationObserver(function (mutations, observer) {{\n",
       "        var display = window.getComputedStyle(gd).display;\n",
       "        if (!display || display === 'none') {{\n",
       "            console.log([gd, 'removed!']);\n",
       "            Plotly.purge(gd);\n",
       "            observer.disconnect();\n",
       "        }}\n",
       "}});\n",
       "\n",
       "// Listen for the removal of the full notebook cells\n",
       "var notebookContainer = gd.closest('#notebook-container');\n",
       "if (notebookContainer) {{\n",
       "    x.observe(notebookContainer, {childList: true});\n",
       "}}\n",
       "\n",
       "// Listen for the clearing of the current output cell\n",
       "var outputEl = gd.closest('.output');\n",
       "if (outputEl) {{\n",
       "    x.observe(outputEl, {childList: true});\n",
       "}}\n",
       "\n",
       "                        })\n",
       "                };\n",
       "                });\n",
       "            </script>\n",
       "        </div>"
      ]
     },
     "metadata": {},
     "output_type": "display_data"
    }
   ],
   "source": [
    "# Visulize BSIT Applicants\n",
    "import plotly.express as px\n",
    "import pandas as pd\n",
    "df = pd.read_csv('dataset/fall18/2018-12-11-bs-it-fall18.csv')\n",
    "#print(df.columns)\n",
    "fig = px.scatter(df, x=\"NTS\", y=\"FA/FSC\",color=\"Offered\",hover_data=['Domicile'])\n",
    "fig.show()"
   ]
  },
  {
   "cell_type": "code",
   "execution_count": 5,
   "metadata": {},
   "outputs": [
    {
     "data": {
      "application/vnd.plotly.v1+json": {
       "config": {
        "plotlyServerURL": "https://plot.ly"
       },
       "data": [
        {
         "customdata": [
          [
           "OPEN"
          ],
          [
           "Bahawalpur"
          ],
          [
           "Bahawalpur"
          ],
          [
           "Bahawalpur"
          ],
          [
           "Bahawalpur"
          ],
          [
           "OPEN"
          ],
          [
           "Bahawalpur"
          ],
          [
           "Bahawalpur"
          ],
          [
           "Bahawalpur"
          ],
          [
           "Bahawalpur"
          ],
          [
           "Bahawalpur"
          ],
          [
           "Bahawalpur"
          ],
          [
           "Bahawalpur"
          ],
          [
           "Bahawalpur"
          ],
          [
           "Bahawalpur"
          ],
          [
           "Bahawalpur"
          ],
          [
           "Bahawalpur"
          ],
          [
           "Bahawalpur"
          ],
          [
           "Bahawalpur"
          ],
          [
           "Bahawalpur"
          ],
          [
           "Bahawalpur"
          ],
          [
           "Bahawalpur"
          ],
          [
           "Bahawalpur"
          ],
          [
           "OPEN"
          ],
          [
           "OPEN"
          ],
          [
           "OPEN"
          ],
          [
           "OPEN"
          ],
          [
           "Bahawalpur"
          ],
          [
           "OPEN"
          ],
          [
           "OPEN"
          ],
          [
           "OPEN"
          ],
          [
           "OPEN"
          ],
          [
           "OPEN"
          ],
          [
           "OPEN"
          ],
          [
           "OPEN"
          ],
          [
           "OPEN"
          ],
          [
           "OPEN"
          ],
          [
           "OPEN"
          ],
          [
           "OPEN"
          ],
          [
           "OPEN"
          ],
          [
           "OPEN"
          ],
          [
           "OPEN"
          ],
          [
           "OPEN"
          ],
          [
           "OPEN"
          ],
          [
           "OPEN"
          ],
          [
           "OPEN"
          ],
          [
           "OPEN"
          ],
          [
           "OPEN"
          ],
          [
           "OPEN"
          ],
          [
           "OPEN"
          ],
          [
           "OPEN"
          ],
          [
           "OPEN"
          ]
         ],
         "hovertemplate": "Offered=Offered_IN_OPEN_QUOTA<br>NTS=%{x}<br>FA/FSC=%{y}<br>Domicile=%{customdata[0]}<extra></extra>",
         "legendgroup": "Offered_IN_OPEN_QUOTA",
         "marker": {
          "color": "#636efa",
          "symbol": "circle"
         },
         "mode": "markers",
         "name": "Offered_IN_OPEN_QUOTA",
         "showlegend": true,
         "type": "scatter",
         "x": [
          44,
          56,
          44,
          79,
          62,
          73,
          40,
          62,
          83,
          70,
          58,
          60,
          60,
          62,
          48,
          56,
          48,
          78,
          59,
          73,
          58,
          50,
          56,
          48,
          41,
          48,
          45,
          49,
          50,
          64,
          54,
          49,
          48,
          60,
          53,
          50,
          81,
          59,
          52,
          52,
          54,
          55,
          58,
          40,
          70,
          57,
          50,
          57,
          53,
          57,
          41,
          68
         ],
         "xaxis": "x",
         "y": [
          840,
          877,
          825,
          974,
          828,
          935,
          907,
          791,
          958,
          898,
          891,
          808,
          911,
          771,
          855,
          776,
          807,
          876,
          817,
          913,
          918,
          855,
          780,
          861,
          781,
          780,
          808,
          799,
          746,
          942,
          916,
          815,
          867,
          917,
          768,
          796,
          974,
          812,
          892,
          748,
          754,
          891,
          773,
          841,
          756,
          751,
          755,
          763,
          738,
          772,
          829,
          762
         ],
         "yaxis": "y"
        },
        {
         "customdata": [
          [
           "Bahawalpur"
          ],
          [
           "Bahawalpur"
          ],
          [
           "Bahawalpur"
          ],
          [
           "Bahawalpur"
          ],
          [
           "Bahawalpur"
          ],
          [
           "Bahawalpur"
          ],
          [
           "Bahawalpur"
          ],
          [
           "Bahawalpur"
          ],
          [
           "Bahawalpur"
          ],
          [
           "Bahawalpur"
          ],
          [
           "Bahawalpur"
          ],
          [
           "Bahawalpur"
          ],
          [
           "Bahawalpur"
          ],
          [
           "Bahawalpur"
          ],
          [
           "Bahawalpur"
          ],
          [
           "Bahawalpur"
          ],
          [
           "Bahawalpur"
          ],
          [
           "Bahawalpur"
          ],
          [
           "Bahawalpur"
          ],
          [
           "Bahawalpur"
          ],
          [
           "Bahawalpur"
          ],
          [
           "Bahawalpur"
          ],
          [
           "Bahawalpur"
          ],
          [
           "Bahawalpur"
          ],
          [
           "Bahawalpur"
          ],
          [
           "Bahawalpur"
          ],
          [
           "Bahawalpur"
          ],
          [
           "Bahawalpur"
          ],
          [
           "Bahawalpur"
          ],
          [
           "Bahawalpur"
          ],
          [
           "Bahawalpur"
          ],
          [
           "Bahawalpur"
          ],
          [
           "Bahawalpur"
          ],
          [
           "Bahawalpur"
          ],
          [
           "Bahawalpur"
          ],
          [
           "Bahawalpur"
          ],
          [
           "Bahawalpur"
          ],
          [
           "Bahawalpur"
          ],
          [
           "Bahawalpur"
          ],
          [
           "Bahawalpur"
          ],
          [
           "Bahawalpur"
          ],
          [
           "Bahawalpur"
          ],
          [
           "Bahawalpur"
          ],
          [
           "Bahawalpur"
          ],
          [
           "Bahawalpur"
          ],
          [
           "Bahawalpur"
          ],
          [
           "Bahawalpur"
          ],
          [
           "Bahawalpur"
          ],
          [
           "Bahawalpur"
          ],
          [
           "Bahawalpur"
          ],
          [
           "Bahawalpur"
          ],
          [
           "Bahawalpur"
          ],
          [
           "Bahawalpur"
          ],
          [
           "Bahawalpur"
          ],
          [
           "Bahawalpur"
          ],
          [
           "Bahawalpur"
          ],
          [
           "Bahawalpur"
          ],
          [
           "Bahawalpur"
          ],
          [
           "Bahawalpur"
          ],
          [
           "Bahawalpur"
          ],
          [
           "Bahawalpur"
          ],
          [
           "OPEN"
          ],
          [
           "Bahawalpur"
          ],
          [
           "OPEN"
          ],
          [
           "Bahawalpur"
          ],
          [
           "OPEN"
          ],
          [
           "Bahawalpur"
          ],
          [
           "OPEN"
          ],
          [
           "OPEN"
          ],
          [
           "OPEN"
          ],
          [
           "OPEN"
          ],
          [
           "OPEN"
          ],
          [
           "OPEN"
          ],
          [
           "Bahawalpur"
          ],
          [
           "OPEN"
          ],
          [
           "Bahawalpur"
          ],
          [
           "OPEN"
          ],
          [
           "OPEN"
          ],
          [
           "OPEN"
          ]
         ],
         "hovertemplate": "Offered=Not Offered<br>NTS=%{x}<br>FA/FSC=%{y}<br>Domicile=%{customdata[0]}<extra></extra>",
         "legendgroup": "Not Offered",
         "marker": {
          "color": "#EF553B",
          "symbol": "circle"
         },
         "mode": "markers",
         "name": "Not Offered",
         "showlegend": true,
         "type": "scatter",
         "x": [
          50,
          38,
          50,
          52,
          49,
          56,
          50,
          51,
          55,
          56,
          54,
          54,
          46,
          59,
          61,
          56,
          53,
          39,
          61,
          44,
          38,
          47,
          48,
          48,
          52,
          48,
          45,
          54,
          47,
          51,
          54,
          49,
          49,
          47,
          76,
          49,
          57,
          50,
          50,
          46,
          50,
          50,
          52,
          50,
          62,
          57,
          49,
          50,
          48,
          50,
          55,
          52,
          52,
          47,
          61,
          52,
          61,
          41,
          57,
          50,
          54,
          38,
          57,
          58,
          55,
          73,
          47,
          47,
          45,
          47,
          66,
          52,
          43,
          44,
          43,
          53,
          40,
          50,
          0
         ],
         "xaxis": "x",
         "y": [
          720,
          757,
          763,
          622,
          606,
          648,
          711,
          718,
          616,
          703,
          634,
          661,
          647,
          770,
          624,
          668,
          666,
          827,
          684,
          653,
          802,
          644,
          817,
          671,
          671,
          668,
          664,
          667,
          608,
          682,
          652,
          680,
          595,
          661,
          617,
          587,
          635,
          805,
          650,
          633,
          622,
          532,
          631,
          650,
          738,
          552,
          683,
          687,
          675,
          652,
          622,
          635,
          623,
          638,
          689,
          662,
          644,
          657,
          637,
          647,
          660,
          839,
          633,
          725,
          627,
          784,
          685,
          591,
          601,
          775,
          888,
          708,
          702,
          801,
          558,
          664,
          765,
          855,
          582
         ],
         "yaxis": "y"
        },
        {
         "customdata": [
          [
           "Bahawalpur"
          ],
          [
           "Bahawalpur"
          ],
          [
           "Bahawalpur"
          ],
          [
           "Bahawalpur"
          ],
          [
           "Bahawalpur"
          ],
          [
           "Bahawalpur"
          ],
          [
           "Bahawalpur"
          ],
          [
           "Bahawalpur"
          ],
          [
           "Bahawalpur"
          ],
          [
           "Bahawalpur"
          ],
          [
           "Bahawalpur"
          ],
          [
           "Bahawalpur"
          ],
          [
           "Bahawalpur"
          ],
          [
           "Bahawalpur"
          ],
          [
           "Bahawalpur"
          ],
          [
           "Bahawalpur"
          ],
          [
           "Bahawalpur"
          ],
          [
           "Bahawalpur"
          ],
          [
           "Bahawalpur"
          ],
          [
           "Bahawalpur"
          ],
          [
           "Bahawalpur"
          ],
          [
           "Bahawalpur"
          ],
          [
           "Bahawalpur"
          ],
          [
           "Bahawalpur"
          ],
          [
           "Bahawalpur"
          ],
          [
           "Bahawalpur"
          ],
          [
           "Bahawalpur"
          ],
          [
           "Bahawalpur"
          ],
          [
           "Bahawalpur"
          ],
          [
           "Bahawalpur"
          ],
          [
           "Bahawalpur"
          ],
          [
           "Bahawalpur"
          ],
          [
           "Bahawalpur"
          ],
          [
           "Bahawalpur"
          ],
          [
           "Bahawalpur"
          ],
          [
           "Bahawalpur"
          ],
          [
           "Bahawalpur"
          ],
          [
           "Bahawalpur"
          ],
          [
           "Bahawalpur"
          ],
          [
           "Bahawalpur"
          ],
          [
           "Bahawalpur"
          ],
          [
           "Bahawalpur"
          ],
          [
           "Bahawalpur"
          ],
          [
           "Bahawalpur"
          ],
          [
           "Bahawalpur"
          ],
          [
           "Bahawalpur"
          ],
          [
           "Bahawalpur"
          ],
          [
           "Bahawalpur"
          ],
          [
           "Bahawalpur"
          ],
          [
           "Bahawalpur"
          ],
          [
           "Bahawalpur"
          ],
          [
           "Bahawalpur"
          ],
          [
           "Bahawalpur"
          ],
          [
           "Bahawalpur"
          ],
          [
           "Bahawalpur"
          ],
          [
           "Bahawalpur"
          ]
         ],
         "hovertemplate": "Offered=Offered_IN_BWP_QUOTA<br>NTS=%{x}<br>FA/FSC=%{y}<br>Domicile=%{customdata[0]}<extra></extra>",
         "legendgroup": "Offered_IN_BWP_QUOTA",
         "marker": {
          "color": "#00cc96",
          "symbol": "circle"
         },
         "mode": "markers",
         "name": "Offered_IN_BWP_QUOTA",
         "showlegend": true,
         "type": "scatter",
         "x": [
          58,
          52,
          50,
          52,
          50,
          65,
          50,
          59,
          55,
          57,
          57,
          61,
          55,
          54,
          58,
          47,
          55,
          41,
          40,
          52,
          60,
          64,
          51,
          54,
          63,
          59,
          54,
          60,
          56,
          55,
          59,
          57,
          61,
          54,
          63,
          56,
          62,
          52,
          50,
          46,
          67,
          55,
          43,
          50,
          50,
          41,
          52,
          63,
          48,
          51,
          60,
          49,
          51,
          42,
          50,
          47
         ],
         "xaxis": "x",
         "y": [
          729,
          718,
          701,
          701,
          671,
          692,
          752,
          722,
          732,
          702,
          714,
          666,
          713,
          733,
          760,
          722,
          675,
          730,
          754,
          710,
          694,
          660,
          744,
          741,
          707,
          727,
          750,
          670,
          817,
          800,
          864,
          695,
          691,
          727,
          682,
          764,
          707,
          714,
          764,
          764,
          647,
          711,
          733,
          780,
          730,
          729,
          754,
          703,
          755,
          773,
          672,
          745,
          709,
          755,
          752,
          726
         ],
         "yaxis": "y"
        }
       ],
       "layout": {
        "legend": {
         "title": {
          "text": "Offered"
         },
         "tracegroupgap": 0
        },
        "margin": {
         "t": 60
        },
        "template": {
         "data": {
          "bar": [
           {
            "error_x": {
             "color": "#2a3f5f"
            },
            "error_y": {
             "color": "#2a3f5f"
            },
            "marker": {
             "line": {
              "color": "#E5ECF6",
              "width": 0.5
             }
            },
            "type": "bar"
           }
          ],
          "barpolar": [
           {
            "marker": {
             "line": {
              "color": "#E5ECF6",
              "width": 0.5
             }
            },
            "type": "barpolar"
           }
          ],
          "carpet": [
           {
            "aaxis": {
             "endlinecolor": "#2a3f5f",
             "gridcolor": "white",
             "linecolor": "white",
             "minorgridcolor": "white",
             "startlinecolor": "#2a3f5f"
            },
            "baxis": {
             "endlinecolor": "#2a3f5f",
             "gridcolor": "white",
             "linecolor": "white",
             "minorgridcolor": "white",
             "startlinecolor": "#2a3f5f"
            },
            "type": "carpet"
           }
          ],
          "choropleth": [
           {
            "colorbar": {
             "outlinewidth": 0,
             "ticks": ""
            },
            "type": "choropleth"
           }
          ],
          "contour": [
           {
            "colorbar": {
             "outlinewidth": 0,
             "ticks": ""
            },
            "colorscale": [
             [
              0,
              "#0d0887"
             ],
             [
              0.1111111111111111,
              "#46039f"
             ],
             [
              0.2222222222222222,
              "#7201a8"
             ],
             [
              0.3333333333333333,
              "#9c179e"
             ],
             [
              0.4444444444444444,
              "#bd3786"
             ],
             [
              0.5555555555555556,
              "#d8576b"
             ],
             [
              0.6666666666666666,
              "#ed7953"
             ],
             [
              0.7777777777777778,
              "#fb9f3a"
             ],
             [
              0.8888888888888888,
              "#fdca26"
             ],
             [
              1,
              "#f0f921"
             ]
            ],
            "type": "contour"
           }
          ],
          "contourcarpet": [
           {
            "colorbar": {
             "outlinewidth": 0,
             "ticks": ""
            },
            "type": "contourcarpet"
           }
          ],
          "heatmap": [
           {
            "colorbar": {
             "outlinewidth": 0,
             "ticks": ""
            },
            "colorscale": [
             [
              0,
              "#0d0887"
             ],
             [
              0.1111111111111111,
              "#46039f"
             ],
             [
              0.2222222222222222,
              "#7201a8"
             ],
             [
              0.3333333333333333,
              "#9c179e"
             ],
             [
              0.4444444444444444,
              "#bd3786"
             ],
             [
              0.5555555555555556,
              "#d8576b"
             ],
             [
              0.6666666666666666,
              "#ed7953"
             ],
             [
              0.7777777777777778,
              "#fb9f3a"
             ],
             [
              0.8888888888888888,
              "#fdca26"
             ],
             [
              1,
              "#f0f921"
             ]
            ],
            "type": "heatmap"
           }
          ],
          "heatmapgl": [
           {
            "colorbar": {
             "outlinewidth": 0,
             "ticks": ""
            },
            "colorscale": [
             [
              0,
              "#0d0887"
             ],
             [
              0.1111111111111111,
              "#46039f"
             ],
             [
              0.2222222222222222,
              "#7201a8"
             ],
             [
              0.3333333333333333,
              "#9c179e"
             ],
             [
              0.4444444444444444,
              "#bd3786"
             ],
             [
              0.5555555555555556,
              "#d8576b"
             ],
             [
              0.6666666666666666,
              "#ed7953"
             ],
             [
              0.7777777777777778,
              "#fb9f3a"
             ],
             [
              0.8888888888888888,
              "#fdca26"
             ],
             [
              1,
              "#f0f921"
             ]
            ],
            "type": "heatmapgl"
           }
          ],
          "histogram": [
           {
            "marker": {
             "colorbar": {
              "outlinewidth": 0,
              "ticks": ""
             }
            },
            "type": "histogram"
           }
          ],
          "histogram2d": [
           {
            "colorbar": {
             "outlinewidth": 0,
             "ticks": ""
            },
            "colorscale": [
             [
              0,
              "#0d0887"
             ],
             [
              0.1111111111111111,
              "#46039f"
             ],
             [
              0.2222222222222222,
              "#7201a8"
             ],
             [
              0.3333333333333333,
              "#9c179e"
             ],
             [
              0.4444444444444444,
              "#bd3786"
             ],
             [
              0.5555555555555556,
              "#d8576b"
             ],
             [
              0.6666666666666666,
              "#ed7953"
             ],
             [
              0.7777777777777778,
              "#fb9f3a"
             ],
             [
              0.8888888888888888,
              "#fdca26"
             ],
             [
              1,
              "#f0f921"
             ]
            ],
            "type": "histogram2d"
           }
          ],
          "histogram2dcontour": [
           {
            "colorbar": {
             "outlinewidth": 0,
             "ticks": ""
            },
            "colorscale": [
             [
              0,
              "#0d0887"
             ],
             [
              0.1111111111111111,
              "#46039f"
             ],
             [
              0.2222222222222222,
              "#7201a8"
             ],
             [
              0.3333333333333333,
              "#9c179e"
             ],
             [
              0.4444444444444444,
              "#bd3786"
             ],
             [
              0.5555555555555556,
              "#d8576b"
             ],
             [
              0.6666666666666666,
              "#ed7953"
             ],
             [
              0.7777777777777778,
              "#fb9f3a"
             ],
             [
              0.8888888888888888,
              "#fdca26"
             ],
             [
              1,
              "#f0f921"
             ]
            ],
            "type": "histogram2dcontour"
           }
          ],
          "mesh3d": [
           {
            "colorbar": {
             "outlinewidth": 0,
             "ticks": ""
            },
            "type": "mesh3d"
           }
          ],
          "parcoords": [
           {
            "line": {
             "colorbar": {
              "outlinewidth": 0,
              "ticks": ""
             }
            },
            "type": "parcoords"
           }
          ],
          "pie": [
           {
            "automargin": true,
            "type": "pie"
           }
          ],
          "scatter": [
           {
            "marker": {
             "colorbar": {
              "outlinewidth": 0,
              "ticks": ""
             }
            },
            "type": "scatter"
           }
          ],
          "scatter3d": [
           {
            "line": {
             "colorbar": {
              "outlinewidth": 0,
              "ticks": ""
             }
            },
            "marker": {
             "colorbar": {
              "outlinewidth": 0,
              "ticks": ""
             }
            },
            "type": "scatter3d"
           }
          ],
          "scattercarpet": [
           {
            "marker": {
             "colorbar": {
              "outlinewidth": 0,
              "ticks": ""
             }
            },
            "type": "scattercarpet"
           }
          ],
          "scattergeo": [
           {
            "marker": {
             "colorbar": {
              "outlinewidth": 0,
              "ticks": ""
             }
            },
            "type": "scattergeo"
           }
          ],
          "scattergl": [
           {
            "marker": {
             "colorbar": {
              "outlinewidth": 0,
              "ticks": ""
             }
            },
            "type": "scattergl"
           }
          ],
          "scattermapbox": [
           {
            "marker": {
             "colorbar": {
              "outlinewidth": 0,
              "ticks": ""
             }
            },
            "type": "scattermapbox"
           }
          ],
          "scatterpolar": [
           {
            "marker": {
             "colorbar": {
              "outlinewidth": 0,
              "ticks": ""
             }
            },
            "type": "scatterpolar"
           }
          ],
          "scatterpolargl": [
           {
            "marker": {
             "colorbar": {
              "outlinewidth": 0,
              "ticks": ""
             }
            },
            "type": "scatterpolargl"
           }
          ],
          "scatterternary": [
           {
            "marker": {
             "colorbar": {
              "outlinewidth": 0,
              "ticks": ""
             }
            },
            "type": "scatterternary"
           }
          ],
          "surface": [
           {
            "colorbar": {
             "outlinewidth": 0,
             "ticks": ""
            },
            "colorscale": [
             [
              0,
              "#0d0887"
             ],
             [
              0.1111111111111111,
              "#46039f"
             ],
             [
              0.2222222222222222,
              "#7201a8"
             ],
             [
              0.3333333333333333,
              "#9c179e"
             ],
             [
              0.4444444444444444,
              "#bd3786"
             ],
             [
              0.5555555555555556,
              "#d8576b"
             ],
             [
              0.6666666666666666,
              "#ed7953"
             ],
             [
              0.7777777777777778,
              "#fb9f3a"
             ],
             [
              0.8888888888888888,
              "#fdca26"
             ],
             [
              1,
              "#f0f921"
             ]
            ],
            "type": "surface"
           }
          ],
          "table": [
           {
            "cells": {
             "fill": {
              "color": "#EBF0F8"
             },
             "line": {
              "color": "white"
             }
            },
            "header": {
             "fill": {
              "color": "#C8D4E3"
             },
             "line": {
              "color": "white"
             }
            },
            "type": "table"
           }
          ]
         },
         "layout": {
          "annotationdefaults": {
           "arrowcolor": "#2a3f5f",
           "arrowhead": 0,
           "arrowwidth": 1
          },
          "coloraxis": {
           "colorbar": {
            "outlinewidth": 0,
            "ticks": ""
           }
          },
          "colorscale": {
           "diverging": [
            [
             0,
             "#8e0152"
            ],
            [
             0.1,
             "#c51b7d"
            ],
            [
             0.2,
             "#de77ae"
            ],
            [
             0.3,
             "#f1b6da"
            ],
            [
             0.4,
             "#fde0ef"
            ],
            [
             0.5,
             "#f7f7f7"
            ],
            [
             0.6,
             "#e6f5d0"
            ],
            [
             0.7,
             "#b8e186"
            ],
            [
             0.8,
             "#7fbc41"
            ],
            [
             0.9,
             "#4d9221"
            ],
            [
             1,
             "#276419"
            ]
           ],
           "sequential": [
            [
             0,
             "#0d0887"
            ],
            [
             0.1111111111111111,
             "#46039f"
            ],
            [
             0.2222222222222222,
             "#7201a8"
            ],
            [
             0.3333333333333333,
             "#9c179e"
            ],
            [
             0.4444444444444444,
             "#bd3786"
            ],
            [
             0.5555555555555556,
             "#d8576b"
            ],
            [
             0.6666666666666666,
             "#ed7953"
            ],
            [
             0.7777777777777778,
             "#fb9f3a"
            ],
            [
             0.8888888888888888,
             "#fdca26"
            ],
            [
             1,
             "#f0f921"
            ]
           ],
           "sequentialminus": [
            [
             0,
             "#0d0887"
            ],
            [
             0.1111111111111111,
             "#46039f"
            ],
            [
             0.2222222222222222,
             "#7201a8"
            ],
            [
             0.3333333333333333,
             "#9c179e"
            ],
            [
             0.4444444444444444,
             "#bd3786"
            ],
            [
             0.5555555555555556,
             "#d8576b"
            ],
            [
             0.6666666666666666,
             "#ed7953"
            ],
            [
             0.7777777777777778,
             "#fb9f3a"
            ],
            [
             0.8888888888888888,
             "#fdca26"
            ],
            [
             1,
             "#f0f921"
            ]
           ]
          },
          "colorway": [
           "#636efa",
           "#EF553B",
           "#00cc96",
           "#ab63fa",
           "#FFA15A",
           "#19d3f3",
           "#FF6692",
           "#B6E880",
           "#FF97FF",
           "#FECB52"
          ],
          "font": {
           "color": "#2a3f5f"
          },
          "geo": {
           "bgcolor": "white",
           "lakecolor": "white",
           "landcolor": "#E5ECF6",
           "showlakes": true,
           "showland": true,
           "subunitcolor": "white"
          },
          "hoverlabel": {
           "align": "left"
          },
          "hovermode": "closest",
          "mapbox": {
           "style": "light"
          },
          "paper_bgcolor": "white",
          "plot_bgcolor": "#E5ECF6",
          "polar": {
           "angularaxis": {
            "gridcolor": "white",
            "linecolor": "white",
            "ticks": ""
           },
           "bgcolor": "#E5ECF6",
           "radialaxis": {
            "gridcolor": "white",
            "linecolor": "white",
            "ticks": ""
           }
          },
          "scene": {
           "xaxis": {
            "backgroundcolor": "#E5ECF6",
            "gridcolor": "white",
            "gridwidth": 2,
            "linecolor": "white",
            "showbackground": true,
            "ticks": "",
            "zerolinecolor": "white"
           },
           "yaxis": {
            "backgroundcolor": "#E5ECF6",
            "gridcolor": "white",
            "gridwidth": 2,
            "linecolor": "white",
            "showbackground": true,
            "ticks": "",
            "zerolinecolor": "white"
           },
           "zaxis": {
            "backgroundcolor": "#E5ECF6",
            "gridcolor": "white",
            "gridwidth": 2,
            "linecolor": "white",
            "showbackground": true,
            "ticks": "",
            "zerolinecolor": "white"
           }
          },
          "shapedefaults": {
           "line": {
            "color": "#2a3f5f"
           }
          },
          "ternary": {
           "aaxis": {
            "gridcolor": "white",
            "linecolor": "white",
            "ticks": ""
           },
           "baxis": {
            "gridcolor": "white",
            "linecolor": "white",
            "ticks": ""
           },
           "bgcolor": "#E5ECF6",
           "caxis": {
            "gridcolor": "white",
            "linecolor": "white",
            "ticks": ""
           }
          },
          "title": {
           "x": 0.05
          },
          "xaxis": {
           "automargin": true,
           "gridcolor": "white",
           "linecolor": "white",
           "ticks": "",
           "title": {
            "standoff": 15
           },
           "zerolinecolor": "white",
           "zerolinewidth": 2
          },
          "yaxis": {
           "automargin": true,
           "gridcolor": "white",
           "linecolor": "white",
           "ticks": "",
           "title": {
            "standoff": 15
           },
           "zerolinecolor": "white",
           "zerolinewidth": 2
          }
         }
        },
        "xaxis": {
         "anchor": "y",
         "domain": [
          0,
          1
         ],
         "title": {
          "text": "NTS"
         }
        },
        "yaxis": {
         "anchor": "x",
         "domain": [
          0,
          1
         ],
         "title": {
          "text": "FA/FSC"
         }
        }
       }
      },
      "text/html": [
       "<div>\n",
       "        \n",
       "        \n",
       "            <div id=\"fdbc14c7-792f-469c-8916-b03eebca2af0\" class=\"plotly-graph-div\" style=\"height:525px; width:100%;\"></div>\n",
       "            <script type=\"text/javascript\">\n",
       "                require([\"plotly\"], function(Plotly) {\n",
       "                    window.PLOTLYENV=window.PLOTLYENV || {};\n",
       "                    \n",
       "                if (document.getElementById(\"fdbc14c7-792f-469c-8916-b03eebca2af0\")) {\n",
       "                    Plotly.newPlot(\n",
       "                        'fdbc14c7-792f-469c-8916-b03eebca2af0',\n",
       "                        [{\"customdata\": [[\"OPEN\"], [\"Bahawalpur\"], [\"Bahawalpur\"], [\"Bahawalpur\"], [\"Bahawalpur\"], [\"OPEN\"], [\"Bahawalpur\"], [\"Bahawalpur\"], [\"Bahawalpur\"], [\"Bahawalpur\"], [\"Bahawalpur\"], [\"Bahawalpur\"], [\"Bahawalpur\"], [\"Bahawalpur\"], [\"Bahawalpur\"], [\"Bahawalpur\"], [\"Bahawalpur\"], [\"Bahawalpur\"], [\"Bahawalpur\"], [\"Bahawalpur\"], [\"Bahawalpur\"], [\"Bahawalpur\"], [\"Bahawalpur\"], [\"OPEN\"], [\"OPEN\"], [\"OPEN\"], [\"OPEN\"], [\"Bahawalpur\"], [\"OPEN\"], [\"OPEN\"], [\"OPEN\"], [\"OPEN\"], [\"OPEN\"], [\"OPEN\"], [\"OPEN\"], [\"OPEN\"], [\"OPEN\"], [\"OPEN\"], [\"OPEN\"], [\"OPEN\"], [\"OPEN\"], [\"OPEN\"], [\"OPEN\"], [\"OPEN\"], [\"OPEN\"], [\"OPEN\"], [\"OPEN\"], [\"OPEN\"], [\"OPEN\"], [\"OPEN\"], [\"OPEN\"], [\"OPEN\"]], \"hovertemplate\": \"Offered=Offered_IN_OPEN_QUOTA<br>NTS=%{x}<br>FA/FSC=%{y}<br>Domicile=%{customdata[0]}<extra></extra>\", \"legendgroup\": \"Offered_IN_OPEN_QUOTA\", \"marker\": {\"color\": \"#636efa\", \"symbol\": \"circle\"}, \"mode\": \"markers\", \"name\": \"Offered_IN_OPEN_QUOTA\", \"showlegend\": true, \"type\": \"scatter\", \"x\": [44, 56, 44, 79, 62, 73, 40, 62, 83, 70, 58, 60, 60, 62, 48, 56, 48, 78, 59, 73, 58, 50, 56, 48, 41, 48, 45, 49, 50, 64, 54, 49, 48, 60, 53, 50, 81, 59, 52, 52, 54, 55, 58, 40, 70, 57, 50, 57, 53, 57, 41, 68], \"xaxis\": \"x\", \"y\": [840, 877, 825, 974, 828, 935, 907, 791, 958, 898, 891, 808, 911, 771, 855, 776, 807, 876, 817, 913, 918, 855, 780, 861, 781, 780, 808, 799, 746, 942, 916, 815, 867, 917, 768, 796, 974, 812, 892, 748, 754, 891, 773, 841, 756, 751, 755, 763, 738, 772, 829, 762], \"yaxis\": \"y\"}, {\"customdata\": [[\"Bahawalpur\"], [\"Bahawalpur\"], [\"Bahawalpur\"], [\"Bahawalpur\"], [\"Bahawalpur\"], [\"Bahawalpur\"], [\"Bahawalpur\"], [\"Bahawalpur\"], [\"Bahawalpur\"], [\"Bahawalpur\"], [\"Bahawalpur\"], [\"Bahawalpur\"], [\"Bahawalpur\"], [\"Bahawalpur\"], [\"Bahawalpur\"], [\"Bahawalpur\"], [\"Bahawalpur\"], [\"Bahawalpur\"], [\"Bahawalpur\"], [\"Bahawalpur\"], [\"Bahawalpur\"], [\"Bahawalpur\"], [\"Bahawalpur\"], [\"Bahawalpur\"], [\"Bahawalpur\"], [\"Bahawalpur\"], [\"Bahawalpur\"], [\"Bahawalpur\"], [\"Bahawalpur\"], [\"Bahawalpur\"], [\"Bahawalpur\"], [\"Bahawalpur\"], [\"Bahawalpur\"], [\"Bahawalpur\"], [\"Bahawalpur\"], [\"Bahawalpur\"], [\"Bahawalpur\"], [\"Bahawalpur\"], [\"Bahawalpur\"], [\"Bahawalpur\"], [\"Bahawalpur\"], [\"Bahawalpur\"], [\"Bahawalpur\"], [\"Bahawalpur\"], [\"Bahawalpur\"], [\"Bahawalpur\"], [\"Bahawalpur\"], [\"Bahawalpur\"], [\"Bahawalpur\"], [\"Bahawalpur\"], [\"Bahawalpur\"], [\"Bahawalpur\"], [\"Bahawalpur\"], [\"Bahawalpur\"], [\"Bahawalpur\"], [\"Bahawalpur\"], [\"Bahawalpur\"], [\"Bahawalpur\"], [\"Bahawalpur\"], [\"Bahawalpur\"], [\"Bahawalpur\"], [\"OPEN\"], [\"Bahawalpur\"], [\"OPEN\"], [\"Bahawalpur\"], [\"OPEN\"], [\"Bahawalpur\"], [\"OPEN\"], [\"OPEN\"], [\"OPEN\"], [\"OPEN\"], [\"OPEN\"], [\"OPEN\"], [\"Bahawalpur\"], [\"OPEN\"], [\"Bahawalpur\"], [\"OPEN\"], [\"OPEN\"], [\"OPEN\"]], \"hovertemplate\": \"Offered=Not Offered<br>NTS=%{x}<br>FA/FSC=%{y}<br>Domicile=%{customdata[0]}<extra></extra>\", \"legendgroup\": \"Not Offered\", \"marker\": {\"color\": \"#EF553B\", \"symbol\": \"circle\"}, \"mode\": \"markers\", \"name\": \"Not Offered\", \"showlegend\": true, \"type\": \"scatter\", \"x\": [50, 38, 50, 52, 49, 56, 50, 51, 55, 56, 54, 54, 46, 59, 61, 56, 53, 39, 61, 44, 38, 47, 48, 48, 52, 48, 45, 54, 47, 51, 54, 49, 49, 47, 76, 49, 57, 50, 50, 46, 50, 50, 52, 50, 62, 57, 49, 50, 48, 50, 55, 52, 52, 47, 61, 52, 61, 41, 57, 50, 54, 38, 57, 58, 55, 73, 47, 47, 45, 47, 66, 52, 43, 44, 43, 53, 40, 50, 0], \"xaxis\": \"x\", \"y\": [720, 757, 763, 622, 606, 648, 711, 718, 616, 703, 634, 661, 647, 770, 624, 668, 666, 827, 684, 653, 802, 644, 817, 671, 671, 668, 664, 667, 608, 682, 652, 680, 595, 661, 617, 587, 635, 805, 650, 633, 622, 532, 631, 650, 738, 552, 683, 687, 675, 652, 622, 635, 623, 638, 689, 662, 644, 657, 637, 647, 660, 839, 633, 725, 627, 784, 685, 591, 601, 775, 888, 708, 702, 801, 558, 664, 765, 855, 582], \"yaxis\": \"y\"}, {\"customdata\": [[\"Bahawalpur\"], [\"Bahawalpur\"], [\"Bahawalpur\"], [\"Bahawalpur\"], [\"Bahawalpur\"], [\"Bahawalpur\"], [\"Bahawalpur\"], [\"Bahawalpur\"], [\"Bahawalpur\"], [\"Bahawalpur\"], [\"Bahawalpur\"], [\"Bahawalpur\"], [\"Bahawalpur\"], [\"Bahawalpur\"], [\"Bahawalpur\"], [\"Bahawalpur\"], [\"Bahawalpur\"], [\"Bahawalpur\"], [\"Bahawalpur\"], [\"Bahawalpur\"], [\"Bahawalpur\"], [\"Bahawalpur\"], [\"Bahawalpur\"], [\"Bahawalpur\"], [\"Bahawalpur\"], [\"Bahawalpur\"], [\"Bahawalpur\"], [\"Bahawalpur\"], [\"Bahawalpur\"], [\"Bahawalpur\"], [\"Bahawalpur\"], [\"Bahawalpur\"], [\"Bahawalpur\"], [\"Bahawalpur\"], [\"Bahawalpur\"], [\"Bahawalpur\"], [\"Bahawalpur\"], [\"Bahawalpur\"], [\"Bahawalpur\"], [\"Bahawalpur\"], [\"Bahawalpur\"], [\"Bahawalpur\"], [\"Bahawalpur\"], [\"Bahawalpur\"], [\"Bahawalpur\"], [\"Bahawalpur\"], [\"Bahawalpur\"], [\"Bahawalpur\"], [\"Bahawalpur\"], [\"Bahawalpur\"], [\"Bahawalpur\"], [\"Bahawalpur\"], [\"Bahawalpur\"], [\"Bahawalpur\"], [\"Bahawalpur\"], [\"Bahawalpur\"]], \"hovertemplate\": \"Offered=Offered_IN_BWP_QUOTA<br>NTS=%{x}<br>FA/FSC=%{y}<br>Domicile=%{customdata[0]}<extra></extra>\", \"legendgroup\": \"Offered_IN_BWP_QUOTA\", \"marker\": {\"color\": \"#00cc96\", \"symbol\": \"circle\"}, \"mode\": \"markers\", \"name\": \"Offered_IN_BWP_QUOTA\", \"showlegend\": true, \"type\": \"scatter\", \"x\": [58, 52, 50, 52, 50, 65, 50, 59, 55, 57, 57, 61, 55, 54, 58, 47, 55, 41, 40, 52, 60, 64, 51, 54, 63, 59, 54, 60, 56, 55, 59, 57, 61, 54, 63, 56, 62, 52, 50, 46, 67, 55, 43, 50, 50, 41, 52, 63, 48, 51, 60, 49, 51, 42, 50, 47], \"xaxis\": \"x\", \"y\": [729, 718, 701, 701, 671, 692, 752, 722, 732, 702, 714, 666, 713, 733, 760, 722, 675, 730, 754, 710, 694, 660, 744, 741, 707, 727, 750, 670, 817, 800, 864, 695, 691, 727, 682, 764, 707, 714, 764, 764, 647, 711, 733, 780, 730, 729, 754, 703, 755, 773, 672, 745, 709, 755, 752, 726], \"yaxis\": \"y\"}],\n",
       "                        {\"legend\": {\"title\": {\"text\": \"Offered\"}, \"tracegroupgap\": 0}, \"margin\": {\"t\": 60}, \"template\": {\"data\": {\"bar\": [{\"error_x\": {\"color\": \"#2a3f5f\"}, \"error_y\": {\"color\": \"#2a3f5f\"}, \"marker\": {\"line\": {\"color\": \"#E5ECF6\", \"width\": 0.5}}, \"type\": \"bar\"}], \"barpolar\": [{\"marker\": {\"line\": {\"color\": \"#E5ECF6\", \"width\": 0.5}}, \"type\": \"barpolar\"}], \"carpet\": [{\"aaxis\": {\"endlinecolor\": \"#2a3f5f\", \"gridcolor\": \"white\", \"linecolor\": \"white\", \"minorgridcolor\": \"white\", \"startlinecolor\": \"#2a3f5f\"}, \"baxis\": {\"endlinecolor\": \"#2a3f5f\", \"gridcolor\": \"white\", \"linecolor\": \"white\", \"minorgridcolor\": \"white\", \"startlinecolor\": \"#2a3f5f\"}, \"type\": \"carpet\"}], \"choropleth\": [{\"colorbar\": {\"outlinewidth\": 0, \"ticks\": \"\"}, \"type\": \"choropleth\"}], \"contour\": [{\"colorbar\": {\"outlinewidth\": 0, \"ticks\": \"\"}, \"colorscale\": [[0.0, \"#0d0887\"], [0.1111111111111111, \"#46039f\"], [0.2222222222222222, \"#7201a8\"], [0.3333333333333333, \"#9c179e\"], [0.4444444444444444, \"#bd3786\"], [0.5555555555555556, \"#d8576b\"], [0.6666666666666666, \"#ed7953\"], [0.7777777777777778, \"#fb9f3a\"], [0.8888888888888888, \"#fdca26\"], [1.0, \"#f0f921\"]], \"type\": \"contour\"}], \"contourcarpet\": [{\"colorbar\": {\"outlinewidth\": 0, \"ticks\": \"\"}, \"type\": \"contourcarpet\"}], \"heatmap\": [{\"colorbar\": {\"outlinewidth\": 0, \"ticks\": \"\"}, \"colorscale\": [[0.0, \"#0d0887\"], [0.1111111111111111, \"#46039f\"], [0.2222222222222222, \"#7201a8\"], [0.3333333333333333, \"#9c179e\"], [0.4444444444444444, \"#bd3786\"], [0.5555555555555556, \"#d8576b\"], [0.6666666666666666, \"#ed7953\"], [0.7777777777777778, \"#fb9f3a\"], [0.8888888888888888, \"#fdca26\"], [1.0, \"#f0f921\"]], \"type\": \"heatmap\"}], \"heatmapgl\": [{\"colorbar\": {\"outlinewidth\": 0, \"ticks\": \"\"}, \"colorscale\": [[0.0, \"#0d0887\"], [0.1111111111111111, \"#46039f\"], [0.2222222222222222, \"#7201a8\"], [0.3333333333333333, \"#9c179e\"], [0.4444444444444444, \"#bd3786\"], [0.5555555555555556, \"#d8576b\"], [0.6666666666666666, \"#ed7953\"], [0.7777777777777778, \"#fb9f3a\"], [0.8888888888888888, \"#fdca26\"], [1.0, \"#f0f921\"]], \"type\": \"heatmapgl\"}], \"histogram\": [{\"marker\": {\"colorbar\": {\"outlinewidth\": 0, \"ticks\": \"\"}}, \"type\": \"histogram\"}], \"histogram2d\": [{\"colorbar\": {\"outlinewidth\": 0, \"ticks\": \"\"}, \"colorscale\": [[0.0, \"#0d0887\"], [0.1111111111111111, \"#46039f\"], [0.2222222222222222, \"#7201a8\"], [0.3333333333333333, \"#9c179e\"], [0.4444444444444444, \"#bd3786\"], [0.5555555555555556, \"#d8576b\"], [0.6666666666666666, \"#ed7953\"], [0.7777777777777778, \"#fb9f3a\"], [0.8888888888888888, \"#fdca26\"], [1.0, \"#f0f921\"]], \"type\": \"histogram2d\"}], \"histogram2dcontour\": [{\"colorbar\": {\"outlinewidth\": 0, \"ticks\": \"\"}, \"colorscale\": [[0.0, \"#0d0887\"], [0.1111111111111111, \"#46039f\"], [0.2222222222222222, \"#7201a8\"], [0.3333333333333333, \"#9c179e\"], [0.4444444444444444, \"#bd3786\"], [0.5555555555555556, \"#d8576b\"], [0.6666666666666666, \"#ed7953\"], [0.7777777777777778, \"#fb9f3a\"], [0.8888888888888888, \"#fdca26\"], [1.0, \"#f0f921\"]], \"type\": \"histogram2dcontour\"}], \"mesh3d\": [{\"colorbar\": {\"outlinewidth\": 0, \"ticks\": \"\"}, \"type\": \"mesh3d\"}], \"parcoords\": [{\"line\": {\"colorbar\": {\"outlinewidth\": 0, \"ticks\": \"\"}}, \"type\": \"parcoords\"}], \"pie\": [{\"automargin\": true, \"type\": \"pie\"}], \"scatter\": [{\"marker\": {\"colorbar\": {\"outlinewidth\": 0, \"ticks\": \"\"}}, \"type\": \"scatter\"}], \"scatter3d\": [{\"line\": {\"colorbar\": {\"outlinewidth\": 0, \"ticks\": \"\"}}, \"marker\": {\"colorbar\": {\"outlinewidth\": 0, \"ticks\": \"\"}}, \"type\": \"scatter3d\"}], \"scattercarpet\": [{\"marker\": {\"colorbar\": {\"outlinewidth\": 0, \"ticks\": \"\"}}, \"type\": \"scattercarpet\"}], \"scattergeo\": [{\"marker\": {\"colorbar\": {\"outlinewidth\": 0, \"ticks\": \"\"}}, \"type\": \"scattergeo\"}], \"scattergl\": [{\"marker\": {\"colorbar\": {\"outlinewidth\": 0, \"ticks\": \"\"}}, \"type\": \"scattergl\"}], \"scattermapbox\": [{\"marker\": {\"colorbar\": {\"outlinewidth\": 0, \"ticks\": \"\"}}, \"type\": \"scattermapbox\"}], \"scatterpolar\": [{\"marker\": {\"colorbar\": {\"outlinewidth\": 0, \"ticks\": \"\"}}, \"type\": \"scatterpolar\"}], \"scatterpolargl\": [{\"marker\": {\"colorbar\": {\"outlinewidth\": 0, \"ticks\": \"\"}}, \"type\": \"scatterpolargl\"}], \"scatterternary\": [{\"marker\": {\"colorbar\": {\"outlinewidth\": 0, \"ticks\": \"\"}}, \"type\": \"scatterternary\"}], \"surface\": [{\"colorbar\": {\"outlinewidth\": 0, \"ticks\": \"\"}, \"colorscale\": [[0.0, \"#0d0887\"], [0.1111111111111111, \"#46039f\"], [0.2222222222222222, \"#7201a8\"], [0.3333333333333333, \"#9c179e\"], [0.4444444444444444, \"#bd3786\"], [0.5555555555555556, \"#d8576b\"], [0.6666666666666666, \"#ed7953\"], [0.7777777777777778, \"#fb9f3a\"], [0.8888888888888888, \"#fdca26\"], [1.0, \"#f0f921\"]], \"type\": \"surface\"}], \"table\": [{\"cells\": {\"fill\": {\"color\": \"#EBF0F8\"}, \"line\": {\"color\": \"white\"}}, \"header\": {\"fill\": {\"color\": \"#C8D4E3\"}, \"line\": {\"color\": \"white\"}}, \"type\": \"table\"}]}, \"layout\": {\"annotationdefaults\": {\"arrowcolor\": \"#2a3f5f\", \"arrowhead\": 0, \"arrowwidth\": 1}, \"coloraxis\": {\"colorbar\": {\"outlinewidth\": 0, \"ticks\": \"\"}}, \"colorscale\": {\"diverging\": [[0, \"#8e0152\"], [0.1, \"#c51b7d\"], [0.2, \"#de77ae\"], [0.3, \"#f1b6da\"], [0.4, \"#fde0ef\"], [0.5, \"#f7f7f7\"], [0.6, \"#e6f5d0\"], [0.7, \"#b8e186\"], [0.8, \"#7fbc41\"], [0.9, \"#4d9221\"], [1, \"#276419\"]], \"sequential\": [[0.0, \"#0d0887\"], [0.1111111111111111, \"#46039f\"], [0.2222222222222222, \"#7201a8\"], [0.3333333333333333, \"#9c179e\"], [0.4444444444444444, \"#bd3786\"], [0.5555555555555556, \"#d8576b\"], [0.6666666666666666, \"#ed7953\"], [0.7777777777777778, \"#fb9f3a\"], [0.8888888888888888, \"#fdca26\"], [1.0, \"#f0f921\"]], \"sequentialminus\": [[0.0, \"#0d0887\"], [0.1111111111111111, \"#46039f\"], [0.2222222222222222, \"#7201a8\"], [0.3333333333333333, \"#9c179e\"], [0.4444444444444444, \"#bd3786\"], [0.5555555555555556, \"#d8576b\"], [0.6666666666666666, \"#ed7953\"], [0.7777777777777778, \"#fb9f3a\"], [0.8888888888888888, \"#fdca26\"], [1.0, \"#f0f921\"]]}, \"colorway\": [\"#636efa\", \"#EF553B\", \"#00cc96\", \"#ab63fa\", \"#FFA15A\", \"#19d3f3\", \"#FF6692\", \"#B6E880\", \"#FF97FF\", \"#FECB52\"], \"font\": {\"color\": \"#2a3f5f\"}, \"geo\": {\"bgcolor\": \"white\", \"lakecolor\": \"white\", \"landcolor\": \"#E5ECF6\", \"showlakes\": true, \"showland\": true, \"subunitcolor\": \"white\"}, \"hoverlabel\": {\"align\": \"left\"}, \"hovermode\": \"closest\", \"mapbox\": {\"style\": \"light\"}, \"paper_bgcolor\": \"white\", \"plot_bgcolor\": \"#E5ECF6\", \"polar\": {\"angularaxis\": {\"gridcolor\": \"white\", \"linecolor\": \"white\", \"ticks\": \"\"}, \"bgcolor\": \"#E5ECF6\", \"radialaxis\": {\"gridcolor\": \"white\", \"linecolor\": \"white\", \"ticks\": \"\"}}, \"scene\": {\"xaxis\": {\"backgroundcolor\": \"#E5ECF6\", \"gridcolor\": \"white\", \"gridwidth\": 2, \"linecolor\": \"white\", \"showbackground\": true, \"ticks\": \"\", \"zerolinecolor\": \"white\"}, \"yaxis\": {\"backgroundcolor\": \"#E5ECF6\", \"gridcolor\": \"white\", \"gridwidth\": 2, \"linecolor\": \"white\", \"showbackground\": true, \"ticks\": \"\", \"zerolinecolor\": \"white\"}, \"zaxis\": {\"backgroundcolor\": \"#E5ECF6\", \"gridcolor\": \"white\", \"gridwidth\": 2, \"linecolor\": \"white\", \"showbackground\": true, \"ticks\": \"\", \"zerolinecolor\": \"white\"}}, \"shapedefaults\": {\"line\": {\"color\": \"#2a3f5f\"}}, \"ternary\": {\"aaxis\": {\"gridcolor\": \"white\", \"linecolor\": \"white\", \"ticks\": \"\"}, \"baxis\": {\"gridcolor\": \"white\", \"linecolor\": \"white\", \"ticks\": \"\"}, \"bgcolor\": \"#E5ECF6\", \"caxis\": {\"gridcolor\": \"white\", \"linecolor\": \"white\", \"ticks\": \"\"}}, \"title\": {\"x\": 0.05}, \"xaxis\": {\"automargin\": true, \"gridcolor\": \"white\", \"linecolor\": \"white\", \"ticks\": \"\", \"title\": {\"standoff\": 15}, \"zerolinecolor\": \"white\", \"zerolinewidth\": 2}, \"yaxis\": {\"automargin\": true, \"gridcolor\": \"white\", \"linecolor\": \"white\", \"ticks\": \"\", \"title\": {\"standoff\": 15}, \"zerolinecolor\": \"white\", \"zerolinewidth\": 2}}}, \"xaxis\": {\"anchor\": \"y\", \"domain\": [0.0, 1.0], \"title\": {\"text\": \"NTS\"}}, \"yaxis\": {\"anchor\": \"x\", \"domain\": [0.0, 1.0], \"title\": {\"text\": \"FA/FSC\"}}},\n",
       "                        {\"responsive\": true}\n",
       "                    ).then(function(){\n",
       "                            \n",
       "var gd = document.getElementById('fdbc14c7-792f-469c-8916-b03eebca2af0');\n",
       "var x = new MutationObserver(function (mutations, observer) {{\n",
       "        var display = window.getComputedStyle(gd).display;\n",
       "        if (!display || display === 'none') {{\n",
       "            console.log([gd, 'removed!']);\n",
       "            Plotly.purge(gd);\n",
       "            observer.disconnect();\n",
       "        }}\n",
       "}});\n",
       "\n",
       "// Listen for the removal of the full notebook cells\n",
       "var notebookContainer = gd.closest('#notebook-container');\n",
       "if (notebookContainer) {{\n",
       "    x.observe(notebookContainer, {childList: true});\n",
       "}}\n",
       "\n",
       "// Listen for the clearing of the current output cell\n",
       "var outputEl = gd.closest('.output');\n",
       "if (outputEl) {{\n",
       "    x.observe(outputEl, {childList: true});\n",
       "}}\n",
       "\n",
       "                        })\n",
       "                };\n",
       "                });\n",
       "            </script>\n",
       "        </div>"
      ]
     },
     "metadata": {},
     "output_type": "display_data"
    }
   ],
   "source": [
    "# Visulize BBA Applicants\n",
    "import plotly.express as px\n",
    "import pandas as pd\n",
    "df = pd.read_csv('dataset/fall18/fall18-2018-12-11-bba-fall18.csv')\n",
    "#print(df.columns)\n",
    "fig = px.scatter(df, x=\"NTS\", y=\"FA/FSC\",color=\"Offered\",hover_data=['Domicile'])\n",
    "fig.show()"
   ]
  },
  {
   "cell_type": "code",
   "execution_count": 6,
   "metadata": {},
   "outputs": [
    {
     "data": {
      "application/vnd.plotly.v1+json": {
       "config": {
        "plotlyServerURL": "https://plot.ly"
       },
       "data": [
        {
         "customdata": [
          [
           "OPEN"
          ],
          [
           "Bahawalpur"
          ],
          [
           "Bahawalpur"
          ],
          [
           "Bahawalpur"
          ],
          [
           "Bahawalpur"
          ],
          [
           "Bahawalpur"
          ],
          [
           "Bahawalpur"
          ],
          [
           "Bahawalpur"
          ],
          [
           "Bahawalpur"
          ],
          [
           "Bahawalpur"
          ],
          [
           "Bahawalpur"
          ],
          [
           "Bahawalpur"
          ],
          [
           "Bahawalpur"
          ],
          [
           "Bahawalpur"
          ],
          [
           "Bahawalpur"
          ],
          [
           "Bahawalpur"
          ],
          [
           "Bahawalpur"
          ],
          [
           "Bahawalpur"
          ],
          [
           "Bahawalpur"
          ],
          [
           "Bahawalpur"
          ],
          [
           "Bahawalpur"
          ],
          [
           "Bahawalpur"
          ],
          [
           "Bahawalpur"
          ],
          [
           "Bahawalpur"
          ],
          [
           "Bahawalpur"
          ],
          [
           "Bahawalpur"
          ],
          [
           "Bahawalpur"
          ],
          [
           "Bahawalpur"
          ],
          [
           "OPEN"
          ],
          [
           "OPEN"
          ],
          [
           "OPEN"
          ],
          [
           "Bahawalpur"
          ],
          [
           "OPEN"
          ],
          [
           "Bahawalpur"
          ],
          [
           "OPEN"
          ],
          [
           "OPEN"
          ],
          [
           "Bahawalpur"
          ],
          [
           "Bahawalpur"
          ]
         ],
         "hovertemplate": "Offered=Not Offered<br>English Marks=%{x}<br>FA/FSC=%{y}<br>Domicile=%{customdata[0]}<extra></extra>",
         "legendgroup": "Not Offered",
         "marker": {
          "color": "#636efa",
          "symbol": "circle"
         },
         "mode": "markers",
         "name": "Not Offered",
         "showlegend": true,
         "type": "scatter",
         "x": [
          136,
          147,
          132,
          136,
          126,
          99,
          140,
          124,
          133,
          164,
          155,
          155,
          114,
          158,
          159,
          123,
          149,
          113,
          139,
          112,
          166,
          148,
          129,
          149,
          161,
          118,
          141,
          139,
          121,
          111,
          158,
          132,
          151,
          139,
          147,
          112,
          0,
          0
         ],
         "xaxis": "x",
         "y": [
          734,
          763,
          606,
          524,
          785,
          792,
          770,
          624,
          796,
          752,
          771,
          786,
          507,
          750,
          744,
          616,
          648,
          633,
          786,
          647,
          758,
          787,
          788,
          811,
          773,
          637,
          812,
          677,
          804,
          812,
          933,
          852,
          727,
          672,
          798,
          592,
          786,
          788
         ],
         "yaxis": "y"
        },
        {
         "customdata": [
          [
           "Bahawalpur"
          ],
          [
           "Bahawalpur"
          ],
          [
           "Bahawalpur"
          ],
          [
           "Bahawalpur"
          ],
          [
           "Bahawalpur"
          ],
          [
           "Bahawalpur"
          ],
          [
           "Bahawalpur"
          ],
          [
           "Bahawalpur"
          ],
          [
           "Bahawalpur"
          ],
          [
           "Bahawalpur"
          ],
          [
           "Bahawalpur"
          ],
          [
           "Bahawalpur"
          ],
          [
           "Bahawalpur"
          ],
          [
           "Bahawalpur"
          ],
          [
           "Bahawalpur"
          ],
          [
           "Bahawalpur"
          ],
          [
           "Bahawalpur"
          ],
          [
           "Bahawalpur"
          ],
          [
           "Bahawalpur"
          ],
          [
           "Bahawalpur"
          ],
          [
           "Bahawalpur"
          ],
          [
           "Bahawalpur"
          ],
          [
           "Bahawalpur"
          ],
          [
           "OPEN"
          ],
          [
           "OPEN"
          ],
          [
           "OPEN"
          ],
          [
           "OPEN"
          ],
          [
           "OPEN"
          ],
          [
           "OPEN"
          ],
          [
           "OPEN"
          ],
          [
           "OPEN"
          ],
          [
           "OPEN"
          ],
          [
           "OPEN"
          ],
          [
           "OPEN"
          ],
          [
           "OPEN"
          ]
         ],
         "hovertemplate": "Offered=Offered_IN_OPEN_QUOTA<br>English Marks=%{x}<br>FA/FSC=%{y}<br>Domicile=%{customdata[0]}<extra></extra>",
         "legendgroup": "Offered_IN_OPEN_QUOTA",
         "marker": {
          "color": "#EF553B",
          "symbol": "circle"
         },
         "mode": "markers",
         "name": "Offered_IN_OPEN_QUOTA",
         "showlegend": true,
         "type": "scatter",
         "x": [
          173,
          160,
          179,
          164,
          159,
          175,
          146,
          185,
          135,
          189,
          174,
          175,
          162,
          162,
          164,
          181,
          170,
          172,
          142,
          173,
          150,
          161,
          157,
          167,
          154,
          165,
          171,
          161,
          152,
          156,
          166,
          170,
          157,
          170,
          165
         ],
         "xaxis": "x",
         "y": [
          967,
          812,
          929,
          911,
          942,
          907,
          816,
          982,
          833,
          982,
          795,
          980,
          975,
          937,
          934,
          972,
          918,
          973,
          829,
          953,
          815,
          810,
          943,
          953,
          891,
          952,
          969,
          955,
          920,
          915,
          943,
          939,
          939,
          921,
          867
         ],
         "yaxis": "y"
        },
        {
         "customdata": [
          [
           "Bahawalpur"
          ],
          [
           "Bahawalpur"
          ],
          [
           "Bahawalpur"
          ],
          [
           "Bahawalpur"
          ],
          [
           "Bahawalpur"
          ],
          [
           "Bahawalpur"
          ],
          [
           "Bahawalpur"
          ],
          [
           "Bahawalpur"
          ],
          [
           "Bahawalpur"
          ],
          [
           "Bahawalpur"
          ],
          [
           "Bahawalpur"
          ],
          [
           "Bahawalpur"
          ],
          [
           "Bahawalpur"
          ],
          [
           "Bahawalpur"
          ],
          [
           "Bahawalpur"
          ],
          [
           "Bahawalpur"
          ],
          [
           "Bahawalpur"
          ],
          [
           "Bahawalpur"
          ],
          [
           "Bahawalpur"
          ],
          [
           "Bahawalpur"
          ],
          [
           "Bahawalpur"
          ],
          [
           "Bahawalpur"
          ],
          [
           "Bahawalpur"
          ],
          [
           "Bahawalpur"
          ],
          [
           "Bahawalpur"
          ],
          [
           "Bahawalpur"
          ]
         ],
         "hovertemplate": "Offered=Offered_IN_BWP_QUOTA<br>English Marks=%{x}<br>FA/FSC=%{y}<br>Domicile=%{customdata[0]}<extra></extra>",
         "legendgroup": "Offered_IN_BWP_QUOTA",
         "marker": {
          "color": "#00cc96",
          "symbol": "circle"
         },
         "mode": "markers",
         "name": "Offered_IN_BWP_QUOTA",
         "showlegend": true,
         "type": "scatter",
         "x": [
          177,
          170,
          173,
          160,
          153,
          109,
          150,
          158,
          171,
          150,
          157,
          153,
          156,
          147,
          159,
          176,
          173,
          166,
          166,
          142,
          165,
          160,
          158,
          166,
          155,
          142
         ],
         "xaxis": "x",
         "y": [
          857,
          842,
          882,
          789,
          879,
          841,
          903,
          892,
          879,
          903,
          841,
          824,
          791,
          812,
          869,
          850,
          841,
          885,
          879,
          830,
          796,
          895,
          853,
          881,
          910,
          839
         ],
         "yaxis": "y"
        }
       ],
       "layout": {
        "legend": {
         "title": {
          "text": "Offered"
         },
         "tracegroupgap": 0
        },
        "margin": {
         "t": 60
        },
        "template": {
         "data": {
          "bar": [
           {
            "error_x": {
             "color": "#2a3f5f"
            },
            "error_y": {
             "color": "#2a3f5f"
            },
            "marker": {
             "line": {
              "color": "#E5ECF6",
              "width": 0.5
             }
            },
            "type": "bar"
           }
          ],
          "barpolar": [
           {
            "marker": {
             "line": {
              "color": "#E5ECF6",
              "width": 0.5
             }
            },
            "type": "barpolar"
           }
          ],
          "carpet": [
           {
            "aaxis": {
             "endlinecolor": "#2a3f5f",
             "gridcolor": "white",
             "linecolor": "white",
             "minorgridcolor": "white",
             "startlinecolor": "#2a3f5f"
            },
            "baxis": {
             "endlinecolor": "#2a3f5f",
             "gridcolor": "white",
             "linecolor": "white",
             "minorgridcolor": "white",
             "startlinecolor": "#2a3f5f"
            },
            "type": "carpet"
           }
          ],
          "choropleth": [
           {
            "colorbar": {
             "outlinewidth": 0,
             "ticks": ""
            },
            "type": "choropleth"
           }
          ],
          "contour": [
           {
            "colorbar": {
             "outlinewidth": 0,
             "ticks": ""
            },
            "colorscale": [
             [
              0,
              "#0d0887"
             ],
             [
              0.1111111111111111,
              "#46039f"
             ],
             [
              0.2222222222222222,
              "#7201a8"
             ],
             [
              0.3333333333333333,
              "#9c179e"
             ],
             [
              0.4444444444444444,
              "#bd3786"
             ],
             [
              0.5555555555555556,
              "#d8576b"
             ],
             [
              0.6666666666666666,
              "#ed7953"
             ],
             [
              0.7777777777777778,
              "#fb9f3a"
             ],
             [
              0.8888888888888888,
              "#fdca26"
             ],
             [
              1,
              "#f0f921"
             ]
            ],
            "type": "contour"
           }
          ],
          "contourcarpet": [
           {
            "colorbar": {
             "outlinewidth": 0,
             "ticks": ""
            },
            "type": "contourcarpet"
           }
          ],
          "heatmap": [
           {
            "colorbar": {
             "outlinewidth": 0,
             "ticks": ""
            },
            "colorscale": [
             [
              0,
              "#0d0887"
             ],
             [
              0.1111111111111111,
              "#46039f"
             ],
             [
              0.2222222222222222,
              "#7201a8"
             ],
             [
              0.3333333333333333,
              "#9c179e"
             ],
             [
              0.4444444444444444,
              "#bd3786"
             ],
             [
              0.5555555555555556,
              "#d8576b"
             ],
             [
              0.6666666666666666,
              "#ed7953"
             ],
             [
              0.7777777777777778,
              "#fb9f3a"
             ],
             [
              0.8888888888888888,
              "#fdca26"
             ],
             [
              1,
              "#f0f921"
             ]
            ],
            "type": "heatmap"
           }
          ],
          "heatmapgl": [
           {
            "colorbar": {
             "outlinewidth": 0,
             "ticks": ""
            },
            "colorscale": [
             [
              0,
              "#0d0887"
             ],
             [
              0.1111111111111111,
              "#46039f"
             ],
             [
              0.2222222222222222,
              "#7201a8"
             ],
             [
              0.3333333333333333,
              "#9c179e"
             ],
             [
              0.4444444444444444,
              "#bd3786"
             ],
             [
              0.5555555555555556,
              "#d8576b"
             ],
             [
              0.6666666666666666,
              "#ed7953"
             ],
             [
              0.7777777777777778,
              "#fb9f3a"
             ],
             [
              0.8888888888888888,
              "#fdca26"
             ],
             [
              1,
              "#f0f921"
             ]
            ],
            "type": "heatmapgl"
           }
          ],
          "histogram": [
           {
            "marker": {
             "colorbar": {
              "outlinewidth": 0,
              "ticks": ""
             }
            },
            "type": "histogram"
           }
          ],
          "histogram2d": [
           {
            "colorbar": {
             "outlinewidth": 0,
             "ticks": ""
            },
            "colorscale": [
             [
              0,
              "#0d0887"
             ],
             [
              0.1111111111111111,
              "#46039f"
             ],
             [
              0.2222222222222222,
              "#7201a8"
             ],
             [
              0.3333333333333333,
              "#9c179e"
             ],
             [
              0.4444444444444444,
              "#bd3786"
             ],
             [
              0.5555555555555556,
              "#d8576b"
             ],
             [
              0.6666666666666666,
              "#ed7953"
             ],
             [
              0.7777777777777778,
              "#fb9f3a"
             ],
             [
              0.8888888888888888,
              "#fdca26"
             ],
             [
              1,
              "#f0f921"
             ]
            ],
            "type": "histogram2d"
           }
          ],
          "histogram2dcontour": [
           {
            "colorbar": {
             "outlinewidth": 0,
             "ticks": ""
            },
            "colorscale": [
             [
              0,
              "#0d0887"
             ],
             [
              0.1111111111111111,
              "#46039f"
             ],
             [
              0.2222222222222222,
              "#7201a8"
             ],
             [
              0.3333333333333333,
              "#9c179e"
             ],
             [
              0.4444444444444444,
              "#bd3786"
             ],
             [
              0.5555555555555556,
              "#d8576b"
             ],
             [
              0.6666666666666666,
              "#ed7953"
             ],
             [
              0.7777777777777778,
              "#fb9f3a"
             ],
             [
              0.8888888888888888,
              "#fdca26"
             ],
             [
              1,
              "#f0f921"
             ]
            ],
            "type": "histogram2dcontour"
           }
          ],
          "mesh3d": [
           {
            "colorbar": {
             "outlinewidth": 0,
             "ticks": ""
            },
            "type": "mesh3d"
           }
          ],
          "parcoords": [
           {
            "line": {
             "colorbar": {
              "outlinewidth": 0,
              "ticks": ""
             }
            },
            "type": "parcoords"
           }
          ],
          "pie": [
           {
            "automargin": true,
            "type": "pie"
           }
          ],
          "scatter": [
           {
            "marker": {
             "colorbar": {
              "outlinewidth": 0,
              "ticks": ""
             }
            },
            "type": "scatter"
           }
          ],
          "scatter3d": [
           {
            "line": {
             "colorbar": {
              "outlinewidth": 0,
              "ticks": ""
             }
            },
            "marker": {
             "colorbar": {
              "outlinewidth": 0,
              "ticks": ""
             }
            },
            "type": "scatter3d"
           }
          ],
          "scattercarpet": [
           {
            "marker": {
             "colorbar": {
              "outlinewidth": 0,
              "ticks": ""
             }
            },
            "type": "scattercarpet"
           }
          ],
          "scattergeo": [
           {
            "marker": {
             "colorbar": {
              "outlinewidth": 0,
              "ticks": ""
             }
            },
            "type": "scattergeo"
           }
          ],
          "scattergl": [
           {
            "marker": {
             "colorbar": {
              "outlinewidth": 0,
              "ticks": ""
             }
            },
            "type": "scattergl"
           }
          ],
          "scattermapbox": [
           {
            "marker": {
             "colorbar": {
              "outlinewidth": 0,
              "ticks": ""
             }
            },
            "type": "scattermapbox"
           }
          ],
          "scatterpolar": [
           {
            "marker": {
             "colorbar": {
              "outlinewidth": 0,
              "ticks": ""
             }
            },
            "type": "scatterpolar"
           }
          ],
          "scatterpolargl": [
           {
            "marker": {
             "colorbar": {
              "outlinewidth": 0,
              "ticks": ""
             }
            },
            "type": "scatterpolargl"
           }
          ],
          "scatterternary": [
           {
            "marker": {
             "colorbar": {
              "outlinewidth": 0,
              "ticks": ""
             }
            },
            "type": "scatterternary"
           }
          ],
          "surface": [
           {
            "colorbar": {
             "outlinewidth": 0,
             "ticks": ""
            },
            "colorscale": [
             [
              0,
              "#0d0887"
             ],
             [
              0.1111111111111111,
              "#46039f"
             ],
             [
              0.2222222222222222,
              "#7201a8"
             ],
             [
              0.3333333333333333,
              "#9c179e"
             ],
             [
              0.4444444444444444,
              "#bd3786"
             ],
             [
              0.5555555555555556,
              "#d8576b"
             ],
             [
              0.6666666666666666,
              "#ed7953"
             ],
             [
              0.7777777777777778,
              "#fb9f3a"
             ],
             [
              0.8888888888888888,
              "#fdca26"
             ],
             [
              1,
              "#f0f921"
             ]
            ],
            "type": "surface"
           }
          ],
          "table": [
           {
            "cells": {
             "fill": {
              "color": "#EBF0F8"
             },
             "line": {
              "color": "white"
             }
            },
            "header": {
             "fill": {
              "color": "#C8D4E3"
             },
             "line": {
              "color": "white"
             }
            },
            "type": "table"
           }
          ]
         },
         "layout": {
          "annotationdefaults": {
           "arrowcolor": "#2a3f5f",
           "arrowhead": 0,
           "arrowwidth": 1
          },
          "coloraxis": {
           "colorbar": {
            "outlinewidth": 0,
            "ticks": ""
           }
          },
          "colorscale": {
           "diverging": [
            [
             0,
             "#8e0152"
            ],
            [
             0.1,
             "#c51b7d"
            ],
            [
             0.2,
             "#de77ae"
            ],
            [
             0.3,
             "#f1b6da"
            ],
            [
             0.4,
             "#fde0ef"
            ],
            [
             0.5,
             "#f7f7f7"
            ],
            [
             0.6,
             "#e6f5d0"
            ],
            [
             0.7,
             "#b8e186"
            ],
            [
             0.8,
             "#7fbc41"
            ],
            [
             0.9,
             "#4d9221"
            ],
            [
             1,
             "#276419"
            ]
           ],
           "sequential": [
            [
             0,
             "#0d0887"
            ],
            [
             0.1111111111111111,
             "#46039f"
            ],
            [
             0.2222222222222222,
             "#7201a8"
            ],
            [
             0.3333333333333333,
             "#9c179e"
            ],
            [
             0.4444444444444444,
             "#bd3786"
            ],
            [
             0.5555555555555556,
             "#d8576b"
            ],
            [
             0.6666666666666666,
             "#ed7953"
            ],
            [
             0.7777777777777778,
             "#fb9f3a"
            ],
            [
             0.8888888888888888,
             "#fdca26"
            ],
            [
             1,
             "#f0f921"
            ]
           ],
           "sequentialminus": [
            [
             0,
             "#0d0887"
            ],
            [
             0.1111111111111111,
             "#46039f"
            ],
            [
             0.2222222222222222,
             "#7201a8"
            ],
            [
             0.3333333333333333,
             "#9c179e"
            ],
            [
             0.4444444444444444,
             "#bd3786"
            ],
            [
             0.5555555555555556,
             "#d8576b"
            ],
            [
             0.6666666666666666,
             "#ed7953"
            ],
            [
             0.7777777777777778,
             "#fb9f3a"
            ],
            [
             0.8888888888888888,
             "#fdca26"
            ],
            [
             1,
             "#f0f921"
            ]
           ]
          },
          "colorway": [
           "#636efa",
           "#EF553B",
           "#00cc96",
           "#ab63fa",
           "#FFA15A",
           "#19d3f3",
           "#FF6692",
           "#B6E880",
           "#FF97FF",
           "#FECB52"
          ],
          "font": {
           "color": "#2a3f5f"
          },
          "geo": {
           "bgcolor": "white",
           "lakecolor": "white",
           "landcolor": "#E5ECF6",
           "showlakes": true,
           "showland": true,
           "subunitcolor": "white"
          },
          "hoverlabel": {
           "align": "left"
          },
          "hovermode": "closest",
          "mapbox": {
           "style": "light"
          },
          "paper_bgcolor": "white",
          "plot_bgcolor": "#E5ECF6",
          "polar": {
           "angularaxis": {
            "gridcolor": "white",
            "linecolor": "white",
            "ticks": ""
           },
           "bgcolor": "#E5ECF6",
           "radialaxis": {
            "gridcolor": "white",
            "linecolor": "white",
            "ticks": ""
           }
          },
          "scene": {
           "xaxis": {
            "backgroundcolor": "#E5ECF6",
            "gridcolor": "white",
            "gridwidth": 2,
            "linecolor": "white",
            "showbackground": true,
            "ticks": "",
            "zerolinecolor": "white"
           },
           "yaxis": {
            "backgroundcolor": "#E5ECF6",
            "gridcolor": "white",
            "gridwidth": 2,
            "linecolor": "white",
            "showbackground": true,
            "ticks": "",
            "zerolinecolor": "white"
           },
           "zaxis": {
            "backgroundcolor": "#E5ECF6",
            "gridcolor": "white",
            "gridwidth": 2,
            "linecolor": "white",
            "showbackground": true,
            "ticks": "",
            "zerolinecolor": "white"
           }
          },
          "shapedefaults": {
           "line": {
            "color": "#2a3f5f"
           }
          },
          "ternary": {
           "aaxis": {
            "gridcolor": "white",
            "linecolor": "white",
            "ticks": ""
           },
           "baxis": {
            "gridcolor": "white",
            "linecolor": "white",
            "ticks": ""
           },
           "bgcolor": "#E5ECF6",
           "caxis": {
            "gridcolor": "white",
            "linecolor": "white",
            "ticks": ""
           }
          },
          "title": {
           "x": 0.05
          },
          "xaxis": {
           "automargin": true,
           "gridcolor": "white",
           "linecolor": "white",
           "ticks": "",
           "title": {
            "standoff": 15
           },
           "zerolinecolor": "white",
           "zerolinewidth": 2
          },
          "yaxis": {
           "automargin": true,
           "gridcolor": "white",
           "linecolor": "white",
           "ticks": "",
           "title": {
            "standoff": 15
           },
           "zerolinecolor": "white",
           "zerolinewidth": 2
          }
         }
        },
        "xaxis": {
         "anchor": "y",
         "domain": [
          0,
          1
         ],
         "title": {
          "text": "English Marks"
         }
        },
        "yaxis": {
         "anchor": "x",
         "domain": [
          0,
          1
         ],
         "title": {
          "text": "FA/FSC"
         }
        }
       }
      },
      "text/html": [
       "<div>\n",
       "        \n",
       "        \n",
       "            <div id=\"46722676-e150-4873-80f6-e34276ebd7be\" class=\"plotly-graph-div\" style=\"height:525px; width:100%;\"></div>\n",
       "            <script type=\"text/javascript\">\n",
       "                require([\"plotly\"], function(Plotly) {\n",
       "                    window.PLOTLYENV=window.PLOTLYENV || {};\n",
       "                    \n",
       "                if (document.getElementById(\"46722676-e150-4873-80f6-e34276ebd7be\")) {\n",
       "                    Plotly.newPlot(\n",
       "                        '46722676-e150-4873-80f6-e34276ebd7be',\n",
       "                        [{\"customdata\": [[\"OPEN\"], [\"Bahawalpur\"], [\"Bahawalpur\"], [\"Bahawalpur\"], [\"Bahawalpur\"], [\"Bahawalpur\"], [\"Bahawalpur\"], [\"Bahawalpur\"], [\"Bahawalpur\"], [\"Bahawalpur\"], [\"Bahawalpur\"], [\"Bahawalpur\"], [\"Bahawalpur\"], [\"Bahawalpur\"], [\"Bahawalpur\"], [\"Bahawalpur\"], [\"Bahawalpur\"], [\"Bahawalpur\"], [\"Bahawalpur\"], [\"Bahawalpur\"], [\"Bahawalpur\"], [\"Bahawalpur\"], [\"Bahawalpur\"], [\"Bahawalpur\"], [\"Bahawalpur\"], [\"Bahawalpur\"], [\"Bahawalpur\"], [\"Bahawalpur\"], [\"OPEN\"], [\"OPEN\"], [\"OPEN\"], [\"Bahawalpur\"], [\"OPEN\"], [\"Bahawalpur\"], [\"OPEN\"], [\"OPEN\"], [\"Bahawalpur\"], [\"Bahawalpur\"]], \"hovertemplate\": \"Offered=Not Offered<br>English Marks=%{x}<br>FA/FSC=%{y}<br>Domicile=%{customdata[0]}<extra></extra>\", \"legendgroup\": \"Not Offered\", \"marker\": {\"color\": \"#636efa\", \"symbol\": \"circle\"}, \"mode\": \"markers\", \"name\": \"Not Offered\", \"showlegend\": true, \"type\": \"scatter\", \"x\": [136, 147, 132, 136, 126, 99, 140, 124, 133, 164, 155, 155, 114, 158, 159, 123, 149, 113, 139, 112, 166, 148, 129, 149, 161, 118, 141, 139, 121, 111, 158, 132, 151, 139, 147, 112, 0, 0], \"xaxis\": \"x\", \"y\": [734, 763, 606, 524, 785, 792, 770, 624, 796, 752, 771, 786, 507, 750, 744, 616, 648, 633, 786, 647, 758, 787, 788, 811, 773, 637, 812, 677, 804, 812, 933, 852, 727, 672, 798, 592, 786, 788], \"yaxis\": \"y\"}, {\"customdata\": [[\"Bahawalpur\"], [\"Bahawalpur\"], [\"Bahawalpur\"], [\"Bahawalpur\"], [\"Bahawalpur\"], [\"Bahawalpur\"], [\"Bahawalpur\"], [\"Bahawalpur\"], [\"Bahawalpur\"], [\"Bahawalpur\"], [\"Bahawalpur\"], [\"Bahawalpur\"], [\"Bahawalpur\"], [\"Bahawalpur\"], [\"Bahawalpur\"], [\"Bahawalpur\"], [\"Bahawalpur\"], [\"Bahawalpur\"], [\"Bahawalpur\"], [\"Bahawalpur\"], [\"Bahawalpur\"], [\"Bahawalpur\"], [\"Bahawalpur\"], [\"OPEN\"], [\"OPEN\"], [\"OPEN\"], [\"OPEN\"], [\"OPEN\"], [\"OPEN\"], [\"OPEN\"], [\"OPEN\"], [\"OPEN\"], [\"OPEN\"], [\"OPEN\"], [\"OPEN\"]], \"hovertemplate\": \"Offered=Offered_IN_OPEN_QUOTA<br>English Marks=%{x}<br>FA/FSC=%{y}<br>Domicile=%{customdata[0]}<extra></extra>\", \"legendgroup\": \"Offered_IN_OPEN_QUOTA\", \"marker\": {\"color\": \"#EF553B\", \"symbol\": \"circle\"}, \"mode\": \"markers\", \"name\": \"Offered_IN_OPEN_QUOTA\", \"showlegend\": true, \"type\": \"scatter\", \"x\": [173, 160, 179, 164, 159, 175, 146, 185, 135, 189, 174, 175, 162, 162, 164, 181, 170, 172, 142, 173, 150, 161, 157, 167, 154, 165, 171, 161, 152, 156, 166, 170, 157, 170, 165], \"xaxis\": \"x\", \"y\": [967, 812, 929, 911, 942, 907, 816, 982, 833, 982, 795, 980, 975, 937, 934, 972, 918, 973, 829, 953, 815, 810, 943, 953, 891, 952, 969, 955, 920, 915, 943, 939, 939, 921, 867], \"yaxis\": \"y\"}, {\"customdata\": [[\"Bahawalpur\"], [\"Bahawalpur\"], [\"Bahawalpur\"], [\"Bahawalpur\"], [\"Bahawalpur\"], [\"Bahawalpur\"], [\"Bahawalpur\"], [\"Bahawalpur\"], [\"Bahawalpur\"], [\"Bahawalpur\"], [\"Bahawalpur\"], [\"Bahawalpur\"], [\"Bahawalpur\"], [\"Bahawalpur\"], [\"Bahawalpur\"], [\"Bahawalpur\"], [\"Bahawalpur\"], [\"Bahawalpur\"], [\"Bahawalpur\"], [\"Bahawalpur\"], [\"Bahawalpur\"], [\"Bahawalpur\"], [\"Bahawalpur\"], [\"Bahawalpur\"], [\"Bahawalpur\"], [\"Bahawalpur\"]], \"hovertemplate\": \"Offered=Offered_IN_BWP_QUOTA<br>English Marks=%{x}<br>FA/FSC=%{y}<br>Domicile=%{customdata[0]}<extra></extra>\", \"legendgroup\": \"Offered_IN_BWP_QUOTA\", \"marker\": {\"color\": \"#00cc96\", \"symbol\": \"circle\"}, \"mode\": \"markers\", \"name\": \"Offered_IN_BWP_QUOTA\", \"showlegend\": true, \"type\": \"scatter\", \"x\": [177, 170, 173, 160, 153, 109, 150, 158, 171, 150, 157, 153, 156, 147, 159, 176, 173, 166, 166, 142, 165, 160, 158, 166, 155, 142], \"xaxis\": \"x\", \"y\": [857, 842, 882, 789, 879, 841, 903, 892, 879, 903, 841, 824, 791, 812, 869, 850, 841, 885, 879, 830, 796, 895, 853, 881, 910, 839], \"yaxis\": \"y\"}],\n",
       "                        {\"legend\": {\"title\": {\"text\": \"Offered\"}, \"tracegroupgap\": 0}, \"margin\": {\"t\": 60}, \"template\": {\"data\": {\"bar\": [{\"error_x\": {\"color\": \"#2a3f5f\"}, \"error_y\": {\"color\": \"#2a3f5f\"}, \"marker\": {\"line\": {\"color\": \"#E5ECF6\", \"width\": 0.5}}, \"type\": \"bar\"}], \"barpolar\": [{\"marker\": {\"line\": {\"color\": \"#E5ECF6\", \"width\": 0.5}}, \"type\": \"barpolar\"}], \"carpet\": [{\"aaxis\": {\"endlinecolor\": \"#2a3f5f\", \"gridcolor\": \"white\", \"linecolor\": \"white\", \"minorgridcolor\": \"white\", \"startlinecolor\": \"#2a3f5f\"}, \"baxis\": {\"endlinecolor\": \"#2a3f5f\", \"gridcolor\": \"white\", \"linecolor\": \"white\", \"minorgridcolor\": \"white\", \"startlinecolor\": \"#2a3f5f\"}, \"type\": \"carpet\"}], \"choropleth\": [{\"colorbar\": {\"outlinewidth\": 0, \"ticks\": \"\"}, \"type\": \"choropleth\"}], \"contour\": [{\"colorbar\": {\"outlinewidth\": 0, \"ticks\": \"\"}, \"colorscale\": [[0.0, \"#0d0887\"], [0.1111111111111111, \"#46039f\"], [0.2222222222222222, \"#7201a8\"], [0.3333333333333333, \"#9c179e\"], [0.4444444444444444, \"#bd3786\"], [0.5555555555555556, \"#d8576b\"], [0.6666666666666666, \"#ed7953\"], [0.7777777777777778, \"#fb9f3a\"], [0.8888888888888888, \"#fdca26\"], [1.0, \"#f0f921\"]], \"type\": \"contour\"}], \"contourcarpet\": [{\"colorbar\": {\"outlinewidth\": 0, \"ticks\": \"\"}, \"type\": \"contourcarpet\"}], \"heatmap\": [{\"colorbar\": {\"outlinewidth\": 0, \"ticks\": \"\"}, \"colorscale\": [[0.0, \"#0d0887\"], [0.1111111111111111, \"#46039f\"], [0.2222222222222222, \"#7201a8\"], [0.3333333333333333, \"#9c179e\"], [0.4444444444444444, \"#bd3786\"], [0.5555555555555556, \"#d8576b\"], [0.6666666666666666, \"#ed7953\"], [0.7777777777777778, \"#fb9f3a\"], [0.8888888888888888, \"#fdca26\"], [1.0, \"#f0f921\"]], \"type\": \"heatmap\"}], \"heatmapgl\": [{\"colorbar\": {\"outlinewidth\": 0, \"ticks\": \"\"}, \"colorscale\": [[0.0, \"#0d0887\"], [0.1111111111111111, \"#46039f\"], [0.2222222222222222, \"#7201a8\"], [0.3333333333333333, \"#9c179e\"], [0.4444444444444444, \"#bd3786\"], [0.5555555555555556, \"#d8576b\"], [0.6666666666666666, \"#ed7953\"], [0.7777777777777778, \"#fb9f3a\"], [0.8888888888888888, \"#fdca26\"], [1.0, \"#f0f921\"]], \"type\": \"heatmapgl\"}], \"histogram\": [{\"marker\": {\"colorbar\": {\"outlinewidth\": 0, \"ticks\": \"\"}}, \"type\": \"histogram\"}], \"histogram2d\": [{\"colorbar\": {\"outlinewidth\": 0, \"ticks\": \"\"}, \"colorscale\": [[0.0, \"#0d0887\"], [0.1111111111111111, \"#46039f\"], [0.2222222222222222, \"#7201a8\"], [0.3333333333333333, \"#9c179e\"], [0.4444444444444444, \"#bd3786\"], [0.5555555555555556, \"#d8576b\"], [0.6666666666666666, \"#ed7953\"], [0.7777777777777778, \"#fb9f3a\"], [0.8888888888888888, \"#fdca26\"], [1.0, \"#f0f921\"]], \"type\": \"histogram2d\"}], \"histogram2dcontour\": [{\"colorbar\": {\"outlinewidth\": 0, \"ticks\": \"\"}, \"colorscale\": [[0.0, \"#0d0887\"], [0.1111111111111111, \"#46039f\"], [0.2222222222222222, \"#7201a8\"], [0.3333333333333333, \"#9c179e\"], [0.4444444444444444, \"#bd3786\"], [0.5555555555555556, \"#d8576b\"], [0.6666666666666666, \"#ed7953\"], [0.7777777777777778, \"#fb9f3a\"], [0.8888888888888888, \"#fdca26\"], [1.0, \"#f0f921\"]], \"type\": \"histogram2dcontour\"}], \"mesh3d\": [{\"colorbar\": {\"outlinewidth\": 0, \"ticks\": \"\"}, \"type\": \"mesh3d\"}], \"parcoords\": [{\"line\": {\"colorbar\": {\"outlinewidth\": 0, \"ticks\": \"\"}}, \"type\": \"parcoords\"}], \"pie\": [{\"automargin\": true, \"type\": \"pie\"}], \"scatter\": [{\"marker\": {\"colorbar\": {\"outlinewidth\": 0, \"ticks\": \"\"}}, \"type\": \"scatter\"}], \"scatter3d\": [{\"line\": {\"colorbar\": {\"outlinewidth\": 0, \"ticks\": \"\"}}, \"marker\": {\"colorbar\": {\"outlinewidth\": 0, \"ticks\": \"\"}}, \"type\": \"scatter3d\"}], \"scattercarpet\": [{\"marker\": {\"colorbar\": {\"outlinewidth\": 0, \"ticks\": \"\"}}, \"type\": \"scattercarpet\"}], \"scattergeo\": [{\"marker\": {\"colorbar\": {\"outlinewidth\": 0, \"ticks\": \"\"}}, \"type\": \"scattergeo\"}], \"scattergl\": [{\"marker\": {\"colorbar\": {\"outlinewidth\": 0, \"ticks\": \"\"}}, \"type\": \"scattergl\"}], \"scattermapbox\": [{\"marker\": {\"colorbar\": {\"outlinewidth\": 0, \"ticks\": \"\"}}, \"type\": \"scattermapbox\"}], \"scatterpolar\": [{\"marker\": {\"colorbar\": {\"outlinewidth\": 0, \"ticks\": \"\"}}, \"type\": \"scatterpolar\"}], \"scatterpolargl\": [{\"marker\": {\"colorbar\": {\"outlinewidth\": 0, \"ticks\": \"\"}}, \"type\": \"scatterpolargl\"}], \"scatterternary\": [{\"marker\": {\"colorbar\": {\"outlinewidth\": 0, \"ticks\": \"\"}}, \"type\": \"scatterternary\"}], \"surface\": [{\"colorbar\": {\"outlinewidth\": 0, \"ticks\": \"\"}, \"colorscale\": [[0.0, \"#0d0887\"], [0.1111111111111111, \"#46039f\"], [0.2222222222222222, \"#7201a8\"], [0.3333333333333333, \"#9c179e\"], [0.4444444444444444, \"#bd3786\"], [0.5555555555555556, \"#d8576b\"], [0.6666666666666666, \"#ed7953\"], [0.7777777777777778, \"#fb9f3a\"], [0.8888888888888888, \"#fdca26\"], [1.0, \"#f0f921\"]], \"type\": \"surface\"}], \"table\": [{\"cells\": {\"fill\": {\"color\": \"#EBF0F8\"}, \"line\": {\"color\": \"white\"}}, \"header\": {\"fill\": {\"color\": \"#C8D4E3\"}, \"line\": {\"color\": \"white\"}}, \"type\": \"table\"}]}, \"layout\": {\"annotationdefaults\": {\"arrowcolor\": \"#2a3f5f\", \"arrowhead\": 0, \"arrowwidth\": 1}, \"coloraxis\": {\"colorbar\": {\"outlinewidth\": 0, \"ticks\": \"\"}}, \"colorscale\": {\"diverging\": [[0, \"#8e0152\"], [0.1, \"#c51b7d\"], [0.2, \"#de77ae\"], [0.3, \"#f1b6da\"], [0.4, \"#fde0ef\"], [0.5, \"#f7f7f7\"], [0.6, \"#e6f5d0\"], [0.7, \"#b8e186\"], [0.8, \"#7fbc41\"], [0.9, \"#4d9221\"], [1, \"#276419\"]], \"sequential\": [[0.0, \"#0d0887\"], [0.1111111111111111, \"#46039f\"], [0.2222222222222222, \"#7201a8\"], [0.3333333333333333, \"#9c179e\"], [0.4444444444444444, \"#bd3786\"], [0.5555555555555556, \"#d8576b\"], [0.6666666666666666, \"#ed7953\"], [0.7777777777777778, \"#fb9f3a\"], [0.8888888888888888, \"#fdca26\"], [1.0, \"#f0f921\"]], \"sequentialminus\": [[0.0, \"#0d0887\"], [0.1111111111111111, \"#46039f\"], [0.2222222222222222, \"#7201a8\"], [0.3333333333333333, \"#9c179e\"], [0.4444444444444444, \"#bd3786\"], [0.5555555555555556, \"#d8576b\"], [0.6666666666666666, \"#ed7953\"], [0.7777777777777778, \"#fb9f3a\"], [0.8888888888888888, \"#fdca26\"], [1.0, \"#f0f921\"]]}, \"colorway\": [\"#636efa\", \"#EF553B\", \"#00cc96\", \"#ab63fa\", \"#FFA15A\", \"#19d3f3\", \"#FF6692\", \"#B6E880\", \"#FF97FF\", \"#FECB52\"], \"font\": {\"color\": \"#2a3f5f\"}, \"geo\": {\"bgcolor\": \"white\", \"lakecolor\": \"white\", \"landcolor\": \"#E5ECF6\", \"showlakes\": true, \"showland\": true, \"subunitcolor\": \"white\"}, \"hoverlabel\": {\"align\": \"left\"}, \"hovermode\": \"closest\", \"mapbox\": {\"style\": \"light\"}, \"paper_bgcolor\": \"white\", \"plot_bgcolor\": \"#E5ECF6\", \"polar\": {\"angularaxis\": {\"gridcolor\": \"white\", \"linecolor\": \"white\", \"ticks\": \"\"}, \"bgcolor\": \"#E5ECF6\", \"radialaxis\": {\"gridcolor\": \"white\", \"linecolor\": \"white\", \"ticks\": \"\"}}, \"scene\": {\"xaxis\": {\"backgroundcolor\": \"#E5ECF6\", \"gridcolor\": \"white\", \"gridwidth\": 2, \"linecolor\": \"white\", \"showbackground\": true, \"ticks\": \"\", \"zerolinecolor\": \"white\"}, \"yaxis\": {\"backgroundcolor\": \"#E5ECF6\", \"gridcolor\": \"white\", \"gridwidth\": 2, \"linecolor\": \"white\", \"showbackground\": true, \"ticks\": \"\", \"zerolinecolor\": \"white\"}, \"zaxis\": {\"backgroundcolor\": \"#E5ECF6\", \"gridcolor\": \"white\", \"gridwidth\": 2, \"linecolor\": \"white\", \"showbackground\": true, \"ticks\": \"\", \"zerolinecolor\": \"white\"}}, \"shapedefaults\": {\"line\": {\"color\": \"#2a3f5f\"}}, \"ternary\": {\"aaxis\": {\"gridcolor\": \"white\", \"linecolor\": \"white\", \"ticks\": \"\"}, \"baxis\": {\"gridcolor\": \"white\", \"linecolor\": \"white\", \"ticks\": \"\"}, \"bgcolor\": \"#E5ECF6\", \"caxis\": {\"gridcolor\": \"white\", \"linecolor\": \"white\", \"ticks\": \"\"}}, \"title\": {\"x\": 0.05}, \"xaxis\": {\"automargin\": true, \"gridcolor\": \"white\", \"linecolor\": \"white\", \"ticks\": \"\", \"title\": {\"standoff\": 15}, \"zerolinecolor\": \"white\", \"zerolinewidth\": 2}, \"yaxis\": {\"automargin\": true, \"gridcolor\": \"white\", \"linecolor\": \"white\", \"ticks\": \"\", \"title\": {\"standoff\": 15}, \"zerolinecolor\": \"white\", \"zerolinewidth\": 2}}}, \"xaxis\": {\"anchor\": \"y\", \"domain\": [0.0, 1.0], \"title\": {\"text\": \"English Marks\"}}, \"yaxis\": {\"anchor\": \"x\", \"domain\": [0.0, 1.0], \"title\": {\"text\": \"FA/FSC\"}}},\n",
       "                        {\"responsive\": true}\n",
       "                    ).then(function(){\n",
       "                            \n",
       "var gd = document.getElementById('46722676-e150-4873-80f6-e34276ebd7be');\n",
       "var x = new MutationObserver(function (mutations, observer) {{\n",
       "        var display = window.getComputedStyle(gd).display;\n",
       "        if (!display || display === 'none') {{\n",
       "            console.log([gd, 'removed!']);\n",
       "            Plotly.purge(gd);\n",
       "            observer.disconnect();\n",
       "        }}\n",
       "}});\n",
       "\n",
       "// Listen for the removal of the full notebook cells\n",
       "var notebookContainer = gd.closest('#notebook-container');\n",
       "if (notebookContainer) {{\n",
       "    x.observe(notebookContainer, {childList: true});\n",
       "}}\n",
       "\n",
       "// Listen for the clearing of the current output cell\n",
       "var outputEl = gd.closest('.output');\n",
       "if (outputEl) {{\n",
       "    x.observe(outputEl, {childList: true});\n",
       "}}\n",
       "\n",
       "                        })\n",
       "                };\n",
       "                });\n",
       "            </script>\n",
       "        </div>"
      ]
     },
     "metadata": {},
     "output_type": "display_data"
    }
   ],
   "source": [
    "# Visulize BS English Applicants\n",
    "import plotly.express as px\n",
    "import pandas as pd\n",
    "df = pd.read_csv('dataset/fall18/01-2019-04-01-bs-english-fall18.csv')\n",
    "#print(df.columns)\n",
    "fig = px.scatter(df, x=\"English Marks\", y=\"FA/FSC\",color=\"Offered\",hover_data=['Domicile'])\n",
    "fig.show()"
   ]
  },
  {
   "cell_type": "code",
   "execution_count": 7,
   "metadata": {},
   "outputs": [
    {
     "data": {
      "application/vnd.plotly.v1+json": {
       "config": {
        "plotlyServerURL": "https://plot.ly"
       },
       "data": [
        {
         "customdata": [
          [
           "Bahawalpur"
          ],
          [
           "Bahawalpur"
          ],
          [
           "Bahawalpur"
          ],
          [
           "Bahawalpur"
          ],
          [
           "Bahawalpur"
          ],
          [
           "Bahawalpur"
          ],
          [
           "Bahawalpur"
          ],
          [
           "Bahawalpur"
          ],
          [
           "Bahawalpur"
          ],
          [
           "Bahawalpur"
          ],
          [
           "Bahawalpur"
          ],
          [
           "Bahawalpur"
          ],
          [
           "Bahawalpur"
          ],
          [
           "Bahawalpur"
          ],
          [
           "Bahawalpur"
          ],
          [
           "Bahawalpur"
          ],
          [
           "Bahawalpur"
          ],
          [
           "Bahawalpur"
          ],
          [
           "Bahawalpur"
          ],
          [
           "Bahawalpur"
          ],
          [
           "Bahawalpur"
          ]
         ],
         "hovertemplate": "Offered=Offered_IN_BWP_QUOTA<br>NTS=%{x}<br>BA/BSC=%{y}<br>Domicile=%{customdata[0]}<extra></extra>",
         "legendgroup": "Offered_IN_BWP_QUOTA",
         "marker": {
          "color": "#636efa",
          "symbol": "circle"
         },
         "mode": "markers",
         "name": "Offered_IN_BWP_QUOTA",
         "showlegend": true,
         "type": "scatter",
         "x": [
          55,
          50,
          46,
          45,
          49,
          46,
          53,
          55,
          47,
          54,
          62,
          50,
          62,
          43,
          42,
          51,
          42,
          53,
          52,
          48,
          53
         ],
         "xaxis": "x",
         "y": [
          402,
          474,
          397,
          501,
          472,
          483,
          450,
          397,
          463,
          421,
          438,
          375,
          420,
          424,
          461,
          415,
          428,
          395,
          450,
          402,
          426
         ],
         "yaxis": "y"
        },
        {
         "customdata": [
          [
           "Bahawalpur"
          ],
          [
           "Bahawalpur"
          ],
          [
           "Bahawalpur"
          ],
          [
           "Bahawalpur"
          ],
          [
           "Bahawalpur"
          ],
          [
           "Bahawalpur"
          ],
          [
           "Bahawalpur"
          ],
          [
           "Bahawalpur"
          ],
          [
           "Bahawalpur"
          ],
          [
           "Bahawalpur"
          ],
          [
           "OPEN"
          ],
          [
           "OPEN"
          ],
          [
           "OPEN"
          ],
          [
           "OPEN"
          ],
          [
           "OPEN"
          ],
          [
           "OPEN"
          ],
          [
           "OPEN"
          ],
          [
           "OPEN"
          ],
          [
           "OPEN"
          ],
          [
           "OPEN"
          ],
          [
           "OPEN"
          ],
          [
           "OPEN"
          ],
          [
           "OPEN"
          ],
          [
           "Bahawalpur"
          ],
          [
           "OPEN"
          ]
         ],
         "hovertemplate": "Offered=Offered_IN_OPEN_QUOTA<br>NTS=%{x}<br>BA/BSC=%{y}<br>Domicile=%{customdata[0]}<extra></extra>",
         "legendgroup": "Offered_IN_OPEN_QUOTA",
         "marker": {
          "color": "#EF553B",
          "symbol": "circle"
         },
         "mode": "markers",
         "name": "Offered_IN_OPEN_QUOTA",
         "showlegend": true,
         "type": "scatter",
         "x": [
          62,
          58,
          79,
          56,
          73,
          52,
          56,
          49,
          58,
          51,
          49,
          49,
          50,
          57,
          60,
          55,
          52,
          43,
          49,
          66,
          47,
          47,
          70,
          53,
          43
         ],
         "xaxis": "x",
         "y": [
          500,
          458,
          702,
          480,
          506,
          489,
          503,
          516,
          470,
          555,
          600,
          534,
          554,
          490,
          506,
          514,
          497,
          426,
          467,
          462,
          418,
          495,
          531,
          509,
          438
         ],
         "yaxis": "y"
        },
        {
         "customdata": [
          [
           "OPEN"
          ],
          [
           "OPEN"
          ]
         ],
         "hovertemplate": "Offered=Not Offered<br>NTS=%{x}<br>BA/BSC=%{y}<br>Domicile=%{customdata[0]}<extra></extra>",
         "legendgroup": "Not Offered",
         "marker": {
          "color": "#00cc96",
          "symbol": "circle"
         },
         "mode": "markers",
         "name": "Not Offered",
         "showlegend": true,
         "type": "scatter",
         "x": [
          30,
          47
         ],
         "xaxis": "x",
         "y": [
          505,
          403
         ],
         "yaxis": "y"
        }
       ],
       "layout": {
        "legend": {
         "title": {
          "text": "Offered"
         },
         "tracegroupgap": 0
        },
        "margin": {
         "t": 60
        },
        "template": {
         "data": {
          "bar": [
           {
            "error_x": {
             "color": "#2a3f5f"
            },
            "error_y": {
             "color": "#2a3f5f"
            },
            "marker": {
             "line": {
              "color": "#E5ECF6",
              "width": 0.5
             }
            },
            "type": "bar"
           }
          ],
          "barpolar": [
           {
            "marker": {
             "line": {
              "color": "#E5ECF6",
              "width": 0.5
             }
            },
            "type": "barpolar"
           }
          ],
          "carpet": [
           {
            "aaxis": {
             "endlinecolor": "#2a3f5f",
             "gridcolor": "white",
             "linecolor": "white",
             "minorgridcolor": "white",
             "startlinecolor": "#2a3f5f"
            },
            "baxis": {
             "endlinecolor": "#2a3f5f",
             "gridcolor": "white",
             "linecolor": "white",
             "minorgridcolor": "white",
             "startlinecolor": "#2a3f5f"
            },
            "type": "carpet"
           }
          ],
          "choropleth": [
           {
            "colorbar": {
             "outlinewidth": 0,
             "ticks": ""
            },
            "type": "choropleth"
           }
          ],
          "contour": [
           {
            "colorbar": {
             "outlinewidth": 0,
             "ticks": ""
            },
            "colorscale": [
             [
              0,
              "#0d0887"
             ],
             [
              0.1111111111111111,
              "#46039f"
             ],
             [
              0.2222222222222222,
              "#7201a8"
             ],
             [
              0.3333333333333333,
              "#9c179e"
             ],
             [
              0.4444444444444444,
              "#bd3786"
             ],
             [
              0.5555555555555556,
              "#d8576b"
             ],
             [
              0.6666666666666666,
              "#ed7953"
             ],
             [
              0.7777777777777778,
              "#fb9f3a"
             ],
             [
              0.8888888888888888,
              "#fdca26"
             ],
             [
              1,
              "#f0f921"
             ]
            ],
            "type": "contour"
           }
          ],
          "contourcarpet": [
           {
            "colorbar": {
             "outlinewidth": 0,
             "ticks": ""
            },
            "type": "contourcarpet"
           }
          ],
          "heatmap": [
           {
            "colorbar": {
             "outlinewidth": 0,
             "ticks": ""
            },
            "colorscale": [
             [
              0,
              "#0d0887"
             ],
             [
              0.1111111111111111,
              "#46039f"
             ],
             [
              0.2222222222222222,
              "#7201a8"
             ],
             [
              0.3333333333333333,
              "#9c179e"
             ],
             [
              0.4444444444444444,
              "#bd3786"
             ],
             [
              0.5555555555555556,
              "#d8576b"
             ],
             [
              0.6666666666666666,
              "#ed7953"
             ],
             [
              0.7777777777777778,
              "#fb9f3a"
             ],
             [
              0.8888888888888888,
              "#fdca26"
             ],
             [
              1,
              "#f0f921"
             ]
            ],
            "type": "heatmap"
           }
          ],
          "heatmapgl": [
           {
            "colorbar": {
             "outlinewidth": 0,
             "ticks": ""
            },
            "colorscale": [
             [
              0,
              "#0d0887"
             ],
             [
              0.1111111111111111,
              "#46039f"
             ],
             [
              0.2222222222222222,
              "#7201a8"
             ],
             [
              0.3333333333333333,
              "#9c179e"
             ],
             [
              0.4444444444444444,
              "#bd3786"
             ],
             [
              0.5555555555555556,
              "#d8576b"
             ],
             [
              0.6666666666666666,
              "#ed7953"
             ],
             [
              0.7777777777777778,
              "#fb9f3a"
             ],
             [
              0.8888888888888888,
              "#fdca26"
             ],
             [
              1,
              "#f0f921"
             ]
            ],
            "type": "heatmapgl"
           }
          ],
          "histogram": [
           {
            "marker": {
             "colorbar": {
              "outlinewidth": 0,
              "ticks": ""
             }
            },
            "type": "histogram"
           }
          ],
          "histogram2d": [
           {
            "colorbar": {
             "outlinewidth": 0,
             "ticks": ""
            },
            "colorscale": [
             [
              0,
              "#0d0887"
             ],
             [
              0.1111111111111111,
              "#46039f"
             ],
             [
              0.2222222222222222,
              "#7201a8"
             ],
             [
              0.3333333333333333,
              "#9c179e"
             ],
             [
              0.4444444444444444,
              "#bd3786"
             ],
             [
              0.5555555555555556,
              "#d8576b"
             ],
             [
              0.6666666666666666,
              "#ed7953"
             ],
             [
              0.7777777777777778,
              "#fb9f3a"
             ],
             [
              0.8888888888888888,
              "#fdca26"
             ],
             [
              1,
              "#f0f921"
             ]
            ],
            "type": "histogram2d"
           }
          ],
          "histogram2dcontour": [
           {
            "colorbar": {
             "outlinewidth": 0,
             "ticks": ""
            },
            "colorscale": [
             [
              0,
              "#0d0887"
             ],
             [
              0.1111111111111111,
              "#46039f"
             ],
             [
              0.2222222222222222,
              "#7201a8"
             ],
             [
              0.3333333333333333,
              "#9c179e"
             ],
             [
              0.4444444444444444,
              "#bd3786"
             ],
             [
              0.5555555555555556,
              "#d8576b"
             ],
             [
              0.6666666666666666,
              "#ed7953"
             ],
             [
              0.7777777777777778,
              "#fb9f3a"
             ],
             [
              0.8888888888888888,
              "#fdca26"
             ],
             [
              1,
              "#f0f921"
             ]
            ],
            "type": "histogram2dcontour"
           }
          ],
          "mesh3d": [
           {
            "colorbar": {
             "outlinewidth": 0,
             "ticks": ""
            },
            "type": "mesh3d"
           }
          ],
          "parcoords": [
           {
            "line": {
             "colorbar": {
              "outlinewidth": 0,
              "ticks": ""
             }
            },
            "type": "parcoords"
           }
          ],
          "pie": [
           {
            "automargin": true,
            "type": "pie"
           }
          ],
          "scatter": [
           {
            "marker": {
             "colorbar": {
              "outlinewidth": 0,
              "ticks": ""
             }
            },
            "type": "scatter"
           }
          ],
          "scatter3d": [
           {
            "line": {
             "colorbar": {
              "outlinewidth": 0,
              "ticks": ""
             }
            },
            "marker": {
             "colorbar": {
              "outlinewidth": 0,
              "ticks": ""
             }
            },
            "type": "scatter3d"
           }
          ],
          "scattercarpet": [
           {
            "marker": {
             "colorbar": {
              "outlinewidth": 0,
              "ticks": ""
             }
            },
            "type": "scattercarpet"
           }
          ],
          "scattergeo": [
           {
            "marker": {
             "colorbar": {
              "outlinewidth": 0,
              "ticks": ""
             }
            },
            "type": "scattergeo"
           }
          ],
          "scattergl": [
           {
            "marker": {
             "colorbar": {
              "outlinewidth": 0,
              "ticks": ""
             }
            },
            "type": "scattergl"
           }
          ],
          "scattermapbox": [
           {
            "marker": {
             "colorbar": {
              "outlinewidth": 0,
              "ticks": ""
             }
            },
            "type": "scattermapbox"
           }
          ],
          "scatterpolar": [
           {
            "marker": {
             "colorbar": {
              "outlinewidth": 0,
              "ticks": ""
             }
            },
            "type": "scatterpolar"
           }
          ],
          "scatterpolargl": [
           {
            "marker": {
             "colorbar": {
              "outlinewidth": 0,
              "ticks": ""
             }
            },
            "type": "scatterpolargl"
           }
          ],
          "scatterternary": [
           {
            "marker": {
             "colorbar": {
              "outlinewidth": 0,
              "ticks": ""
             }
            },
            "type": "scatterternary"
           }
          ],
          "surface": [
           {
            "colorbar": {
             "outlinewidth": 0,
             "ticks": ""
            },
            "colorscale": [
             [
              0,
              "#0d0887"
             ],
             [
              0.1111111111111111,
              "#46039f"
             ],
             [
              0.2222222222222222,
              "#7201a8"
             ],
             [
              0.3333333333333333,
              "#9c179e"
             ],
             [
              0.4444444444444444,
              "#bd3786"
             ],
             [
              0.5555555555555556,
              "#d8576b"
             ],
             [
              0.6666666666666666,
              "#ed7953"
             ],
             [
              0.7777777777777778,
              "#fb9f3a"
             ],
             [
              0.8888888888888888,
              "#fdca26"
             ],
             [
              1,
              "#f0f921"
             ]
            ],
            "type": "surface"
           }
          ],
          "table": [
           {
            "cells": {
             "fill": {
              "color": "#EBF0F8"
             },
             "line": {
              "color": "white"
             }
            },
            "header": {
             "fill": {
              "color": "#C8D4E3"
             },
             "line": {
              "color": "white"
             }
            },
            "type": "table"
           }
          ]
         },
         "layout": {
          "annotationdefaults": {
           "arrowcolor": "#2a3f5f",
           "arrowhead": 0,
           "arrowwidth": 1
          },
          "coloraxis": {
           "colorbar": {
            "outlinewidth": 0,
            "ticks": ""
           }
          },
          "colorscale": {
           "diverging": [
            [
             0,
             "#8e0152"
            ],
            [
             0.1,
             "#c51b7d"
            ],
            [
             0.2,
             "#de77ae"
            ],
            [
             0.3,
             "#f1b6da"
            ],
            [
             0.4,
             "#fde0ef"
            ],
            [
             0.5,
             "#f7f7f7"
            ],
            [
             0.6,
             "#e6f5d0"
            ],
            [
             0.7,
             "#b8e186"
            ],
            [
             0.8,
             "#7fbc41"
            ],
            [
             0.9,
             "#4d9221"
            ],
            [
             1,
             "#276419"
            ]
           ],
           "sequential": [
            [
             0,
             "#0d0887"
            ],
            [
             0.1111111111111111,
             "#46039f"
            ],
            [
             0.2222222222222222,
             "#7201a8"
            ],
            [
             0.3333333333333333,
             "#9c179e"
            ],
            [
             0.4444444444444444,
             "#bd3786"
            ],
            [
             0.5555555555555556,
             "#d8576b"
            ],
            [
             0.6666666666666666,
             "#ed7953"
            ],
            [
             0.7777777777777778,
             "#fb9f3a"
            ],
            [
             0.8888888888888888,
             "#fdca26"
            ],
            [
             1,
             "#f0f921"
            ]
           ],
           "sequentialminus": [
            [
             0,
             "#0d0887"
            ],
            [
             0.1111111111111111,
             "#46039f"
            ],
            [
             0.2222222222222222,
             "#7201a8"
            ],
            [
             0.3333333333333333,
             "#9c179e"
            ],
            [
             0.4444444444444444,
             "#bd3786"
            ],
            [
             0.5555555555555556,
             "#d8576b"
            ],
            [
             0.6666666666666666,
             "#ed7953"
            ],
            [
             0.7777777777777778,
             "#fb9f3a"
            ],
            [
             0.8888888888888888,
             "#fdca26"
            ],
            [
             1,
             "#f0f921"
            ]
           ]
          },
          "colorway": [
           "#636efa",
           "#EF553B",
           "#00cc96",
           "#ab63fa",
           "#FFA15A",
           "#19d3f3",
           "#FF6692",
           "#B6E880",
           "#FF97FF",
           "#FECB52"
          ],
          "font": {
           "color": "#2a3f5f"
          },
          "geo": {
           "bgcolor": "white",
           "lakecolor": "white",
           "landcolor": "#E5ECF6",
           "showlakes": true,
           "showland": true,
           "subunitcolor": "white"
          },
          "hoverlabel": {
           "align": "left"
          },
          "hovermode": "closest",
          "mapbox": {
           "style": "light"
          },
          "paper_bgcolor": "white",
          "plot_bgcolor": "#E5ECF6",
          "polar": {
           "angularaxis": {
            "gridcolor": "white",
            "linecolor": "white",
            "ticks": ""
           },
           "bgcolor": "#E5ECF6",
           "radialaxis": {
            "gridcolor": "white",
            "linecolor": "white",
            "ticks": ""
           }
          },
          "scene": {
           "xaxis": {
            "backgroundcolor": "#E5ECF6",
            "gridcolor": "white",
            "gridwidth": 2,
            "linecolor": "white",
            "showbackground": true,
            "ticks": "",
            "zerolinecolor": "white"
           },
           "yaxis": {
            "backgroundcolor": "#E5ECF6",
            "gridcolor": "white",
            "gridwidth": 2,
            "linecolor": "white",
            "showbackground": true,
            "ticks": "",
            "zerolinecolor": "white"
           },
           "zaxis": {
            "backgroundcolor": "#E5ECF6",
            "gridcolor": "white",
            "gridwidth": 2,
            "linecolor": "white",
            "showbackground": true,
            "ticks": "",
            "zerolinecolor": "white"
           }
          },
          "shapedefaults": {
           "line": {
            "color": "#2a3f5f"
           }
          },
          "ternary": {
           "aaxis": {
            "gridcolor": "white",
            "linecolor": "white",
            "ticks": ""
           },
           "baxis": {
            "gridcolor": "white",
            "linecolor": "white",
            "ticks": ""
           },
           "bgcolor": "#E5ECF6",
           "caxis": {
            "gridcolor": "white",
            "linecolor": "white",
            "ticks": ""
           }
          },
          "title": {
           "x": 0.05
          },
          "xaxis": {
           "automargin": true,
           "gridcolor": "white",
           "linecolor": "white",
           "ticks": "",
           "title": {
            "standoff": 15
           },
           "zerolinecolor": "white",
           "zerolinewidth": 2
          },
          "yaxis": {
           "automargin": true,
           "gridcolor": "white",
           "linecolor": "white",
           "ticks": "",
           "title": {
            "standoff": 15
           },
           "zerolinecolor": "white",
           "zerolinewidth": 2
          }
         }
        },
        "xaxis": {
         "anchor": "y",
         "domain": [
          0,
          1
         ],
         "title": {
          "text": "NTS"
         }
        },
        "yaxis": {
         "anchor": "x",
         "domain": [
          0,
          1
         ],
         "title": {
          "text": "BA/BSC"
         }
        }
       }
      },
      "text/html": [
       "<div>\n",
       "        \n",
       "        \n",
       "            <div id=\"f1b93f38-199f-4280-b13e-7b7bd732320f\" class=\"plotly-graph-div\" style=\"height:525px; width:100%;\"></div>\n",
       "            <script type=\"text/javascript\">\n",
       "                require([\"plotly\"], function(Plotly) {\n",
       "                    window.PLOTLYENV=window.PLOTLYENV || {};\n",
       "                    \n",
       "                if (document.getElementById(\"f1b93f38-199f-4280-b13e-7b7bd732320f\")) {\n",
       "                    Plotly.newPlot(\n",
       "                        'f1b93f38-199f-4280-b13e-7b7bd732320f',\n",
       "                        [{\"customdata\": [[\"Bahawalpur\"], [\"Bahawalpur\"], [\"Bahawalpur\"], [\"Bahawalpur\"], [\"Bahawalpur\"], [\"Bahawalpur\"], [\"Bahawalpur\"], [\"Bahawalpur\"], [\"Bahawalpur\"], [\"Bahawalpur\"], [\"Bahawalpur\"], [\"Bahawalpur\"], [\"Bahawalpur\"], [\"Bahawalpur\"], [\"Bahawalpur\"], [\"Bahawalpur\"], [\"Bahawalpur\"], [\"Bahawalpur\"], [\"Bahawalpur\"], [\"Bahawalpur\"], [\"Bahawalpur\"]], \"hovertemplate\": \"Offered=Offered_IN_BWP_QUOTA<br>NTS=%{x}<br>BA/BSC=%{y}<br>Domicile=%{customdata[0]}<extra></extra>\", \"legendgroup\": \"Offered_IN_BWP_QUOTA\", \"marker\": {\"color\": \"#636efa\", \"symbol\": \"circle\"}, \"mode\": \"markers\", \"name\": \"Offered_IN_BWP_QUOTA\", \"showlegend\": true, \"type\": \"scatter\", \"x\": [55, 50, 46, 45, 49, 46, 53, 55, 47, 54, 62, 50, 62, 43, 42, 51, 42, 53, 52, 48, 53], \"xaxis\": \"x\", \"y\": [402, 474, 397, 501, 472, 483, 450, 397, 463, 421, 438, 375, 420, 424, 461, 415, 428, 395, 450, 402, 426], \"yaxis\": \"y\"}, {\"customdata\": [[\"Bahawalpur\"], [\"Bahawalpur\"], [\"Bahawalpur\"], [\"Bahawalpur\"], [\"Bahawalpur\"], [\"Bahawalpur\"], [\"Bahawalpur\"], [\"Bahawalpur\"], [\"Bahawalpur\"], [\"Bahawalpur\"], [\"OPEN\"], [\"OPEN\"], [\"OPEN\"], [\"OPEN\"], [\"OPEN\"], [\"OPEN\"], [\"OPEN\"], [\"OPEN\"], [\"OPEN\"], [\"OPEN\"], [\"OPEN\"], [\"OPEN\"], [\"OPEN\"], [\"Bahawalpur\"], [\"OPEN\"]], \"hovertemplate\": \"Offered=Offered_IN_OPEN_QUOTA<br>NTS=%{x}<br>BA/BSC=%{y}<br>Domicile=%{customdata[0]}<extra></extra>\", \"legendgroup\": \"Offered_IN_OPEN_QUOTA\", \"marker\": {\"color\": \"#EF553B\", \"symbol\": \"circle\"}, \"mode\": \"markers\", \"name\": \"Offered_IN_OPEN_QUOTA\", \"showlegend\": true, \"type\": \"scatter\", \"x\": [62, 58, 79, 56, 73, 52, 56, 49, 58, 51, 49, 49, 50, 57, 60, 55, 52, 43, 49, 66, 47, 47, 70, 53, 43], \"xaxis\": \"x\", \"y\": [500, 458, 702, 480, 506, 489, 503, 516, 470, 555, 600, 534, 554, 490, 506, 514, 497, 426, 467, 462, 418, 495, 531, 509, 438], \"yaxis\": \"y\"}, {\"customdata\": [[\"OPEN\"], [\"OPEN\"]], \"hovertemplate\": \"Offered=Not Offered<br>NTS=%{x}<br>BA/BSC=%{y}<br>Domicile=%{customdata[0]}<extra></extra>\", \"legendgroup\": \"Not Offered\", \"marker\": {\"color\": \"#00cc96\", \"symbol\": \"circle\"}, \"mode\": \"markers\", \"name\": \"Not Offered\", \"showlegend\": true, \"type\": \"scatter\", \"x\": [30, 47], \"xaxis\": \"x\", \"y\": [505, 403], \"yaxis\": \"y\"}],\n",
       "                        {\"legend\": {\"title\": {\"text\": \"Offered\"}, \"tracegroupgap\": 0}, \"margin\": {\"t\": 60}, \"template\": {\"data\": {\"bar\": [{\"error_x\": {\"color\": \"#2a3f5f\"}, \"error_y\": {\"color\": \"#2a3f5f\"}, \"marker\": {\"line\": {\"color\": \"#E5ECF6\", \"width\": 0.5}}, \"type\": \"bar\"}], \"barpolar\": [{\"marker\": {\"line\": {\"color\": \"#E5ECF6\", \"width\": 0.5}}, \"type\": \"barpolar\"}], \"carpet\": [{\"aaxis\": {\"endlinecolor\": \"#2a3f5f\", \"gridcolor\": \"white\", \"linecolor\": \"white\", \"minorgridcolor\": \"white\", \"startlinecolor\": \"#2a3f5f\"}, \"baxis\": {\"endlinecolor\": \"#2a3f5f\", \"gridcolor\": \"white\", \"linecolor\": \"white\", \"minorgridcolor\": \"white\", \"startlinecolor\": \"#2a3f5f\"}, \"type\": \"carpet\"}], \"choropleth\": [{\"colorbar\": {\"outlinewidth\": 0, \"ticks\": \"\"}, \"type\": \"choropleth\"}], \"contour\": [{\"colorbar\": {\"outlinewidth\": 0, \"ticks\": \"\"}, \"colorscale\": [[0.0, \"#0d0887\"], [0.1111111111111111, \"#46039f\"], [0.2222222222222222, \"#7201a8\"], [0.3333333333333333, \"#9c179e\"], [0.4444444444444444, \"#bd3786\"], [0.5555555555555556, \"#d8576b\"], [0.6666666666666666, \"#ed7953\"], [0.7777777777777778, \"#fb9f3a\"], [0.8888888888888888, \"#fdca26\"], [1.0, \"#f0f921\"]], \"type\": \"contour\"}], \"contourcarpet\": [{\"colorbar\": {\"outlinewidth\": 0, \"ticks\": \"\"}, \"type\": \"contourcarpet\"}], \"heatmap\": [{\"colorbar\": {\"outlinewidth\": 0, \"ticks\": \"\"}, \"colorscale\": [[0.0, \"#0d0887\"], [0.1111111111111111, \"#46039f\"], [0.2222222222222222, \"#7201a8\"], [0.3333333333333333, \"#9c179e\"], [0.4444444444444444, \"#bd3786\"], [0.5555555555555556, \"#d8576b\"], [0.6666666666666666, \"#ed7953\"], [0.7777777777777778, \"#fb9f3a\"], [0.8888888888888888, \"#fdca26\"], [1.0, \"#f0f921\"]], \"type\": \"heatmap\"}], \"heatmapgl\": [{\"colorbar\": {\"outlinewidth\": 0, \"ticks\": \"\"}, \"colorscale\": [[0.0, \"#0d0887\"], [0.1111111111111111, \"#46039f\"], [0.2222222222222222, \"#7201a8\"], [0.3333333333333333, \"#9c179e\"], [0.4444444444444444, \"#bd3786\"], [0.5555555555555556, \"#d8576b\"], [0.6666666666666666, \"#ed7953\"], [0.7777777777777778, \"#fb9f3a\"], [0.8888888888888888, \"#fdca26\"], [1.0, \"#f0f921\"]], \"type\": \"heatmapgl\"}], \"histogram\": [{\"marker\": {\"colorbar\": {\"outlinewidth\": 0, \"ticks\": \"\"}}, \"type\": \"histogram\"}], \"histogram2d\": [{\"colorbar\": {\"outlinewidth\": 0, \"ticks\": \"\"}, \"colorscale\": [[0.0, \"#0d0887\"], [0.1111111111111111, \"#46039f\"], [0.2222222222222222, \"#7201a8\"], [0.3333333333333333, \"#9c179e\"], [0.4444444444444444, \"#bd3786\"], [0.5555555555555556, \"#d8576b\"], [0.6666666666666666, \"#ed7953\"], [0.7777777777777778, \"#fb9f3a\"], [0.8888888888888888, \"#fdca26\"], [1.0, \"#f0f921\"]], \"type\": \"histogram2d\"}], \"histogram2dcontour\": [{\"colorbar\": {\"outlinewidth\": 0, \"ticks\": \"\"}, \"colorscale\": [[0.0, \"#0d0887\"], [0.1111111111111111, \"#46039f\"], [0.2222222222222222, \"#7201a8\"], [0.3333333333333333, \"#9c179e\"], [0.4444444444444444, \"#bd3786\"], [0.5555555555555556, \"#d8576b\"], [0.6666666666666666, \"#ed7953\"], [0.7777777777777778, \"#fb9f3a\"], [0.8888888888888888, \"#fdca26\"], [1.0, \"#f0f921\"]], \"type\": \"histogram2dcontour\"}], \"mesh3d\": [{\"colorbar\": {\"outlinewidth\": 0, \"ticks\": \"\"}, \"type\": \"mesh3d\"}], \"parcoords\": [{\"line\": {\"colorbar\": {\"outlinewidth\": 0, \"ticks\": \"\"}}, \"type\": \"parcoords\"}], \"pie\": [{\"automargin\": true, \"type\": \"pie\"}], \"scatter\": [{\"marker\": {\"colorbar\": {\"outlinewidth\": 0, \"ticks\": \"\"}}, \"type\": \"scatter\"}], \"scatter3d\": [{\"line\": {\"colorbar\": {\"outlinewidth\": 0, \"ticks\": \"\"}}, \"marker\": {\"colorbar\": {\"outlinewidth\": 0, \"ticks\": \"\"}}, \"type\": \"scatter3d\"}], \"scattercarpet\": [{\"marker\": {\"colorbar\": {\"outlinewidth\": 0, \"ticks\": \"\"}}, \"type\": \"scattercarpet\"}], \"scattergeo\": [{\"marker\": {\"colorbar\": {\"outlinewidth\": 0, \"ticks\": \"\"}}, \"type\": \"scattergeo\"}], \"scattergl\": [{\"marker\": {\"colorbar\": {\"outlinewidth\": 0, \"ticks\": \"\"}}, \"type\": \"scattergl\"}], \"scattermapbox\": [{\"marker\": {\"colorbar\": {\"outlinewidth\": 0, \"ticks\": \"\"}}, \"type\": \"scattermapbox\"}], \"scatterpolar\": [{\"marker\": {\"colorbar\": {\"outlinewidth\": 0, \"ticks\": \"\"}}, \"type\": \"scatterpolar\"}], \"scatterpolargl\": [{\"marker\": {\"colorbar\": {\"outlinewidth\": 0, \"ticks\": \"\"}}, \"type\": \"scatterpolargl\"}], \"scatterternary\": [{\"marker\": {\"colorbar\": {\"outlinewidth\": 0, \"ticks\": \"\"}}, \"type\": \"scatterternary\"}], \"surface\": [{\"colorbar\": {\"outlinewidth\": 0, \"ticks\": \"\"}, \"colorscale\": [[0.0, \"#0d0887\"], [0.1111111111111111, \"#46039f\"], [0.2222222222222222, \"#7201a8\"], [0.3333333333333333, \"#9c179e\"], [0.4444444444444444, \"#bd3786\"], [0.5555555555555556, \"#d8576b\"], [0.6666666666666666, \"#ed7953\"], [0.7777777777777778, \"#fb9f3a\"], [0.8888888888888888, \"#fdca26\"], [1.0, \"#f0f921\"]], \"type\": \"surface\"}], \"table\": [{\"cells\": {\"fill\": {\"color\": \"#EBF0F8\"}, \"line\": {\"color\": \"white\"}}, \"header\": {\"fill\": {\"color\": \"#C8D4E3\"}, \"line\": {\"color\": \"white\"}}, \"type\": \"table\"}]}, \"layout\": {\"annotationdefaults\": {\"arrowcolor\": \"#2a3f5f\", \"arrowhead\": 0, \"arrowwidth\": 1}, \"coloraxis\": {\"colorbar\": {\"outlinewidth\": 0, \"ticks\": \"\"}}, \"colorscale\": {\"diverging\": [[0, \"#8e0152\"], [0.1, \"#c51b7d\"], [0.2, \"#de77ae\"], [0.3, \"#f1b6da\"], [0.4, \"#fde0ef\"], [0.5, \"#f7f7f7\"], [0.6, \"#e6f5d0\"], [0.7, \"#b8e186\"], [0.8, \"#7fbc41\"], [0.9, \"#4d9221\"], [1, \"#276419\"]], \"sequential\": [[0.0, \"#0d0887\"], [0.1111111111111111, \"#46039f\"], [0.2222222222222222, \"#7201a8\"], [0.3333333333333333, \"#9c179e\"], [0.4444444444444444, \"#bd3786\"], [0.5555555555555556, \"#d8576b\"], [0.6666666666666666, \"#ed7953\"], [0.7777777777777778, \"#fb9f3a\"], [0.8888888888888888, \"#fdca26\"], [1.0, \"#f0f921\"]], \"sequentialminus\": [[0.0, \"#0d0887\"], [0.1111111111111111, \"#46039f\"], [0.2222222222222222, \"#7201a8\"], [0.3333333333333333, \"#9c179e\"], [0.4444444444444444, \"#bd3786\"], [0.5555555555555556, \"#d8576b\"], [0.6666666666666666, \"#ed7953\"], [0.7777777777777778, \"#fb9f3a\"], [0.8888888888888888, \"#fdca26\"], [1.0, \"#f0f921\"]]}, \"colorway\": [\"#636efa\", \"#EF553B\", \"#00cc96\", \"#ab63fa\", \"#FFA15A\", \"#19d3f3\", \"#FF6692\", \"#B6E880\", \"#FF97FF\", \"#FECB52\"], \"font\": {\"color\": \"#2a3f5f\"}, \"geo\": {\"bgcolor\": \"white\", \"lakecolor\": \"white\", \"landcolor\": \"#E5ECF6\", \"showlakes\": true, \"showland\": true, \"subunitcolor\": \"white\"}, \"hoverlabel\": {\"align\": \"left\"}, \"hovermode\": \"closest\", \"mapbox\": {\"style\": \"light\"}, \"paper_bgcolor\": \"white\", \"plot_bgcolor\": \"#E5ECF6\", \"polar\": {\"angularaxis\": {\"gridcolor\": \"white\", \"linecolor\": \"white\", \"ticks\": \"\"}, \"bgcolor\": \"#E5ECF6\", \"radialaxis\": {\"gridcolor\": \"white\", \"linecolor\": \"white\", \"ticks\": \"\"}}, \"scene\": {\"xaxis\": {\"backgroundcolor\": \"#E5ECF6\", \"gridcolor\": \"white\", \"gridwidth\": 2, \"linecolor\": \"white\", \"showbackground\": true, \"ticks\": \"\", \"zerolinecolor\": \"white\"}, \"yaxis\": {\"backgroundcolor\": \"#E5ECF6\", \"gridcolor\": \"white\", \"gridwidth\": 2, \"linecolor\": \"white\", \"showbackground\": true, \"ticks\": \"\", \"zerolinecolor\": \"white\"}, \"zaxis\": {\"backgroundcolor\": \"#E5ECF6\", \"gridcolor\": \"white\", \"gridwidth\": 2, \"linecolor\": \"white\", \"showbackground\": true, \"ticks\": \"\", \"zerolinecolor\": \"white\"}}, \"shapedefaults\": {\"line\": {\"color\": \"#2a3f5f\"}}, \"ternary\": {\"aaxis\": {\"gridcolor\": \"white\", \"linecolor\": \"white\", \"ticks\": \"\"}, \"baxis\": {\"gridcolor\": \"white\", \"linecolor\": \"white\", \"ticks\": \"\"}, \"bgcolor\": \"#E5ECF6\", \"caxis\": {\"gridcolor\": \"white\", \"linecolor\": \"white\", \"ticks\": \"\"}}, \"title\": {\"x\": 0.05}, \"xaxis\": {\"automargin\": true, \"gridcolor\": \"white\", \"linecolor\": \"white\", \"ticks\": \"\", \"title\": {\"standoff\": 15}, \"zerolinecolor\": \"white\", \"zerolinewidth\": 2}, \"yaxis\": {\"automargin\": true, \"gridcolor\": \"white\", \"linecolor\": \"white\", \"ticks\": \"\", \"title\": {\"standoff\": 15}, \"zerolinecolor\": \"white\", \"zerolinewidth\": 2}}}, \"xaxis\": {\"anchor\": \"y\", \"domain\": [0.0, 1.0], \"title\": {\"text\": \"NTS\"}}, \"yaxis\": {\"anchor\": \"x\", \"domain\": [0.0, 1.0], \"title\": {\"text\": \"BA/BSC\"}}},\n",
       "                        {\"responsive\": true}\n",
       "                    ).then(function(){\n",
       "                            \n",
       "var gd = document.getElementById('f1b93f38-199f-4280-b13e-7b7bd732320f');\n",
       "var x = new MutationObserver(function (mutations, observer) {{\n",
       "        var display = window.getComputedStyle(gd).display;\n",
       "        if (!display || display === 'none') {{\n",
       "            console.log([gd, 'removed!']);\n",
       "            Plotly.purge(gd);\n",
       "            observer.disconnect();\n",
       "        }}\n",
       "}});\n",
       "\n",
       "// Listen for the removal of the full notebook cells\n",
       "var notebookContainer = gd.closest('#notebook-container');\n",
       "if (notebookContainer) {{\n",
       "    x.observe(notebookContainer, {childList: true});\n",
       "}}\n",
       "\n",
       "// Listen for the clearing of the current output cell\n",
       "var outputEl = gd.closest('.output');\n",
       "if (outputEl) {{\n",
       "    x.observe(outputEl, {childList: true});\n",
       "}}\n",
       "\n",
       "                        })\n",
       "                };\n",
       "                });\n",
       "            </script>\n",
       "        </div>"
      ]
     },
     "metadata": {},
     "output_type": "display_data"
    }
   ],
   "source": [
    "# Visulize MBA Applicants\n",
    "import plotly.express as px\n",
    "import pandas as pd\n",
    "df = pd.read_csv('dataset/fall18/2018-12-11-mba-fall18.csv')\n",
    "#print(df.columns)\n",
    "fig = px.scatter(df, x=\"NTS\", y=\"BA/BSC\",color=\"Offered\",hover_data=['Domicile'])\n",
    "fig.show()"
   ]
  },
  {
   "cell_type": "code",
   "execution_count": 2,
   "metadata": {},
   "outputs": [
    {
     "name": "stdout",
     "output_type": "stream",
     "text": [
      "Index(['Domicile', 'Hafiz-e-Quran', 'NTS', 'ECAT-MCAT', 'FA-FSC', 'BA-BSC',\n",
      "       'Offered', 'Offered-Text'],\n",
      "      dtype='object')\n"
     ]
    },
    {
     "data": {
      "application/vnd.plotly.v1+json": {
       "config": {
        "plotlyServerURL": "https://plot.ly"
       },
       "data": [
        {
         "customdata": [
          [
           "Bahawalpur"
          ],
          [
           "Bahawalpur"
          ],
          [
           "Bahawalpur"
          ],
          [
           "Bahawalpur"
          ],
          [
           "Bahawalpur"
          ],
          [
           "Bahawalpur"
          ],
          [
           "Bahawalpur"
          ],
          [
           "Bahawalpur"
          ],
          [
           "Bahawalpur"
          ],
          [
           "Bahawalpur"
          ],
          [
           "Bahawalpur"
          ],
          [
           "Bahawalpur"
          ],
          [
           "Bahawalpur"
          ],
          [
           "Bahawalpur"
          ],
          [
           "Bahawalpur"
          ],
          [
           "Bahawalpur"
          ],
          [
           "OPEN"
          ],
          [
           "Bahawalpur"
          ],
          [
           "Bahawalpur"
          ],
          [
           "Bahawalpur"
          ],
          [
           "Bahawalpur"
          ],
          [
           "Bahawalpur"
          ],
          [
           "Bahawalpur"
          ],
          [
           "Bahawalpur"
          ],
          [
           "Bahawalpur"
          ],
          [
           "Bahawalpur"
          ],
          [
           "Bahawalpur"
          ],
          [
           "Bahawalpur"
          ],
          [
           "Bahawalpur"
          ],
          [
           "Bahawalpur"
          ],
          [
           "Bahawalpur"
          ],
          [
           "Bahawalpur"
          ],
          [
           "Bahawalpur"
          ],
          [
           "Bahawalpur"
          ],
          [
           "Bahawalpur"
          ],
          [
           "Bahawalpur"
          ],
          [
           "Bahawalpur"
          ],
          [
           "Bahawalpur"
          ],
          [
           "Bahawalpur"
          ],
          [
           "Bahawalpur"
          ],
          [
           "Bahawalpur"
          ],
          [
           "Bahawalpur"
          ],
          [
           "Bahawalpur"
          ],
          [
           "Bahawalpur"
          ],
          [
           "Bahawalpur"
          ],
          [
           "Bahawalpur"
          ],
          [
           "Bahawalpur"
          ],
          [
           "Bahawalpur"
          ],
          [
           "Bahawalpur"
          ],
          [
           "Bahawalpur"
          ],
          [
           "Bahawalpur"
          ],
          [
           "Bahawalpur"
          ],
          [
           "Bahawalpur"
          ],
          [
           "Bahawalpur"
          ],
          [
           "Bahawalpur"
          ],
          [
           "Bahawalpur"
          ],
          [
           "OPEN"
          ],
          [
           "Bahawalpur"
          ],
          [
           "OPEN"
          ],
          [
           "OPEN"
          ],
          [
           "OPEN"
          ],
          [
           "OPEN"
          ],
          [
           "OPEN"
          ],
          [
           "OPEN"
          ],
          [
           "OPEN"
          ]
         ],
         "hovertemplate": "Offered-Text=Not Offered<br>NTS=%{x}<br>BA-BSC=%{y}<br>Domicile=%{customdata[0]}<extra></extra>",
         "legendgroup": "Not Offered",
         "marker": {
          "color": "#636efa",
          "symbol": "circle"
         },
         "mode": "markers",
         "name": "Not Offered",
         "showlegend": true,
         "type": "scatter",
         "x": [
          47,
          49,
          58,
          50,
          62,
          58,
          47,
          46,
          56,
          40,
          44,
          45,
          49,
          59,
          49,
          46,
          52,
          50,
          50,
          59,
          63,
          49,
          49,
          50,
          47,
          58,
          59,
          45,
          45,
          49,
          58,
          50,
          62,
          62,
          47,
          61,
          56,
          51,
          61,
          56,
          53,
          64,
          52,
          58,
          43,
          62,
          50,
          54,
          49,
          49,
          63,
          52,
          48,
          50,
          50,
          49,
          27,
          47,
          53,
          66,
          58,
          57,
          60,
          41,
          57
         ],
         "xaxis": "x",
         "y": [
          567,
          465,
          442,
          437,
          461,
          471,
          573,
          397,
          466,
          509,
          464,
          470,
          530,
          461,
          453,
          465,
          457,
          458,
          453,
          447,
          440,
          467,
          592,
          461,
          492,
          456,
          444,
          463,
          486,
          490,
          487,
          582,
          420,
          548,
          462,
          450,
          492,
          454,
          520,
          503,
          480,
          438,
          464,
          470,
          458,
          438,
          482,
          480,
          464,
          482,
          432,
          480,
          430,
          465,
          444,
          480,
          568,
          469,
          507,
          468,
          494,
          509,
          504,
          459,
          502
         ],
         "yaxis": "y"
        },
        {
         "customdata": [
          [
           "Bahawalpur"
          ],
          [
           "Bahawalpur"
          ],
          [
           "Bahawalpur"
          ],
          [
           "Bahawalpur"
          ],
          [
           "Bahawalpur"
          ],
          [
           "Bahawalpur"
          ],
          [
           "Bahawalpur"
          ],
          [
           "Bahawalpur"
          ],
          [
           "Bahawalpur"
          ],
          [
           "Bahawalpur"
          ],
          [
           "Bahawalpur"
          ],
          [
           "Bahawalpur"
          ],
          [
           "Bahawalpur"
          ],
          [
           "Bahawalpur"
          ],
          [
           "Bahawalpur"
          ],
          [
           "Bahawalpur"
          ],
          [
           "Bahawalpur"
          ],
          [
           "Bahawalpur"
          ],
          [
           "Bahawalpur"
          ],
          [
           "Bahawalpur"
          ],
          [
           "Bahawalpur"
          ],
          [
           "Bahawalpur"
          ],
          [
           "Bahawalpur"
          ],
          [
           "Bahawalpur"
          ],
          [
           "OPEN"
          ],
          [
           "OPEN"
          ]
         ],
         "hovertemplate": "Offered-Text=Offered_IN_OPEN_QUOTA<br>NTS=%{x}<br>BA-BSC=%{y}<br>Domicile=%{customdata[0]}<extra></extra>",
         "legendgroup": "Offered_IN_OPEN_QUOTA",
         "marker": {
          "color": "#EF553B",
          "symbol": "circle"
         },
         "mode": "markers",
         "name": "Offered_IN_OPEN_QUOTA",
         "showlegend": true,
         "type": "scatter",
         "x": [
          66,
          49,
          47,
          52,
          53,
          55,
          52,
          60,
          57,
          59,
          52,
          53,
          55,
          56,
          51,
          49,
          54,
          61,
          55,
          51,
          60,
          62,
          68,
          55,
          61,
          53
         ],
         "xaxis": "x",
         "y": [
          505,
          556,
          544,
          519,
          536,
          561,
          613,
          533,
          538,
          530,
          555,
          503,
          531,
          530,
          548,
          547,
          557,
          520,
          533,
          598,
          549,
          524,
          502,
          528,
          542,
          519
         ],
         "yaxis": "y"
        },
        {
         "customdata": [
          [
           "Bahawalpur"
          ],
          [
           "Bahawalpur"
          ],
          [
           "Bahawalpur"
          ],
          [
           "Bahawalpur"
          ],
          [
           "Bahawalpur"
          ],
          [
           "Bahawalpur"
          ],
          [
           "Bahawalpur"
          ],
          [
           "Bahawalpur"
          ],
          [
           "Bahawalpur"
          ],
          [
           "Bahawalpur"
          ],
          [
           "Bahawalpur"
          ],
          [
           "Bahawalpur"
          ],
          [
           "Bahawalpur"
          ],
          [
           "Bahawalpur"
          ],
          [
           "Bahawalpur"
          ],
          [
           "Bahawalpur"
          ],
          [
           "Bahawalpur"
          ],
          [
           "Bahawalpur"
          ],
          [
           "Bahawalpur"
          ],
          [
           "Bahawalpur"
          ],
          [
           "Bahawalpur"
          ],
          [
           "Bahawalpur"
          ],
          [
           "Bahawalpur"
          ],
          [
           "Bahawalpur"
          ],
          [
           "Bahawalpur"
          ]
         ],
         "hovertemplate": "Offered-Text=Offered_IN_BWP_QUOTA<br>NTS=%{x}<br>BA-BSC=%{y}<br>Domicile=%{customdata[0]}<extra></extra>",
         "legendgroup": "Offered_IN_BWP_QUOTA",
         "marker": {
          "color": "#00cc96",
          "symbol": "circle"
         },
         "mode": "markers",
         "name": "Offered_IN_BWP_QUOTA",
         "showlegend": true,
         "type": "scatter",
         "x": [
          41,
          57,
          53,
          53,
          56,
          58,
          47,
          55,
          57,
          63,
          55,
          50,
          58,
          52,
          53,
          53,
          56,
          54,
          54,
          58,
          47,
          58,
          48,
          50,
          53
         ],
         "xaxis": "x",
         "y": [
          538,
          497,
          482,
          489,
          508,
          494,
          495,
          510,
          459,
          488,
          503,
          514,
          480,
          522,
          484,
          492,
          515,
          500,
          494,
          497,
          480,
          470,
          496,
          489,
          509
         ],
         "yaxis": "y"
        }
       ],
       "layout": {
        "legend": {
         "title": {
          "text": "Offered-Text"
         },
         "tracegroupgap": 0
        },
        "margin": {
         "t": 60
        },
        "template": {
         "data": {
          "bar": [
           {
            "error_x": {
             "color": "#2a3f5f"
            },
            "error_y": {
             "color": "#2a3f5f"
            },
            "marker": {
             "line": {
              "color": "#E5ECF6",
              "width": 0.5
             }
            },
            "type": "bar"
           }
          ],
          "barpolar": [
           {
            "marker": {
             "line": {
              "color": "#E5ECF6",
              "width": 0.5
             }
            },
            "type": "barpolar"
           }
          ],
          "carpet": [
           {
            "aaxis": {
             "endlinecolor": "#2a3f5f",
             "gridcolor": "white",
             "linecolor": "white",
             "minorgridcolor": "white",
             "startlinecolor": "#2a3f5f"
            },
            "baxis": {
             "endlinecolor": "#2a3f5f",
             "gridcolor": "white",
             "linecolor": "white",
             "minorgridcolor": "white",
             "startlinecolor": "#2a3f5f"
            },
            "type": "carpet"
           }
          ],
          "choropleth": [
           {
            "colorbar": {
             "outlinewidth": 0,
             "ticks": ""
            },
            "type": "choropleth"
           }
          ],
          "contour": [
           {
            "colorbar": {
             "outlinewidth": 0,
             "ticks": ""
            },
            "colorscale": [
             [
              0,
              "#0d0887"
             ],
             [
              0.1111111111111111,
              "#46039f"
             ],
             [
              0.2222222222222222,
              "#7201a8"
             ],
             [
              0.3333333333333333,
              "#9c179e"
             ],
             [
              0.4444444444444444,
              "#bd3786"
             ],
             [
              0.5555555555555556,
              "#d8576b"
             ],
             [
              0.6666666666666666,
              "#ed7953"
             ],
             [
              0.7777777777777778,
              "#fb9f3a"
             ],
             [
              0.8888888888888888,
              "#fdca26"
             ],
             [
              1,
              "#f0f921"
             ]
            ],
            "type": "contour"
           }
          ],
          "contourcarpet": [
           {
            "colorbar": {
             "outlinewidth": 0,
             "ticks": ""
            },
            "type": "contourcarpet"
           }
          ],
          "heatmap": [
           {
            "colorbar": {
             "outlinewidth": 0,
             "ticks": ""
            },
            "colorscale": [
             [
              0,
              "#0d0887"
             ],
             [
              0.1111111111111111,
              "#46039f"
             ],
             [
              0.2222222222222222,
              "#7201a8"
             ],
             [
              0.3333333333333333,
              "#9c179e"
             ],
             [
              0.4444444444444444,
              "#bd3786"
             ],
             [
              0.5555555555555556,
              "#d8576b"
             ],
             [
              0.6666666666666666,
              "#ed7953"
             ],
             [
              0.7777777777777778,
              "#fb9f3a"
             ],
             [
              0.8888888888888888,
              "#fdca26"
             ],
             [
              1,
              "#f0f921"
             ]
            ],
            "type": "heatmap"
           }
          ],
          "heatmapgl": [
           {
            "colorbar": {
             "outlinewidth": 0,
             "ticks": ""
            },
            "colorscale": [
             [
              0,
              "#0d0887"
             ],
             [
              0.1111111111111111,
              "#46039f"
             ],
             [
              0.2222222222222222,
              "#7201a8"
             ],
             [
              0.3333333333333333,
              "#9c179e"
             ],
             [
              0.4444444444444444,
              "#bd3786"
             ],
             [
              0.5555555555555556,
              "#d8576b"
             ],
             [
              0.6666666666666666,
              "#ed7953"
             ],
             [
              0.7777777777777778,
              "#fb9f3a"
             ],
             [
              0.8888888888888888,
              "#fdca26"
             ],
             [
              1,
              "#f0f921"
             ]
            ],
            "type": "heatmapgl"
           }
          ],
          "histogram": [
           {
            "marker": {
             "colorbar": {
              "outlinewidth": 0,
              "ticks": ""
             }
            },
            "type": "histogram"
           }
          ],
          "histogram2d": [
           {
            "colorbar": {
             "outlinewidth": 0,
             "ticks": ""
            },
            "colorscale": [
             [
              0,
              "#0d0887"
             ],
             [
              0.1111111111111111,
              "#46039f"
             ],
             [
              0.2222222222222222,
              "#7201a8"
             ],
             [
              0.3333333333333333,
              "#9c179e"
             ],
             [
              0.4444444444444444,
              "#bd3786"
             ],
             [
              0.5555555555555556,
              "#d8576b"
             ],
             [
              0.6666666666666666,
              "#ed7953"
             ],
             [
              0.7777777777777778,
              "#fb9f3a"
             ],
             [
              0.8888888888888888,
              "#fdca26"
             ],
             [
              1,
              "#f0f921"
             ]
            ],
            "type": "histogram2d"
           }
          ],
          "histogram2dcontour": [
           {
            "colorbar": {
             "outlinewidth": 0,
             "ticks": ""
            },
            "colorscale": [
             [
              0,
              "#0d0887"
             ],
             [
              0.1111111111111111,
              "#46039f"
             ],
             [
              0.2222222222222222,
              "#7201a8"
             ],
             [
              0.3333333333333333,
              "#9c179e"
             ],
             [
              0.4444444444444444,
              "#bd3786"
             ],
             [
              0.5555555555555556,
              "#d8576b"
             ],
             [
              0.6666666666666666,
              "#ed7953"
             ],
             [
              0.7777777777777778,
              "#fb9f3a"
             ],
             [
              0.8888888888888888,
              "#fdca26"
             ],
             [
              1,
              "#f0f921"
             ]
            ],
            "type": "histogram2dcontour"
           }
          ],
          "mesh3d": [
           {
            "colorbar": {
             "outlinewidth": 0,
             "ticks": ""
            },
            "type": "mesh3d"
           }
          ],
          "parcoords": [
           {
            "line": {
             "colorbar": {
              "outlinewidth": 0,
              "ticks": ""
             }
            },
            "type": "parcoords"
           }
          ],
          "pie": [
           {
            "automargin": true,
            "type": "pie"
           }
          ],
          "scatter": [
           {
            "marker": {
             "colorbar": {
              "outlinewidth": 0,
              "ticks": ""
             }
            },
            "type": "scatter"
           }
          ],
          "scatter3d": [
           {
            "line": {
             "colorbar": {
              "outlinewidth": 0,
              "ticks": ""
             }
            },
            "marker": {
             "colorbar": {
              "outlinewidth": 0,
              "ticks": ""
             }
            },
            "type": "scatter3d"
           }
          ],
          "scattercarpet": [
           {
            "marker": {
             "colorbar": {
              "outlinewidth": 0,
              "ticks": ""
             }
            },
            "type": "scattercarpet"
           }
          ],
          "scattergeo": [
           {
            "marker": {
             "colorbar": {
              "outlinewidth": 0,
              "ticks": ""
             }
            },
            "type": "scattergeo"
           }
          ],
          "scattergl": [
           {
            "marker": {
             "colorbar": {
              "outlinewidth": 0,
              "ticks": ""
             }
            },
            "type": "scattergl"
           }
          ],
          "scattermapbox": [
           {
            "marker": {
             "colorbar": {
              "outlinewidth": 0,
              "ticks": ""
             }
            },
            "type": "scattermapbox"
           }
          ],
          "scatterpolar": [
           {
            "marker": {
             "colorbar": {
              "outlinewidth": 0,
              "ticks": ""
             }
            },
            "type": "scatterpolar"
           }
          ],
          "scatterpolargl": [
           {
            "marker": {
             "colorbar": {
              "outlinewidth": 0,
              "ticks": ""
             }
            },
            "type": "scatterpolargl"
           }
          ],
          "scatterternary": [
           {
            "marker": {
             "colorbar": {
              "outlinewidth": 0,
              "ticks": ""
             }
            },
            "type": "scatterternary"
           }
          ],
          "surface": [
           {
            "colorbar": {
             "outlinewidth": 0,
             "ticks": ""
            },
            "colorscale": [
             [
              0,
              "#0d0887"
             ],
             [
              0.1111111111111111,
              "#46039f"
             ],
             [
              0.2222222222222222,
              "#7201a8"
             ],
             [
              0.3333333333333333,
              "#9c179e"
             ],
             [
              0.4444444444444444,
              "#bd3786"
             ],
             [
              0.5555555555555556,
              "#d8576b"
             ],
             [
              0.6666666666666666,
              "#ed7953"
             ],
             [
              0.7777777777777778,
              "#fb9f3a"
             ],
             [
              0.8888888888888888,
              "#fdca26"
             ],
             [
              1,
              "#f0f921"
             ]
            ],
            "type": "surface"
           }
          ],
          "table": [
           {
            "cells": {
             "fill": {
              "color": "#EBF0F8"
             },
             "line": {
              "color": "white"
             }
            },
            "header": {
             "fill": {
              "color": "#C8D4E3"
             },
             "line": {
              "color": "white"
             }
            },
            "type": "table"
           }
          ]
         },
         "layout": {
          "annotationdefaults": {
           "arrowcolor": "#2a3f5f",
           "arrowhead": 0,
           "arrowwidth": 1
          },
          "coloraxis": {
           "colorbar": {
            "outlinewidth": 0,
            "ticks": ""
           }
          },
          "colorscale": {
           "diverging": [
            [
             0,
             "#8e0152"
            ],
            [
             0.1,
             "#c51b7d"
            ],
            [
             0.2,
             "#de77ae"
            ],
            [
             0.3,
             "#f1b6da"
            ],
            [
             0.4,
             "#fde0ef"
            ],
            [
             0.5,
             "#f7f7f7"
            ],
            [
             0.6,
             "#e6f5d0"
            ],
            [
             0.7,
             "#b8e186"
            ],
            [
             0.8,
             "#7fbc41"
            ],
            [
             0.9,
             "#4d9221"
            ],
            [
             1,
             "#276419"
            ]
           ],
           "sequential": [
            [
             0,
             "#0d0887"
            ],
            [
             0.1111111111111111,
             "#46039f"
            ],
            [
             0.2222222222222222,
             "#7201a8"
            ],
            [
             0.3333333333333333,
             "#9c179e"
            ],
            [
             0.4444444444444444,
             "#bd3786"
            ],
            [
             0.5555555555555556,
             "#d8576b"
            ],
            [
             0.6666666666666666,
             "#ed7953"
            ],
            [
             0.7777777777777778,
             "#fb9f3a"
            ],
            [
             0.8888888888888888,
             "#fdca26"
            ],
            [
             1,
             "#f0f921"
            ]
           ],
           "sequentialminus": [
            [
             0,
             "#0d0887"
            ],
            [
             0.1111111111111111,
             "#46039f"
            ],
            [
             0.2222222222222222,
             "#7201a8"
            ],
            [
             0.3333333333333333,
             "#9c179e"
            ],
            [
             0.4444444444444444,
             "#bd3786"
            ],
            [
             0.5555555555555556,
             "#d8576b"
            ],
            [
             0.6666666666666666,
             "#ed7953"
            ],
            [
             0.7777777777777778,
             "#fb9f3a"
            ],
            [
             0.8888888888888888,
             "#fdca26"
            ],
            [
             1,
             "#f0f921"
            ]
           ]
          },
          "colorway": [
           "#636efa",
           "#EF553B",
           "#00cc96",
           "#ab63fa",
           "#FFA15A",
           "#19d3f3",
           "#FF6692",
           "#B6E880",
           "#FF97FF",
           "#FECB52"
          ],
          "font": {
           "color": "#2a3f5f"
          },
          "geo": {
           "bgcolor": "white",
           "lakecolor": "white",
           "landcolor": "#E5ECF6",
           "showlakes": true,
           "showland": true,
           "subunitcolor": "white"
          },
          "hoverlabel": {
           "align": "left"
          },
          "hovermode": "closest",
          "mapbox": {
           "style": "light"
          },
          "paper_bgcolor": "white",
          "plot_bgcolor": "#E5ECF6",
          "polar": {
           "angularaxis": {
            "gridcolor": "white",
            "linecolor": "white",
            "ticks": ""
           },
           "bgcolor": "#E5ECF6",
           "radialaxis": {
            "gridcolor": "white",
            "linecolor": "white",
            "ticks": ""
           }
          },
          "scene": {
           "xaxis": {
            "backgroundcolor": "#E5ECF6",
            "gridcolor": "white",
            "gridwidth": 2,
            "linecolor": "white",
            "showbackground": true,
            "ticks": "",
            "zerolinecolor": "white"
           },
           "yaxis": {
            "backgroundcolor": "#E5ECF6",
            "gridcolor": "white",
            "gridwidth": 2,
            "linecolor": "white",
            "showbackground": true,
            "ticks": "",
            "zerolinecolor": "white"
           },
           "zaxis": {
            "backgroundcolor": "#E5ECF6",
            "gridcolor": "white",
            "gridwidth": 2,
            "linecolor": "white",
            "showbackground": true,
            "ticks": "",
            "zerolinecolor": "white"
           }
          },
          "shapedefaults": {
           "line": {
            "color": "#2a3f5f"
           }
          },
          "ternary": {
           "aaxis": {
            "gridcolor": "white",
            "linecolor": "white",
            "ticks": ""
           },
           "baxis": {
            "gridcolor": "white",
            "linecolor": "white",
            "ticks": ""
           },
           "bgcolor": "#E5ECF6",
           "caxis": {
            "gridcolor": "white",
            "linecolor": "white",
            "ticks": ""
           }
          },
          "title": {
           "x": 0.05
          },
          "xaxis": {
           "automargin": true,
           "gridcolor": "white",
           "linecolor": "white",
           "ticks": "",
           "title": {
            "standoff": 15
           },
           "zerolinecolor": "white",
           "zerolinewidth": 2
          },
          "yaxis": {
           "automargin": true,
           "gridcolor": "white",
           "linecolor": "white",
           "ticks": "",
           "title": {
            "standoff": 15
           },
           "zerolinecolor": "white",
           "zerolinewidth": 2
          }
         }
        },
        "xaxis": {
         "anchor": "y",
         "domain": [
          0,
          1
         ],
         "title": {
          "text": "NTS"
         }
        },
        "yaxis": {
         "anchor": "x",
         "domain": [
          0,
          1
         ],
         "title": {
          "text": "BA-BSC"
         }
        }
       }
      },
      "text/html": [
       "<div>\n",
       "        \n",
       "        \n",
       "            <div id=\"688b8604-eb94-4570-92a9-508ea1db4d82\" class=\"plotly-graph-div\" style=\"height:525px; width:100%;\"></div>\n",
       "            <script type=\"text/javascript\">\n",
       "                require([\"plotly\"], function(Plotly) {\n",
       "                    window.PLOTLYENV=window.PLOTLYENV || {};\n",
       "                    \n",
       "                if (document.getElementById(\"688b8604-eb94-4570-92a9-508ea1db4d82\")) {\n",
       "                    Plotly.newPlot(\n",
       "                        '688b8604-eb94-4570-92a9-508ea1db4d82',\n",
       "                        [{\"customdata\": [[\"Bahawalpur\"], [\"Bahawalpur\"], [\"Bahawalpur\"], [\"Bahawalpur\"], [\"Bahawalpur\"], [\"Bahawalpur\"], [\"Bahawalpur\"], [\"Bahawalpur\"], [\"Bahawalpur\"], [\"Bahawalpur\"], [\"Bahawalpur\"], [\"Bahawalpur\"], [\"Bahawalpur\"], [\"Bahawalpur\"], [\"Bahawalpur\"], [\"Bahawalpur\"], [\"OPEN\"], [\"Bahawalpur\"], [\"Bahawalpur\"], [\"Bahawalpur\"], [\"Bahawalpur\"], [\"Bahawalpur\"], [\"Bahawalpur\"], [\"Bahawalpur\"], [\"Bahawalpur\"], [\"Bahawalpur\"], [\"Bahawalpur\"], [\"Bahawalpur\"], [\"Bahawalpur\"], [\"Bahawalpur\"], [\"Bahawalpur\"], [\"Bahawalpur\"], [\"Bahawalpur\"], [\"Bahawalpur\"], [\"Bahawalpur\"], [\"Bahawalpur\"], [\"Bahawalpur\"], [\"Bahawalpur\"], [\"Bahawalpur\"], [\"Bahawalpur\"], [\"Bahawalpur\"], [\"Bahawalpur\"], [\"Bahawalpur\"], [\"Bahawalpur\"], [\"Bahawalpur\"], [\"Bahawalpur\"], [\"Bahawalpur\"], [\"Bahawalpur\"], [\"Bahawalpur\"], [\"Bahawalpur\"], [\"Bahawalpur\"], [\"Bahawalpur\"], [\"Bahawalpur\"], [\"Bahawalpur\"], [\"Bahawalpur\"], [\"Bahawalpur\"], [\"OPEN\"], [\"Bahawalpur\"], [\"OPEN\"], [\"OPEN\"], [\"OPEN\"], [\"OPEN\"], [\"OPEN\"], [\"OPEN\"], [\"OPEN\"]], \"hovertemplate\": \"Offered-Text=Not Offered<br>NTS=%{x}<br>BA-BSC=%{y}<br>Domicile=%{customdata[0]}<extra></extra>\", \"legendgroup\": \"Not Offered\", \"marker\": {\"color\": \"#636efa\", \"symbol\": \"circle\"}, \"mode\": \"markers\", \"name\": \"Not Offered\", \"showlegend\": true, \"type\": \"scatter\", \"x\": [47, 49, 58, 50, 62, 58, 47, 46, 56, 40, 44, 45, 49, 59, 49, 46, 52, 50, 50, 59, 63, 49, 49, 50, 47, 58, 59, 45, 45, 49, 58, 50, 62, 62, 47, 61, 56, 51, 61, 56, 53, 64, 52, 58, 43, 62, 50, 54, 49, 49, 63, 52, 48, 50, 50, 49, 27, 47, 53, 66, 58, 57, 60, 41, 57], \"xaxis\": \"x\", \"y\": [567, 465, 442, 437, 461, 471, 573, 397, 466, 509, 464, 470, 530, 461, 453, 465, 457, 458, 453, 447, 440, 467, 592, 461, 492, 456, 444, 463, 486, 490, 487, 582, 420, 548, 462, 450, 492, 454, 520, 503, 480, 438, 464, 470, 458, 438, 482, 480, 464, 482, 432, 480, 430, 465, 444, 480, 568, 469, 507, 468, 494, 509, 504, 459, 502], \"yaxis\": \"y\"}, {\"customdata\": [[\"Bahawalpur\"], [\"Bahawalpur\"], [\"Bahawalpur\"], [\"Bahawalpur\"], [\"Bahawalpur\"], [\"Bahawalpur\"], [\"Bahawalpur\"], [\"Bahawalpur\"], [\"Bahawalpur\"], [\"Bahawalpur\"], [\"Bahawalpur\"], [\"Bahawalpur\"], [\"Bahawalpur\"], [\"Bahawalpur\"], [\"Bahawalpur\"], [\"Bahawalpur\"], [\"Bahawalpur\"], [\"Bahawalpur\"], [\"Bahawalpur\"], [\"Bahawalpur\"], [\"Bahawalpur\"], [\"Bahawalpur\"], [\"Bahawalpur\"], [\"Bahawalpur\"], [\"OPEN\"], [\"OPEN\"]], \"hovertemplate\": \"Offered-Text=Offered_IN_OPEN_QUOTA<br>NTS=%{x}<br>BA-BSC=%{y}<br>Domicile=%{customdata[0]}<extra></extra>\", \"legendgroup\": \"Offered_IN_OPEN_QUOTA\", \"marker\": {\"color\": \"#EF553B\", \"symbol\": \"circle\"}, \"mode\": \"markers\", \"name\": \"Offered_IN_OPEN_QUOTA\", \"showlegend\": true, \"type\": \"scatter\", \"x\": [66, 49, 47, 52, 53, 55, 52, 60, 57, 59, 52, 53, 55, 56, 51, 49, 54, 61, 55, 51, 60, 62, 68, 55, 61, 53], \"xaxis\": \"x\", \"y\": [505, 556, 544, 519, 536, 561, 613, 533, 538, 530, 555, 503, 531, 530, 548, 547, 557, 520, 533, 598, 549, 524, 502, 528, 542, 519], \"yaxis\": \"y\"}, {\"customdata\": [[\"Bahawalpur\"], [\"Bahawalpur\"], [\"Bahawalpur\"], [\"Bahawalpur\"], [\"Bahawalpur\"], [\"Bahawalpur\"], [\"Bahawalpur\"], [\"Bahawalpur\"], [\"Bahawalpur\"], [\"Bahawalpur\"], [\"Bahawalpur\"], [\"Bahawalpur\"], [\"Bahawalpur\"], [\"Bahawalpur\"], [\"Bahawalpur\"], [\"Bahawalpur\"], [\"Bahawalpur\"], [\"Bahawalpur\"], [\"Bahawalpur\"], [\"Bahawalpur\"], [\"Bahawalpur\"], [\"Bahawalpur\"], [\"Bahawalpur\"], [\"Bahawalpur\"], [\"Bahawalpur\"]], \"hovertemplate\": \"Offered-Text=Offered_IN_BWP_QUOTA<br>NTS=%{x}<br>BA-BSC=%{y}<br>Domicile=%{customdata[0]}<extra></extra>\", \"legendgroup\": \"Offered_IN_BWP_QUOTA\", \"marker\": {\"color\": \"#00cc96\", \"symbol\": \"circle\"}, \"mode\": \"markers\", \"name\": \"Offered_IN_BWP_QUOTA\", \"showlegend\": true, \"type\": \"scatter\", \"x\": [41, 57, 53, 53, 56, 58, 47, 55, 57, 63, 55, 50, 58, 52, 53, 53, 56, 54, 54, 58, 47, 58, 48, 50, 53], \"xaxis\": \"x\", \"y\": [538, 497, 482, 489, 508, 494, 495, 510, 459, 488, 503, 514, 480, 522, 484, 492, 515, 500, 494, 497, 480, 470, 496, 489, 509], \"yaxis\": \"y\"}],\n",
       "                        {\"legend\": {\"title\": {\"text\": \"Offered-Text\"}, \"tracegroupgap\": 0}, \"margin\": {\"t\": 60}, \"template\": {\"data\": {\"bar\": [{\"error_x\": {\"color\": \"#2a3f5f\"}, \"error_y\": {\"color\": \"#2a3f5f\"}, \"marker\": {\"line\": {\"color\": \"#E5ECF6\", \"width\": 0.5}}, \"type\": \"bar\"}], \"barpolar\": [{\"marker\": {\"line\": {\"color\": \"#E5ECF6\", \"width\": 0.5}}, \"type\": \"barpolar\"}], \"carpet\": [{\"aaxis\": {\"endlinecolor\": \"#2a3f5f\", \"gridcolor\": \"white\", \"linecolor\": \"white\", \"minorgridcolor\": \"white\", \"startlinecolor\": \"#2a3f5f\"}, \"baxis\": {\"endlinecolor\": \"#2a3f5f\", \"gridcolor\": \"white\", \"linecolor\": \"white\", \"minorgridcolor\": \"white\", \"startlinecolor\": \"#2a3f5f\"}, \"type\": \"carpet\"}], \"choropleth\": [{\"colorbar\": {\"outlinewidth\": 0, \"ticks\": \"\"}, \"type\": \"choropleth\"}], \"contour\": [{\"colorbar\": {\"outlinewidth\": 0, \"ticks\": \"\"}, \"colorscale\": [[0.0, \"#0d0887\"], [0.1111111111111111, \"#46039f\"], [0.2222222222222222, \"#7201a8\"], [0.3333333333333333, \"#9c179e\"], [0.4444444444444444, \"#bd3786\"], [0.5555555555555556, \"#d8576b\"], [0.6666666666666666, \"#ed7953\"], [0.7777777777777778, \"#fb9f3a\"], [0.8888888888888888, \"#fdca26\"], [1.0, \"#f0f921\"]], \"type\": \"contour\"}], \"contourcarpet\": [{\"colorbar\": {\"outlinewidth\": 0, \"ticks\": \"\"}, \"type\": \"contourcarpet\"}], \"heatmap\": [{\"colorbar\": {\"outlinewidth\": 0, \"ticks\": \"\"}, \"colorscale\": [[0.0, \"#0d0887\"], [0.1111111111111111, \"#46039f\"], [0.2222222222222222, \"#7201a8\"], [0.3333333333333333, \"#9c179e\"], [0.4444444444444444, \"#bd3786\"], [0.5555555555555556, \"#d8576b\"], [0.6666666666666666, \"#ed7953\"], [0.7777777777777778, \"#fb9f3a\"], [0.8888888888888888, \"#fdca26\"], [1.0, \"#f0f921\"]], \"type\": \"heatmap\"}], \"heatmapgl\": [{\"colorbar\": {\"outlinewidth\": 0, \"ticks\": \"\"}, \"colorscale\": [[0.0, \"#0d0887\"], [0.1111111111111111, \"#46039f\"], [0.2222222222222222, \"#7201a8\"], [0.3333333333333333, \"#9c179e\"], [0.4444444444444444, \"#bd3786\"], [0.5555555555555556, \"#d8576b\"], [0.6666666666666666, \"#ed7953\"], [0.7777777777777778, \"#fb9f3a\"], [0.8888888888888888, \"#fdca26\"], [1.0, \"#f0f921\"]], \"type\": \"heatmapgl\"}], \"histogram\": [{\"marker\": {\"colorbar\": {\"outlinewidth\": 0, \"ticks\": \"\"}}, \"type\": \"histogram\"}], \"histogram2d\": [{\"colorbar\": {\"outlinewidth\": 0, \"ticks\": \"\"}, \"colorscale\": [[0.0, \"#0d0887\"], [0.1111111111111111, \"#46039f\"], [0.2222222222222222, \"#7201a8\"], [0.3333333333333333, \"#9c179e\"], [0.4444444444444444, \"#bd3786\"], [0.5555555555555556, \"#d8576b\"], [0.6666666666666666, \"#ed7953\"], [0.7777777777777778, \"#fb9f3a\"], [0.8888888888888888, \"#fdca26\"], [1.0, \"#f0f921\"]], \"type\": \"histogram2d\"}], \"histogram2dcontour\": [{\"colorbar\": {\"outlinewidth\": 0, \"ticks\": \"\"}, \"colorscale\": [[0.0, \"#0d0887\"], [0.1111111111111111, \"#46039f\"], [0.2222222222222222, \"#7201a8\"], [0.3333333333333333, \"#9c179e\"], [0.4444444444444444, \"#bd3786\"], [0.5555555555555556, \"#d8576b\"], [0.6666666666666666, \"#ed7953\"], [0.7777777777777778, \"#fb9f3a\"], [0.8888888888888888, \"#fdca26\"], [1.0, \"#f0f921\"]], \"type\": \"histogram2dcontour\"}], \"mesh3d\": [{\"colorbar\": {\"outlinewidth\": 0, \"ticks\": \"\"}, \"type\": \"mesh3d\"}], \"parcoords\": [{\"line\": {\"colorbar\": {\"outlinewidth\": 0, \"ticks\": \"\"}}, \"type\": \"parcoords\"}], \"pie\": [{\"automargin\": true, \"type\": \"pie\"}], \"scatter\": [{\"marker\": {\"colorbar\": {\"outlinewidth\": 0, \"ticks\": \"\"}}, \"type\": \"scatter\"}], \"scatter3d\": [{\"line\": {\"colorbar\": {\"outlinewidth\": 0, \"ticks\": \"\"}}, \"marker\": {\"colorbar\": {\"outlinewidth\": 0, \"ticks\": \"\"}}, \"type\": \"scatter3d\"}], \"scattercarpet\": [{\"marker\": {\"colorbar\": {\"outlinewidth\": 0, \"ticks\": \"\"}}, \"type\": \"scattercarpet\"}], \"scattergeo\": [{\"marker\": {\"colorbar\": {\"outlinewidth\": 0, \"ticks\": \"\"}}, \"type\": \"scattergeo\"}], \"scattergl\": [{\"marker\": {\"colorbar\": {\"outlinewidth\": 0, \"ticks\": \"\"}}, \"type\": \"scattergl\"}], \"scattermapbox\": [{\"marker\": {\"colorbar\": {\"outlinewidth\": 0, \"ticks\": \"\"}}, \"type\": \"scattermapbox\"}], \"scatterpolar\": [{\"marker\": {\"colorbar\": {\"outlinewidth\": 0, \"ticks\": \"\"}}, \"type\": \"scatterpolar\"}], \"scatterpolargl\": [{\"marker\": {\"colorbar\": {\"outlinewidth\": 0, \"ticks\": \"\"}}, \"type\": \"scatterpolargl\"}], \"scatterternary\": [{\"marker\": {\"colorbar\": {\"outlinewidth\": 0, \"ticks\": \"\"}}, \"type\": \"scatterternary\"}], \"surface\": [{\"colorbar\": {\"outlinewidth\": 0, \"ticks\": \"\"}, \"colorscale\": [[0.0, \"#0d0887\"], [0.1111111111111111, \"#46039f\"], [0.2222222222222222, \"#7201a8\"], [0.3333333333333333, \"#9c179e\"], [0.4444444444444444, \"#bd3786\"], [0.5555555555555556, \"#d8576b\"], [0.6666666666666666, \"#ed7953\"], [0.7777777777777778, \"#fb9f3a\"], [0.8888888888888888, \"#fdca26\"], [1.0, \"#f0f921\"]], \"type\": \"surface\"}], \"table\": [{\"cells\": {\"fill\": {\"color\": \"#EBF0F8\"}, \"line\": {\"color\": \"white\"}}, \"header\": {\"fill\": {\"color\": \"#C8D4E3\"}, \"line\": {\"color\": \"white\"}}, \"type\": \"table\"}]}, \"layout\": {\"annotationdefaults\": {\"arrowcolor\": \"#2a3f5f\", \"arrowhead\": 0, \"arrowwidth\": 1}, \"coloraxis\": {\"colorbar\": {\"outlinewidth\": 0, \"ticks\": \"\"}}, \"colorscale\": {\"diverging\": [[0, \"#8e0152\"], [0.1, \"#c51b7d\"], [0.2, \"#de77ae\"], [0.3, \"#f1b6da\"], [0.4, \"#fde0ef\"], [0.5, \"#f7f7f7\"], [0.6, \"#e6f5d0\"], [0.7, \"#b8e186\"], [0.8, \"#7fbc41\"], [0.9, \"#4d9221\"], [1, \"#276419\"]], \"sequential\": [[0.0, \"#0d0887\"], [0.1111111111111111, \"#46039f\"], [0.2222222222222222, \"#7201a8\"], [0.3333333333333333, \"#9c179e\"], [0.4444444444444444, \"#bd3786\"], [0.5555555555555556, \"#d8576b\"], [0.6666666666666666, \"#ed7953\"], [0.7777777777777778, \"#fb9f3a\"], [0.8888888888888888, \"#fdca26\"], [1.0, \"#f0f921\"]], \"sequentialminus\": [[0.0, \"#0d0887\"], [0.1111111111111111, \"#46039f\"], [0.2222222222222222, \"#7201a8\"], [0.3333333333333333, \"#9c179e\"], [0.4444444444444444, \"#bd3786\"], [0.5555555555555556, \"#d8576b\"], [0.6666666666666666, \"#ed7953\"], [0.7777777777777778, \"#fb9f3a\"], [0.8888888888888888, \"#fdca26\"], [1.0, \"#f0f921\"]]}, \"colorway\": [\"#636efa\", \"#EF553B\", \"#00cc96\", \"#ab63fa\", \"#FFA15A\", \"#19d3f3\", \"#FF6692\", \"#B6E880\", \"#FF97FF\", \"#FECB52\"], \"font\": {\"color\": \"#2a3f5f\"}, \"geo\": {\"bgcolor\": \"white\", \"lakecolor\": \"white\", \"landcolor\": \"#E5ECF6\", \"showlakes\": true, \"showland\": true, \"subunitcolor\": \"white\"}, \"hoverlabel\": {\"align\": \"left\"}, \"hovermode\": \"closest\", \"mapbox\": {\"style\": \"light\"}, \"paper_bgcolor\": \"white\", \"plot_bgcolor\": \"#E5ECF6\", \"polar\": {\"angularaxis\": {\"gridcolor\": \"white\", \"linecolor\": \"white\", \"ticks\": \"\"}, \"bgcolor\": \"#E5ECF6\", \"radialaxis\": {\"gridcolor\": \"white\", \"linecolor\": \"white\", \"ticks\": \"\"}}, \"scene\": {\"xaxis\": {\"backgroundcolor\": \"#E5ECF6\", \"gridcolor\": \"white\", \"gridwidth\": 2, \"linecolor\": \"white\", \"showbackground\": true, \"ticks\": \"\", \"zerolinecolor\": \"white\"}, \"yaxis\": {\"backgroundcolor\": \"#E5ECF6\", \"gridcolor\": \"white\", \"gridwidth\": 2, \"linecolor\": \"white\", \"showbackground\": true, \"ticks\": \"\", \"zerolinecolor\": \"white\"}, \"zaxis\": {\"backgroundcolor\": \"#E5ECF6\", \"gridcolor\": \"white\", \"gridwidth\": 2, \"linecolor\": \"white\", \"showbackground\": true, \"ticks\": \"\", \"zerolinecolor\": \"white\"}}, \"shapedefaults\": {\"line\": {\"color\": \"#2a3f5f\"}}, \"ternary\": {\"aaxis\": {\"gridcolor\": \"white\", \"linecolor\": \"white\", \"ticks\": \"\"}, \"baxis\": {\"gridcolor\": \"white\", \"linecolor\": \"white\", \"ticks\": \"\"}, \"bgcolor\": \"#E5ECF6\", \"caxis\": {\"gridcolor\": \"white\", \"linecolor\": \"white\", \"ticks\": \"\"}}, \"title\": {\"x\": 0.05}, \"xaxis\": {\"automargin\": true, \"gridcolor\": \"white\", \"linecolor\": \"white\", \"ticks\": \"\", \"title\": {\"standoff\": 15}, \"zerolinecolor\": \"white\", \"zerolinewidth\": 2}, \"yaxis\": {\"automargin\": true, \"gridcolor\": \"white\", \"linecolor\": \"white\", \"ticks\": \"\", \"title\": {\"standoff\": 15}, \"zerolinecolor\": \"white\", \"zerolinewidth\": 2}}}, \"xaxis\": {\"anchor\": \"y\", \"domain\": [0.0, 1.0], \"title\": {\"text\": \"NTS\"}}, \"yaxis\": {\"anchor\": \"x\", \"domain\": [0.0, 1.0], \"title\": {\"text\": \"BA-BSC\"}}},\n",
       "                        {\"responsive\": true}\n",
       "                    ).then(function(){\n",
       "                            \n",
       "var gd = document.getElementById('688b8604-eb94-4570-92a9-508ea1db4d82');\n",
       "var x = new MutationObserver(function (mutations, observer) {{\n",
       "        var display = window.getComputedStyle(gd).display;\n",
       "        if (!display || display === 'none') {{\n",
       "            console.log([gd, 'removed!']);\n",
       "            Plotly.purge(gd);\n",
       "            observer.disconnect();\n",
       "        }}\n",
       "}});\n",
       "\n",
       "// Listen for the removal of the full notebook cells\n",
       "var notebookContainer = gd.closest('#notebook-container');\n",
       "if (notebookContainer) {{\n",
       "    x.observe(notebookContainer, {childList: true});\n",
       "}}\n",
       "\n",
       "// Listen for the clearing of the current output cell\n",
       "var outputEl = gd.closest('.output');\n",
       "if (outputEl) {{\n",
       "    x.observe(outputEl, {childList: true});\n",
       "}}\n",
       "\n",
       "                        })\n",
       "                };\n",
       "                });\n",
       "            </script>\n",
       "        </div>"
      ]
     },
     "metadata": {},
     "output_type": "display_data"
    }
   ],
   "source": [
    "# Visulize MCS Applicants\n",
    "import plotly.express as px\n",
    "import pandas as pd\n",
    "df = pd.read_csv('dataset/fall18/2018-12-11-mcs-fall18.csv')\n",
    "print(df.columns)\n",
    "fig = px.scatter(df, x=\"NTS\", y=\"BA-BSC\",color=\"Offered-Text\",hover_data=['Domicile'])\n",
    "fig.show()"
   ]
  },
  {
   "cell_type": "code",
   "execution_count": null,
   "metadata": {},
   "outputs": [],
   "source": []
  },
  {
   "cell_type": "code",
   "execution_count": 1,
   "metadata": {},
   "outputs": [],
   "source": [
    "#Decision Tree Visulizations - did work but does not make any sence\n",
    "\n",
    "import pandas as pd\n",
    "from sklearn import tree\n",
    "from dtreeviz.trees import *\n",
    "df_train = pd.read_csv('dataset/fall18/for-weka-63-2018-12-11-mcs-fall18.csv')\n",
    "#print(df_train.columns)\n",
    "survived_train = df_train.Offered\n",
    "#survived_train = pd.get_dummies(survived_train, columns=['Offered'], drop_first=True)\n",
    "data = df_train\n",
    "data = pd.get_dummies(data, columns=['Domicile','Offered'], drop_first=True)\n",
    "#print(data)\n",
    "data = data[['Domicile_OPEN', 'NTS', 'BA-BSC']]\n",
    "data_train = data.iloc[:117]\n",
    "data_test = data.iloc[117:]\n",
    "X = data_train.values\n",
    "y = survived_train.values\n",
    "#clf = tree.DecisionTreeClassifier()\n",
    "#print(y)\n",
    "#clf.fit(X, y)\n",
    "regr = regr = tree.DecisionTreeRegressor(max_depth=2)\n",
    "regr.fit(X, y)\n",
    "viz = dtreeviz(regr,\n",
    "               data,\n",
    "               survived_train,\n",
    "               target_name='Offered',\n",
    "               feature_names=['Quota_OPEN', 'NTS', 'BA-BSC'])\n",
    "              \n",
    "viz.view()"
   ]
  },
  {
   "cell_type": "code",
   "execution_count": null,
   "metadata": {},
   "outputs": [],
   "source": [
    "# x and y given as DataFrame columns\n",
    "import plotly.express as px\n",
    "import pandas as pd\n",
    "df = pd.read_csv('dataset/sp18/sp18-for-weka-2020-01-19-jif-clean-all-programes-admission-test-terminal-degree.csv')\n",
    "print(df.columns)\n",
    "fig = px.scatter(df, x=\"Programme\", y=\"Terminal Degree\",color=\"Domicile\")\n",
    "fig.show()"
   ]
  },
  {
   "cell_type": "code",
   "execution_count": null,
   "metadata": {},
   "outputs": [],
   "source": [
    "# x and y given as DataFrame columns\n",
    "import plotly.express as px\n",
    "import pandas as pd\n",
    "df = pd.read_csv('dataset/sp18/sp18-for-weka-2020-02-09-jif-clean-bscs-bba.csv')\n",
    "print(df.columns)\n",
    "fig = px.scatter(df, x=\"Programme\", y=\"Merit Score\",color=\"Domicile\")\n",
    "fig.show()"
   ]
  },
  {
   "cell_type": "code",
   "execution_count": null,
   "metadata": {},
   "outputs": [],
   "source": [
    "import plotly.express as px\n",
    "df = px.data.iris()\n",
    "fig = px.scatter(df, x=\"sepal_width\", y=\"sepal_length\", color=\"species\",\n",
    "                 size='petal_length', hover_data=['petal_width'])\n",
    "fig.show()"
   ]
  },
  {
   "cell_type": "code",
   "execution_count": null,
   "metadata": {},
   "outputs": [],
   "source": [
    "import plotly.graph_objects as go\n",
    "import pandas as pd\n",
    "\n",
    "data= pd.read_csv(\"https://raw.githubusercontent.com/plotly/datasets/master/2014_usa_states.csv\")\n",
    "\n",
    "fig = go.Figure(data=go.Scatter(x=data['Postal'],\n",
    "                                y=data['Population'],\n",
    "                                mode='markers',\n",
    "                                marker_color=data['Population'],\n",
    "                                text=data['State'])) # hover text goes here\n",
    "\n",
    "fig.update_layout(title='Population of USA States')\n",
    "fig.show()"
   ]
  },
  {
   "cell_type": "code",
   "execution_count": null,
   "metadata": {},
   "outputs": [],
   "source": [
    "import plotly.graph_objects as go\n",
    "import numpy as np\n",
    "\n",
    "N = 100000\n",
    "fig = go.Figure(data=go.Scattergl(\n",
    "    x = np.random.randn(N),\n",
    "    y = np.random.randn(N),\n",
    "    mode='markers',\n",
    "    marker=dict(\n",
    "        color=np.random.randn(N),\n",
    "        colorscale='Viridis',\n",
    "        line_width=1\n",
    "    )\n",
    "))\n",
    "\n",
    "fig.show()"
   ]
  },
  {
   "cell_type": "code",
   "execution_count": null,
   "metadata": {},
   "outputs": [],
   "source": [
    "print (\"test\")"
   ]
  },
  {
   "cell_type": "code",
   "execution_count": null,
   "metadata": {},
   "outputs": [],
   "source": []
  }
 ],
 "metadata": {
  "kernelspec": {
   "display_name": "Python 3",
   "language": "python",
   "name": "python3"
  },
  "language_info": {
   "codemirror_mode": {
    "name": "ipython",
    "version": 3
   },
   "file_extension": ".py",
   "mimetype": "text/x-python",
   "name": "python",
   "nbconvert_exporter": "python",
   "pygments_lexer": "ipython3",
   "version": "3.7.4"
  }
 },
 "nbformat": 4,
 "nbformat_minor": 2
}
