{
 "cells": [
  {
   "cell_type": "code",
   "execution_count": null,
   "metadata": {},
   "outputs": [],
   "source": [
    "# x and y given as DataFrame columns\n",
    "import plotly.express as px\n",
    "import pandas as pd\n",
    "df = pd.read_csv('dataset/fall18/for-weka-63-2018-12-11-mcs-fall18.csv')\n",
    "print(df.columns)\n",
    "fig = px.scatter(df, x=\"NTS\", y=\"BA-BSC\",color=\"Offered\",hover_data=['Domicile'])\n",
    "fig.show()"
   ]
  },
  {
   "cell_type": "code",
   "execution_count": 1,
   "metadata": {},
   "outputs": [],
   "source": [
    "#Decision Tree Visulizations - did work but does not make any sence\n",
    "\n",
    "import pandas as pd\n",
    "from sklearn import tree\n",
    "from dtreeviz.trees import *\n",
    "df_train = pd.read_csv('dataset/fall18/for-weka-63-2018-12-11-mcs-fall18.csv')\n",
    "#print(df_train.columns)\n",
    "survived_train = df_train.Offered\n",
    "#survived_train = pd.get_dummies(survived_train, columns=['Offered'], drop_first=True)\n",
    "data = df_train\n",
    "data = pd.get_dummies(data, columns=['Domicile','Offered'], drop_first=True)\n",
    "#print(data)\n",
    "data = data[['Domicile_OPEN', 'NTS', 'BA-BSC']]\n",
    "data_train = data.iloc[:117]\n",
    "data_test = data.iloc[117:]\n",
    "X = data_train.values\n",
    "y = survived_train.values\n",
    "#clf = tree.DecisionTreeClassifier()\n",
    "#print(y)\n",
    "#clf.fit(X, y)\n",
    "regr = regr = tree.DecisionTreeRegressor(max_depth=2)\n",
    "regr.fit(X, y)\n",
    "viz = dtreeviz(regr,\n",
    "               data,\n",
    "               survived_train,\n",
    "               target_name='Offered',\n",
    "               feature_names=['Quota_OPEN', 'NTS', 'BA-BSC'])\n",
    "              \n",
    "viz.view()"
   ]
  },
  {
   "cell_type": "code",
   "execution_count": null,
   "metadata": {},
   "outputs": [],
   "source": [
    "# x and y given as DataFrame columns\n",
    "import plotly.express as px\n",
    "import pandas as pd\n",
    "df = pd.read_csv('dataset/sp18/sp18-for-weka-2020-01-19-jif-clean-all-programes-admission-test-terminal-degree.csv')\n",
    "print(df.columns)\n",
    "fig = px.scatter(df, x=\"Programme\", y=\"Terminal Degree\",color=\"Domicile\")\n",
    "fig.show()"
   ]
  },
  {
   "cell_type": "code",
   "execution_count": null,
   "metadata": {},
   "outputs": [],
   "source": [
    "# x and y given as DataFrame columns\n",
    "import plotly.express as px\n",
    "import pandas as pd\n",
    "df = pd.read_csv('dataset/sp18/sp18-for-weka-2020-02-09-jif-clean-bscs-bba.csv')\n",
    "print(df.columns)\n",
    "fig = px.scatter(df, x=\"Programme\", y=\"Merit Score\",color=\"Domicile\")\n",
    "fig.show()"
   ]
  },
  {
   "cell_type": "code",
   "execution_count": null,
   "metadata": {},
   "outputs": [],
   "source": [
    "import plotly.express as px\n",
    "df = px.data.iris()\n",
    "fig = px.scatter(df, x=\"sepal_width\", y=\"sepal_length\", color=\"species\",\n",
    "                 size='petal_length', hover_data=['petal_width'])\n",
    "fig.show()"
   ]
  },
  {
   "cell_type": "code",
   "execution_count": null,
   "metadata": {},
   "outputs": [],
   "source": [
    "import plotly.graph_objects as go\n",
    "import pandas as pd\n",
    "\n",
    "data= pd.read_csv(\"https://raw.githubusercontent.com/plotly/datasets/master/2014_usa_states.csv\")\n",
    "\n",
    "fig = go.Figure(data=go.Scatter(x=data['Postal'],\n",
    "                                y=data['Population'],\n",
    "                                mode='markers',\n",
    "                                marker_color=data['Population'],\n",
    "                                text=data['State'])) # hover text goes here\n",
    "\n",
    "fig.update_layout(title='Population of USA States')\n",
    "fig.show()"
   ]
  },
  {
   "cell_type": "code",
   "execution_count": null,
   "metadata": {},
   "outputs": [],
   "source": [
    "import plotly.graph_objects as go\n",
    "import numpy as np\n",
    "\n",
    "N = 100000\n",
    "fig = go.Figure(data=go.Scattergl(\n",
    "    x = np.random.randn(N),\n",
    "    y = np.random.randn(N),\n",
    "    mode='markers',\n",
    "    marker=dict(\n",
    "        color=np.random.randn(N),\n",
    "        colorscale='Viridis',\n",
    "        line_width=1\n",
    "    )\n",
    "))\n",
    "\n",
    "fig.show()"
   ]
  },
  {
   "cell_type": "code",
   "execution_count": null,
   "metadata": {},
   "outputs": [],
   "source": [
    "print (\"test\")"
   ]
  },
  {
   "cell_type": "code",
   "execution_count": null,
   "metadata": {},
   "outputs": [],
   "source": []
  }
 ],
 "metadata": {
  "kernelspec": {
   "display_name": "Python 3",
   "language": "python",
   "name": "python3"
  },
  "language_info": {
   "codemirror_mode": {
    "name": "ipython",
    "version": 3
   },
   "file_extension": ".py",
   "mimetype": "text/x-python",
   "name": "python",
   "nbconvert_exporter": "python",
   "pygments_lexer": "ipython3",
   "version": "3.7.4"
  }
 },
 "nbformat": 4,
 "nbformat_minor": 2
}
