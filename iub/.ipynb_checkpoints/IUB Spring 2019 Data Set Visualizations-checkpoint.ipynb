{
 "cells": [
  {
   "cell_type": "code",
   "execution_count": 2,
   "metadata": {},
   "outputs": [
    {
     "name": "stdout",
     "output_type": "stream",
     "text": [
      "Index(['Domicile', 'Selection Quota', 'Hafiz e Quran', 'NTS', 'ECAT/MCAT',\n",
      "       'FA/FSC', 'BA/BSC', 'English Marks', 'Offered'],\n",
      "      dtype='object')\n"
     ]
    },
    {
     "data": {
      "application/vnd.plotly.v1+json": {
       "config": {
        "plotlyServerURL": "https://plot.ly"
       },
       "data": [
        {
         "customdata": [
          [
           "Bahawalpur"
          ],
          [
           "Bahawalpur"
          ],
          [
           "Bahawalpur"
          ],
          [
           "Bahawalpur"
          ],
          [
           "Bahawalpur"
          ],
          [
           "Bahawalpur"
          ],
          [
           "Bahawalpur"
          ],
          [
           "Bahawalpur"
          ],
          [
           "Bahawalpur"
          ],
          [
           "Bahawalpur"
          ],
          [
           "Bahawalpur"
          ],
          [
           "Bahawalpur"
          ],
          [
           "Bahawalpur"
          ],
          [
           "Bahawalpur"
          ],
          [
           "Bahawalpur"
          ],
          [
           "Bahawalpur"
          ],
          [
           "OPEN"
          ],
          [
           "Bahawalpur"
          ],
          [
           "Bahawalpur"
          ],
          [
           "Bahawalpur"
          ],
          [
           "Bahawalpur"
          ],
          [
           "Bahawalpur"
          ],
          [
           "Bahawalpur"
          ],
          [
           "Bahawalpur"
          ],
          [
           "Bahawalpur"
          ],
          [
           "Bahawalpur"
          ],
          [
           "Bahawalpur"
          ],
          [
           "Bahawalpur"
          ],
          [
           "Bahawalpur"
          ],
          [
           "Bahawalpur"
          ],
          [
           "Bahawalpur"
          ],
          [
           "Bahawalpur"
          ],
          [
           "Bahawalpur"
          ],
          [
           "Bahawalpur"
          ],
          [
           "Bahawalpur"
          ],
          [
           "Bahawalpur"
          ],
          [
           "Bahawalpur"
          ],
          [
           "Bahawalpur"
          ],
          [
           "Bahawalpur"
          ],
          [
           "Bahawalpur"
          ],
          [
           "Bahawalpur"
          ],
          [
           "Bahawalpur"
          ],
          [
           "Bahawalpur"
          ],
          [
           "Bahawalpur"
          ],
          [
           "Bahawalpur"
          ],
          [
           "Bahawalpur"
          ],
          [
           "Bahawalpur"
          ],
          [
           "Bahawalpur"
          ],
          [
           "Bahawalpur"
          ],
          [
           "Bahawalpur"
          ],
          [
           "Bahawalpur"
          ],
          [
           "Bahawalpur"
          ],
          [
           "Bahawalpur"
          ],
          [
           "Bahawalpur"
          ],
          [
           "Bahawalpur"
          ],
          [
           "Bahawalpur"
          ],
          [
           "OPEN"
          ],
          [
           "Bahawalpur"
          ],
          [
           "OPEN"
          ],
          [
           "OPEN"
          ],
          [
           "OPEN"
          ],
          [
           "OPEN"
          ],
          [
           "OPEN"
          ],
          [
           "OPEN"
          ],
          [
           "OPEN"
          ]
         ],
         "hovertemplate": "Offered=Not Offered<br>NTS=%{x}<br>BA/BSC=%{y}<br>Domicile=%{customdata[0]}<extra></extra>",
         "legendgroup": "Not Offered",
         "marker": {
          "color": "#636efa",
          "symbol": "circle"
         },
         "mode": "markers",
         "name": "Not Offered",
         "showlegend": true,
         "type": "scatter",
         "x": [
          47,
          49,
          58,
          50,
          62,
          58,
          47,
          46,
          56,
          40,
          44,
          45,
          49,
          59,
          49,
          46,
          52,
          50,
          50,
          59,
          63,
          49,
          49,
          50,
          47,
          58,
          59,
          45,
          45,
          49,
          58,
          50,
          62,
          62,
          47,
          61,
          56,
          51,
          61,
          56,
          53,
          64,
          52,
          58,
          43,
          62,
          50,
          54,
          49,
          49,
          63,
          52,
          48,
          50,
          50,
          49,
          27,
          47,
          53,
          66,
          58,
          57,
          60,
          41,
          57
         ],
         "xaxis": "x",
         "y": [
          567,
          465,
          442,
          437,
          461,
          471,
          573,
          397,
          466,
          509,
          464,
          470,
          530,
          461,
          453,
          465,
          457,
          458,
          453,
          447,
          440,
          467,
          592,
          461,
          492,
          456,
          444,
          463,
          486,
          490,
          487,
          582,
          420,
          548,
          462,
          450,
          492,
          454,
          520,
          503,
          480,
          438,
          464,
          470,
          458,
          438,
          482,
          480,
          464,
          482,
          432,
          480,
          430,
          465,
          444,
          480,
          568,
          469,
          507,
          468,
          494,
          509,
          504,
          459,
          502
         ],
         "yaxis": "y"
        },
        {
         "customdata": [
          [
           "Bahawalpur"
          ],
          [
           "Bahawalpur"
          ],
          [
           "Bahawalpur"
          ],
          [
           "Bahawalpur"
          ],
          [
           "Bahawalpur"
          ],
          [
           "Bahawalpur"
          ],
          [
           "Bahawalpur"
          ],
          [
           "Bahawalpur"
          ],
          [
           "Bahawalpur"
          ],
          [
           "Bahawalpur"
          ],
          [
           "Bahawalpur"
          ],
          [
           "Bahawalpur"
          ],
          [
           "Bahawalpur"
          ],
          [
           "Bahawalpur"
          ],
          [
           "Bahawalpur"
          ],
          [
           "Bahawalpur"
          ],
          [
           "Bahawalpur"
          ],
          [
           "Bahawalpur"
          ],
          [
           "Bahawalpur"
          ],
          [
           "Bahawalpur"
          ],
          [
           "Bahawalpur"
          ],
          [
           "Bahawalpur"
          ],
          [
           "Bahawalpur"
          ],
          [
           "Bahawalpur"
          ],
          [
           "OPEN"
          ],
          [
           "OPEN"
          ]
         ],
         "hovertemplate": "Offered=Offered_IN_OPEN_QUOTA<br>NTS=%{x}<br>BA/BSC=%{y}<br>Domicile=%{customdata[0]}<extra></extra>",
         "legendgroup": "Offered_IN_OPEN_QUOTA",
         "marker": {
          "color": "#EF553B",
          "symbol": "circle"
         },
         "mode": "markers",
         "name": "Offered_IN_OPEN_QUOTA",
         "showlegend": true,
         "type": "scatter",
         "x": [
          66,
          49,
          47,
          52,
          53,
          55,
          52,
          60,
          57,
          59,
          52,
          53,
          55,
          56,
          51,
          49,
          54,
          61,
          55,
          51,
          60,
          62,
          68,
          55,
          61,
          53
         ],
         "xaxis": "x",
         "y": [
          505,
          556,
          544,
          519,
          536,
          561,
          613,
          533,
          538,
          530,
          555,
          503,
          531,
          530,
          548,
          547,
          557,
          520,
          533,
          598,
          549,
          524,
          502,
          528,
          542,
          519
         ],
         "yaxis": "y"
        },
        {
         "customdata": [
          [
           "Bahawalpur"
          ],
          [
           "Bahawalpur"
          ],
          [
           "Bahawalpur"
          ],
          [
           "Bahawalpur"
          ],
          [
           "Bahawalpur"
          ],
          [
           "Bahawalpur"
          ],
          [
           "Bahawalpur"
          ],
          [
           "Bahawalpur"
          ],
          [
           "Bahawalpur"
          ],
          [
           "Bahawalpur"
          ],
          [
           "Bahawalpur"
          ],
          [
           "Bahawalpur"
          ],
          [
           "Bahawalpur"
          ],
          [
           "Bahawalpur"
          ],
          [
           "Bahawalpur"
          ],
          [
           "Bahawalpur"
          ],
          [
           "Bahawalpur"
          ],
          [
           "Bahawalpur"
          ],
          [
           "Bahawalpur"
          ],
          [
           "Bahawalpur"
          ],
          [
           "Bahawalpur"
          ],
          [
           "Bahawalpur"
          ],
          [
           "Bahawalpur"
          ],
          [
           "Bahawalpur"
          ],
          [
           "Bahawalpur"
          ]
         ],
         "hovertemplate": "Offered=Offered_IN_BWP_QUOTA<br>NTS=%{x}<br>BA/BSC=%{y}<br>Domicile=%{customdata[0]}<extra></extra>",
         "legendgroup": "Offered_IN_BWP_QUOTA",
         "marker": {
          "color": "#00cc96",
          "symbol": "circle"
         },
         "mode": "markers",
         "name": "Offered_IN_BWP_QUOTA",
         "showlegend": true,
         "type": "scatter",
         "x": [
          41,
          57,
          53,
          53,
          56,
          58,
          47,
          55,
          57,
          63,
          55,
          50,
          58,
          52,
          53,
          53,
          56,
          54,
          54,
          58,
          47,
          58,
          48,
          50,
          53
         ],
         "xaxis": "x",
         "y": [
          538,
          497,
          482,
          489,
          508,
          494,
          495,
          510,
          459,
          488,
          503,
          514,
          480,
          522,
          484,
          492,
          515,
          500,
          494,
          497,
          480,
          470,
          496,
          489,
          509
         ],
         "yaxis": "y"
        }
       ],
       "layout": {
        "legend": {
         "title": {
          "text": "Offered"
         },
         "tracegroupgap": 0
        },
        "margin": {
         "t": 60
        },
        "template": {
         "data": {
          "bar": [
           {
            "error_x": {
             "color": "#2a3f5f"
            },
            "error_y": {
             "color": "#2a3f5f"
            },
            "marker": {
             "line": {
              "color": "#E5ECF6",
              "width": 0.5
             }
            },
            "type": "bar"
           }
          ],
          "barpolar": [
           {
            "marker": {
             "line": {
              "color": "#E5ECF6",
              "width": 0.5
             }
            },
            "type": "barpolar"
           }
          ],
          "carpet": [
           {
            "aaxis": {
             "endlinecolor": "#2a3f5f",
             "gridcolor": "white",
             "linecolor": "white",
             "minorgridcolor": "white",
             "startlinecolor": "#2a3f5f"
            },
            "baxis": {
             "endlinecolor": "#2a3f5f",
             "gridcolor": "white",
             "linecolor": "white",
             "minorgridcolor": "white",
             "startlinecolor": "#2a3f5f"
            },
            "type": "carpet"
           }
          ],
          "choropleth": [
           {
            "colorbar": {
             "outlinewidth": 0,
             "ticks": ""
            },
            "type": "choropleth"
           }
          ],
          "contour": [
           {
            "colorbar": {
             "outlinewidth": 0,
             "ticks": ""
            },
            "colorscale": [
             [
              0,
              "#0d0887"
             ],
             [
              0.1111111111111111,
              "#46039f"
             ],
             [
              0.2222222222222222,
              "#7201a8"
             ],
             [
              0.3333333333333333,
              "#9c179e"
             ],
             [
              0.4444444444444444,
              "#bd3786"
             ],
             [
              0.5555555555555556,
              "#d8576b"
             ],
             [
              0.6666666666666666,
              "#ed7953"
             ],
             [
              0.7777777777777778,
              "#fb9f3a"
             ],
             [
              0.8888888888888888,
              "#fdca26"
             ],
             [
              1,
              "#f0f921"
             ]
            ],
            "type": "contour"
           }
          ],
          "contourcarpet": [
           {
            "colorbar": {
             "outlinewidth": 0,
             "ticks": ""
            },
            "type": "contourcarpet"
           }
          ],
          "heatmap": [
           {
            "colorbar": {
             "outlinewidth": 0,
             "ticks": ""
            },
            "colorscale": [
             [
              0,
              "#0d0887"
             ],
             [
              0.1111111111111111,
              "#46039f"
             ],
             [
              0.2222222222222222,
              "#7201a8"
             ],
             [
              0.3333333333333333,
              "#9c179e"
             ],
             [
              0.4444444444444444,
              "#bd3786"
             ],
             [
              0.5555555555555556,
              "#d8576b"
             ],
             [
              0.6666666666666666,
              "#ed7953"
             ],
             [
              0.7777777777777778,
              "#fb9f3a"
             ],
             [
              0.8888888888888888,
              "#fdca26"
             ],
             [
              1,
              "#f0f921"
             ]
            ],
            "type": "heatmap"
           }
          ],
          "heatmapgl": [
           {
            "colorbar": {
             "outlinewidth": 0,
             "ticks": ""
            },
            "colorscale": [
             [
              0,
              "#0d0887"
             ],
             [
              0.1111111111111111,
              "#46039f"
             ],
             [
              0.2222222222222222,
              "#7201a8"
             ],
             [
              0.3333333333333333,
              "#9c179e"
             ],
             [
              0.4444444444444444,
              "#bd3786"
             ],
             [
              0.5555555555555556,
              "#d8576b"
             ],
             [
              0.6666666666666666,
              "#ed7953"
             ],
             [
              0.7777777777777778,
              "#fb9f3a"
             ],
             [
              0.8888888888888888,
              "#fdca26"
             ],
             [
              1,
              "#f0f921"
             ]
            ],
            "type": "heatmapgl"
           }
          ],
          "histogram": [
           {
            "marker": {
             "colorbar": {
              "outlinewidth": 0,
              "ticks": ""
             }
            },
            "type": "histogram"
           }
          ],
          "histogram2d": [
           {
            "colorbar": {
             "outlinewidth": 0,
             "ticks": ""
            },
            "colorscale": [
             [
              0,
              "#0d0887"
             ],
             [
              0.1111111111111111,
              "#46039f"
             ],
             [
              0.2222222222222222,
              "#7201a8"
             ],
             [
              0.3333333333333333,
              "#9c179e"
             ],
             [
              0.4444444444444444,
              "#bd3786"
             ],
             [
              0.5555555555555556,
              "#d8576b"
             ],
             [
              0.6666666666666666,
              "#ed7953"
             ],
             [
              0.7777777777777778,
              "#fb9f3a"
             ],
             [
              0.8888888888888888,
              "#fdca26"
             ],
             [
              1,
              "#f0f921"
             ]
            ],
            "type": "histogram2d"
           }
          ],
          "histogram2dcontour": [
           {
            "colorbar": {
             "outlinewidth": 0,
             "ticks": ""
            },
            "colorscale": [
             [
              0,
              "#0d0887"
             ],
             [
              0.1111111111111111,
              "#46039f"
             ],
             [
              0.2222222222222222,
              "#7201a8"
             ],
             [
              0.3333333333333333,
              "#9c179e"
             ],
             [
              0.4444444444444444,
              "#bd3786"
             ],
             [
              0.5555555555555556,
              "#d8576b"
             ],
             [
              0.6666666666666666,
              "#ed7953"
             ],
             [
              0.7777777777777778,
              "#fb9f3a"
             ],
             [
              0.8888888888888888,
              "#fdca26"
             ],
             [
              1,
              "#f0f921"
             ]
            ],
            "type": "histogram2dcontour"
           }
          ],
          "mesh3d": [
           {
            "colorbar": {
             "outlinewidth": 0,
             "ticks": ""
            },
            "type": "mesh3d"
           }
          ],
          "parcoords": [
           {
            "line": {
             "colorbar": {
              "outlinewidth": 0,
              "ticks": ""
             }
            },
            "type": "parcoords"
           }
          ],
          "pie": [
           {
            "automargin": true,
            "type": "pie"
           }
          ],
          "scatter": [
           {
            "marker": {
             "colorbar": {
              "outlinewidth": 0,
              "ticks": ""
             }
            },
            "type": "scatter"
           }
          ],
          "scatter3d": [
           {
            "line": {
             "colorbar": {
              "outlinewidth": 0,
              "ticks": ""
             }
            },
            "marker": {
             "colorbar": {
              "outlinewidth": 0,
              "ticks": ""
             }
            },
            "type": "scatter3d"
           }
          ],
          "scattercarpet": [
           {
            "marker": {
             "colorbar": {
              "outlinewidth": 0,
              "ticks": ""
             }
            },
            "type": "scattercarpet"
           }
          ],
          "scattergeo": [
           {
            "marker": {
             "colorbar": {
              "outlinewidth": 0,
              "ticks": ""
             }
            },
            "type": "scattergeo"
           }
          ],
          "scattergl": [
           {
            "marker": {
             "colorbar": {
              "outlinewidth": 0,
              "ticks": ""
             }
            },
            "type": "scattergl"
           }
          ],
          "scattermapbox": [
           {
            "marker": {
             "colorbar": {
              "outlinewidth": 0,
              "ticks": ""
             }
            },
            "type": "scattermapbox"
           }
          ],
          "scatterpolar": [
           {
            "marker": {
             "colorbar": {
              "outlinewidth": 0,
              "ticks": ""
             }
            },
            "type": "scatterpolar"
           }
          ],
          "scatterpolargl": [
           {
            "marker": {
             "colorbar": {
              "outlinewidth": 0,
              "ticks": ""
             }
            },
            "type": "scatterpolargl"
           }
          ],
          "scatterternary": [
           {
            "marker": {
             "colorbar": {
              "outlinewidth": 0,
              "ticks": ""
             }
            },
            "type": "scatterternary"
           }
          ],
          "surface": [
           {
            "colorbar": {
             "outlinewidth": 0,
             "ticks": ""
            },
            "colorscale": [
             [
              0,
              "#0d0887"
             ],
             [
              0.1111111111111111,
              "#46039f"
             ],
             [
              0.2222222222222222,
              "#7201a8"
             ],
             [
              0.3333333333333333,
              "#9c179e"
             ],
             [
              0.4444444444444444,
              "#bd3786"
             ],
             [
              0.5555555555555556,
              "#d8576b"
             ],
             [
              0.6666666666666666,
              "#ed7953"
             ],
             [
              0.7777777777777778,
              "#fb9f3a"
             ],
             [
              0.8888888888888888,
              "#fdca26"
             ],
             [
              1,
              "#f0f921"
             ]
            ],
            "type": "surface"
           }
          ],
          "table": [
           {
            "cells": {
             "fill": {
              "color": "#EBF0F8"
             },
             "line": {
              "color": "white"
             }
            },
            "header": {
             "fill": {
              "color": "#C8D4E3"
             },
             "line": {
              "color": "white"
             }
            },
            "type": "table"
           }
          ]
         },
         "layout": {
          "annotationdefaults": {
           "arrowcolor": "#2a3f5f",
           "arrowhead": 0,
           "arrowwidth": 1
          },
          "coloraxis": {
           "colorbar": {
            "outlinewidth": 0,
            "ticks": ""
           }
          },
          "colorscale": {
           "diverging": [
            [
             0,
             "#8e0152"
            ],
            [
             0.1,
             "#c51b7d"
            ],
            [
             0.2,
             "#de77ae"
            ],
            [
             0.3,
             "#f1b6da"
            ],
            [
             0.4,
             "#fde0ef"
            ],
            [
             0.5,
             "#f7f7f7"
            ],
            [
             0.6,
             "#e6f5d0"
            ],
            [
             0.7,
             "#b8e186"
            ],
            [
             0.8,
             "#7fbc41"
            ],
            [
             0.9,
             "#4d9221"
            ],
            [
             1,
             "#276419"
            ]
           ],
           "sequential": [
            [
             0,
             "#0d0887"
            ],
            [
             0.1111111111111111,
             "#46039f"
            ],
            [
             0.2222222222222222,
             "#7201a8"
            ],
            [
             0.3333333333333333,
             "#9c179e"
            ],
            [
             0.4444444444444444,
             "#bd3786"
            ],
            [
             0.5555555555555556,
             "#d8576b"
            ],
            [
             0.6666666666666666,
             "#ed7953"
            ],
            [
             0.7777777777777778,
             "#fb9f3a"
            ],
            [
             0.8888888888888888,
             "#fdca26"
            ],
            [
             1,
             "#f0f921"
            ]
           ],
           "sequentialminus": [
            [
             0,
             "#0d0887"
            ],
            [
             0.1111111111111111,
             "#46039f"
            ],
            [
             0.2222222222222222,
             "#7201a8"
            ],
            [
             0.3333333333333333,
             "#9c179e"
            ],
            [
             0.4444444444444444,
             "#bd3786"
            ],
            [
             0.5555555555555556,
             "#d8576b"
            ],
            [
             0.6666666666666666,
             "#ed7953"
            ],
            [
             0.7777777777777778,
             "#fb9f3a"
            ],
            [
             0.8888888888888888,
             "#fdca26"
            ],
            [
             1,
             "#f0f921"
            ]
           ]
          },
          "colorway": [
           "#636efa",
           "#EF553B",
           "#00cc96",
           "#ab63fa",
           "#FFA15A",
           "#19d3f3",
           "#FF6692",
           "#B6E880",
           "#FF97FF",
           "#FECB52"
          ],
          "font": {
           "color": "#2a3f5f"
          },
          "geo": {
           "bgcolor": "white",
           "lakecolor": "white",
           "landcolor": "#E5ECF6",
           "showlakes": true,
           "showland": true,
           "subunitcolor": "white"
          },
          "hoverlabel": {
           "align": "left"
          },
          "hovermode": "closest",
          "mapbox": {
           "style": "light"
          },
          "paper_bgcolor": "white",
          "plot_bgcolor": "#E5ECF6",
          "polar": {
           "angularaxis": {
            "gridcolor": "white",
            "linecolor": "white",
            "ticks": ""
           },
           "bgcolor": "#E5ECF6",
           "radialaxis": {
            "gridcolor": "white",
            "linecolor": "white",
            "ticks": ""
           }
          },
          "scene": {
           "xaxis": {
            "backgroundcolor": "#E5ECF6",
            "gridcolor": "white",
            "gridwidth": 2,
            "linecolor": "white",
            "showbackground": true,
            "ticks": "",
            "zerolinecolor": "white"
           },
           "yaxis": {
            "backgroundcolor": "#E5ECF6",
            "gridcolor": "white",
            "gridwidth": 2,
            "linecolor": "white",
            "showbackground": true,
            "ticks": "",
            "zerolinecolor": "white"
           },
           "zaxis": {
            "backgroundcolor": "#E5ECF6",
            "gridcolor": "white",
            "gridwidth": 2,
            "linecolor": "white",
            "showbackground": true,
            "ticks": "",
            "zerolinecolor": "white"
           }
          },
          "shapedefaults": {
           "line": {
            "color": "#2a3f5f"
           }
          },
          "ternary": {
           "aaxis": {
            "gridcolor": "white",
            "linecolor": "white",
            "ticks": ""
           },
           "baxis": {
            "gridcolor": "white",
            "linecolor": "white",
            "ticks": ""
           },
           "bgcolor": "#E5ECF6",
           "caxis": {
            "gridcolor": "white",
            "linecolor": "white",
            "ticks": ""
           }
          },
          "title": {
           "x": 0.05
          },
          "xaxis": {
           "automargin": true,
           "gridcolor": "white",
           "linecolor": "white",
           "ticks": "",
           "title": {
            "standoff": 15
           },
           "zerolinecolor": "white",
           "zerolinewidth": 2
          },
          "yaxis": {
           "automargin": true,
           "gridcolor": "white",
           "linecolor": "white",
           "ticks": "",
           "title": {
            "standoff": 15
           },
           "zerolinecolor": "white",
           "zerolinewidth": 2
          }
         }
        },
        "xaxis": {
         "anchor": "y",
         "domain": [
          0,
          1
         ],
         "title": {
          "text": "NTS"
         }
        },
        "yaxis": {
         "anchor": "x",
         "domain": [
          0,
          1
         ],
         "title": {
          "text": "BA/BSC"
         }
        }
       }
      },
      "text/html": [
       "<div>\n",
       "        \n",
       "        \n",
       "            <div id=\"5577950c-5945-49be-a342-9df61bbe0bd1\" class=\"plotly-graph-div\" style=\"height:525px; width:100%;\"></div>\n",
       "            <script type=\"text/javascript\">\n",
       "                require([\"plotly\"], function(Plotly) {\n",
       "                    window.PLOTLYENV=window.PLOTLYENV || {};\n",
       "                    \n",
       "                if (document.getElementById(\"5577950c-5945-49be-a342-9df61bbe0bd1\")) {\n",
       "                    Plotly.newPlot(\n",
       "                        '5577950c-5945-49be-a342-9df61bbe0bd1',\n",
       "                        [{\"customdata\": [[\"Bahawalpur\"], [\"Bahawalpur\"], [\"Bahawalpur\"], [\"Bahawalpur\"], [\"Bahawalpur\"], [\"Bahawalpur\"], [\"Bahawalpur\"], [\"Bahawalpur\"], [\"Bahawalpur\"], [\"Bahawalpur\"], [\"Bahawalpur\"], [\"Bahawalpur\"], [\"Bahawalpur\"], [\"Bahawalpur\"], [\"Bahawalpur\"], [\"Bahawalpur\"], [\"OPEN\"], [\"Bahawalpur\"], [\"Bahawalpur\"], [\"Bahawalpur\"], [\"Bahawalpur\"], [\"Bahawalpur\"], [\"Bahawalpur\"], [\"Bahawalpur\"], [\"Bahawalpur\"], [\"Bahawalpur\"], [\"Bahawalpur\"], [\"Bahawalpur\"], [\"Bahawalpur\"], [\"Bahawalpur\"], [\"Bahawalpur\"], [\"Bahawalpur\"], [\"Bahawalpur\"], [\"Bahawalpur\"], [\"Bahawalpur\"], [\"Bahawalpur\"], [\"Bahawalpur\"], [\"Bahawalpur\"], [\"Bahawalpur\"], [\"Bahawalpur\"], [\"Bahawalpur\"], [\"Bahawalpur\"], [\"Bahawalpur\"], [\"Bahawalpur\"], [\"Bahawalpur\"], [\"Bahawalpur\"], [\"Bahawalpur\"], [\"Bahawalpur\"], [\"Bahawalpur\"], [\"Bahawalpur\"], [\"Bahawalpur\"], [\"Bahawalpur\"], [\"Bahawalpur\"], [\"Bahawalpur\"], [\"Bahawalpur\"], [\"Bahawalpur\"], [\"OPEN\"], [\"Bahawalpur\"], [\"OPEN\"], [\"OPEN\"], [\"OPEN\"], [\"OPEN\"], [\"OPEN\"], [\"OPEN\"], [\"OPEN\"]], \"hovertemplate\": \"Offered=Not Offered<br>NTS=%{x}<br>BA/BSC=%{y}<br>Domicile=%{customdata[0]}<extra></extra>\", \"legendgroup\": \"Not Offered\", \"marker\": {\"color\": \"#636efa\", \"symbol\": \"circle\"}, \"mode\": \"markers\", \"name\": \"Not Offered\", \"showlegend\": true, \"type\": \"scatter\", \"x\": [47, 49, 58, 50, 62, 58, 47, 46, 56, 40, 44, 45, 49, 59, 49, 46, 52, 50, 50, 59, 63, 49, 49, 50, 47, 58, 59, 45, 45, 49, 58, 50, 62, 62, 47, 61, 56, 51, 61, 56, 53, 64, 52, 58, 43, 62, 50, 54, 49, 49, 63, 52, 48, 50, 50, 49, 27, 47, 53, 66, 58, 57, 60, 41, 57], \"xaxis\": \"x\", \"y\": [567, 465, 442, 437, 461, 471, 573, 397, 466, 509, 464, 470, 530, 461, 453, 465, 457, 458, 453, 447, 440, 467, 592, 461, 492, 456, 444, 463, 486, 490, 487, 582, 420, 548, 462, 450, 492, 454, 520, 503, 480, 438, 464, 470, 458, 438, 482, 480, 464, 482, 432, 480, 430, 465, 444, 480, 568, 469, 507, 468, 494, 509, 504, 459, 502], \"yaxis\": \"y\"}, {\"customdata\": [[\"Bahawalpur\"], [\"Bahawalpur\"], [\"Bahawalpur\"], [\"Bahawalpur\"], [\"Bahawalpur\"], [\"Bahawalpur\"], [\"Bahawalpur\"], [\"Bahawalpur\"], [\"Bahawalpur\"], [\"Bahawalpur\"], [\"Bahawalpur\"], [\"Bahawalpur\"], [\"Bahawalpur\"], [\"Bahawalpur\"], [\"Bahawalpur\"], [\"Bahawalpur\"], [\"Bahawalpur\"], [\"Bahawalpur\"], [\"Bahawalpur\"], [\"Bahawalpur\"], [\"Bahawalpur\"], [\"Bahawalpur\"], [\"Bahawalpur\"], [\"Bahawalpur\"], [\"OPEN\"], [\"OPEN\"]], \"hovertemplate\": \"Offered=Offered_IN_OPEN_QUOTA<br>NTS=%{x}<br>BA/BSC=%{y}<br>Domicile=%{customdata[0]}<extra></extra>\", \"legendgroup\": \"Offered_IN_OPEN_QUOTA\", \"marker\": {\"color\": \"#EF553B\", \"symbol\": \"circle\"}, \"mode\": \"markers\", \"name\": \"Offered_IN_OPEN_QUOTA\", \"showlegend\": true, \"type\": \"scatter\", \"x\": [66, 49, 47, 52, 53, 55, 52, 60, 57, 59, 52, 53, 55, 56, 51, 49, 54, 61, 55, 51, 60, 62, 68, 55, 61, 53], \"xaxis\": \"x\", \"y\": [505, 556, 544, 519, 536, 561, 613, 533, 538, 530, 555, 503, 531, 530, 548, 547, 557, 520, 533, 598, 549, 524, 502, 528, 542, 519], \"yaxis\": \"y\"}, {\"customdata\": [[\"Bahawalpur\"], [\"Bahawalpur\"], [\"Bahawalpur\"], [\"Bahawalpur\"], [\"Bahawalpur\"], [\"Bahawalpur\"], [\"Bahawalpur\"], [\"Bahawalpur\"], [\"Bahawalpur\"], [\"Bahawalpur\"], [\"Bahawalpur\"], [\"Bahawalpur\"], [\"Bahawalpur\"], [\"Bahawalpur\"], [\"Bahawalpur\"], [\"Bahawalpur\"], [\"Bahawalpur\"], [\"Bahawalpur\"], [\"Bahawalpur\"], [\"Bahawalpur\"], [\"Bahawalpur\"], [\"Bahawalpur\"], [\"Bahawalpur\"], [\"Bahawalpur\"], [\"Bahawalpur\"]], \"hovertemplate\": \"Offered=Offered_IN_BWP_QUOTA<br>NTS=%{x}<br>BA/BSC=%{y}<br>Domicile=%{customdata[0]}<extra></extra>\", \"legendgroup\": \"Offered_IN_BWP_QUOTA\", \"marker\": {\"color\": \"#00cc96\", \"symbol\": \"circle\"}, \"mode\": \"markers\", \"name\": \"Offered_IN_BWP_QUOTA\", \"showlegend\": true, \"type\": \"scatter\", \"x\": [41, 57, 53, 53, 56, 58, 47, 55, 57, 63, 55, 50, 58, 52, 53, 53, 56, 54, 54, 58, 47, 58, 48, 50, 53], \"xaxis\": \"x\", \"y\": [538, 497, 482, 489, 508, 494, 495, 510, 459, 488, 503, 514, 480, 522, 484, 492, 515, 500, 494, 497, 480, 470, 496, 489, 509], \"yaxis\": \"y\"}],\n",
       "                        {\"legend\": {\"title\": {\"text\": \"Offered\"}, \"tracegroupgap\": 0}, \"margin\": {\"t\": 60}, \"template\": {\"data\": {\"bar\": [{\"error_x\": {\"color\": \"#2a3f5f\"}, \"error_y\": {\"color\": \"#2a3f5f\"}, \"marker\": {\"line\": {\"color\": \"#E5ECF6\", \"width\": 0.5}}, \"type\": \"bar\"}], \"barpolar\": [{\"marker\": {\"line\": {\"color\": \"#E5ECF6\", \"width\": 0.5}}, \"type\": \"barpolar\"}], \"carpet\": [{\"aaxis\": {\"endlinecolor\": \"#2a3f5f\", \"gridcolor\": \"white\", \"linecolor\": \"white\", \"minorgridcolor\": \"white\", \"startlinecolor\": \"#2a3f5f\"}, \"baxis\": {\"endlinecolor\": \"#2a3f5f\", \"gridcolor\": \"white\", \"linecolor\": \"white\", \"minorgridcolor\": \"white\", \"startlinecolor\": \"#2a3f5f\"}, \"type\": \"carpet\"}], \"choropleth\": [{\"colorbar\": {\"outlinewidth\": 0, \"ticks\": \"\"}, \"type\": \"choropleth\"}], \"contour\": [{\"colorbar\": {\"outlinewidth\": 0, \"ticks\": \"\"}, \"colorscale\": [[0.0, \"#0d0887\"], [0.1111111111111111, \"#46039f\"], [0.2222222222222222, \"#7201a8\"], [0.3333333333333333, \"#9c179e\"], [0.4444444444444444, \"#bd3786\"], [0.5555555555555556, \"#d8576b\"], [0.6666666666666666, \"#ed7953\"], [0.7777777777777778, \"#fb9f3a\"], [0.8888888888888888, \"#fdca26\"], [1.0, \"#f0f921\"]], \"type\": \"contour\"}], \"contourcarpet\": [{\"colorbar\": {\"outlinewidth\": 0, \"ticks\": \"\"}, \"type\": \"contourcarpet\"}], \"heatmap\": [{\"colorbar\": {\"outlinewidth\": 0, \"ticks\": \"\"}, \"colorscale\": [[0.0, \"#0d0887\"], [0.1111111111111111, \"#46039f\"], [0.2222222222222222, \"#7201a8\"], [0.3333333333333333, \"#9c179e\"], [0.4444444444444444, \"#bd3786\"], [0.5555555555555556, \"#d8576b\"], [0.6666666666666666, \"#ed7953\"], [0.7777777777777778, \"#fb9f3a\"], [0.8888888888888888, \"#fdca26\"], [1.0, \"#f0f921\"]], \"type\": \"heatmap\"}], \"heatmapgl\": [{\"colorbar\": {\"outlinewidth\": 0, \"ticks\": \"\"}, \"colorscale\": [[0.0, \"#0d0887\"], [0.1111111111111111, \"#46039f\"], [0.2222222222222222, \"#7201a8\"], [0.3333333333333333, \"#9c179e\"], [0.4444444444444444, \"#bd3786\"], [0.5555555555555556, \"#d8576b\"], [0.6666666666666666, \"#ed7953\"], [0.7777777777777778, \"#fb9f3a\"], [0.8888888888888888, \"#fdca26\"], [1.0, \"#f0f921\"]], \"type\": \"heatmapgl\"}], \"histogram\": [{\"marker\": {\"colorbar\": {\"outlinewidth\": 0, \"ticks\": \"\"}}, \"type\": \"histogram\"}], \"histogram2d\": [{\"colorbar\": {\"outlinewidth\": 0, \"ticks\": \"\"}, \"colorscale\": [[0.0, \"#0d0887\"], [0.1111111111111111, \"#46039f\"], [0.2222222222222222, \"#7201a8\"], [0.3333333333333333, \"#9c179e\"], [0.4444444444444444, \"#bd3786\"], [0.5555555555555556, \"#d8576b\"], [0.6666666666666666, \"#ed7953\"], [0.7777777777777778, \"#fb9f3a\"], [0.8888888888888888, \"#fdca26\"], [1.0, \"#f0f921\"]], \"type\": \"histogram2d\"}], \"histogram2dcontour\": [{\"colorbar\": {\"outlinewidth\": 0, \"ticks\": \"\"}, \"colorscale\": [[0.0, \"#0d0887\"], [0.1111111111111111, \"#46039f\"], [0.2222222222222222, \"#7201a8\"], [0.3333333333333333, \"#9c179e\"], [0.4444444444444444, \"#bd3786\"], [0.5555555555555556, \"#d8576b\"], [0.6666666666666666, \"#ed7953\"], [0.7777777777777778, \"#fb9f3a\"], [0.8888888888888888, \"#fdca26\"], [1.0, \"#f0f921\"]], \"type\": \"histogram2dcontour\"}], \"mesh3d\": [{\"colorbar\": {\"outlinewidth\": 0, \"ticks\": \"\"}, \"type\": \"mesh3d\"}], \"parcoords\": [{\"line\": {\"colorbar\": {\"outlinewidth\": 0, \"ticks\": \"\"}}, \"type\": \"parcoords\"}], \"pie\": [{\"automargin\": true, \"type\": \"pie\"}], \"scatter\": [{\"marker\": {\"colorbar\": {\"outlinewidth\": 0, \"ticks\": \"\"}}, \"type\": \"scatter\"}], \"scatter3d\": [{\"line\": {\"colorbar\": {\"outlinewidth\": 0, \"ticks\": \"\"}}, \"marker\": {\"colorbar\": {\"outlinewidth\": 0, \"ticks\": \"\"}}, \"type\": \"scatter3d\"}], \"scattercarpet\": [{\"marker\": {\"colorbar\": {\"outlinewidth\": 0, \"ticks\": \"\"}}, \"type\": \"scattercarpet\"}], \"scattergeo\": [{\"marker\": {\"colorbar\": {\"outlinewidth\": 0, \"ticks\": \"\"}}, \"type\": \"scattergeo\"}], \"scattergl\": [{\"marker\": {\"colorbar\": {\"outlinewidth\": 0, \"ticks\": \"\"}}, \"type\": \"scattergl\"}], \"scattermapbox\": [{\"marker\": {\"colorbar\": {\"outlinewidth\": 0, \"ticks\": \"\"}}, \"type\": \"scattermapbox\"}], \"scatterpolar\": [{\"marker\": {\"colorbar\": {\"outlinewidth\": 0, \"ticks\": \"\"}}, \"type\": \"scatterpolar\"}], \"scatterpolargl\": [{\"marker\": {\"colorbar\": {\"outlinewidth\": 0, \"ticks\": \"\"}}, \"type\": \"scatterpolargl\"}], \"scatterternary\": [{\"marker\": {\"colorbar\": {\"outlinewidth\": 0, \"ticks\": \"\"}}, \"type\": \"scatterternary\"}], \"surface\": [{\"colorbar\": {\"outlinewidth\": 0, \"ticks\": \"\"}, \"colorscale\": [[0.0, \"#0d0887\"], [0.1111111111111111, \"#46039f\"], [0.2222222222222222, \"#7201a8\"], [0.3333333333333333, \"#9c179e\"], [0.4444444444444444, \"#bd3786\"], [0.5555555555555556, \"#d8576b\"], [0.6666666666666666, \"#ed7953\"], [0.7777777777777778, \"#fb9f3a\"], [0.8888888888888888, \"#fdca26\"], [1.0, \"#f0f921\"]], \"type\": \"surface\"}], \"table\": [{\"cells\": {\"fill\": {\"color\": \"#EBF0F8\"}, \"line\": {\"color\": \"white\"}}, \"header\": {\"fill\": {\"color\": \"#C8D4E3\"}, \"line\": {\"color\": \"white\"}}, \"type\": \"table\"}]}, \"layout\": {\"annotationdefaults\": {\"arrowcolor\": \"#2a3f5f\", \"arrowhead\": 0, \"arrowwidth\": 1}, \"coloraxis\": {\"colorbar\": {\"outlinewidth\": 0, \"ticks\": \"\"}}, \"colorscale\": {\"diverging\": [[0, \"#8e0152\"], [0.1, \"#c51b7d\"], [0.2, \"#de77ae\"], [0.3, \"#f1b6da\"], [0.4, \"#fde0ef\"], [0.5, \"#f7f7f7\"], [0.6, \"#e6f5d0\"], [0.7, \"#b8e186\"], [0.8, \"#7fbc41\"], [0.9, \"#4d9221\"], [1, \"#276419\"]], \"sequential\": [[0.0, \"#0d0887\"], [0.1111111111111111, \"#46039f\"], [0.2222222222222222, \"#7201a8\"], [0.3333333333333333, \"#9c179e\"], [0.4444444444444444, \"#bd3786\"], [0.5555555555555556, \"#d8576b\"], [0.6666666666666666, \"#ed7953\"], [0.7777777777777778, \"#fb9f3a\"], [0.8888888888888888, \"#fdca26\"], [1.0, \"#f0f921\"]], \"sequentialminus\": [[0.0, \"#0d0887\"], [0.1111111111111111, \"#46039f\"], [0.2222222222222222, \"#7201a8\"], [0.3333333333333333, \"#9c179e\"], [0.4444444444444444, \"#bd3786\"], [0.5555555555555556, \"#d8576b\"], [0.6666666666666666, \"#ed7953\"], [0.7777777777777778, \"#fb9f3a\"], [0.8888888888888888, \"#fdca26\"], [1.0, \"#f0f921\"]]}, \"colorway\": [\"#636efa\", \"#EF553B\", \"#00cc96\", \"#ab63fa\", \"#FFA15A\", \"#19d3f3\", \"#FF6692\", \"#B6E880\", \"#FF97FF\", \"#FECB52\"], \"font\": {\"color\": \"#2a3f5f\"}, \"geo\": {\"bgcolor\": \"white\", \"lakecolor\": \"white\", \"landcolor\": \"#E5ECF6\", \"showlakes\": true, \"showland\": true, \"subunitcolor\": \"white\"}, \"hoverlabel\": {\"align\": \"left\"}, \"hovermode\": \"closest\", \"mapbox\": {\"style\": \"light\"}, \"paper_bgcolor\": \"white\", \"plot_bgcolor\": \"#E5ECF6\", \"polar\": {\"angularaxis\": {\"gridcolor\": \"white\", \"linecolor\": \"white\", \"ticks\": \"\"}, \"bgcolor\": \"#E5ECF6\", \"radialaxis\": {\"gridcolor\": \"white\", \"linecolor\": \"white\", \"ticks\": \"\"}}, \"scene\": {\"xaxis\": {\"backgroundcolor\": \"#E5ECF6\", \"gridcolor\": \"white\", \"gridwidth\": 2, \"linecolor\": \"white\", \"showbackground\": true, \"ticks\": \"\", \"zerolinecolor\": \"white\"}, \"yaxis\": {\"backgroundcolor\": \"#E5ECF6\", \"gridcolor\": \"white\", \"gridwidth\": 2, \"linecolor\": \"white\", \"showbackground\": true, \"ticks\": \"\", \"zerolinecolor\": \"white\"}, \"zaxis\": {\"backgroundcolor\": \"#E5ECF6\", \"gridcolor\": \"white\", \"gridwidth\": 2, \"linecolor\": \"white\", \"showbackground\": true, \"ticks\": \"\", \"zerolinecolor\": \"white\"}}, \"shapedefaults\": {\"line\": {\"color\": \"#2a3f5f\"}}, \"ternary\": {\"aaxis\": {\"gridcolor\": \"white\", \"linecolor\": \"white\", \"ticks\": \"\"}, \"baxis\": {\"gridcolor\": \"white\", \"linecolor\": \"white\", \"ticks\": \"\"}, \"bgcolor\": \"#E5ECF6\", \"caxis\": {\"gridcolor\": \"white\", \"linecolor\": \"white\", \"ticks\": \"\"}}, \"title\": {\"x\": 0.05}, \"xaxis\": {\"automargin\": true, \"gridcolor\": \"white\", \"linecolor\": \"white\", \"ticks\": \"\", \"title\": {\"standoff\": 15}, \"zerolinecolor\": \"white\", \"zerolinewidth\": 2}, \"yaxis\": {\"automargin\": true, \"gridcolor\": \"white\", \"linecolor\": \"white\", \"ticks\": \"\", \"title\": {\"standoff\": 15}, \"zerolinecolor\": \"white\", \"zerolinewidth\": 2}}}, \"xaxis\": {\"anchor\": \"y\", \"domain\": [0.0, 1.0], \"title\": {\"text\": \"NTS\"}}, \"yaxis\": {\"anchor\": \"x\", \"domain\": [0.0, 1.0], \"title\": {\"text\": \"BA/BSC\"}}},\n",
       "                        {\"responsive\": true}\n",
       "                    ).then(function(){\n",
       "                            \n",
       "var gd = document.getElementById('5577950c-5945-49be-a342-9df61bbe0bd1');\n",
       "var x = new MutationObserver(function (mutations, observer) {{\n",
       "        var display = window.getComputedStyle(gd).display;\n",
       "        if (!display || display === 'none') {{\n",
       "            console.log([gd, 'removed!']);\n",
       "            Plotly.purge(gd);\n",
       "            observer.disconnect();\n",
       "        }}\n",
       "}});\n",
       "\n",
       "// Listen for the removal of the full notebook cells\n",
       "var notebookContainer = gd.closest('#notebook-container');\n",
       "if (notebookContainer) {{\n",
       "    x.observe(notebookContainer, {childList: true});\n",
       "}}\n",
       "\n",
       "// Listen for the clearing of the current output cell\n",
       "var outputEl = gd.closest('.output');\n",
       "if (outputEl) {{\n",
       "    x.observe(outputEl, {childList: true});\n",
       "}}\n",
       "\n",
       "                        })\n",
       "                };\n",
       "                });\n",
       "            </script>\n",
       "        </div>"
      ]
     },
     "metadata": {},
     "output_type": "display_data"
    }
   ],
   "source": [
    "# x and y given as DataFrame columns\n",
    "import plotly.express as px\n",
    "import pandas as pd\n",
    "df = pd.read_csv('dataset/sp18/sp18-for-weka-63-2019-04-12-qouta-wise-offered.csv')\n",
    "print(df.columns)\n",
    "fig = px.scatter(df, x=\"NTS\", y=\"BA/BSC\",color=\"Offered\",hover_data=['Domicile'])\n",
    "fig.show()"
   ]
  },
  {
   "cell_type": "code",
   "execution_count": 3,
   "metadata": {},
   "outputs": [
    {
     "name": "stdout",
     "output_type": "stream",
     "text": [
      "Index(['Quota', 'Admision-Test', 'Terminal-Degree', 'Result'], dtype='object')\n"
     ]
    },
    {
     "data": {
      "application/vnd.plotly.v1+json": {
       "config": {
        "plotlyServerURL": "https://plot.ly"
       },
       "data": [
        {
         "customdata": [
          [
           "Bahawalpur"
          ],
          [
           "Bahawalpur"
          ],
          [
           "Bahawalpur"
          ],
          [
           "Bahawalpur"
          ],
          [
           "Bahawalpur"
          ],
          [
           "Bahawalpur"
          ],
          [
           "Bahawalpur"
          ],
          [
           "Bahawalpur"
          ],
          [
           "Bahawalpur"
          ],
          [
           "Bahawalpur"
          ],
          [
           "Bahawalpur"
          ],
          [
           "Bahawalpur"
          ],
          [
           "Bahawalpur"
          ],
          [
           "Bahawalpur"
          ],
          [
           "Bahawalpur"
          ],
          [
           "Bahawalpur"
          ],
          [
           "OPEN"
          ],
          [
           "Bahawalpur"
          ],
          [
           "Bahawalpur"
          ],
          [
           "Bahawalpur"
          ],
          [
           "Bahawalpur"
          ],
          [
           "Bahawalpur"
          ],
          [
           "Bahawalpur"
          ],
          [
           "Bahawalpur"
          ],
          [
           "Bahawalpur"
          ],
          [
           "Bahawalpur"
          ],
          [
           "Bahawalpur"
          ],
          [
           "Bahawalpur"
          ],
          [
           "Bahawalpur"
          ],
          [
           "Bahawalpur"
          ],
          [
           "Bahawalpur"
          ],
          [
           "Bahawalpur"
          ],
          [
           "Bahawalpur"
          ],
          [
           "Bahawalpur"
          ],
          [
           "Bahawalpur"
          ],
          [
           "Bahawalpur"
          ],
          [
           "Bahawalpur"
          ],
          [
           "Bahawalpur"
          ],
          [
           "Bahawalpur"
          ],
          [
           "Bahawalpur"
          ],
          [
           "Bahawalpur"
          ],
          [
           "Bahawalpur"
          ],
          [
           "Bahawalpur"
          ],
          [
           "Bahawalpur"
          ],
          [
           "Bahawalpur"
          ],
          [
           "Bahawalpur"
          ],
          [
           "Bahawalpur"
          ],
          [
           "Bahawalpur"
          ],
          [
           "Bahawalpur"
          ],
          [
           "Bahawalpur"
          ],
          [
           "Bahawalpur"
          ],
          [
           "Bahawalpur"
          ],
          [
           "Bahawalpur"
          ],
          [
           "Bahawalpur"
          ],
          [
           "Bahawalpur"
          ],
          [
           "Bahawalpur"
          ],
          [
           "OPEN"
          ],
          [
           "Bahawalpur"
          ],
          [
           "OPEN"
          ],
          [
           "OPEN"
          ],
          [
           "OPEN"
          ],
          [
           "OPEN"
          ],
          [
           "OPEN"
          ],
          [
           "OPEN"
          ],
          [
           "OPEN"
          ]
         ],
         "hovertemplate": "Result=Rejected<br>Admision-Test=%{x}<br>Terminal-Degree=%{y}<br>Quota=%{customdata[0]}<extra></extra>",
         "legendgroup": "Rejected",
         "marker": {
          "color": "#636efa",
          "symbol": "circle"
         },
         "mode": "markers",
         "name": "Rejected",
         "showlegend": true,
         "type": "scatter",
         "x": [
          47,
          49,
          58,
          50,
          62,
          58,
          47,
          46,
          56,
          40,
          44,
          45,
          49,
          59,
          49,
          46,
          52,
          50,
          50,
          59,
          63,
          49,
          49,
          50,
          47,
          58,
          59,
          45,
          45,
          49,
          58,
          50,
          62,
          62,
          47,
          61,
          56,
          51,
          61,
          56,
          53,
          64,
          52,
          58,
          43,
          62,
          50,
          54,
          49,
          49,
          63,
          52,
          48,
          50,
          50,
          49,
          27,
          47,
          53,
          66,
          58,
          57,
          60,
          41,
          57
         ],
         "xaxis": "x",
         "y": [
          567,
          465,
          442,
          437,
          461,
          471,
          593,
          397,
          466,
          509,
          464,
          470,
          530,
          461,
          453,
          465,
          457,
          458,
          453,
          447,
          440,
          487,
          592,
          461,
          492,
          456,
          444,
          463,
          486,
          490,
          507,
          582,
          420,
          548,
          462,
          450,
          492,
          454,
          520,
          503,
          480,
          438,
          464,
          470,
          458,
          438,
          482,
          480,
          464,
          482,
          432,
          480,
          450,
          465,
          444,
          480,
          568,
          469,
          507,
          468,
          494,
          509,
          504,
          459,
          502
         ],
         "yaxis": "y"
        },
        {
         "customdata": [
          [
           "Bahawalpur"
          ],
          [
           "Bahawalpur"
          ],
          [
           "Bahawalpur"
          ],
          [
           "Bahawalpur"
          ],
          [
           "Bahawalpur"
          ],
          [
           "Bahawalpur"
          ],
          [
           "Bahawalpur"
          ],
          [
           "Bahawalpur"
          ],
          [
           "Bahawalpur"
          ],
          [
           "Bahawalpur"
          ],
          [
           "Bahawalpur"
          ],
          [
           "Bahawalpur"
          ],
          [
           "Bahawalpur"
          ],
          [
           "Bahawalpur"
          ],
          [
           "Bahawalpur"
          ],
          [
           "Bahawalpur"
          ],
          [
           "Bahawalpur"
          ],
          [
           "Bahawalpur"
          ],
          [
           "Bahawalpur"
          ],
          [
           "Bahawalpur"
          ],
          [
           "Bahawalpur"
          ],
          [
           "Bahawalpur"
          ],
          [
           "Bahawalpur"
          ],
          [
           "Bahawalpur"
          ],
          [
           "Bahawalpur"
          ],
          [
           "Bahawalpur"
          ],
          [
           "Bahawalpur"
          ],
          [
           "Bahawalpur"
          ],
          [
           "Bahawalpur"
          ],
          [
           "Bahawalpur"
          ],
          [
           "Bahawalpur"
          ],
          [
           "Bahawalpur"
          ],
          [
           "Bahawalpur"
          ],
          [
           "Bahawalpur"
          ],
          [
           "Bahawalpur"
          ],
          [
           "Bahawalpur"
          ],
          [
           "Bahawalpur"
          ],
          [
           "Bahawalpur"
          ],
          [
           "Bahawalpur"
          ],
          [
           "Bahawalpur"
          ],
          [
           "Bahawalpur"
          ],
          [
           "Bahawalpur"
          ],
          [
           "Bahawalpur"
          ],
          [
           "Bahawalpur"
          ],
          [
           "Bahawalpur"
          ],
          [
           "Bahawalpur"
          ],
          [
           "Bahawalpur"
          ],
          [
           "Bahawalpur"
          ],
          [
           "OPEN"
          ],
          [
           "OPEN"
          ],
          [
           "Bahawalpur"
          ]
         ],
         "hovertemplate": "Result=Admitted<br>Admision-Test=%{x}<br>Terminal-Degree=%{y}<br>Quota=%{customdata[0]}<extra></extra>",
         "legendgroup": "Admitted",
         "marker": {
          "color": "#EF553B",
          "symbol": "circle"
         },
         "mode": "markers",
         "name": "Admitted",
         "showlegend": true,
         "type": "scatter",
         "x": [
          66,
          41,
          57,
          49,
          53,
          47,
          53,
          52,
          53,
          56,
          55,
          52,
          58,
          47,
          60,
          57,
          55,
          57,
          63,
          55,
          50,
          58,
          52,
          59,
          52,
          53,
          53,
          53,
          56,
          55,
          54,
          56,
          51,
          49,
          54,
          61,
          54,
          58,
          55,
          47,
          58,
          48,
          50,
          51,
          60,
          62,
          68,
          55,
          61,
          53,
          53
         ],
         "xaxis": "x",
         "y": [
          525,
          538,
          497,
          556,
          482,
          544,
          489,
          539,
          536,
          508,
          561,
          613,
          494,
          495,
          533,
          538,
          510,
          479,
          488,
          503,
          534,
          480,
          522,
          530,
          555,
          484,
          523,
          492,
          515,
          531,
          500,
          530,
          548,
          547,
          557,
          520,
          494,
          497,
          533,
          500,
          470,
          496,
          489,
          598,
          549,
          524,
          502,
          528,
          542,
          519,
          509
         ],
         "yaxis": "y"
        }
       ],
       "layout": {
        "legend": {
         "title": {
          "text": "Result"
         },
         "tracegroupgap": 0
        },
        "margin": {
         "t": 60
        },
        "template": {
         "data": {
          "bar": [
           {
            "error_x": {
             "color": "#2a3f5f"
            },
            "error_y": {
             "color": "#2a3f5f"
            },
            "marker": {
             "line": {
              "color": "#E5ECF6",
              "width": 0.5
             }
            },
            "type": "bar"
           }
          ],
          "barpolar": [
           {
            "marker": {
             "line": {
              "color": "#E5ECF6",
              "width": 0.5
             }
            },
            "type": "barpolar"
           }
          ],
          "carpet": [
           {
            "aaxis": {
             "endlinecolor": "#2a3f5f",
             "gridcolor": "white",
             "linecolor": "white",
             "minorgridcolor": "white",
             "startlinecolor": "#2a3f5f"
            },
            "baxis": {
             "endlinecolor": "#2a3f5f",
             "gridcolor": "white",
             "linecolor": "white",
             "minorgridcolor": "white",
             "startlinecolor": "#2a3f5f"
            },
            "type": "carpet"
           }
          ],
          "choropleth": [
           {
            "colorbar": {
             "outlinewidth": 0,
             "ticks": ""
            },
            "type": "choropleth"
           }
          ],
          "contour": [
           {
            "colorbar": {
             "outlinewidth": 0,
             "ticks": ""
            },
            "colorscale": [
             [
              0,
              "#0d0887"
             ],
             [
              0.1111111111111111,
              "#46039f"
             ],
             [
              0.2222222222222222,
              "#7201a8"
             ],
             [
              0.3333333333333333,
              "#9c179e"
             ],
             [
              0.4444444444444444,
              "#bd3786"
             ],
             [
              0.5555555555555556,
              "#d8576b"
             ],
             [
              0.6666666666666666,
              "#ed7953"
             ],
             [
              0.7777777777777778,
              "#fb9f3a"
             ],
             [
              0.8888888888888888,
              "#fdca26"
             ],
             [
              1,
              "#f0f921"
             ]
            ],
            "type": "contour"
           }
          ],
          "contourcarpet": [
           {
            "colorbar": {
             "outlinewidth": 0,
             "ticks": ""
            },
            "type": "contourcarpet"
           }
          ],
          "heatmap": [
           {
            "colorbar": {
             "outlinewidth": 0,
             "ticks": ""
            },
            "colorscale": [
             [
              0,
              "#0d0887"
             ],
             [
              0.1111111111111111,
              "#46039f"
             ],
             [
              0.2222222222222222,
              "#7201a8"
             ],
             [
              0.3333333333333333,
              "#9c179e"
             ],
             [
              0.4444444444444444,
              "#bd3786"
             ],
             [
              0.5555555555555556,
              "#d8576b"
             ],
             [
              0.6666666666666666,
              "#ed7953"
             ],
             [
              0.7777777777777778,
              "#fb9f3a"
             ],
             [
              0.8888888888888888,
              "#fdca26"
             ],
             [
              1,
              "#f0f921"
             ]
            ],
            "type": "heatmap"
           }
          ],
          "heatmapgl": [
           {
            "colorbar": {
             "outlinewidth": 0,
             "ticks": ""
            },
            "colorscale": [
             [
              0,
              "#0d0887"
             ],
             [
              0.1111111111111111,
              "#46039f"
             ],
             [
              0.2222222222222222,
              "#7201a8"
             ],
             [
              0.3333333333333333,
              "#9c179e"
             ],
             [
              0.4444444444444444,
              "#bd3786"
             ],
             [
              0.5555555555555556,
              "#d8576b"
             ],
             [
              0.6666666666666666,
              "#ed7953"
             ],
             [
              0.7777777777777778,
              "#fb9f3a"
             ],
             [
              0.8888888888888888,
              "#fdca26"
             ],
             [
              1,
              "#f0f921"
             ]
            ],
            "type": "heatmapgl"
           }
          ],
          "histogram": [
           {
            "marker": {
             "colorbar": {
              "outlinewidth": 0,
              "ticks": ""
             }
            },
            "type": "histogram"
           }
          ],
          "histogram2d": [
           {
            "colorbar": {
             "outlinewidth": 0,
             "ticks": ""
            },
            "colorscale": [
             [
              0,
              "#0d0887"
             ],
             [
              0.1111111111111111,
              "#46039f"
             ],
             [
              0.2222222222222222,
              "#7201a8"
             ],
             [
              0.3333333333333333,
              "#9c179e"
             ],
             [
              0.4444444444444444,
              "#bd3786"
             ],
             [
              0.5555555555555556,
              "#d8576b"
             ],
             [
              0.6666666666666666,
              "#ed7953"
             ],
             [
              0.7777777777777778,
              "#fb9f3a"
             ],
             [
              0.8888888888888888,
              "#fdca26"
             ],
             [
              1,
              "#f0f921"
             ]
            ],
            "type": "histogram2d"
           }
          ],
          "histogram2dcontour": [
           {
            "colorbar": {
             "outlinewidth": 0,
             "ticks": ""
            },
            "colorscale": [
             [
              0,
              "#0d0887"
             ],
             [
              0.1111111111111111,
              "#46039f"
             ],
             [
              0.2222222222222222,
              "#7201a8"
             ],
             [
              0.3333333333333333,
              "#9c179e"
             ],
             [
              0.4444444444444444,
              "#bd3786"
             ],
             [
              0.5555555555555556,
              "#d8576b"
             ],
             [
              0.6666666666666666,
              "#ed7953"
             ],
             [
              0.7777777777777778,
              "#fb9f3a"
             ],
             [
              0.8888888888888888,
              "#fdca26"
             ],
             [
              1,
              "#f0f921"
             ]
            ],
            "type": "histogram2dcontour"
           }
          ],
          "mesh3d": [
           {
            "colorbar": {
             "outlinewidth": 0,
             "ticks": ""
            },
            "type": "mesh3d"
           }
          ],
          "parcoords": [
           {
            "line": {
             "colorbar": {
              "outlinewidth": 0,
              "ticks": ""
             }
            },
            "type": "parcoords"
           }
          ],
          "pie": [
           {
            "automargin": true,
            "type": "pie"
           }
          ],
          "scatter": [
           {
            "marker": {
             "colorbar": {
              "outlinewidth": 0,
              "ticks": ""
             }
            },
            "type": "scatter"
           }
          ],
          "scatter3d": [
           {
            "line": {
             "colorbar": {
              "outlinewidth": 0,
              "ticks": ""
             }
            },
            "marker": {
             "colorbar": {
              "outlinewidth": 0,
              "ticks": ""
             }
            },
            "type": "scatter3d"
           }
          ],
          "scattercarpet": [
           {
            "marker": {
             "colorbar": {
              "outlinewidth": 0,
              "ticks": ""
             }
            },
            "type": "scattercarpet"
           }
          ],
          "scattergeo": [
           {
            "marker": {
             "colorbar": {
              "outlinewidth": 0,
              "ticks": ""
             }
            },
            "type": "scattergeo"
           }
          ],
          "scattergl": [
           {
            "marker": {
             "colorbar": {
              "outlinewidth": 0,
              "ticks": ""
             }
            },
            "type": "scattergl"
           }
          ],
          "scattermapbox": [
           {
            "marker": {
             "colorbar": {
              "outlinewidth": 0,
              "ticks": ""
             }
            },
            "type": "scattermapbox"
           }
          ],
          "scatterpolar": [
           {
            "marker": {
             "colorbar": {
              "outlinewidth": 0,
              "ticks": ""
             }
            },
            "type": "scatterpolar"
           }
          ],
          "scatterpolargl": [
           {
            "marker": {
             "colorbar": {
              "outlinewidth": 0,
              "ticks": ""
             }
            },
            "type": "scatterpolargl"
           }
          ],
          "scatterternary": [
           {
            "marker": {
             "colorbar": {
              "outlinewidth": 0,
              "ticks": ""
             }
            },
            "type": "scatterternary"
           }
          ],
          "surface": [
           {
            "colorbar": {
             "outlinewidth": 0,
             "ticks": ""
            },
            "colorscale": [
             [
              0,
              "#0d0887"
             ],
             [
              0.1111111111111111,
              "#46039f"
             ],
             [
              0.2222222222222222,
              "#7201a8"
             ],
             [
              0.3333333333333333,
              "#9c179e"
             ],
             [
              0.4444444444444444,
              "#bd3786"
             ],
             [
              0.5555555555555556,
              "#d8576b"
             ],
             [
              0.6666666666666666,
              "#ed7953"
             ],
             [
              0.7777777777777778,
              "#fb9f3a"
             ],
             [
              0.8888888888888888,
              "#fdca26"
             ],
             [
              1,
              "#f0f921"
             ]
            ],
            "type": "surface"
           }
          ],
          "table": [
           {
            "cells": {
             "fill": {
              "color": "#EBF0F8"
             },
             "line": {
              "color": "white"
             }
            },
            "header": {
             "fill": {
              "color": "#C8D4E3"
             },
             "line": {
              "color": "white"
             }
            },
            "type": "table"
           }
          ]
         },
         "layout": {
          "annotationdefaults": {
           "arrowcolor": "#2a3f5f",
           "arrowhead": 0,
           "arrowwidth": 1
          },
          "coloraxis": {
           "colorbar": {
            "outlinewidth": 0,
            "ticks": ""
           }
          },
          "colorscale": {
           "diverging": [
            [
             0,
             "#8e0152"
            ],
            [
             0.1,
             "#c51b7d"
            ],
            [
             0.2,
             "#de77ae"
            ],
            [
             0.3,
             "#f1b6da"
            ],
            [
             0.4,
             "#fde0ef"
            ],
            [
             0.5,
             "#f7f7f7"
            ],
            [
             0.6,
             "#e6f5d0"
            ],
            [
             0.7,
             "#b8e186"
            ],
            [
             0.8,
             "#7fbc41"
            ],
            [
             0.9,
             "#4d9221"
            ],
            [
             1,
             "#276419"
            ]
           ],
           "sequential": [
            [
             0,
             "#0d0887"
            ],
            [
             0.1111111111111111,
             "#46039f"
            ],
            [
             0.2222222222222222,
             "#7201a8"
            ],
            [
             0.3333333333333333,
             "#9c179e"
            ],
            [
             0.4444444444444444,
             "#bd3786"
            ],
            [
             0.5555555555555556,
             "#d8576b"
            ],
            [
             0.6666666666666666,
             "#ed7953"
            ],
            [
             0.7777777777777778,
             "#fb9f3a"
            ],
            [
             0.8888888888888888,
             "#fdca26"
            ],
            [
             1,
             "#f0f921"
            ]
           ],
           "sequentialminus": [
            [
             0,
             "#0d0887"
            ],
            [
             0.1111111111111111,
             "#46039f"
            ],
            [
             0.2222222222222222,
             "#7201a8"
            ],
            [
             0.3333333333333333,
             "#9c179e"
            ],
            [
             0.4444444444444444,
             "#bd3786"
            ],
            [
             0.5555555555555556,
             "#d8576b"
            ],
            [
             0.6666666666666666,
             "#ed7953"
            ],
            [
             0.7777777777777778,
             "#fb9f3a"
            ],
            [
             0.8888888888888888,
             "#fdca26"
            ],
            [
             1,
             "#f0f921"
            ]
           ]
          },
          "colorway": [
           "#636efa",
           "#EF553B",
           "#00cc96",
           "#ab63fa",
           "#FFA15A",
           "#19d3f3",
           "#FF6692",
           "#B6E880",
           "#FF97FF",
           "#FECB52"
          ],
          "font": {
           "color": "#2a3f5f"
          },
          "geo": {
           "bgcolor": "white",
           "lakecolor": "white",
           "landcolor": "#E5ECF6",
           "showlakes": true,
           "showland": true,
           "subunitcolor": "white"
          },
          "hoverlabel": {
           "align": "left"
          },
          "hovermode": "closest",
          "mapbox": {
           "style": "light"
          },
          "paper_bgcolor": "white",
          "plot_bgcolor": "#E5ECF6",
          "polar": {
           "angularaxis": {
            "gridcolor": "white",
            "linecolor": "white",
            "ticks": ""
           },
           "bgcolor": "#E5ECF6",
           "radialaxis": {
            "gridcolor": "white",
            "linecolor": "white",
            "ticks": ""
           }
          },
          "scene": {
           "xaxis": {
            "backgroundcolor": "#E5ECF6",
            "gridcolor": "white",
            "gridwidth": 2,
            "linecolor": "white",
            "showbackground": true,
            "ticks": "",
            "zerolinecolor": "white"
           },
           "yaxis": {
            "backgroundcolor": "#E5ECF6",
            "gridcolor": "white",
            "gridwidth": 2,
            "linecolor": "white",
            "showbackground": true,
            "ticks": "",
            "zerolinecolor": "white"
           },
           "zaxis": {
            "backgroundcolor": "#E5ECF6",
            "gridcolor": "white",
            "gridwidth": 2,
            "linecolor": "white",
            "showbackground": true,
            "ticks": "",
            "zerolinecolor": "white"
           }
          },
          "shapedefaults": {
           "line": {
            "color": "#2a3f5f"
           }
          },
          "ternary": {
           "aaxis": {
            "gridcolor": "white",
            "linecolor": "white",
            "ticks": ""
           },
           "baxis": {
            "gridcolor": "white",
            "linecolor": "white",
            "ticks": ""
           },
           "bgcolor": "#E5ECF6",
           "caxis": {
            "gridcolor": "white",
            "linecolor": "white",
            "ticks": ""
           }
          },
          "title": {
           "x": 0.05
          },
          "xaxis": {
           "automargin": true,
           "gridcolor": "white",
           "linecolor": "white",
           "ticks": "",
           "title": {
            "standoff": 15
           },
           "zerolinecolor": "white",
           "zerolinewidth": 2
          },
          "yaxis": {
           "automargin": true,
           "gridcolor": "white",
           "linecolor": "white",
           "ticks": "",
           "title": {
            "standoff": 15
           },
           "zerolinecolor": "white",
           "zerolinewidth": 2
          }
         }
        },
        "xaxis": {
         "anchor": "y",
         "domain": [
          0,
          1
         ],
         "title": {
          "text": "Admision-Test"
         }
        },
        "yaxis": {
         "anchor": "x",
         "domain": [
          0,
          1
         ],
         "title": {
          "text": "Terminal-Degree"
         }
        }
       }
      },
      "text/html": [
       "<div>\n",
       "        \n",
       "        \n",
       "            <div id=\"78330804-5602-4e55-9c09-d4ed3e5eec08\" class=\"plotly-graph-div\" style=\"height:525px; width:100%;\"></div>\n",
       "            <script type=\"text/javascript\">\n",
       "                require([\"plotly\"], function(Plotly) {\n",
       "                    window.PLOTLYENV=window.PLOTLYENV || {};\n",
       "                    \n",
       "                if (document.getElementById(\"78330804-5602-4e55-9c09-d4ed3e5eec08\")) {\n",
       "                    Plotly.newPlot(\n",
       "                        '78330804-5602-4e55-9c09-d4ed3e5eec08',\n",
       "                        [{\"customdata\": [[\"Bahawalpur\"], [\"Bahawalpur\"], [\"Bahawalpur\"], [\"Bahawalpur\"], [\"Bahawalpur\"], [\"Bahawalpur\"], [\"Bahawalpur\"], [\"Bahawalpur\"], [\"Bahawalpur\"], [\"Bahawalpur\"], [\"Bahawalpur\"], [\"Bahawalpur\"], [\"Bahawalpur\"], [\"Bahawalpur\"], [\"Bahawalpur\"], [\"Bahawalpur\"], [\"OPEN\"], [\"Bahawalpur\"], [\"Bahawalpur\"], [\"Bahawalpur\"], [\"Bahawalpur\"], [\"Bahawalpur\"], [\"Bahawalpur\"], [\"Bahawalpur\"], [\"Bahawalpur\"], [\"Bahawalpur\"], [\"Bahawalpur\"], [\"Bahawalpur\"], [\"Bahawalpur\"], [\"Bahawalpur\"], [\"Bahawalpur\"], [\"Bahawalpur\"], [\"Bahawalpur\"], [\"Bahawalpur\"], [\"Bahawalpur\"], [\"Bahawalpur\"], [\"Bahawalpur\"], [\"Bahawalpur\"], [\"Bahawalpur\"], [\"Bahawalpur\"], [\"Bahawalpur\"], [\"Bahawalpur\"], [\"Bahawalpur\"], [\"Bahawalpur\"], [\"Bahawalpur\"], [\"Bahawalpur\"], [\"Bahawalpur\"], [\"Bahawalpur\"], [\"Bahawalpur\"], [\"Bahawalpur\"], [\"Bahawalpur\"], [\"Bahawalpur\"], [\"Bahawalpur\"], [\"Bahawalpur\"], [\"Bahawalpur\"], [\"Bahawalpur\"], [\"OPEN\"], [\"Bahawalpur\"], [\"OPEN\"], [\"OPEN\"], [\"OPEN\"], [\"OPEN\"], [\"OPEN\"], [\"OPEN\"], [\"OPEN\"]], \"hovertemplate\": \"Result=Rejected<br>Admision-Test=%{x}<br>Terminal-Degree=%{y}<br>Quota=%{customdata[0]}<extra></extra>\", \"legendgroup\": \"Rejected\", \"marker\": {\"color\": \"#636efa\", \"symbol\": \"circle\"}, \"mode\": \"markers\", \"name\": \"Rejected\", \"showlegend\": true, \"type\": \"scatter\", \"x\": [47, 49, 58, 50, 62, 58, 47, 46, 56, 40, 44, 45, 49, 59, 49, 46, 52, 50, 50, 59, 63, 49, 49, 50, 47, 58, 59, 45, 45, 49, 58, 50, 62, 62, 47, 61, 56, 51, 61, 56, 53, 64, 52, 58, 43, 62, 50, 54, 49, 49, 63, 52, 48, 50, 50, 49, 27, 47, 53, 66, 58, 57, 60, 41, 57], \"xaxis\": \"x\", \"y\": [567, 465, 442, 437, 461, 471, 593, 397, 466, 509, 464, 470, 530, 461, 453, 465, 457, 458, 453, 447, 440, 487, 592, 461, 492, 456, 444, 463, 486, 490, 507, 582, 420, 548, 462, 450, 492, 454, 520, 503, 480, 438, 464, 470, 458, 438, 482, 480, 464, 482, 432, 480, 450, 465, 444, 480, 568, 469, 507, 468, 494, 509, 504, 459, 502], \"yaxis\": \"y\"}, {\"customdata\": [[\"Bahawalpur\"], [\"Bahawalpur\"], [\"Bahawalpur\"], [\"Bahawalpur\"], [\"Bahawalpur\"], [\"Bahawalpur\"], [\"Bahawalpur\"], [\"Bahawalpur\"], [\"Bahawalpur\"], [\"Bahawalpur\"], [\"Bahawalpur\"], [\"Bahawalpur\"], [\"Bahawalpur\"], [\"Bahawalpur\"], [\"Bahawalpur\"], [\"Bahawalpur\"], [\"Bahawalpur\"], [\"Bahawalpur\"], [\"Bahawalpur\"], [\"Bahawalpur\"], [\"Bahawalpur\"], [\"Bahawalpur\"], [\"Bahawalpur\"], [\"Bahawalpur\"], [\"Bahawalpur\"], [\"Bahawalpur\"], [\"Bahawalpur\"], [\"Bahawalpur\"], [\"Bahawalpur\"], [\"Bahawalpur\"], [\"Bahawalpur\"], [\"Bahawalpur\"], [\"Bahawalpur\"], [\"Bahawalpur\"], [\"Bahawalpur\"], [\"Bahawalpur\"], [\"Bahawalpur\"], [\"Bahawalpur\"], [\"Bahawalpur\"], [\"Bahawalpur\"], [\"Bahawalpur\"], [\"Bahawalpur\"], [\"Bahawalpur\"], [\"Bahawalpur\"], [\"Bahawalpur\"], [\"Bahawalpur\"], [\"Bahawalpur\"], [\"Bahawalpur\"], [\"OPEN\"], [\"OPEN\"], [\"Bahawalpur\"]], \"hovertemplate\": \"Result=Admitted<br>Admision-Test=%{x}<br>Terminal-Degree=%{y}<br>Quota=%{customdata[0]}<extra></extra>\", \"legendgroup\": \"Admitted\", \"marker\": {\"color\": \"#EF553B\", \"symbol\": \"circle\"}, \"mode\": \"markers\", \"name\": \"Admitted\", \"showlegend\": true, \"type\": \"scatter\", \"x\": [66, 41, 57, 49, 53, 47, 53, 52, 53, 56, 55, 52, 58, 47, 60, 57, 55, 57, 63, 55, 50, 58, 52, 59, 52, 53, 53, 53, 56, 55, 54, 56, 51, 49, 54, 61, 54, 58, 55, 47, 58, 48, 50, 51, 60, 62, 68, 55, 61, 53, 53], \"xaxis\": \"x\", \"y\": [525, 538, 497, 556, 482, 544, 489, 539, 536, 508, 561, 613, 494, 495, 533, 538, 510, 479, 488, 503, 534, 480, 522, 530, 555, 484, 523, 492, 515, 531, 500, 530, 548, 547, 557, 520, 494, 497, 533, 500, 470, 496, 489, 598, 549, 524, 502, 528, 542, 519, 509], \"yaxis\": \"y\"}],\n",
       "                        {\"legend\": {\"title\": {\"text\": \"Result\"}, \"tracegroupgap\": 0}, \"margin\": {\"t\": 60}, \"template\": {\"data\": {\"bar\": [{\"error_x\": {\"color\": \"#2a3f5f\"}, \"error_y\": {\"color\": \"#2a3f5f\"}, \"marker\": {\"line\": {\"color\": \"#E5ECF6\", \"width\": 0.5}}, \"type\": \"bar\"}], \"barpolar\": [{\"marker\": {\"line\": {\"color\": \"#E5ECF6\", \"width\": 0.5}}, \"type\": \"barpolar\"}], \"carpet\": [{\"aaxis\": {\"endlinecolor\": \"#2a3f5f\", \"gridcolor\": \"white\", \"linecolor\": \"white\", \"minorgridcolor\": \"white\", \"startlinecolor\": \"#2a3f5f\"}, \"baxis\": {\"endlinecolor\": \"#2a3f5f\", \"gridcolor\": \"white\", \"linecolor\": \"white\", \"minorgridcolor\": \"white\", \"startlinecolor\": \"#2a3f5f\"}, \"type\": \"carpet\"}], \"choropleth\": [{\"colorbar\": {\"outlinewidth\": 0, \"ticks\": \"\"}, \"type\": \"choropleth\"}], \"contour\": [{\"colorbar\": {\"outlinewidth\": 0, \"ticks\": \"\"}, \"colorscale\": [[0.0, \"#0d0887\"], [0.1111111111111111, \"#46039f\"], [0.2222222222222222, \"#7201a8\"], [0.3333333333333333, \"#9c179e\"], [0.4444444444444444, \"#bd3786\"], [0.5555555555555556, \"#d8576b\"], [0.6666666666666666, \"#ed7953\"], [0.7777777777777778, \"#fb9f3a\"], [0.8888888888888888, \"#fdca26\"], [1.0, \"#f0f921\"]], \"type\": \"contour\"}], \"contourcarpet\": [{\"colorbar\": {\"outlinewidth\": 0, \"ticks\": \"\"}, \"type\": \"contourcarpet\"}], \"heatmap\": [{\"colorbar\": {\"outlinewidth\": 0, \"ticks\": \"\"}, \"colorscale\": [[0.0, \"#0d0887\"], [0.1111111111111111, \"#46039f\"], [0.2222222222222222, \"#7201a8\"], [0.3333333333333333, \"#9c179e\"], [0.4444444444444444, \"#bd3786\"], [0.5555555555555556, \"#d8576b\"], [0.6666666666666666, \"#ed7953\"], [0.7777777777777778, \"#fb9f3a\"], [0.8888888888888888, \"#fdca26\"], [1.0, \"#f0f921\"]], \"type\": \"heatmap\"}], \"heatmapgl\": [{\"colorbar\": {\"outlinewidth\": 0, \"ticks\": \"\"}, \"colorscale\": [[0.0, \"#0d0887\"], [0.1111111111111111, \"#46039f\"], [0.2222222222222222, \"#7201a8\"], [0.3333333333333333, \"#9c179e\"], [0.4444444444444444, \"#bd3786\"], [0.5555555555555556, \"#d8576b\"], [0.6666666666666666, \"#ed7953\"], [0.7777777777777778, \"#fb9f3a\"], [0.8888888888888888, \"#fdca26\"], [1.0, \"#f0f921\"]], \"type\": \"heatmapgl\"}], \"histogram\": [{\"marker\": {\"colorbar\": {\"outlinewidth\": 0, \"ticks\": \"\"}}, \"type\": \"histogram\"}], \"histogram2d\": [{\"colorbar\": {\"outlinewidth\": 0, \"ticks\": \"\"}, \"colorscale\": [[0.0, \"#0d0887\"], [0.1111111111111111, \"#46039f\"], [0.2222222222222222, \"#7201a8\"], [0.3333333333333333, \"#9c179e\"], [0.4444444444444444, \"#bd3786\"], [0.5555555555555556, \"#d8576b\"], [0.6666666666666666, \"#ed7953\"], [0.7777777777777778, \"#fb9f3a\"], [0.8888888888888888, \"#fdca26\"], [1.0, \"#f0f921\"]], \"type\": \"histogram2d\"}], \"histogram2dcontour\": [{\"colorbar\": {\"outlinewidth\": 0, \"ticks\": \"\"}, \"colorscale\": [[0.0, \"#0d0887\"], [0.1111111111111111, \"#46039f\"], [0.2222222222222222, \"#7201a8\"], [0.3333333333333333, \"#9c179e\"], [0.4444444444444444, \"#bd3786\"], [0.5555555555555556, \"#d8576b\"], [0.6666666666666666, \"#ed7953\"], [0.7777777777777778, \"#fb9f3a\"], [0.8888888888888888, \"#fdca26\"], [1.0, \"#f0f921\"]], \"type\": \"histogram2dcontour\"}], \"mesh3d\": [{\"colorbar\": {\"outlinewidth\": 0, \"ticks\": \"\"}, \"type\": \"mesh3d\"}], \"parcoords\": [{\"line\": {\"colorbar\": {\"outlinewidth\": 0, \"ticks\": \"\"}}, \"type\": \"parcoords\"}], \"pie\": [{\"automargin\": true, \"type\": \"pie\"}], \"scatter\": [{\"marker\": {\"colorbar\": {\"outlinewidth\": 0, \"ticks\": \"\"}}, \"type\": \"scatter\"}], \"scatter3d\": [{\"line\": {\"colorbar\": {\"outlinewidth\": 0, \"ticks\": \"\"}}, \"marker\": {\"colorbar\": {\"outlinewidth\": 0, \"ticks\": \"\"}}, \"type\": \"scatter3d\"}], \"scattercarpet\": [{\"marker\": {\"colorbar\": {\"outlinewidth\": 0, \"ticks\": \"\"}}, \"type\": \"scattercarpet\"}], \"scattergeo\": [{\"marker\": {\"colorbar\": {\"outlinewidth\": 0, \"ticks\": \"\"}}, \"type\": \"scattergeo\"}], \"scattergl\": [{\"marker\": {\"colorbar\": {\"outlinewidth\": 0, \"ticks\": \"\"}}, \"type\": \"scattergl\"}], \"scattermapbox\": [{\"marker\": {\"colorbar\": {\"outlinewidth\": 0, \"ticks\": \"\"}}, \"type\": \"scattermapbox\"}], \"scatterpolar\": [{\"marker\": {\"colorbar\": {\"outlinewidth\": 0, \"ticks\": \"\"}}, \"type\": \"scatterpolar\"}], \"scatterpolargl\": [{\"marker\": {\"colorbar\": {\"outlinewidth\": 0, \"ticks\": \"\"}}, \"type\": \"scatterpolargl\"}], \"scatterternary\": [{\"marker\": {\"colorbar\": {\"outlinewidth\": 0, \"ticks\": \"\"}}, \"type\": \"scatterternary\"}], \"surface\": [{\"colorbar\": {\"outlinewidth\": 0, \"ticks\": \"\"}, \"colorscale\": [[0.0, \"#0d0887\"], [0.1111111111111111, \"#46039f\"], [0.2222222222222222, \"#7201a8\"], [0.3333333333333333, \"#9c179e\"], [0.4444444444444444, \"#bd3786\"], [0.5555555555555556, \"#d8576b\"], [0.6666666666666666, \"#ed7953\"], [0.7777777777777778, \"#fb9f3a\"], [0.8888888888888888, \"#fdca26\"], [1.0, \"#f0f921\"]], \"type\": \"surface\"}], \"table\": [{\"cells\": {\"fill\": {\"color\": \"#EBF0F8\"}, \"line\": {\"color\": \"white\"}}, \"header\": {\"fill\": {\"color\": \"#C8D4E3\"}, \"line\": {\"color\": \"white\"}}, \"type\": \"table\"}]}, \"layout\": {\"annotationdefaults\": {\"arrowcolor\": \"#2a3f5f\", \"arrowhead\": 0, \"arrowwidth\": 1}, \"coloraxis\": {\"colorbar\": {\"outlinewidth\": 0, \"ticks\": \"\"}}, \"colorscale\": {\"diverging\": [[0, \"#8e0152\"], [0.1, \"#c51b7d\"], [0.2, \"#de77ae\"], [0.3, \"#f1b6da\"], [0.4, \"#fde0ef\"], [0.5, \"#f7f7f7\"], [0.6, \"#e6f5d0\"], [0.7, \"#b8e186\"], [0.8, \"#7fbc41\"], [0.9, \"#4d9221\"], [1, \"#276419\"]], \"sequential\": [[0.0, \"#0d0887\"], [0.1111111111111111, \"#46039f\"], [0.2222222222222222, \"#7201a8\"], [0.3333333333333333, \"#9c179e\"], [0.4444444444444444, \"#bd3786\"], [0.5555555555555556, \"#d8576b\"], [0.6666666666666666, \"#ed7953\"], [0.7777777777777778, \"#fb9f3a\"], [0.8888888888888888, \"#fdca26\"], [1.0, \"#f0f921\"]], \"sequentialminus\": [[0.0, \"#0d0887\"], [0.1111111111111111, \"#46039f\"], [0.2222222222222222, \"#7201a8\"], [0.3333333333333333, \"#9c179e\"], [0.4444444444444444, \"#bd3786\"], [0.5555555555555556, \"#d8576b\"], [0.6666666666666666, \"#ed7953\"], [0.7777777777777778, \"#fb9f3a\"], [0.8888888888888888, \"#fdca26\"], [1.0, \"#f0f921\"]]}, \"colorway\": [\"#636efa\", \"#EF553B\", \"#00cc96\", \"#ab63fa\", \"#FFA15A\", \"#19d3f3\", \"#FF6692\", \"#B6E880\", \"#FF97FF\", \"#FECB52\"], \"font\": {\"color\": \"#2a3f5f\"}, \"geo\": {\"bgcolor\": \"white\", \"lakecolor\": \"white\", \"landcolor\": \"#E5ECF6\", \"showlakes\": true, \"showland\": true, \"subunitcolor\": \"white\"}, \"hoverlabel\": {\"align\": \"left\"}, \"hovermode\": \"closest\", \"mapbox\": {\"style\": \"light\"}, \"paper_bgcolor\": \"white\", \"plot_bgcolor\": \"#E5ECF6\", \"polar\": {\"angularaxis\": {\"gridcolor\": \"white\", \"linecolor\": \"white\", \"ticks\": \"\"}, \"bgcolor\": \"#E5ECF6\", \"radialaxis\": {\"gridcolor\": \"white\", \"linecolor\": \"white\", \"ticks\": \"\"}}, \"scene\": {\"xaxis\": {\"backgroundcolor\": \"#E5ECF6\", \"gridcolor\": \"white\", \"gridwidth\": 2, \"linecolor\": \"white\", \"showbackground\": true, \"ticks\": \"\", \"zerolinecolor\": \"white\"}, \"yaxis\": {\"backgroundcolor\": \"#E5ECF6\", \"gridcolor\": \"white\", \"gridwidth\": 2, \"linecolor\": \"white\", \"showbackground\": true, \"ticks\": \"\", \"zerolinecolor\": \"white\"}, \"zaxis\": {\"backgroundcolor\": \"#E5ECF6\", \"gridcolor\": \"white\", \"gridwidth\": 2, \"linecolor\": \"white\", \"showbackground\": true, \"ticks\": \"\", \"zerolinecolor\": \"white\"}}, \"shapedefaults\": {\"line\": {\"color\": \"#2a3f5f\"}}, \"ternary\": {\"aaxis\": {\"gridcolor\": \"white\", \"linecolor\": \"white\", \"ticks\": \"\"}, \"baxis\": {\"gridcolor\": \"white\", \"linecolor\": \"white\", \"ticks\": \"\"}, \"bgcolor\": \"#E5ECF6\", \"caxis\": {\"gridcolor\": \"white\", \"linecolor\": \"white\", \"ticks\": \"\"}}, \"title\": {\"x\": 0.05}, \"xaxis\": {\"automargin\": true, \"gridcolor\": \"white\", \"linecolor\": \"white\", \"ticks\": \"\", \"title\": {\"standoff\": 15}, \"zerolinecolor\": \"white\", \"zerolinewidth\": 2}, \"yaxis\": {\"automargin\": true, \"gridcolor\": \"white\", \"linecolor\": \"white\", \"ticks\": \"\", \"title\": {\"standoff\": 15}, \"zerolinecolor\": \"white\", \"zerolinewidth\": 2}}}, \"xaxis\": {\"anchor\": \"y\", \"domain\": [0.0, 1.0], \"title\": {\"text\": \"Admision-Test\"}}, \"yaxis\": {\"anchor\": \"x\", \"domain\": [0.0, 1.0], \"title\": {\"text\": \"Terminal-Degree\"}}},\n",
       "                        {\"responsive\": true}\n",
       "                    ).then(function(){\n",
       "                            \n",
       "var gd = document.getElementById('78330804-5602-4e55-9c09-d4ed3e5eec08');\n",
       "var x = new MutationObserver(function (mutations, observer) {{\n",
       "        var display = window.getComputedStyle(gd).display;\n",
       "        if (!display || display === 'none') {{\n",
       "            console.log([gd, 'removed!']);\n",
       "            Plotly.purge(gd);\n",
       "            observer.disconnect();\n",
       "        }}\n",
       "}});\n",
       "\n",
       "// Listen for the removal of the full notebook cells\n",
       "var notebookContainer = gd.closest('#notebook-container');\n",
       "if (notebookContainer) {{\n",
       "    x.observe(notebookContainer, {childList: true});\n",
       "}}\n",
       "\n",
       "// Listen for the clearing of the current output cell\n",
       "var outputEl = gd.closest('.output');\n",
       "if (outputEl) {{\n",
       "    x.observe(outputEl, {childList: true});\n",
       "}}\n",
       "\n",
       "                        })\n",
       "                };\n",
       "                });\n",
       "            </script>\n",
       "        </div>"
      ]
     },
     "metadata": {},
     "output_type": "display_data"
    }
   ],
   "source": [
    "# x and y given as DataFrame columns\n",
    "import plotly.express as px\n",
    "import pandas as pd\n",
    "df = pd.read_csv('dataset/sp18/sp18-for-weka-63-2019-04-12 - revised.csv')\n",
    "print(df.columns)\n",
    "fig = px.scatter(df, x=\"Admision-Test\", y=\"Terminal-Degree\",color=\"Result\",hover_data=['Quota'])\n",
    "fig.show()"
   ]
  },
  {
   "cell_type": "code",
   "execution_count": 4,
   "metadata": {},
   "outputs": [
    {
     "name": "stdout",
     "output_type": "stream",
     "text": [
      "Index(['Domicile', 'Terminal Degree', 'Admission Test', 'Programme'], dtype='object')\n"
     ]
    },
    {
     "data": {
      "application/vnd.plotly.v1+json": {
       "config": {
        "plotlyServerURL": "https://plot.ly"
       },
       "data": [
        {
         "hovertemplate": "Domicile=Bahawalpur<br>Programme=%{x}<br>Terminal Degree=%{y}<extra></extra>",
         "legendgroup": "Bahawalpur",
         "marker": {
          "color": "#636efa",
          "symbol": "circle"
         },
         "mode": "markers",
         "name": "Bahawalpur",
         "showlegend": true,
         "type": "scattergl",
         "x": [
          "BS Mathematics",
          "BS Mathematics",
          "BS Mathematics",
          "BS Mathematics",
          "BS Mathematics",
          "BS Mathematics",
          "BS Mathematics",
          "BS Mathematics",
          "BS Mathematics",
          "BS Mathematics",
          "BS Mathematics",
          "BS Mathematics",
          "BS Mathematics",
          "BS Mathematics",
          "BS Mathematics",
          "BS Mathematics",
          "BS Mathematics",
          "BS Mathematics",
          "BS Mathematics",
          "BS Mathematics",
          "BS Mathematics",
          "BS Mathematics",
          "BS Mathematics",
          "BS Mathematics",
          "BS Mathematics",
          "BS Mathematics",
          "BS Mathematics",
          "BS Mathematics",
          "BS Mathematics",
          "BS Mathematics",
          "BS Mathematics",
          "BS Mathematics",
          "BS Mathematics",
          "MSc Statistics",
          "MSc Statistics",
          "MSc Statistics",
          "MSc Statistics",
          "MSc Statistics",
          "M.Sc. Physical Education",
          "M.Sc. Physical Education",
          "M.Sc. Physical Education",
          "M.Sc. Physical Education",
          "M.Sc. Physical Education",
          "M.Sc. Physical Education",
          "M.Sc. Physical Education",
          "M.Sc. Physical Education",
          "M.Sc. Physical Education",
          "M.Sc. Physical Education",
          "M.Sc. Physical Education",
          "M.Sc. Physical Education",
          "M.Sc. Physical Education",
          "M.Sc. Physical Education",
          "M.Sc. Physical Education",
          "M.Sc. Physical Education",
          "M.Sc. Physical Education",
          "M.Sc. Physical Education",
          "M.Sc. Physical Education",
          "M.Sc. Physical Education",
          "M.Sc. Physical Education",
          "MA Urdu",
          "MA Urdu",
          "MA Urdu",
          "MA Urdu",
          "MA Urdu",
          "MA Urdu",
          "MA Urdu",
          "MA Urdu",
          "MA Urdu",
          "MA Urdu",
          "MA Urdu",
          "MA Urdu",
          "MA Urdu",
          "MA Urdu",
          "MA Urdu",
          "MA Urdu",
          "MA Urdu",
          "MA Urdu",
          "MA Urdu",
          "MA Urdu",
          "MA Urdu",
          "MA Urdu",
          "MA Urdu",
          "MA Urdu",
          "MA Urdu",
          "MA Urdu",
          "MA Urdu",
          "MA Urdu",
          "MA Urdu",
          "MA Urdu",
          "MA Urdu",
          "MA Urdu",
          "MA Urdu",
          "MA Urdu",
          "MSc Mathematics",
          "MSc Mathematics",
          "MSc Mathematics",
          "MSc Mathematics",
          "MSc Mathematics",
          "MSc Mathematics",
          "MSc Mathematics",
          "MSc Mathematics",
          "MSc Mathematics",
          "MSc Mathematics",
          "MSc Mathematics",
          "MSc Mathematics",
          "MSc Mathematics",
          "MSc Mathematics",
          "MSc Mathematics",
          "MSc Mathematics",
          "MSc Mathematics",
          "MSc Mathematics",
          "MSc Mathematics",
          "MSc Mathematics",
          "MSc Mathematics",
          "MSc Mathematics",
          "MSc Mathematics",
          "MSc Mathematics",
          "MSc Mathematics",
          "MSc Mathematics",
          "MSc Mathematics",
          "MSc Mathematics",
          "MSc Mathematics",
          "MSc Mathematics",
          "MSc Mathematics",
          "MSc Mathematics",
          "MSc Mathematics",
          "MSc Mathematics",
          "MSc Mathematics",
          "MSc Mathematics",
          "MSc Mathematics",
          "MSc Mathematics",
          "MSc Mathematics",
          "MSc Mathematics",
          "MSc Mathematics",
          "MSc Mathematics",
          "MA Islamic Studies",
          "MA Islamic Studies",
          "MA Islamic Studies",
          "MA Islamic Studies",
          "MA Islamic Studies",
          "MA Islamic Studies",
          "MCS",
          "MCS",
          "MCS",
          "MCS",
          "MCS",
          "MCS",
          "MCS",
          "MCS",
          "MCS",
          "MCS",
          "MCS",
          "MCS",
          "MCS",
          "MCS",
          "MCS",
          "MCS",
          "MCS",
          "MCS",
          "MCS",
          "MCS",
          "MCS",
          "MCS",
          "MCS",
          "MCS",
          "MCS",
          "MCS",
          "MCS",
          "MCS",
          "MCS",
          "MCS",
          "MCS",
          "MCS",
          "MCS",
          "MCS",
          "MCS",
          "MCS",
          "MCS",
          "MCS",
          "MCS",
          "MCS",
          "MCS",
          "MCS",
          "MCS",
          "MCS",
          "MCS",
          "MCS",
          "MCS",
          "MCS",
          "MCS",
          "MCS",
          "MCS",
          "MCS",
          "MCS",
          "MCS",
          "MCS",
          "MCS",
          "MCS",
          "MCS",
          "MCS",
          "MCS",
          "MCS",
          "MCS",
          "MCS",
          "MCS",
          "MCS",
          "MCS",
          "MCS",
          "MCS",
          "MCS",
          "MCS",
          "MCS",
          "MCS",
          "MCS",
          "MCS",
          "MCS",
          "MCS",
          "BS CS",
          "BS CS",
          "BS CS",
          "BS CS",
          "BS CS",
          "BS CS",
          "BS CS",
          "BS CS",
          "BS CS",
          "BS CS",
          "BS CS",
          "BS CS",
          "BS CS",
          "BS CS",
          "BS CS",
          "BS CS",
          "BS CS",
          "BS CS",
          "BS CS",
          "BS CS",
          "BS CS",
          "BS CS",
          "BS CS",
          "BS CS",
          "BS CS",
          "BS CS",
          "BS CS",
          "BS CS",
          "BS CS",
          "BS CS",
          "BS CS",
          "BS CS",
          "BS CS",
          "BS CS",
          "BS CS",
          "BS CS",
          "BS CS",
          "BS CS",
          "BS CS",
          "BS CS",
          "BS CS",
          "BS CS",
          "BS CS",
          "BS CS",
          "BS CS",
          "BS CS",
          "BS CS",
          "BS CS",
          "BS CS",
          "BS CS",
          "BS CS",
          "BS CS",
          "BS CS",
          "BS CS",
          "BS CS",
          "BS CS",
          "BS CS",
          "BS CS",
          "BS CS",
          "BS CS",
          "BS CS",
          "BS CS",
          "BS CS",
          "BS CS",
          "BBA (Hons) after 12 years of education",
          "BBA (Hons) after 12 years of education",
          "BBA (Hons) after 12 years of education",
          "BBA (Hons) after 12 years of education",
          "BBA (Hons) after 12 years of education",
          "BBA (Hons) after 12 years of education",
          "BBA (Hons) after 12 years of education",
          "BBA (Hons) after 12 years of education",
          "BBA (Hons) after 12 years of education",
          "BBA (Hons) after 12 years of education",
          "BBA (Hons) after 12 years of education",
          "BBA (Hons) after 12 years of education",
          "BBA (Hons) after 12 years of education",
          "BBA (Hons) after 12 years of education",
          "BBA (Hons) after 12 years of education",
          "BBA (Hons) after 12 years of education",
          "BBA (Hons) after 12 years of education",
          "BBA (Hons) after 12 years of education",
          "BBA (Hons) after 12 years of education",
          "BBA (Hons) after 12 years of education",
          "BBA (Hons) after 12 years of education",
          "BBA (Hons) after 12 years of education",
          "BBA (Hons) after 12 years of education",
          "BBA (Hons) after 12 years of education",
          "BBA (Hons) after 12 years of education",
          "BBA (Hons) after 12 years of education",
          "BS Applied Psychology",
          "BS Applied Psychology",
          "BS Applied Psychology",
          "BS Applied Psychology",
          "BS Applied Psychology",
          "BS Applied Psychology",
          "BS Applied Psychology",
          "BS Applied Psychology",
          "MSc Applied Psychology",
          "MSc Applied Psychology",
          "MSc Applied Psychology",
          "MSc Applied Psychology",
          "MSc Applied Psychology",
          "MSc Applied Psychology",
          "MSc Applied Psychology",
          "MSc Applied Psychology",
          "MSc Applied Psychology",
          "MSc Applied Psychology",
          "MSc Applied Psychology",
          "MSc Applied Psychology",
          "MSc Applied Psychology",
          "MSc Applied Psychology",
          "MSc Applied Psychology",
          "MSc Applied Psychology",
          "Master in Public Administration",
          "Master in Public Administration",
          "Master in Public Administration",
          "Master in Public Administration",
          "Master in Public Administration",
          "Master in  Public Administration",
          "Master in  Public Administration",
          "Master in  Public Administration",
          "Master in  Public Administration",
          "Master in  Public Administration",
          "MSc Botany",
          "MSc Botany",
          "MSc Botany",
          "MSc Botany",
          "MSc Botany",
          "MSc Botany",
          "MSc Botany",
          "MSc Botany",
          "MSc Botany",
          "MSc Botany",
          "MSc Botany",
          "MSc Botany",
          "MSc Botany",
          "MSc Botany",
          "MSc Botany",
          "MSc Botany",
          "MSc Botany",
          "MSc Botany",
          "MSc Botany",
          "MSc Botany",
          "MSc Botany",
          "MSc Botany",
          "MSc Botany",
          "MSc Botany",
          "MSc Botany",
          "MSc Botany",
          "MSc Botany",
          "MSc Botany",
          "MSc Botany",
          "MSc Botany",
          "MSc Botany",
          "MSc Botany",
          "MSc Botany",
          "MSc Botany",
          "MSc Botany",
          "MSc Botany",
          "MSc Botany",
          "MSc Botany",
          "MSc Botany",
          "MSc Botany",
          "MSc Botany",
          "MSc Botany",
          "MSc Botany",
          "MSc Botany",
          "MSc Economics & Finance",
          "MSc Economics",
          "MSc Economics",
          "MSc Economics",
          "MSc Economics",
          "MSc Economics",
          "MSc Economics",
          "MSc Economics",
          "MSc Economics",
          "MSc Economics",
          "MSc Economics",
          "MSc Economics",
          "MSc Economics",
          "MSc Economics",
          "MSc Economics",
          "BS Economics",
          "BS Economics",
          "BS Economics",
          "BS Economics",
          "BS Economics",
          "BS Economics",
          "BS Economics",
          "BS Economics",
          "BS Economics",
          "BS Economics",
          "BS Economics",
          "BS Economics",
          "BS Economics",
          "BS Economics",
          "BS Economics",
          "BS Economics",
          "BS Economics",
          "BS Economics",
          "BS Economics",
          "BS Economics",
          "BS Economics",
          "BS Economics",
          "BS Economics",
          "BSc (Hons) Agriculture",
          "BSc (Hons) Agriculture",
          "BSc (Hons) Agriculture",
          "BSc (Hons) Agriculture",
          "BSc (Hons) Agriculture",
          "BSc (Hons) Agriculture",
          "BSc (Hons) Agriculture",
          "BSc (Hons) Agriculture",
          "BSc (Hons) Agriculture",
          "BSc (Hons) Agriculture",
          "BSc (Hons) Agriculture",
          "BSc (Hons) Agriculture",
          "BSc (Hons) Agriculture",
          "BSc (Hons) Agriculture",
          "BSc (Hons) Agriculture",
          "BSc (Hons) Agriculture",
          "BSc (Hons) Agriculture",
          "BSc (Hons) Agriculture",
          "BSc (Hons) Agriculture",
          "BSc (Hons) Agriculture",
          "BSc (Hons) Agriculture",
          "BSc (Hons) Agriculture",
          "BSc (Hons) Agriculture",
          "BSc (Hons) Agriculture",
          "BSc (Hons) Agriculture",
          "BSc (Hons) Agriculture",
          "BSc (Hons) Agriculture",
          "BSc (Hons) Agriculture",
          "BSc (Hons) Agriculture",
          "BSc (Hons) Agriculture",
          "BSc (Hons) Agriculture",
          "BSc (Hons) Agriculture",
          "BSc (Hons) Agriculture",
          "BSc (Hons) Agriculture",
          "BSc (Hons) Agriculture",
          "BSc (Hons) Agriculture",
          "BSc (Hons) Agriculture",
          "BSc (Hons) Agriculture",
          "BSc (Hons) Agriculture",
          "BSc (Hons) Agriculture",
          "BSc (Hons) Agriculture",
          "BSc (Hons) Agriculture",
          "BSc (Hons) Agriculture",
          "BSc (Hons) Agriculture",
          "BSc (Hons) Agriculture",
          "BSc (Hons) Agriculture",
          "BSc (Hons) Agriculture",
          "BSc (Hons) Agriculture",
          "BSc (Hons) Agriculture",
          "BSc (Hons) Agriculture",
          "BSc (Hons) Agriculture",
          "BSc (Hons) Agriculture",
          "BSc (Hons) Agriculture",
          "BSc (Hons) Agriculture",
          "BSc (Hons) Agriculture",
          "BSc (Hons) Agriculture",
          "BSc (Hons) Agriculture",
          "BSc (Hons) Agriculture",
          "BSc (Hons) Agriculture",
          "BSc (Hons) Agriculture",
          "BSc (Hons) Agriculture",
          "BSc (Hons) Agriculture",
          "BSc (Hons) Agriculture",
          "BSc (Hons) Agriculture",
          "BSc (Hons) Agriculture",
          "BSc (Hons) Agriculture",
          "BSc (Hons) Agriculture",
          "BSc (Hons) Agriculture",
          "BSc (Hons) Agriculture",
          "BSc (Hons) Agriculture",
          "BSc (Hons) Agriculture",
          "BSc (Hons) Agriculture",
          "BSc (Hons) Agriculture",
          "BSc (Hons) Agriculture",
          "BSc (Hons) Agriculture",
          "BSc (Hons) Agriculture",
          "BSc (Hons) Agriculture",
          "BSc (Hons) Agriculture",
          "BSc (Hons) Agriculture",
          "BSc (Hons) Agriculture",
          "BSc (Hons) Agriculture",
          "BSc (Hons) Agriculture",
          "BSc (Hons) Agriculture",
          "BSc (Hons) Agriculture",
          "BSc (Hons) Agriculture",
          "BSc (Hons) Agriculture",
          "BSc (Hons) Agriculture",
          "BSc (Hons) Agriculture",
          "BSc (Hons) Agriculture",
          "BSc (Hons) Agriculture",
          "BSc (Hons) Agriculture",
          "BSc (Hons) Agriculture",
          "BSc (Hons) Agriculture",
          "BSc (Hons) Agriculture",
          "BSc (Hons) Agriculture",
          "BSc (Hons) Agriculture",
          "BSc (Hons) Agriculture",
          "BSc (Hons) Agriculture",
          "BSc (Hons) Agriculture",
          "BSc (Hons) Agriculture",
          "BSc (Hons) Agriculture",
          "BSc (Hons) Agriculture",
          "BSc (Hons) Agriculture",
          "BSc (Hons) Agriculture",
          "BSc (Hons) Agriculture",
          "BSc (Hons) Agriculture",
          "BSc (Hons) Agriculture",
          "BSc (Hons) Agriculture",
          "BSc (Hons) Agriculture",
          "BSc (Hons) Agriculture",
          "BSc (Hons) Agriculture",
          "BSc (Hons) Agriculture",
          "BSc (Hons) Agriculture",
          "BSc (Hons) Agriculture",
          "BSc (Hons) Agriculture",
          "BSc (Hons) Agriculture",
          "BSc (Hons) Agriculture",
          "BSc (Hons) Agriculture",
          "BSc (Hons) Agriculture",
          "BSc (Hons) Agriculture",
          "BSc (Hons) Agriculture",
          "BSc (Hons) Agriculture",
          "BSc (Hons) Agriculture",
          "BSc (Hons) Agriculture",
          "BSc (Hons) Agriculture",
          "BSc (Hons) Agriculture",
          "BSc (Hons) Agriculture",
          "BSc (Hons) Agriculture",
          "BSc (Hons) Agriculture",
          "BSc (Hons) Agriculture",
          "BSc (Hons) Agriculture",
          "BSc (Hons) Agriculture",
          "BSc (Hons) Agriculture",
          "BSc (Hons) Agriculture",
          "BSc (Hons) Agriculture",
          "BSc (Hons) Agriculture",
          "BSc (Hons) Agriculture",
          "BSc (Hons) Agriculture",
          "BSc (Hons) Agriculture",
          "BSc (Hons) Agriculture",
          "BSc (Hons) Agriculture",
          "BSc (Hons) Agriculture",
          "BSc (Hons) Agriculture",
          "MSc Statistics",
          "MSc Statistics",
          "MSc Statistics",
          "MSc Statistics",
          "MSc Statistics",
          "MSc Statistics",
          "MSc Statistics",
          "MSc Statistics",
          "MSc Statistics",
          "MSc Statistics",
          "MSc Statistics",
          "MSc Statistics",
          "MSc Statistics",
          "MSc Statistics",
          "MSc Statistics",
          "MSc Statistics",
          "BS Statistics ",
          "BS Statistics ",
          "BS Statistics ",
          "BS Statistics ",
          "BS Statistics ",
          "BS Statistics ",
          "BS Statistics ",
          "BS Statistics ",
          "BS Statistics ",
          "BS Statistics ",
          "BS Statistics ",
          "BS Statistics ",
          "BS Statistics ",
          "BS Statistics ",
          "BS Statistics ",
          "BS Statistics ",
          "BS Statistics ",
          "BS Statistics ",
          "BS Statistics ",
          "BS Statistics ",
          "BS Statistics ",
          "MSc Physics",
          "MSc Physics",
          "MSc Physics",
          "MSc Physics",
          "MSc Physics",
          "MSc Physics",
          "MSc Physics",
          "MSc Physics",
          "MSc Physics",
          "MSc Physics",
          "MSc Physics",
          "MSc Physics",
          "MSc Physics",
          "MSc Physics",
          "MSc Physics",
          "MSc Physics",
          "MSc Physics",
          "MSc Physics",
          "MSc Physics",
          "MSc Physics",
          "MSc Physics",
          "MSc Physics",
          "MSc Physics",
          "MSc Physics",
          "MSc Physics",
          "MSc Physics",
          "MSc Physics",
          "MSc Physics",
          "MSc Physics",
          "MSc Physics",
          "MSc Physics",
          "MSc Physics",
          "MSc Physics",
          "MSc Physics",
          "MSc Physics",
          "MSc Physics",
          "MSc Physics",
          "MSc Physics",
          "MSc Physics",
          "BS Physics",
          "BS Physics",
          "BS Physics",
          "BS Physics",
          "BS Physics",
          "BS Physics",
          "BS Physics",
          "BS Physics",
          "BS Physics",
          "BS Physics",
          "BS Physics",
          "BS Physics",
          "BS Physics",
          "BS Physics",
          "BS Physics",
          "BS Physics",
          "BS Physics",
          "BS Physics",
          "BS Physics",
          "BS Physics",
          "BS Physics",
          "BS Physics",
          "BS Physics",
          "BS Physics",
          "BS Physics",
          "BS Physics",
          "BS Physics",
          "MSc Mathematics",
          "MSc Mathematics",
          "MSc Mathematics",
          "MSc Mathematics",
          "MSc Mathematics",
          "MSc Mathematics",
          "MSc Mathematics",
          "MSc Mathematics",
          "MSc Mathematics",
          "MSc Mathematics",
          "MSc Mathematics",
          "MSc Mathematics",
          "MSc Mathematics",
          "MSc Mathematics",
          "MSc Mathematics",
          "MSc Mathematics",
          "MSc Mathematics",
          "MSc Mathematics",
          "MSc Mathematics",
          "MSc Mathematics",
          "MSc Mathematics",
          "MSc Mathematics",
          "MSc Mathematics",
          "MSc Mathematics",
          "MSc Mathematics",
          "MSc Mathematics",
          "MSc Mathematics",
          "MSc Mathematics",
          "MSc Mathematics",
          "MSc Mathematics",
          "MSc Mathematics",
          "MSc Mathematics",
          "MSc Mathematics",
          "MSc Mathematics",
          "MSc Mathematics",
          "MSc Mathematics",
          "MSc Mathematics",
          "MSc Mathematics",
          "MSc Mathematics",
          "MSc Mathematics",
          "MSc Mathematics",
          "MSc Mathematics",
          "MSc Mathematics",
          "MSc Mathematics",
          "MSc Mathematics",
          "MSc Mathematics",
          "BS (Hons) Botany & Zoology",
          "BS (Hons) Botany & Zoology",
          "BS (Hons) Botany & Zoology",
          "BS (Hons) Botany & Zoology",
          "BS (Hons) Botany & Zoology",
          "BS (Hons) Botany & Zoology",
          "BS (Hons) Botany & Zoology",
          "BS (Hons) Botany & Zoology",
          "BS (Hons) Botany & Zoology",
          "BS (Hons) Botany & Zoology",
          "BS (Hons) Botany & Zoology",
          "BS (Hons) Botany & Zoology",
          "BS (Hons) Botany & Zoology",
          "BS (Hons) Botany & Zoology",
          "BS (Hons) Botany & Zoology",
          "BS (Hons) Botany & Zoology",
          "BS (Hons) Botany & Zoology",
          "BS (Hons) Botany & Zoology",
          "BS (Hons) Botany & Zoology",
          "BS (Hons) Botany & Zoology",
          "BS (Hons) Botany & Zoology",
          "BS (Hons) Botany & Zoology",
          "BS (Hons) Botany & Zoology",
          "BS (Hons) Botany & Zoology",
          "BS (Hons) Botany & Zoology",
          "BS (Hons) Botany & Zoology",
          "MSc Geography ",
          "MSc Geography ",
          "MSc Geography ",
          "MSc Geography ",
          "MSc Geography ",
          "MSc Geography ",
          "BS Geography",
          "BS Geography",
          "BS Geography",
          "BS Geography",
          "MSc Chemistry",
          "MSc Chemistry",
          "MSc Chemistry",
          "MSc Chemistry",
          "MSc Chemistry",
          "MSc Chemistry",
          "MSc Chemistry",
          "MSc Chemistry",
          "MSc Chemistry",
          "MSc Chemistry",
          "MSc Chemistry",
          "MSc Chemistry",
          "MSc Chemistry",
          "MSc Chemistry",
          "MSc Chemistry",
          "MSc Chemistry",
          "MSc Chemistry",
          "MSc Chemistry",
          "MSc Chemistry",
          "MSc Chemistry",
          "MSc Chemistry",
          "MSc Chemistry",
          "MSc Chemistry",
          "MSc Chemistry",
          "MSc Chemistry",
          "MSc Chemistry",
          "MSc Chemistry",
          "MSc Chemistry",
          "MSc Chemistry",
          "MSc Chemistry",
          "MSc Chemistry",
          "MSc Chemistry",
          "MSc Chemistry",
          "MSc Chemistry",
          "MSc Chemistry",
          "MSc Chemistry",
          "MSc Chemistry",
          "MSc Chemistry",
          "MSc Chemistry",
          "MSc Chemistry",
          "MSc Chemistry",
          "MSc Chemistry",
          "BS Chemistry (E)",
          "BS Chemistry (E)",
          "BS Chemistry (E)",
          "BS Chemistry (E)",
          "BS Chemistry (E)",
          "BS Chemistry (E)",
          "BS Chemistry (E)",
          "BS Chemistry (E)",
          "BS Chemistry (E)",
          "BS Chemistry (E)",
          "BS Chemistry (E)",
          "BS Chemistry (E)",
          "BS Chemistry (E)",
          "BS Chemistry (E)",
          "BS Chemistry (E)",
          "BS Chemistry (E)",
          "BS Chemistry (E)",
          "BS Chemistry (E)",
          "BS Chemistry (E)",
          "BS Chemistry (E)",
          "BS Chemistry (E)",
          "BS Chemistry (E)",
          "BS Chemistry (E)",
          "BS Chemistry (E)",
          "BS Chemistry (E)",
          "BS Chemistry (E)",
          "BS Chemistry (E)",
          "BS Chemistry (E)",
          "BS Chemistry (E)",
          "BS Chemistry (E)",
          "BS Biochemistry & Biotechnology",
          "BS Biochemistry & Biotechnology",
          "BS Biochemistry & Biotechnology",
          "BS Biochemistry & Biotechnology",
          "BS Biochemistry & Biotechnology",
          "BS Biochemistry & Biotechnology",
          "BS Biochemistry & Biotechnology",
          "BS Biochemistry & Biotechnology",
          "BS Biochemistry & Biotechnology",
          "BS Biochemistry & Biotechnology",
          "BS Biochemistry & Biotechnology",
          "BS Biochemistry & Biotechnology",
          "BS Biochemistry & Biotechnology",
          "BS Biochemistry & Biotechnology",
          "BS Biochemistry & Biotechnology",
          "BS Biochemistry & Biotechnology",
          "BS Biochemistry & Biotechnology",
          "BS Biochemistry & Biotechnology",
          "BS Biochemistry & Biotechnology",
          "BS Biochemistry & Biotechnology",
          "BS Biochemistry & Biotechnology",
          "BS Biochemistry & Biotechnology",
          "BS Biochemistry & Biotechnology",
          "BS Biochemistry & Biotechnology",
          "BS Biochemistry & Biotechnology",
          "BS Biochemistry & Biotechnology",
          "BS Biochemistry & Biotechnology",
          "BS Biochemistry & Biotechnology",
          "BS Biochemistry & Biotechnology",
          "BS Biochemistry & Biotechnology",
          "MBA After 14 years of Education (Morning) 4 year program",
          "MBA After 14 years of Education (Morning) 4 year program",
          "MBA After 14 years of Education (Morning) 4 year program",
          "MBA After 14 years of Education (Morning) 4 year program",
          "MBA After 14 years of Education (Morning) 4 year program",
          "MBA After 14 years of Education (Morning) 4 year program",
          "MBA After 14 years of Education (Morning) 4 year program",
          "MBA After 14 years of Education (Morning) 4 year program",
          "MBA After 14 years of Education (Morning) 4 year program",
          "MBA After 14 years of Education (Morning) 4 year program",
          "MBA After 14 years of Education (Morning) 4 year program",
          "MBA After 14 years of Education (Morning) 4 year program",
          "MBA After 14 years of Education (Morning) 4 year program",
          "MBA After 14 years of Education (Morning) 4 year program",
          "MBA After 14 years of Education (Morning) 4 year program",
          "MBA After 14 years of Education (Morning) 4 year program",
          "MBA After 14 years of Education (Morning) 4 year program",
          "MBA After 14 years of Education (Morning) 4 year program",
          "BBA (Hons) after 12 years of education",
          "BBA (Hons) after 12 years of education",
          "BBA (Hons) after 12 years of education",
          "BBA (Hons) after 12 years of education",
          "BBA (Hons) after 12 years of education",
          "BBA (Hons) after 12 years of education",
          "BBA (Hons) after 12 years of education",
          "BBA (Hons) after 12 years of education",
          "BBA (Hons) after 12 years of education",
          "BBA (Hons) after 12 years of education",
          "BBA (Hons) after 12 years of education",
          "BBA (Hons) after 12 years of education",
          "BBA (Hons) after 12 years of education",
          "BBA (Hons) after 12 years of education",
          "BBA (Hons) after 12 years of education",
          "BBA (Hons) after 12 years of education",
          "BBA (Hons) after 12 years of education",
          "BBA (Hons) after 12 years of education",
          "BBA (Hons) after 12 years of education",
          "BBA (Hons) after 12 years of education",
          "BBA (Hons) after 12 years of education",
          "BBA (Hons) after 12 years of education",
          "BBA (Hons) after 12 years of education",
          "BBA (Hons) after 12 years of education",
          "BBA (Hons) after 12 years of education",
          "BBA (Hons) after 12 years of education",
          "BBA (Hons) after 12 years of education",
          "BBA (Hons) after 12 years of education",
          "BBA (Hons) after 12 years of education",
          "BBA (Hons) after 12 years of education",
          "BBA (Hons) after 12 years of education",
          "BBA (Hons) after 12 years of education",
          "BBA (Hons) after 12 years of education",
          "BBA (Hons) after 12 years of education",
          "BBA (Hons) after 12 years of education",
          "BBA (Hons) after 12 years of education",
          "BBA (Hons) after 12 years of education",
          "BBA (Hons) after 12 years of education",
          "BBA (Hons) after 12 years of education",
          "BBA (Hons) after 12 years of education",
          "BBA (Hons) after 12 years of education",
          "BBA (Hons) after 12 years of education",
          "BBA (Hons) after 12 years of education",
          "BBA (Hons) after 12 years of education",
          "BBA (Hons) after 12 years of education",
          "BBA (Hons) after 12 years of education",
          "BBA (Hons) after 12 years of education",
          "BBA (Hons) after 12 years of education",
          "BBA (Hons) after 12 years of education",
          "BBA (Hons) after 12 years of education",
          "BBA (Hons) after 12 years of education",
          "BBA (Hons) after 12 years of education",
          "BBA (Hons) after 12 years of education",
          "BBA (Hons) after 12 years of education",
          "BBA (Hons) after 12 years of education",
          "BBA (Hons) after 12 years of education",
          "BBA (Hons) after 12 years of education",
          "BBA (Hons) after 12 years of education",
          "MCS",
          "MCS",
          "MCS",
          "MCS",
          "MCS",
          "MCS",
          "MCS",
          "MCS",
          "MCS",
          "MCS",
          "MCS",
          "MCS",
          "MCS",
          "MCS",
          "MCS",
          "MCS",
          "MCS",
          "MCS",
          "MCS",
          "MCS",
          "MCS",
          "MCS",
          "MCS",
          "MCS",
          "MCS",
          "MCS",
          "MCS",
          "MCS",
          "MCS",
          "MCS",
          "MCS",
          "MCS",
          "MCS",
          "MCS",
          "MCS",
          "MCS",
          "MCS",
          "MCS",
          "MCS",
          "MCS",
          "MCS",
          "MCS",
          "MCS",
          "MCS",
          "MCS",
          "MCS",
          "MCS",
          "MCS",
          "MCS",
          "BS CS",
          "BS CS",
          "BS CS",
          "BS CS",
          "BS CS",
          "BS CS",
          "BS CS",
          "BS CS",
          "BS CS",
          "BS CS",
          "BS CS",
          "BS CS",
          "BS CS",
          "BS CS",
          "BS CS",
          "BS CS",
          "BS CS",
          "BS CS",
          "BS CS",
          "BS CS",
          "BS CS",
          "BS CS",
          "BS CS",
          "BS CS",
          "BS CS",
          "BS CS",
          "BS CS",
          "BS CS",
          "BS CS",
          "BS CS",
          "BS CS",
          "BS IT",
          "BS IT",
          "BS IT",
          "BS IT",
          "BS IT",
          "BS IT",
          "BS IT",
          "BS IT",
          "BS IT",
          "BS IT",
          "BS IT",
          "BS IT",
          "BS IT",
          "BS IT",
          "BS IT",
          "BS IT",
          "BS IT",
          "BS IT",
          "BS IT",
          "MSc Accounting & Finance",
          "MSc Accounting & Finance",
          "MSc Accounting & Finance",
          "MSc Accounting & Finance",
          "MSc Accounting & Finance",
          "MSc Accounting & Finance",
          "MSc Accounting & Finance",
          "MSc Accounting & Finance",
          "MSc Accounting & Finance",
          "MCom",
          "MCom",
          "MCom",
          "MCom",
          "MCom",
          "BS Commerce ",
          "BS Commerce ",
          "BS Commerce ",
          "BS Commerce ",
          "BS Commerce ",
          "BS Commerce ",
          "BS Commerce ",
          "BS Commerce ",
          "BS Commerce ",
          "BS Commerce ",
          "BS Commerce ",
          "LLB  5 years  (Under Semester System)",
          "LLB  5 years  (Under Semester System)",
          "LLB  5 years  (Under Semester System)",
          "LLB  5 years  (Under Semester System)",
          "LLB  5 years  (Under Semester System)",
          "LLB  5 years  (Under Semester System)",
          "LLB  5 years  (Under Semester System)",
          "LLB  5 years  (Under Semester System)",
          "LLB  5 years  (Under Semester System)",
          "LLB  5 years  (Under Semester System)",
          "LLB  5 years  (Under Semester System)",
          "LLB  5 years  (Under Semester System)",
          "LLB  5 years  (Under Semester System)",
          "LLB  5 years  (Under Semester System)",
          "LLB  5 years  (Under Semester System)",
          "LLB  5 years  (Under Semester System)",
          "LLB  5 years  (Under Semester System)",
          "LLB  5 years  (Under Semester System)",
          "LLB  5 years  (Under Semester System)",
          "LLB  5 years  (Under Semester System)",
          "LLB  5 years  (Under Semester System)",
          "LLB  5 years  (Under Semester System)",
          "LLB  5 years  (Under Semester System)",
          "MA Islamic Studies with specialization in Hadith & Seerah ",
          "MA Islamic Studies with specialization in Hadith & Seerah ",
          "MA Islamic Studies with specialization in Hadith & Seerah ",
          "MA Islamic Studies with specialization in Hadith & Seerah ",
          "MA Islamic Studies with specialization in Hadith & Seerah ",
          "MA Islamic Studies with specialization in Hadith & Seerah ",
          "MA Islamic Studies with specialization in Hadith & Seerah ",
          "MA Islamic Studies with specialization in Hadith & Seerah ",
          "MA Islamic Studies with specialization in Hadith & Seerah ",
          "MA Islamic Studies with specialization in Hadith & Seerah ",
          "MA Islamic Studies with specialization in Hadith & Seerah ",
          "MA Islamic Studies with specialization in Quran & Tafseer",
          "MA Islamic Studies with specialization in Quran & Tafseer",
          "MA Islamic Studies with specialization in Quran & Tafseer",
          "MA Islamic Studies with specialization in Quran & Tafseer",
          "MA Islamic Studies with specialization in Quran & Tafseer",
          "MA Islamic Studies with specialization in Quran & Tafseer",
          "MA Islamic Studies",
          "MA Islamic Studies",
          "MA Islamic Studies",
          "MA Islamic Studies",
          "MA Islamic Studies",
          "MA Islamic Studies",
          "MA Islamic Studies",
          "MA Islamic Studies",
          "MA Islamic Studies",
          "MA Islamic Studies",
          "MA Islamic Studies",
          "MA Islamic Studies",
          "MA Islamic Studies",
          "MA Islamic Studies",
          "MA Islamic Studies",
          "MA Islamic Studies",
          "MA Islamic Studies",
          "MA Islamic Studies",
          "MA Islamic Studies",
          "MA Islamic Studies",
          "MA Islamic Studies",
          "BS Islamic Studies",
          "BS Islamic Studies",
          "BS Islamic Studies",
          "BS Islamic Studies",
          "BS Islamic Studies",
          "BS Islamic Studies",
          "BS Islamic Studies",
          "BS Islamic Studies",
          "BS Islamic Studies",
          "BS Islamic Studies",
          "BS Islamic Studies",
          "BS Islamic Studies",
          "BS Islamic Studies",
          "BS Islamic Studies",
          "BS Islamic Studies",
          "BS Islamic Studies",
          "BS Islamic Studies",
          "BS Islamic Studies",
          "BS Islamic Studies",
          "BS Islamic Studies",
          "BS Islamic Studies",
          "BS Islamic Studies",
          "MA Pakistan Studies",
          "MA Pakistan Studies",
          "BS Pakistan Studies",
          "BS Pakistan Studies",
          "BS History",
          "MA Arabic",
          "MA Arabic",
          "MA Arabic",
          "MA Arabic",
          "MA Arabic",
          "MA Social Work",
          "MA Social Work",
          "MA Social Work",
          "MA Social Work",
          "MA Social Work",
          "BS Social Work",
          "BS Social Work",
          "BS Social Work",
          "BS Social Work",
          "BS Social Work",
          "BS Social Work",
          "BS Social Work",
          "M.Sc. Physical Education",
          "M.Sc. Physical Education",
          "M.Sc. Physical Education",
          "M.Sc. Physical Education",
          "M.Sc. Physical Education",
          "M.Sc. Physical Education",
          "M.Sc. Physical Education",
          "M.Sc. Physical Education",
          "M.Sc. Physical Education",
          "M.Sc. Physical Education",
          "M.Sc. Physical Education",
          "M.Sc. Physical Education",
          "M.Sc. Physical Education",
          "M.Sc. Physical Education",
          "M.Sc. Physical Education",
          "M.Sc. Physical Education",
          "M.Sc. Physical Education",
          "M.Sc. Physical Education",
          "M.Sc. Physical Education",
          "M.Sc. Physical Education",
          "M.Sc. Physical Education",
          "M.Sc. Physical Education",
          "M.Sc. Physical Education",
          "M.Sc. Physical Education",
          "M.Sc. Physical Education",
          "M.Sc. Physical Education",
          "M.Sc. Physical Education",
          "M.Sc. Physical Education",
          "M.Sc. Physical Education",
          "M.Sc. Physical Education",
          "M.Sc. Physical Education",
          "M.Sc. Physical Education",
          "M.Sc. Physical Education",
          "M.Sc. Physical Education",
          "M.Sc. Physical Education",
          "M.Sc. Physical Education",
          "M.Sc. Physical Education",
          "M.Sc. Physical Education",
          "M.Sc. Physical Education",
          "BEd 1.5-years (after MA/MSc/BS)",
          "BEd 1.5-years (after MA/MSc/BS)",
          "BEd 4-years (after FA/FSc)",
          "BEd 4-years (after FA/FSc)",
          "BEd 4-years (after FA/FSc)",
          "BEd 4-years (after FA/FSc)",
          "BEd 4-years (after FA/FSc)",
          "MEd (after BEd/BS Ed)",
          "MEd (after BEd/BS Ed)",
          "MA Education",
          "MA Education",
          "MA Education",
          "MA Education",
          "MA Education",
          "MA Education",
          "MA Education",
          "MA Education",
          "MA Education",
          "MA Education",
          "MA Education",
          "MA Education",
          "MA Education",
          "MA Education",
          "MA Education",
          "MA Education",
          "MA Education",
          "MA Education",
          "MA Education",
          "MA Education",
          "MA Education",
          "MA Education",
          "MA Education",
          "MA Education",
          "BS Secondary Education",
          "BS Secondary Education",
          "BS Secondary Education",
          "BS Secondary Education",
          "BS Secondary Education",
          "BS Secondary Education",
          "BS Secondary Education",
          "BS Secondary Education",
          "BS Secondary Education",
          "BS Secondary Education",
          "BS Secondary Education",
          "BS Secondary Education",
          "BS Secondary Education",
          "BS Secondary Education",
          "BS Secondary Education",
          "BS Secondary Education",
          "BS Secondary Education",
          "BS Secondary Education",
          "BS Secondary Education",
          "BS Secondary Education",
          "BS Secondary Education",
          "BS Secondary Education",
          "BS Secondary Education",
          "BS Secondary Education",
          "MSc Applied Psychology",
          "MSc Applied Psychology",
          "MSc Applied Psychology",
          "MSc Applied Psychology",
          "MSc Applied Psychology",
          "MSc Applied Psychology",
          "MSc Applied Psychology",
          "MSc Applied Psychology",
          "MSc Applied Psychology",
          "MSc Applied Psychology",
          "MSc Applied Psychology",
          "MSc Applied Psychology",
          "MSc Applied Psychology",
          "MSc Applied Psychology",
          "MSc Applied Psychology",
          "MSc Applied Psychology",
          "MSc Applied Psychology",
          "MSc Applied Psychology",
          "MSc Applied Psychology",
          "MSc Applied Psychology",
          "MSc Applied Psychology",
          "MSc Applied Psychology",
          "MSc Applied Psychology",
          "MSc Applied Psychology",
          "MSc Applied Psychology",
          "MSc Applied Psychology",
          "MSc Applied Psychology",
          "BS Applied Psychology",
          "BS Applied Psychology",
          "BS Applied Psychology",
          "BS Applied Psychology",
          "BS Applied Psychology",
          "BS Applied Psychology",
          "BS Applied Psychology",
          "BS Applied Psychology",
          "BS Applied Psychology",
          "BS Applied Psychology",
          "BS Applied Psychology",
          "BS Applied Psychology",
          "BS Applied Psychology",
          "BS Applied Psychology",
          "BS Applied Psychology",
          "BS Applied Psychology",
          "BS Applied Psychology",
          "BS Applied Psychology",
          "BS Applied Psychology",
          "BS Applied Psychology",
          "BS Applied Psychology",
          "BS Applied Psychology",
          "BS Applied Psychology",
          "BS Applied Psychology",
          "BS Applied Psychology",
          "BS Applied Psychology",
          "Bachelor in Fine Arts & Design with specialization in Painting - Graphic Art - Sculpture - Graphic Design - Textile Design (4 years)",
          "Bachelor in Fine Arts & Design with specialization in Painting - Graphic Art - Sculpture - Graphic Design - Textile Design (4 years)",
          "Bachelor in Fine Arts & Design with specialization in Painting - Graphic Art - Sculpture - Graphic Design - Textile Design (4 years)",
          "Bachelor in Fine Arts & Design with specialization in Painting - Graphic Art - Sculpture - Graphic Design - Textile Design (4 years)",
          "Bachelor in Fine Arts & Design with specialization in Painting - Graphic Art - Sculpture - Graphic Design - Textile Design (4 years)",
          "Bachelor in Fine Arts & Design with specialization in Painting - Graphic Art - Sculpture - Graphic Design - Textile Design (4 years)",
          "Bachelor in Fine Arts & Design with specialization in Painting - Graphic Art - Sculpture - Graphic Design - Textile Design (4 years)",
          "Bachelor in Fine Arts & Design with specialization in Painting - Graphic Art - Sculpture - Graphic Design - Textile Design (4 years)",
          "Bachelor in Fine Arts & Design with specialization in Painting - Graphic Art - Sculpture - Graphic Design - Textile Design (4 years)",
          "Bachelor in Fine Arts & Design with specialization in Painting - Graphic Art - Sculpture - Graphic Design - Textile Design (4 years)",
          "Bachelor in Fine Arts & Design with specialization in Painting - Graphic Art - Sculpture - Graphic Design - Textile Design (4 years)",
          "Bachelor in Fine Arts & Design with specialization in Painting - Graphic Art - Sculpture - Graphic Design - Textile Design (4 years)",
          "Bachelor in Fine Arts & Design with specialization in Painting - Graphic Art - Sculpture - Graphic Design - Textile Design (4 years)",
          "Bachelor in Fine Arts & Design with specialization in Painting - Graphic Art - Sculpture - Graphic Design - Textile Design (4 years)",
          "Bachelor in Fine Arts & Design with specialization in Painting - Graphic Art - Sculpture - Graphic Design - Textile Design (4 years)",
          "Bachelor in Fine Arts & Design with specialization in Painting - Graphic Art - Sculpture - Graphic Design - Textile Design (4 years)",
          "Bachelor in Fine Arts & Design with specialization in Painting - Graphic Art - Sculpture - Graphic Design - Textile Design (4 years)",
          "Bachelor in Fine Arts & Design with specialization in Painting - Graphic Art - Sculpture - Graphic Design - Textile Design (4 years)",
          "Bachelor in Fine Arts & Design with specialization in Painting - Graphic Art - Sculpture - Graphic Design - Textile Design (4 years)",
          "Bachelor in Fine Arts & Design with specialization in Painting - Graphic Art - Sculpture - Graphic Design - Textile Design (4 years)",
          "MA Fine Arts with specialization in Painting - Printmaking - Miniature - Sculpture (2 years)",
          "MA Fine Arts with specialization in Painting - Printmaking - Miniature - Sculpture (2 years)",
          "MA Fine Arts with specialization in Painting - Printmaking - Miniature - Sculpture (2 years)",
          "MA Fine Arts with specialization in Painting - Printmaking - Miniature - Sculpture (2 years)",
          "MA Fine Arts with specialization in Painting - Printmaking - Miniature - Sculpture (2 years)",
          "MA Urdu & Iqbaliat",
          "MA Urdu & Iqbaliat",
          "MA Urdu & Iqbaliat",
          "MA Urdu & Iqbaliat",
          "MA Urdu & Iqbaliat",
          "MA Urdu & Iqbaliat",
          "MA Urdu & Iqbaliat",
          "MA Urdu & Iqbaliat",
          "MA Urdu & Iqbaliat",
          "MA Urdu & Iqbaliat",
          "MA Urdu & Iqbaliat",
          "MA Urdu & Iqbaliat",
          "MA Urdu & Iqbaliat",
          "MA Urdu & Iqbaliat",
          "MA Urdu & Iqbaliat",
          "MA Urdu & Iqbaliat",
          "MA Urdu & Iqbaliat",
          "MA Urdu & Iqbaliat",
          "MA Urdu & Iqbaliat",
          "MA Urdu & Iqbaliat",
          "MA Urdu & Iqbaliat",
          "MA Urdu & Iqbaliat",
          "MA Urdu & Iqbaliat",
          "MA Urdu & Iqbaliat",
          "MA Urdu & Iqbaliat",
          "MA Urdu & Iqbaliat",
          "MA Urdu & Iqbaliat",
          "MA Urdu & Iqbaliat",
          "MA Urdu & Iqbaliat",
          "MA Urdu & Iqbaliat",
          "MA Urdu & Iqbaliat",
          "MA Urdu & Iqbaliat",
          "MA Urdu & Iqbaliat",
          "MA Urdu & Iqbaliat",
          "MA Urdu & Iqbaliat",
          "MA Urdu & Iqbaliat",
          "MA Urdu & Iqbaliat",
          "MA Urdu & Iqbaliat",
          "MA Urdu & Iqbaliat",
          "MA Urdu & Iqbaliat",
          "MA Urdu & Iqbaliat",
          "MA Urdu & Iqbaliat",
          "MA Urdu & Iqbaliat",
          "MA Political Science",
          "MA Political Science",
          "MA Political Science",
          "MA Political Science",
          "BS Political Science",
          "BS Political Science",
          "BS Political Science",
          "BS Political Science",
          "BS Political Science",
          "BS Political Science",
          "BS Political Science",
          "BS Political Science",
          "BS Political Science",
          "BS Political Science",
          "BS Political Science",
          "BS Political Science",
          "Master in  Public Administration (E)",
          "Master in  Public Administration (E)",
          "Master in  Public Administration (E)",
          "Master in  Public Administration (E)",
          "Master in  Public Administration (E)",
          "Master in  Public Administration (E)",
          "Master in  Public Administration (E)",
          "Master in  Public Administration (E)",
          "Master in  Public Administration (E)",
          "Master in  Public Administration (E)",
          "Master in  Public Administration (E)",
          "Master in  Public Administration (E)",
          "BS Public Administration",
          "BS Public Administration",
          "BS Public Administration",
          "BS Public Administration",
          "BS Public Administration",
          "BS Public Administration",
          "BS Public Administration",
          "BS Public Administration",
          "BS Public Administration",
          "BS Public Administration",
          "BS Public Administration",
          "BS Public Administration",
          "BS Public Administration",
          "BS Public Administration",
          "BS Public Administration",
          "BS Public Administration",
          "BS Public Administration",
          "BS Public Administration",
          "BS Public Administration",
          "BS Public Administration",
          "BS Public Administration",
          "BS Public Administration",
          "BS Public Administration",
          "BS Public Administration",
          "BS Public Administration",
          "BS Public Administration",
          "MA Media Studies",
          "MA Media Studies",
          "MA Media Studies",
          "MA Media Studies",
          "BS Media Studies",
          "BS Media Studies",
          "BS Media Studies",
          "BS Media Studies",
          "BS Media Studies",
          "BS Media Studies",
          "BS Media Studies",
          "BS Media Studies",
          "BS Media Studies",
          "BS Media Studies",
          "BS Media Studies",
          "BS Media Studies",
          "BS Media Studies",
          "BS Media Studies",
          "BS Media Studies",
          "BS Media Studies",
          "BS Media Studies",
          "BS Media Studies",
          "BS Media Studies",
          "BS Media Studies",
          "BS Media Studies",
          "BS Media Studies",
          "BS Media Studies",
          "BS Media Studies",
          "MLISc",
          "MLISc",
          "MLISc",
          "MLISc",
          "BS Library & Information Science",
          "BS Library & Information Science",
          "BS Library & Information Science",
          "MA International Relations",
          "MA English",
          "MA English",
          "MA English",
          "MA English",
          "MA English",
          "MA English",
          "MA English",
          "MA English",
          "MA English",
          "MA English",
          "MA English Language & Literature",
          "MA English Language & Literature",
          "MA English Language & Literature",
          "MA English Language & Literature",
          "MA English Language & Literature",
          "MA English Language & Literature",
          "MA English Language & Literature",
          "MA English Language & Literature",
          "MA English Language & Literature",
          "MA English Language & Literature",
          "MA English Language & Literature",
          "MA English Language & Literature",
          "MA English Language & Literature",
          "MA English Language & Literature",
          "MA English Language & Literature",
          "MA English Literature",
          "MA English Literature",
          "MA English Literature",
          "MA English Literature",
          "MA English Literature",
          "MA English Literature",
          "MA English Literature",
          "MA English Literature",
          "MA English Literature",
          "MA English Literature",
          "MA English Literature",
          "MA English Literature",
          "MA English Literature",
          "MA English Literature",
          "MA English Literature",
          "MA English Literature",
          "MA English Literature",
          "MA English Literature",
          "MA English Literature",
          "MA English Literature",
          "MA English Literature",
          "MA English Literature",
          "MA English Literature",
          "MA English Literature",
          "MA English Literature",
          "MA English Literature",
          "MA English Literature",
          "MA English Literature",
          "MA English Literature",
          "MA English Literature",
          "MA English Literature",
          "MA English Literature",
          "MA English Literature",
          "MA English Literature",
          "MA English Literature",
          "MA English Literature",
          "MA English Literature",
          "MA English Linguistics",
          "MA English Linguistics",
          "MA English Linguistics",
          "MA English Linguistics",
          "MA English Linguistics",
          "MA English Linguistics",
          "MA English Linguistics",
          "MA English Linguistics",
          "MA English Linguistics",
          "MA English Linguistics",
          "MA English Linguistics",
          "MA English Linguistics",
          "MA English Linguistics",
          "MA English Linguistics",
          "MA English Linguistics",
          "MA English Linguistics",
          "MA English Linguistics",
          "MA English Linguistics",
          "MA English Linguistics",
          "MA English Linguistics",
          "MA English Linguistics",
          "MA English Linguistics",
          "MA English Linguistics",
          "MA English Linguistics",
          "MA English Linguistics",
          "MA English Linguistics",
          "MA English Linguistics",
          "MA English Linguistics",
          "MA English Linguistics",
          "MA English Linguistics",
          "BA(Hons) English",
          "BA(Hons) English",
          "BA(Hons) English",
          "BA(Hons) English",
          "BA(Hons) English",
          "BA(Hons) English",
          "BA(Hons) English",
          "BA(Hons) English",
          "BA(Hons) English",
          "BA(Hons) English",
          "BA(Hons) English",
          "BA(Hons) English",
          "BA(Hons) English",
          "BA(Hons) English",
          "BA(Hons) English",
          "BA(Hons) English",
          "BA(Hons) English",
          "BA(Hons) English",
          "BA(Hons) English",
          "BA(Hons) English",
          "BA(Hons) English",
          "BA(Hons) English",
          "BA(Hons) English",
          "BA(Hons) English",
          "BA(Hons) English",
          "BA(Hons) English",
          "BA(Hons) English",
          "BA(Hons) English",
          "BA(Hons) English",
          "BA(Hons) English",
          "BA(Hons) English"
         ],
         "xaxis": "x",
         "y": [
          843,
          841,
          850,
          840,
          1012,
          651,
          882,
          883,
          843,
          868,
          858,
          823,
          836,
          838,
          975,
          827,
          850,
          857,
          823,
          828,
          824,
          863,
          851,
          844,
          637,
          837,
          943,
          819,
          880,
          853,
          850,
          840,
          820,
          398,
          374,
          427,
          418,
          386,
          396,
          393,
          453,
          388,
          466,
          441,
          492,
          475,
          524,
          495,
          454,
          487,
          445,
          520,
          394,
          395,
          497,
          443,
          495,
          369,
          407,
          427,
          437,
          366,
          492,
          442,
          530,
          466,
          514,
          544,
          533,
          488,
          554,
          480,
          469,
          514,
          512,
          480,
          596,
          539,
          470,
          557,
          504,
          508,
          557,
          460,
          540,
          453,
          567,
          617,
          518,
          486,
          480,
          480,
          509,
          587,
          559,
          540,
          480,
          544,
          535,
          495,
          471,
          532,
          496,
          541,
          519,
          536,
          537,
          567,
          535,
          490,
          536,
          474,
          480,
          498,
          534,
          500,
          504,
          487,
          611,
          489,
          483,
          490,
          512,
          509,
          547,
          558,
          423,
          515,
          511,
          523,
          530,
          518,
          562,
          492,
          542,
          555,
          507,
          360,
          589,
          539,
          481,
          461,
          441,
          458,
          409,
          464,
          428,
          482,
          432,
          486,
          435,
          474,
          556,
          414,
          406,
          465,
          443,
          386,
          445,
          405,
          462,
          480,
          547,
          457,
          495,
          502,
          425,
          481,
          464,
          409,
          483,
          481,
          437,
          556,
          540,
          499,
          444,
          446,
          500,
          567,
          487,
          387,
          570,
          370,
          465,
          465,
          401,
          481,
          481,
          457,
          426,
          437,
          450,
          518,
          469,
          469,
          480,
          480,
          396,
          466,
          400,
          531,
          462,
          523,
          530,
          523,
          467,
          462,
          453,
          536,
          511,
          468,
          422,
          480,
          419,
          442,
          440,
          921,
          583,
          604,
          852,
          614,
          798,
          647,
          601,
          659,
          679,
          583,
          801,
          666,
          680,
          691,
          579,
          813,
          622,
          662,
          646,
          703,
          555,
          700,
          605,
          713,
          718,
          683,
          636,
          661,
          543,
          589,
          650,
          601,
          690,
          752,
          678,
          834,
          532,
          643,
          652,
          598,
          743,
          618,
          569,
          652,
          676,
          686,
          662,
          602,
          643,
          612,
          664,
          600,
          662,
          547,
          614,
          770,
          722,
          678,
          563,
          644,
          635,
          581,
          1018,
          650,
          617,
          510,
          855,
          614,
          647,
          649,
          920,
          585,
          516,
          618,
          534,
          742,
          708,
          529,
          500,
          509,
          785,
          513,
          502,
          812,
          763,
          591,
          718,
          632,
          525,
          605,
          676,
          625,
          641,
          539,
          602,
          537,
          819,
          450,
          455,
          512,
          464,
          517,
          473,
          442,
          506,
          472,
          473,
          480,
          444,
          485,
          389,
          411,
          534,
          371,
          360,
          422,
          474,
          466,
          438,
          436,
          434,
          368,
          421,
          408,
          424,
          437,
          448,
          448,
          381,
          558,
          416,
          419,
          537,
          448,
          411,
          383,
          426,
          432,
          604,
          425,
          418,
          466,
          422,
          418,
          427,
          471,
          436,
          398,
          503,
          452,
          438,
          484,
          465,
          490,
          489,
          482,
          418,
          429,
          437,
          469,
          431,
          403,
          447,
          434,
          404,
          469,
          471,
          424,
          572,
          526,
          416,
          423,
          404,
          465,
          458,
          450,
          437,
          424,
          384,
          480,
          525,
          411,
          645,
          609,
          556,
          579,
          557,
          613,
          582,
          703,
          601,
          583,
          561,
          611,
          570,
          584,
          754,
          619,
          561,
          669,
          550,
          782,
          626,
          637,
          734,
          588,
          903,
          805,
          922,
          561,
          655,
          774,
          728,
          809,
          664,
          786,
          815,
          740,
          742,
          836,
          723,
          975,
          727,
          601,
          688,
          697,
          864,
          780,
          900,
          623,
          742,
          668,
          597,
          607,
          643,
          666,
          819,
          722,
          704,
          653,
          955,
          644,
          912,
          739,
          689,
          880,
          919,
          721,
          922,
          874,
          544,
          577,
          868,
          661,
          695,
          772,
          725,
          773,
          603,
          755,
          845,
          616,
          569,
          909,
          667,
          635,
          684,
          751,
          662,
          926,
          836,
          687,
          641,
          648,
          627,
          670,
          620,
          708,
          808,
          874,
          629,
          671,
          640,
          642,
          782,
          816,
          648,
          781,
          621,
          865,
          645,
          850,
          622,
          806,
          926,
          796,
          599,
          906,
          655,
          625,
          584,
          769,
          902,
          661,
          917,
          864,
          606,
          932,
          894,
          688,
          661,
          679,
          753,
          643,
          623,
          642,
          606,
          605,
          624,
          662,
          629,
          646,
          727,
          612,
          649,
          588,
          726,
          877,
          864,
          759,
          607,
          657,
          685,
          697,
          666,
          718,
          729,
          685,
          645,
          692,
          872,
          861,
          678,
          807,
          660,
          651,
          750,
          779,
          501,
          456,
          387,
          418,
          393,
          398,
          433,
          391,
          409,
          460,
          440,
          463,
          475,
          438,
          403,
          486,
          835,
          602,
          763,
          582,
          641,
          685,
          513,
          579,
          617,
          754,
          661,
          672,
          805,
          738,
          513,
          596,
          643,
          646,
          697,
          659,
          531,
          550,
          502,
          534,
          527,
          536,
          577,
          500,
          563,
          530,
          565,
          516,
          566,
          602,
          517,
          519,
          466,
          461,
          480,
          556,
          554,
          525,
          526,
          520,
          555,
          556,
          574,
          560,
          591,
          557,
          459,
          511,
          485,
          608,
          565,
          480,
          483,
          567,
          513,
          686,
          872,
          897,
          892,
          913,
          908,
          984,
          556,
          967,
          846,
          875,
          936,
          873,
          879,
          844,
          885,
          870,
          883,
          864,
          950,
          885,
          858,
          902,
          862,
          897,
          951,
          888,
          910,
          527,
          579,
          587,
          599,
          575,
          554,
          539,
          549,
          614,
          624,
          548,
          524,
          630,
          603,
          596,
          629,
          561,
          590,
          595,
          627,
          600,
          642,
          596,
          580,
          610,
          614,
          524,
          579,
          548,
          624,
          599,
          621,
          548,
          579,
          604,
          547,
          537,
          616,
          583,
          580,
          576,
          643,
          554,
          618,
          583,
          459,
          967,
          942,
          967,
          978,
          954,
          963,
          937,
          959,
          961,
          929,
          933,
          950,
          941,
          907,
          919,
          941,
          937,
          964,
          930,
          931,
          950,
          935,
          979,
          959,
          948,
          928,
          414,
          451,
          422,
          437,
          480,
          400,
          597,
          512,
          633,
          699,
          503,
          557,
          522,
          567,
          535,
          526,
          514,
          500,
          507,
          508,
          515,
          514,
          523,
          544,
          535,
          501,
          521,
          527,
          501,
          512,
          502,
          523,
          540,
          535,
          531,
          566,
          544,
          509,
          572,
          542,
          532,
          564,
          500,
          538,
          547,
          528,
          547,
          616,
          565,
          513,
          527,
          500,
          982,
          992,
          983,
          982,
          969,
          972,
          1012,
          970,
          967,
          980,
          968,
          993,
          799,
          974,
          978,
          989,
          961,
          971,
          972,
          961,
          975,
          965,
          989,
          975,
          982,
          971,
          981,
          979,
          946,
          916,
          945,
          948,
          958,
          991,
          973,
          961,
          968,
          953,
          947,
          965,
          945,
          833,
          982,
          940,
          957,
          795,
          946,
          744,
          979,
          982,
          1010,
          958,
          956,
          980,
          814,
          973,
          958,
          951,
          961,
          953,
          402,
          474,
          500,
          458,
          470,
          397,
          483,
          421,
          702,
          480,
          375,
          420,
          506,
          503,
          461,
          415,
          395,
          402,
          729,
          701,
          691,
          692,
          752,
          897,
          732,
          702,
          714,
          825,
          974,
          828,
          760,
          907,
          675,
          791,
          730,
          754,
          958,
          694,
          660,
          898,
          891,
          741,
          707,
          750,
          670,
          800,
          911,
          771,
          695,
          691,
          855,
          682,
          776,
          807,
          876,
          764,
          764,
          647,
          817,
          913,
          711,
          733,
          730,
          729,
          754,
          703,
          755,
          773,
          918,
          709,
          755,
          752,
          726,
          780,
          799,
          664,
          525,
          538,
          497,
          556,
          482,
          544,
          489,
          539,
          536,
          453,
          508,
          613,
          494,
          495,
          533,
          538,
          510,
          479,
          488,
          503,
          534,
          480,
          522,
          530,
          582,
          555,
          484,
          523,
          492,
          515,
          531,
          500,
          530,
          548,
          547,
          557,
          520,
          494,
          497,
          533,
          500,
          470,
          496,
          489,
          598,
          549,
          524,
          528,
          509,
          893,
          814,
          822,
          850,
          834,
          913,
          802,
          849,
          922,
          822,
          853,
          741,
          662,
          913,
          830,
          938,
          698,
          824,
          845,
          920,
          907,
          868,
          846,
          874,
          867,
          854,
          814,
          859,
          873,
          852,
          835,
          825,
          820,
          836,
          804,
          825,
          913,
          671,
          752,
          808,
          800,
          782,
          822,
          791,
          784,
          811,
          801,
          832,
          840,
          825,
          397,
          483,
          440,
          455,
          487,
          491,
          595,
          489,
          490,
          604,
          473,
          451,
          489,
          519,
          644,
          671,
          668,
          568,
          538,
          663,
          591,
          500,
          557,
          495,
          644,
          700,
          648,
          661,
          640,
          671,
          661,
          656,
          652,
          931,
          705,
          775,
          925,
          788,
          660,
          652,
          712,
          645,
          711,
          701,
          657,
          726,
          799,
          712,
          493,
          522,
          550,
          646,
          542,
          498,
          665,
          415,
          564,
          466,
          474,
          412,
          424,
          470,
          481,
          524,
          422,
          522,
          480,
          537,
          456,
          475,
          452,
          379,
          522,
          400,
          379,
          480,
          454,
          498,
          472,
          480,
          564,
          520,
          509,
          427,
          418,
          529,
          606,
          677,
          573,
          714,
          734,
          674,
          652,
          554,
          658,
          537,
          669,
          603,
          528,
          508,
          495,
          614,
          605,
          669,
          577,
          624,
          644,
          817,
          431,
          422,
          645,
          559,
          514,
          564,
          617,
          601,
          426,
          471,
          546,
          417,
          449,
          440,
          531,
          687,
          550,
          651,
          628,
          633,
          564,
          754,
          454,
          520,
          496,
          450,
          513,
          467,
          465,
          528,
          529,
          552,
          467,
          531,
          486,
          453,
          480,
          501,
          504,
          534,
          498,
          472,
          447,
          451,
          525,
          519,
          485,
          497,
          485,
          484,
          469,
          463,
          447,
          496,
          488,
          481,
          490,
          532,
          537,
          480,
          507,
          0,
          0,
          566,
          611,
          495,
          597,
          520,
          0,
          0,
          439,
          482,
          547,
          487,
          447,
          386,
          478,
          551,
          472,
          480,
          470,
          364,
          437,
          437,
          467,
          588,
          383,
          398,
          434,
          449,
          394,
          583,
          426,
          429,
          540,
          620,
          562,
          513,
          588,
          563,
          539,
          495,
          798,
          512,
          748,
          657,
          628,
          740,
          725,
          670,
          690,
          660,
          660,
          568,
          681,
          613,
          509,
          621,
          512,
          377,
          543,
          455,
          499,
          441,
          435,
          463,
          462,
          529,
          402,
          379,
          379,
          434,
          548,
          552,
          396,
          461,
          529,
          403,
          507,
          462,
          470,
          454,
          466,
          427,
          431,
          744,
          660,
          865,
          851,
          907,
          799,
          923,
          802,
          733,
          804,
          952,
          711,
          727,
          848,
          772,
          731,
          733,
          836,
          847,
          816,
          971,
          696,
          936,
          658,
          657,
          929,
          680,
          567,
          526,
          797,
          496,
          837,
          601,
          535,
          633,
          650,
          709,
          665,
          576,
          628,
          841,
          504,
          564,
          627,
          665,
          615,
          431,
          438,
          463,
          620,
          423,
          600,
          727,
          591,
          643,
          593,
          521,
          535,
          512,
          560,
          531,
          494,
          506,
          530,
          509,
          473,
          489,
          482,
          513,
          584,
          601,
          581,
          430,
          538,
          498,
          514,
          486,
          526,
          600,
          495,
          486,
          473,
          464,
          491,
          493,
          589,
          532,
          549,
          568,
          518,
          570,
          483,
          509,
          488,
          431,
          376,
          409,
          392,
          547,
          545,
          530,
          608,
          572,
          717,
          626,
          561,
          506,
          567,
          561,
          531,
          507,
          484,
          421,
          403,
          442,
          492,
          537,
          490,
          456,
          389,
          409,
          568,
          595,
          668,
          615,
          733,
          561,
          624,
          666,
          539,
          496,
          554,
          543,
          738,
          634,
          760,
          648,
          694,
          611,
          552,
          787,
          517,
          566,
          712,
          552,
          668,
          539,
          554,
          451,
          387,
          542,
          504,
          659,
          804,
          678,
          533,
          506,
          601,
          649,
          595,
          613,
          601,
          520,
          517,
          553,
          573,
          598,
          638,
          809,
          724,
          633,
          622,
          568,
          506,
          568,
          573,
          384,
          396,
          436,
          474,
          650,
          562,
          683,
          366,
          519,
          417,
          445,
          468,
          585,
          418,
          556,
          462,
          569,
          468,
          496,
          547,
          595,
          480,
          391,
          450,
          492,
          605,
          444,
          505,
          549,
          581,
          544,
          463,
          536,
          492,
          542,
          500,
          586,
          471,
          522,
          517,
          561,
          517,
          510,
          574,
          572,
          463,
          526,
          466,
          504,
          511,
          516,
          480,
          492,
          550,
          503,
          649,
          538,
          493,
          560,
          434,
          519,
          480,
          470,
          547,
          540,
          424,
          609,
          549,
          569,
          540,
          512,
          546,
          501,
          480,
          574,
          528,
          480,
          573,
          413,
          612,
          467,
          429,
          517,
          498,
          507,
          408,
          442,
          502,
          601,
          542,
          403,
          559,
          482,
          518,
          451,
          398,
          456,
          432,
          511,
          484,
          857,
          842,
          789,
          879,
          841,
          903,
          892,
          879,
          911,
          942,
          903,
          816,
          841,
          824,
          982,
          507,
          832,
          795,
          869,
          616,
          633,
          850,
          975,
          885,
          895,
          918,
          853,
          829,
          810,
          881,
          839
         ],
         "yaxis": "y"
        },
        {
         "hovertemplate": "Domicile=OPEN<br>Programme=%{x}<br>Terminal Degree=%{y}<extra></extra>",
         "legendgroup": "OPEN",
         "marker": {
          "color": "#EF553B",
          "symbol": "circle"
         },
         "mode": "markers",
         "name": "OPEN",
         "showlegend": true,
         "type": "scattergl",
         "x": [
          "BS Mathematics",
          "BS Mathematics",
          "BS Mathematics",
          "BS Mathematics",
          "BS Mathematics",
          "BS Mathematics",
          "BS Mathematics",
          "BS Mathematics",
          "M.Sc. Physical Education",
          "MCS",
          "MCS",
          "MCS",
          "BS CS",
          "BS CS",
          "BS CS",
          "BS CS",
          "BBA (Hons) after 12 years of education",
          "BS Applied Psychology",
          "MSc Applied Psychology",
          "Master in  Public Administration",
          "MSc Botany",
          "MSc Botany",
          "MSc Botany",
          "MSc Botany",
          "MSc Botany",
          "MSc Botany",
          "MSc Economics",
          "MSc Economics",
          "MSc Economics",
          "MSc Economics",
          "MSc Economics",
          "MSc Economics",
          "BS Economics",
          "BS Economics",
          "BS Economics",
          "BS Economics",
          "BS Economics",
          "BS Economics",
          "BS Economics",
          "BS Economics",
          "BS Economics",
          "BS Economics",
          "BS Economics",
          "BS Economics",
          "BS Economics",
          "BS Economics",
          "BS Economics",
          "BS Economics",
          "BS Economics",
          "BS Economics",
          "BSc (Hons) Agriculture",
          "BSc (Hons) Agriculture",
          "BSc (Hons) Agriculture",
          "BSc (Hons) Agriculture",
          "BSc (Hons) Agriculture",
          "BSc (Hons) Agriculture",
          "BSc (Hons) Agriculture",
          "BSc (Hons) Agriculture",
          "BSc (Hons) Agriculture",
          "BSc (Hons) Agriculture",
          "BSc (Hons) Agriculture",
          "BSc (Hons) Agriculture",
          "BSc (Hons) Agriculture",
          "BSc (Hons) Agriculture",
          "BSc (Hons) Agriculture",
          "BSc (Hons) Agriculture",
          "BSc (Hons) Agriculture",
          "BSc (Hons) Agriculture",
          "BSc (Hons) Agriculture",
          "BSc (Hons) Agriculture",
          "BSc (Hons) Agriculture",
          "BSc (Hons) Agriculture",
          "BSc (Hons) Agriculture",
          "BSc (Hons) Agriculture",
          "BSc (Hons) Agriculture",
          "BSc (Hons) Agriculture",
          "BSc (Hons) Agriculture",
          "BSc (Hons) Agriculture",
          "BSc (Hons) Agriculture",
          "BSc (Hons) Agriculture",
          "BSc (Hons) Agriculture",
          "BSc (Hons) Agriculture",
          "BSc (Hons) Agriculture",
          "BSc (Hons) Agriculture",
          "BSc (Hons) Agriculture",
          "BSc (Hons) Agriculture",
          "BSc (Hons) Agriculture",
          "BSc (Hons) Agriculture",
          "BSc (Hons) Agriculture",
          "BSc (Hons) Agriculture",
          "BSc (Hons) Agriculture",
          "BSc (Hons) Agriculture",
          "BSc (Hons) Agriculture",
          "BSc (Hons) Agriculture",
          "BSc (Hons) Agriculture",
          "BSc (Hons) Agriculture",
          "BSc (Hons) Agriculture",
          "BSc (Hons) Agriculture",
          "BSc (Hons) Agriculture",
          "BSc (Hons) Agriculture",
          "BSc (Hons) Agriculture",
          "BSc (Hons) Agriculture",
          "BSc (Hons) Agriculture",
          "BSc (Hons) Agriculture",
          "BS Statistics ",
          "BS Statistics ",
          "BS Statistics ",
          "BS Statistics ",
          "BS Statistics ",
          "BS Statistics ",
          "BS Statistics ",
          "BS Statistics ",
          "BS Statistics ",
          "BS Statistics ",
          "MSc Physics",
          "MSc Physics",
          "MSc Physics",
          "MSc Physics",
          "MSc Physics",
          "MSc Physics",
          "MSc Physics",
          "MSc Physics",
          "MSc Physics",
          "MSc Physics",
          "MSc Physics",
          "BS Physics",
          "BS Physics",
          "BS Physics",
          "BS Physics",
          "BS Physics",
          "BS Physics",
          "MSc Mathematics",
          "MSc Mathematics",
          "MSc Mathematics",
          "MSc Mathematics",
          "MSc Mathematics",
          "MSc Mathematics",
          "MSc Mathematics",
          "BS (Hons) Botany & Zoology",
          "BS (Hons) Botany & Zoology",
          "BS (Hons) Botany & Zoology",
          "BS (Hons) Botany & Zoology",
          "BS (Hons) Botany & Zoology",
          "BS (Hons) Botany & Zoology",
          "BS (Hons) Botany & Zoology",
          "BS (Hons) Botany & Zoology",
          "BS (Hons) Botany & Zoology",
          "BS (Hons) Botany & Zoology",
          "BS (Hons) Botany & Zoology",
          "BS (Hons) Botany & Zoology",
          "MSc Geography ",
          "MSc Geography ",
          "BS Geography",
          "MSc Chemistry",
          "MSc Chemistry",
          "MSc Chemistry",
          "MSc Chemistry",
          "MSc Chemistry",
          "MSc Chemistry",
          "MSc Chemistry",
          "BS Chemistry (E)",
          "BS Chemistry (E)",
          "BS Chemistry (E)",
          "BS Chemistry (E)",
          "BS Chemistry (E)",
          "BS Chemistry (E)",
          "BS Chemistry (E)",
          "BS Chemistry (E)",
          "BS Chemistry (E)",
          "BS Chemistry (E)",
          "BS Chemistry (E)",
          "BS Chemistry (E)",
          "BS Chemistry (E)",
          "BS Chemistry (E)",
          "BS Biochemistry & Biotechnology",
          "BS Biochemistry & Biotechnology",
          "BS Biochemistry & Biotechnology",
          "BS Biochemistry & Biotechnology",
          "BS Biochemistry & Biotechnology",
          "BS Biochemistry & Biotechnology",
          "BS Biochemistry & Biotechnology",
          "BS Biochemistry & Biotechnology",
          "BS Biochemistry & Biotechnology",
          "BS Biochemistry & Biotechnology",
          "BS Biochemistry & Biotechnology",
          "BS Biochemistry & Biotechnology",
          "BS Biochemistry & Biotechnology",
          "MBA After 14 years of Education (Morning) 4 year program",
          "MBA After 14 years of Education (Morning) 4 year program",
          "MBA After 14 years of Education (Morning) 4 year program",
          "MBA After 14 years of Education (Morning) 4 year program",
          "MBA After 14 years of Education (Morning) 4 year program",
          "MBA After 14 years of Education (Morning) 4 year program",
          "MBA After 14 years of Education (Morning) 4 year program",
          "MBA After 14 years of Education (Morning) 4 year program",
          "MBA After 14 years of Education (Morning) 4 year program",
          "MBA After 14 years of Education (Morning) 4 year program",
          "MBA After 14 years of Education (Morning) 4 year program",
          "MBA After 14 years of Education (Morning) 4 year program",
          "BBA (Hons) after 12 years of education",
          "BBA (Hons) after 12 years of education",
          "BBA (Hons) after 12 years of education",
          "BBA (Hons) after 12 years of education",
          "BBA (Hons) after 12 years of education",
          "BBA (Hons) after 12 years of education",
          "BBA (Hons) after 12 years of education",
          "BBA (Hons) after 12 years of education",
          "BBA (Hons) after 12 years of education",
          "BBA (Hons) after 12 years of education",
          "BBA (Hons) after 12 years of education",
          "BBA (Hons) after 12 years of education",
          "BBA (Hons) after 12 years of education",
          "BBA (Hons) after 12 years of education",
          "BBA (Hons) after 12 years of education",
          "BBA (Hons) after 12 years of education",
          "BBA (Hons) after 12 years of education",
          "BBA (Hons) after 12 years of education",
          "BBA (Hons) after 12 years of education",
          "BBA (Hons) after 12 years of education",
          "BBA (Hons) after 12 years of education",
          "BBA (Hons) after 12 years of education",
          "MCS",
          "MCS",
          "BS CS",
          "BS CS",
          "BS CS",
          "BS CS",
          "BS CS",
          "BS CS",
          "BS CS",
          "BS CS",
          "BS CS",
          "BS CS",
          "BS IT",
          "BS IT",
          "BS IT",
          "BS IT",
          "BS IT",
          "BS IT",
          "BS IT",
          "BS IT",
          "BS IT",
          "BS IT",
          "BS IT",
          "BS IT",
          "BS IT",
          "BS IT",
          "BS IT",
          "BS IT",
          "BS IT",
          "BS IT",
          "BS IT",
          "BS IT",
          "MSc Accounting & Finance",
          "MSc Accounting & Finance",
          "MSc Accounting & Finance",
          "MSc Accounting & Finance",
          "MCom",
          "BS Commerce ",
          "BS Commerce ",
          "BS Commerce ",
          "BS Commerce ",
          "BS Commerce ",
          "LLB  5 years  (Under Semester System)",
          "LLB  5 years  (Under Semester System)",
          "LLB  5 years  (Under Semester System)",
          "LLB  5 years  (Under Semester System)",
          "LLB  5 years  (Under Semester System)",
          "LLB  5 years  (Under Semester System)",
          "LLB  5 years  (Under Semester System)",
          "LLB  5 years  (Under Semester System)",
          "LLB  5 years  (Under Semester System)",
          "LLB  5 years  (Under Semester System)",
          "LLB  5 years  (Under Semester System)",
          "LLB  5 years  (Under Semester System)",
          "LLB  5 years  (Under Semester System)",
          "LLB  5 years  (Under Semester System)",
          "MA Islamic Studies with specialization in Hadith & Seerah ",
          "MA Islamic Studies with specialization in Hadith & Seerah ",
          "MA Islamic Studies with specialization in Hadith & Seerah ",
          "MA Islamic Studies with specialization in Quran & Tafseer",
          "MA Islamic Studies with specialization in Quran & Tafseer",
          "MA Islamic Studies",
          "BS Islamic Studies",
          "BS Islamic Studies",
          "BS Islamic Studies",
          "BS Islamic Studies",
          "BS Islamic Studies",
          "MA Pakistan Studies",
          "MA Pakistan Studies",
          "MA Arabic",
          "MA Social Work",
          "BS Social Work",
          "BS Social Work",
          "BS Social Work",
          "BS Social Work",
          "BS Social Work",
          "BS Social Work",
          "BS Social Work",
          "BS Social Work",
          "BS Social Work",
          "BS Social Work",
          "M.Sc. Physical Education",
          "M.Sc. Physical Education",
          "M.Sc. Physical Education",
          "M.Sc. Physical Education",
          "M.Sc. Physical Education",
          "M.Sc. Physical Education",
          "M.Sc. Physical Education",
          "M.Sc. Physical Education",
          "BEd 1.5-years (after MA/MSc/BS)",
          "BEd 4-years (after FA/FSc)",
          "MEd (after BEd/BS Ed)",
          "MEd (after BEd/BS Ed)",
          "MEd (after BEd/BS Ed)",
          "MA Education",
          "BS Secondary Education",
          "BS Secondary Education",
          "BS Secondary Education",
          "BS Secondary Education",
          "BS Secondary Education",
          "BS Secondary Education",
          "BS Secondary Education",
          "BS Secondary Education",
          "BS Secondary Education",
          "BS Secondary Education",
          "BS Secondary Education",
          "BS Secondary Education",
          "BS Secondary Education",
          "MSc Applied Psychology",
          "MSc Applied Psychology",
          "MSc Applied Psychology",
          "MSc Applied Psychology",
          "MSc Applied Psychology",
          "MSc Applied Psychology",
          "BS Applied Psychology",
          "BS Applied Psychology",
          "BS Applied Psychology",
          "BS Applied Psychology",
          "BS Applied Psychology",
          "BS Applied Psychology",
          "BS Applied Psychology",
          "BS Applied Psychology",
          "BS Applied Psychology",
          "Bachelor in Fine Arts & Design with specialization in Painting - Graphic Art - Sculpture - Graphic Design - Textile Design (4 years)",
          "Bachelor in Fine Arts & Design with specialization in Painting - Graphic Art - Sculpture - Graphic Design - Textile Design (4 years)",
          "Bachelor in Fine Arts & Design with specialization in Painting - Graphic Art - Sculpture - Graphic Design - Textile Design (4 years)",
          "Bachelor in Fine Arts & Design with specialization in Painting - Graphic Art - Sculpture - Graphic Design - Textile Design (4 years)",
          "Bachelor in Fine Arts & Design with specialization in Painting - Graphic Art - Sculpture - Graphic Design - Textile Design (4 years)",
          "Bachelor in Fine Arts & Design with specialization in Painting - Graphic Art - Sculpture - Graphic Design - Textile Design (4 years)",
          "Bachelor in Fine Arts & Design with specialization in Painting - Graphic Art - Sculpture - Graphic Design - Textile Design (4 years)",
          "Bachelor in Fine Arts & Design with specialization in Painting - Graphic Art - Sculpture - Graphic Design - Textile Design (4 years)",
          "Bachelor in Fine Arts & Design with specialization in Painting - Graphic Art - Sculpture - Graphic Design - Textile Design (4 years)",
          "Bachelor in Fine Arts & Design with specialization in Painting - Graphic Art - Sculpture - Graphic Design - Textile Design (4 years)",
          "Bachelor in Fine Arts & Design with specialization in Painting - Graphic Art - Sculpture - Graphic Design - Textile Design (4 years)",
          "MA Fine Arts with specialization in Painting - Printmaking - Miniature - Sculpture (2 years)",
          "MA Fine Arts with specialization in Painting - Printmaking - Miniature - Sculpture (2 years)",
          "MA Fine Arts with specialization in Painting - Printmaking - Miniature - Sculpture (2 years)",
          "MA Fine Arts with specialization in Painting - Printmaking - Miniature - Sculpture (2 years)",
          "MA Fine Arts with specialization in Painting - Printmaking - Miniature - Sculpture (2 years)",
          "MA Urdu & Iqbaliat",
          "MA Urdu & Iqbaliat",
          "MA Urdu & Iqbaliat",
          "MA Urdu & Iqbaliat",
          "MA Political Science",
          "BS Political Science",
          "BS Political Science",
          "BS Political Science",
          "BS Political Science",
          "BS Political Science",
          "BS Political Science",
          "BS Political Science",
          "BS Political Science",
          "BS Political Science",
          "BS Political Science",
          "BS Political Science",
          "BS Political Science",
          "BS Political Science",
          "BS Political Science",
          "BS Political Science",
          "Master in  Public Administration (E)",
          "Master in  Public Administration (E)",
          "Master in  Public Administration (E)",
          "Master in  Public Administration (E)",
          "Master in  Public Administration (E)",
          "BS Public Administration",
          "BS Public Administration",
          "BS Public Administration",
          "BS Public Administration",
          "BS Public Administration",
          "BS Public Administration",
          "BS Public Administration",
          "BS Public Administration",
          "MA Media Studies",
          "BS Media Studies",
          "BS Media Studies",
          "BS Media Studies",
          "BS Media Studies",
          "BS Media Studies",
          "BS Media Studies",
          "BS Media Studies",
          "BS Media Studies",
          "BS Media Studies",
          "BS Library & Information Science",
          "BS Library & Information Science",
          "BS Library & Information Science",
          "MA International Relations",
          "MA International Relations",
          "MA International Relations",
          "MA International Relations",
          "MA International Relations",
          "MA English",
          "MA English Literature",
          "MA English Literature",
          "MA English Literature",
          "MA English Linguistics",
          "BA(Hons) English",
          "BA(Hons) English",
          "BA(Hons) English",
          "BA(Hons) English",
          "BA(Hons) English",
          "BA(Hons) English",
          "BA(Hons) English",
          "BA(Hons) English",
          "BA(Hons) English",
          "BA(Hons) English"
         ],
         "xaxis": "x",
         "y": [
          914,
          839,
          808,
          919,
          987,
          870,
          839,
          712,
          542,
          454,
          399,
          485,
          681,
          728,
          776,
          679,
          639,
          671,
          534,
          440,
          437,
          434,
          453,
          488,
          441,
          507,
          505,
          467,
          447,
          437,
          439,
          430,
          644,
          701,
          680,
          639,
          698,
          682,
          729,
          682,
          685,
          775,
          748,
          630,
          632,
          692,
          863,
          645,
          607,
          620,
          955,
          905,
          882,
          637,
          727,
          710,
          864,
          725,
          794,
          909,
          960,
          711,
          732,
          823,
          856,
          745,
          779,
          757,
          834,
          715,
          919,
          889,
          902,
          958,
          906,
          854,
          720,
          747,
          833,
          743,
          800,
          846,
          766,
          763,
          796,
          737,
          697,
          776,
          889,
          876,
          699,
          731,
          750,
          927,
          842,
          750,
          705,
          910,
          957,
          802,
          772,
          727,
          689,
          680,
          684,
          710,
          764,
          670,
          610,
          585,
          604,
          630,
          748,
          675,
          385,
          514,
          566,
          570,
          523,
          548,
          415,
          584,
          497,
          564,
          530,
          848,
          783,
          652,
          881,
          858,
          669,
          613,
          615,
          473,
          603,
          650,
          608,
          602,
          780,
          975,
          960,
          938,
          972,
          960,
          969,
          972,
          967,
          881,
          686,
          632,
          480,
          375,
          720,
          549,
          581,
          544,
          581,
          583,
          577,
          524,
          804,
          780,
          989,
          990,
          983,
          760,
          992,
          1007,
          987,
          984,
          978,
          992,
          824,
          890,
          801,
          970,
          977,
          889,
          866,
          976,
          964,
          975,
          977,
          966,
          1003,
          818,
          646,
          600,
          534,
          554,
          490,
          514,
          497,
          426,
          467,
          462,
          418,
          495,
          531,
          781,
          780,
          808,
          746,
          942,
          867,
          917,
          768,
          796,
          974,
          812,
          892,
          754,
          773,
          841,
          756,
          751,
          755,
          763,
          758,
          855,
          582,
          542,
          519,
          856,
          849,
          913,
          920,
          888,
          838,
          925,
          857,
          865,
          772,
          767,
          829,
          861,
          856,
          884,
          834,
          842,
          927,
          851,
          854,
          791,
          951,
          736,
          831,
          852,
          848,
          853,
          809,
          794,
          702,
          435,
          464,
          438,
          403,
          600,
          664,
          608,
          686,
          611,
          558,
          776,
          715,
          844,
          785,
          842,
          661,
          732,
          785,
          687,
          885,
          880,
          776,
          841,
          501,
          400,
          546,
          518,
          596,
          508,
          549,
          680,
          616,
          610,
          634,
          551,
          480,
          455,
          459,
          609,
          791,
          597,
          536,
          663,
          786,
          606,
          606,
          618,
          714,
          717,
          506,
          486,
          527,
          480,
          515,
          536,
          529,
          450,
          0,
          766,
          0,
          0,
          0,
          484,
          717,
          499,
          799,
          636,
          579,
          606,
          539,
          784,
          717,
          735,
          638,
          692,
          535,
          440,
          488,
          558,
          454,
          403,
          540,
          957,
          815,
          948,
          881,
          888,
          874,
          780,
          901,
          722,
          526,
          836,
          674,
          566,
          630,
          614,
          778,
          819,
          827,
          842,
          646,
          538,
          458,
          491,
          473,
          433,
          530,
          533,
          554,
          568,
          485,
          790,
          670,
          715,
          703,
          752,
          610,
          514,
          607,
          564,
          962,
          844,
          680,
          967,
          817,
          746,
          366,
          680,
          433,
          449,
          600,
          694,
          687,
          628,
          625,
          637,
          671,
          620,
          687,
          391,
          529,
          580,
          579,
          600,
          902,
          652,
          579,
          580,
          529,
          586,
          555,
          650,
          441,
          474,
          494,
          456,
          455,
          382,
          492,
          362,
          554,
          424,
          734,
          812,
          920,
          915,
          943,
          939,
          939,
          921,
          798,
          592
         ],
         "yaxis": "y"
        }
       ],
       "layout": {
        "legend": {
         "title": {
          "text": "Domicile"
         },
         "tracegroupgap": 0
        },
        "margin": {
         "t": 60
        },
        "template": {
         "data": {
          "bar": [
           {
            "error_x": {
             "color": "#2a3f5f"
            },
            "error_y": {
             "color": "#2a3f5f"
            },
            "marker": {
             "line": {
              "color": "#E5ECF6",
              "width": 0.5
             }
            },
            "type": "bar"
           }
          ],
          "barpolar": [
           {
            "marker": {
             "line": {
              "color": "#E5ECF6",
              "width": 0.5
             }
            },
            "type": "barpolar"
           }
          ],
          "carpet": [
           {
            "aaxis": {
             "endlinecolor": "#2a3f5f",
             "gridcolor": "white",
             "linecolor": "white",
             "minorgridcolor": "white",
             "startlinecolor": "#2a3f5f"
            },
            "baxis": {
             "endlinecolor": "#2a3f5f",
             "gridcolor": "white",
             "linecolor": "white",
             "minorgridcolor": "white",
             "startlinecolor": "#2a3f5f"
            },
            "type": "carpet"
           }
          ],
          "choropleth": [
           {
            "colorbar": {
             "outlinewidth": 0,
             "ticks": ""
            },
            "type": "choropleth"
           }
          ],
          "contour": [
           {
            "colorbar": {
             "outlinewidth": 0,
             "ticks": ""
            },
            "colorscale": [
             [
              0,
              "#0d0887"
             ],
             [
              0.1111111111111111,
              "#46039f"
             ],
             [
              0.2222222222222222,
              "#7201a8"
             ],
             [
              0.3333333333333333,
              "#9c179e"
             ],
             [
              0.4444444444444444,
              "#bd3786"
             ],
             [
              0.5555555555555556,
              "#d8576b"
             ],
             [
              0.6666666666666666,
              "#ed7953"
             ],
             [
              0.7777777777777778,
              "#fb9f3a"
             ],
             [
              0.8888888888888888,
              "#fdca26"
             ],
             [
              1,
              "#f0f921"
             ]
            ],
            "type": "contour"
           }
          ],
          "contourcarpet": [
           {
            "colorbar": {
             "outlinewidth": 0,
             "ticks": ""
            },
            "type": "contourcarpet"
           }
          ],
          "heatmap": [
           {
            "colorbar": {
             "outlinewidth": 0,
             "ticks": ""
            },
            "colorscale": [
             [
              0,
              "#0d0887"
             ],
             [
              0.1111111111111111,
              "#46039f"
             ],
             [
              0.2222222222222222,
              "#7201a8"
             ],
             [
              0.3333333333333333,
              "#9c179e"
             ],
             [
              0.4444444444444444,
              "#bd3786"
             ],
             [
              0.5555555555555556,
              "#d8576b"
             ],
             [
              0.6666666666666666,
              "#ed7953"
             ],
             [
              0.7777777777777778,
              "#fb9f3a"
             ],
             [
              0.8888888888888888,
              "#fdca26"
             ],
             [
              1,
              "#f0f921"
             ]
            ],
            "type": "heatmap"
           }
          ],
          "heatmapgl": [
           {
            "colorbar": {
             "outlinewidth": 0,
             "ticks": ""
            },
            "colorscale": [
             [
              0,
              "#0d0887"
             ],
             [
              0.1111111111111111,
              "#46039f"
             ],
             [
              0.2222222222222222,
              "#7201a8"
             ],
             [
              0.3333333333333333,
              "#9c179e"
             ],
             [
              0.4444444444444444,
              "#bd3786"
             ],
             [
              0.5555555555555556,
              "#d8576b"
             ],
             [
              0.6666666666666666,
              "#ed7953"
             ],
             [
              0.7777777777777778,
              "#fb9f3a"
             ],
             [
              0.8888888888888888,
              "#fdca26"
             ],
             [
              1,
              "#f0f921"
             ]
            ],
            "type": "heatmapgl"
           }
          ],
          "histogram": [
           {
            "marker": {
             "colorbar": {
              "outlinewidth": 0,
              "ticks": ""
             }
            },
            "type": "histogram"
           }
          ],
          "histogram2d": [
           {
            "colorbar": {
             "outlinewidth": 0,
             "ticks": ""
            },
            "colorscale": [
             [
              0,
              "#0d0887"
             ],
             [
              0.1111111111111111,
              "#46039f"
             ],
             [
              0.2222222222222222,
              "#7201a8"
             ],
             [
              0.3333333333333333,
              "#9c179e"
             ],
             [
              0.4444444444444444,
              "#bd3786"
             ],
             [
              0.5555555555555556,
              "#d8576b"
             ],
             [
              0.6666666666666666,
              "#ed7953"
             ],
             [
              0.7777777777777778,
              "#fb9f3a"
             ],
             [
              0.8888888888888888,
              "#fdca26"
             ],
             [
              1,
              "#f0f921"
             ]
            ],
            "type": "histogram2d"
           }
          ],
          "histogram2dcontour": [
           {
            "colorbar": {
             "outlinewidth": 0,
             "ticks": ""
            },
            "colorscale": [
             [
              0,
              "#0d0887"
             ],
             [
              0.1111111111111111,
              "#46039f"
             ],
             [
              0.2222222222222222,
              "#7201a8"
             ],
             [
              0.3333333333333333,
              "#9c179e"
             ],
             [
              0.4444444444444444,
              "#bd3786"
             ],
             [
              0.5555555555555556,
              "#d8576b"
             ],
             [
              0.6666666666666666,
              "#ed7953"
             ],
             [
              0.7777777777777778,
              "#fb9f3a"
             ],
             [
              0.8888888888888888,
              "#fdca26"
             ],
             [
              1,
              "#f0f921"
             ]
            ],
            "type": "histogram2dcontour"
           }
          ],
          "mesh3d": [
           {
            "colorbar": {
             "outlinewidth": 0,
             "ticks": ""
            },
            "type": "mesh3d"
           }
          ],
          "parcoords": [
           {
            "line": {
             "colorbar": {
              "outlinewidth": 0,
              "ticks": ""
             }
            },
            "type": "parcoords"
           }
          ],
          "pie": [
           {
            "automargin": true,
            "type": "pie"
           }
          ],
          "scatter": [
           {
            "marker": {
             "colorbar": {
              "outlinewidth": 0,
              "ticks": ""
             }
            },
            "type": "scatter"
           }
          ],
          "scatter3d": [
           {
            "line": {
             "colorbar": {
              "outlinewidth": 0,
              "ticks": ""
             }
            },
            "marker": {
             "colorbar": {
              "outlinewidth": 0,
              "ticks": ""
             }
            },
            "type": "scatter3d"
           }
          ],
          "scattercarpet": [
           {
            "marker": {
             "colorbar": {
              "outlinewidth": 0,
              "ticks": ""
             }
            },
            "type": "scattercarpet"
           }
          ],
          "scattergeo": [
           {
            "marker": {
             "colorbar": {
              "outlinewidth": 0,
              "ticks": ""
             }
            },
            "type": "scattergeo"
           }
          ],
          "scattergl": [
           {
            "marker": {
             "colorbar": {
              "outlinewidth": 0,
              "ticks": ""
             }
            },
            "type": "scattergl"
           }
          ],
          "scattermapbox": [
           {
            "marker": {
             "colorbar": {
              "outlinewidth": 0,
              "ticks": ""
             }
            },
            "type": "scattermapbox"
           }
          ],
          "scatterpolar": [
           {
            "marker": {
             "colorbar": {
              "outlinewidth": 0,
              "ticks": ""
             }
            },
            "type": "scatterpolar"
           }
          ],
          "scatterpolargl": [
           {
            "marker": {
             "colorbar": {
              "outlinewidth": 0,
              "ticks": ""
             }
            },
            "type": "scatterpolargl"
           }
          ],
          "scatterternary": [
           {
            "marker": {
             "colorbar": {
              "outlinewidth": 0,
              "ticks": ""
             }
            },
            "type": "scatterternary"
           }
          ],
          "surface": [
           {
            "colorbar": {
             "outlinewidth": 0,
             "ticks": ""
            },
            "colorscale": [
             [
              0,
              "#0d0887"
             ],
             [
              0.1111111111111111,
              "#46039f"
             ],
             [
              0.2222222222222222,
              "#7201a8"
             ],
             [
              0.3333333333333333,
              "#9c179e"
             ],
             [
              0.4444444444444444,
              "#bd3786"
             ],
             [
              0.5555555555555556,
              "#d8576b"
             ],
             [
              0.6666666666666666,
              "#ed7953"
             ],
             [
              0.7777777777777778,
              "#fb9f3a"
             ],
             [
              0.8888888888888888,
              "#fdca26"
             ],
             [
              1,
              "#f0f921"
             ]
            ],
            "type": "surface"
           }
          ],
          "table": [
           {
            "cells": {
             "fill": {
              "color": "#EBF0F8"
             },
             "line": {
              "color": "white"
             }
            },
            "header": {
             "fill": {
              "color": "#C8D4E3"
             },
             "line": {
              "color": "white"
             }
            },
            "type": "table"
           }
          ]
         },
         "layout": {
          "annotationdefaults": {
           "arrowcolor": "#2a3f5f",
           "arrowhead": 0,
           "arrowwidth": 1
          },
          "coloraxis": {
           "colorbar": {
            "outlinewidth": 0,
            "ticks": ""
           }
          },
          "colorscale": {
           "diverging": [
            [
             0,
             "#8e0152"
            ],
            [
             0.1,
             "#c51b7d"
            ],
            [
             0.2,
             "#de77ae"
            ],
            [
             0.3,
             "#f1b6da"
            ],
            [
             0.4,
             "#fde0ef"
            ],
            [
             0.5,
             "#f7f7f7"
            ],
            [
             0.6,
             "#e6f5d0"
            ],
            [
             0.7,
             "#b8e186"
            ],
            [
             0.8,
             "#7fbc41"
            ],
            [
             0.9,
             "#4d9221"
            ],
            [
             1,
             "#276419"
            ]
           ],
           "sequential": [
            [
             0,
             "#0d0887"
            ],
            [
             0.1111111111111111,
             "#46039f"
            ],
            [
             0.2222222222222222,
             "#7201a8"
            ],
            [
             0.3333333333333333,
             "#9c179e"
            ],
            [
             0.4444444444444444,
             "#bd3786"
            ],
            [
             0.5555555555555556,
             "#d8576b"
            ],
            [
             0.6666666666666666,
             "#ed7953"
            ],
            [
             0.7777777777777778,
             "#fb9f3a"
            ],
            [
             0.8888888888888888,
             "#fdca26"
            ],
            [
             1,
             "#f0f921"
            ]
           ],
           "sequentialminus": [
            [
             0,
             "#0d0887"
            ],
            [
             0.1111111111111111,
             "#46039f"
            ],
            [
             0.2222222222222222,
             "#7201a8"
            ],
            [
             0.3333333333333333,
             "#9c179e"
            ],
            [
             0.4444444444444444,
             "#bd3786"
            ],
            [
             0.5555555555555556,
             "#d8576b"
            ],
            [
             0.6666666666666666,
             "#ed7953"
            ],
            [
             0.7777777777777778,
             "#fb9f3a"
            ],
            [
             0.8888888888888888,
             "#fdca26"
            ],
            [
             1,
             "#f0f921"
            ]
           ]
          },
          "colorway": [
           "#636efa",
           "#EF553B",
           "#00cc96",
           "#ab63fa",
           "#FFA15A",
           "#19d3f3",
           "#FF6692",
           "#B6E880",
           "#FF97FF",
           "#FECB52"
          ],
          "font": {
           "color": "#2a3f5f"
          },
          "geo": {
           "bgcolor": "white",
           "lakecolor": "white",
           "landcolor": "#E5ECF6",
           "showlakes": true,
           "showland": true,
           "subunitcolor": "white"
          },
          "hoverlabel": {
           "align": "left"
          },
          "hovermode": "closest",
          "mapbox": {
           "style": "light"
          },
          "paper_bgcolor": "white",
          "plot_bgcolor": "#E5ECF6",
          "polar": {
           "angularaxis": {
            "gridcolor": "white",
            "linecolor": "white",
            "ticks": ""
           },
           "bgcolor": "#E5ECF6",
           "radialaxis": {
            "gridcolor": "white",
            "linecolor": "white",
            "ticks": ""
           }
          },
          "scene": {
           "xaxis": {
            "backgroundcolor": "#E5ECF6",
            "gridcolor": "white",
            "gridwidth": 2,
            "linecolor": "white",
            "showbackground": true,
            "ticks": "",
            "zerolinecolor": "white"
           },
           "yaxis": {
            "backgroundcolor": "#E5ECF6",
            "gridcolor": "white",
            "gridwidth": 2,
            "linecolor": "white",
            "showbackground": true,
            "ticks": "",
            "zerolinecolor": "white"
           },
           "zaxis": {
            "backgroundcolor": "#E5ECF6",
            "gridcolor": "white",
            "gridwidth": 2,
            "linecolor": "white",
            "showbackground": true,
            "ticks": "",
            "zerolinecolor": "white"
           }
          },
          "shapedefaults": {
           "line": {
            "color": "#2a3f5f"
           }
          },
          "ternary": {
           "aaxis": {
            "gridcolor": "white",
            "linecolor": "white",
            "ticks": ""
           },
           "baxis": {
            "gridcolor": "white",
            "linecolor": "white",
            "ticks": ""
           },
           "bgcolor": "#E5ECF6",
           "caxis": {
            "gridcolor": "white",
            "linecolor": "white",
            "ticks": ""
           }
          },
          "title": {
           "x": 0.05
          },
          "xaxis": {
           "automargin": true,
           "gridcolor": "white",
           "linecolor": "white",
           "ticks": "",
           "title": {
            "standoff": 15
           },
           "zerolinecolor": "white",
           "zerolinewidth": 2
          },
          "yaxis": {
           "automargin": true,
           "gridcolor": "white",
           "linecolor": "white",
           "ticks": "",
           "title": {
            "standoff": 15
           },
           "zerolinecolor": "white",
           "zerolinewidth": 2
          }
         }
        },
        "xaxis": {
         "anchor": "y",
         "domain": [
          0,
          1
         ],
         "title": {
          "text": "Programme"
         }
        },
        "yaxis": {
         "anchor": "x",
         "domain": [
          0,
          1
         ],
         "title": {
          "text": "Terminal Degree"
         }
        }
       }
      },
      "text/html": [
       "<div>\n",
       "        \n",
       "        \n",
       "            <div id=\"b618551d-467e-4c84-8014-d78018916f9f\" class=\"plotly-graph-div\" style=\"height:525px; width:100%;\"></div>\n",
       "            <script type=\"text/javascript\">\n",
       "                require([\"plotly\"], function(Plotly) {\n",
       "                    window.PLOTLYENV=window.PLOTLYENV || {};\n",
       "                    \n",
       "                if (document.getElementById(\"b618551d-467e-4c84-8014-d78018916f9f\")) {\n",
       "                    Plotly.newPlot(\n",
       "                        'b618551d-467e-4c84-8014-d78018916f9f',\n",
       "                        [{\"hovertemplate\": \"Domicile=Bahawalpur<br>Programme=%{x}<br>Terminal Degree=%{y}<extra></extra>\", \"legendgroup\": \"Bahawalpur\", \"marker\": {\"color\": \"#636efa\", \"symbol\": \"circle\"}, \"mode\": \"markers\", \"name\": \"Bahawalpur\", \"showlegend\": true, \"type\": \"scattergl\", \"x\": [\"BS Mathematics\", \"BS Mathematics\", \"BS Mathematics\", \"BS Mathematics\", \"BS Mathematics\", \"BS Mathematics\", \"BS Mathematics\", \"BS Mathematics\", \"BS Mathematics\", \"BS Mathematics\", \"BS Mathematics\", \"BS Mathematics\", \"BS Mathematics\", \"BS Mathematics\", \"BS Mathematics\", \"BS Mathematics\", \"BS Mathematics\", \"BS Mathematics\", \"BS Mathematics\", \"BS Mathematics\", \"BS Mathematics\", \"BS Mathematics\", \"BS Mathematics\", \"BS Mathematics\", \"BS Mathematics\", \"BS Mathematics\", \"BS Mathematics\", \"BS Mathematics\", \"BS Mathematics\", \"BS Mathematics\", \"BS Mathematics\", \"BS Mathematics\", \"BS Mathematics\", \"MSc Statistics\", \"MSc Statistics\", \"MSc Statistics\", \"MSc Statistics\", \"MSc Statistics\", \"M.Sc. Physical Education\", \"M.Sc. Physical Education\", \"M.Sc. Physical Education\", \"M.Sc. Physical Education\", \"M.Sc. Physical Education\", \"M.Sc. Physical Education\", \"M.Sc. Physical Education\", \"M.Sc. Physical Education\", \"M.Sc. Physical Education\", \"M.Sc. Physical Education\", \"M.Sc. Physical Education\", \"M.Sc. Physical Education\", \"M.Sc. Physical Education\", \"M.Sc. Physical Education\", \"M.Sc. Physical Education\", \"M.Sc. Physical Education\", \"M.Sc. Physical Education\", \"M.Sc. Physical Education\", \"M.Sc. Physical Education\", \"M.Sc. Physical Education\", \"M.Sc. Physical Education\", \"MA Urdu\", \"MA Urdu\", \"MA Urdu\", \"MA Urdu\", \"MA Urdu\", \"MA Urdu\", \"MA Urdu\", \"MA Urdu\", \"MA Urdu\", \"MA Urdu\", \"MA Urdu\", \"MA Urdu\", \"MA Urdu\", \"MA Urdu\", \"MA Urdu\", \"MA Urdu\", \"MA Urdu\", \"MA Urdu\", \"MA Urdu\", \"MA Urdu\", \"MA Urdu\", \"MA Urdu\", \"MA Urdu\", \"MA Urdu\", \"MA Urdu\", \"MA Urdu\", \"MA Urdu\", \"MA Urdu\", \"MA Urdu\", \"MA Urdu\", \"MA Urdu\", \"MA Urdu\", \"MA Urdu\", \"MA Urdu\", \"MSc Mathematics\", \"MSc Mathematics\", \"MSc Mathematics\", \"MSc Mathematics\", \"MSc Mathematics\", \"MSc Mathematics\", \"MSc Mathematics\", \"MSc Mathematics\", \"MSc Mathematics\", \"MSc Mathematics\", \"MSc Mathematics\", \"MSc Mathematics\", \"MSc Mathematics\", \"MSc Mathematics\", \"MSc Mathematics\", \"MSc Mathematics\", \"MSc Mathematics\", \"MSc Mathematics\", \"MSc Mathematics\", \"MSc Mathematics\", \"MSc Mathematics\", \"MSc Mathematics\", \"MSc Mathematics\", \"MSc Mathematics\", \"MSc Mathematics\", \"MSc Mathematics\", \"MSc Mathematics\", \"MSc Mathematics\", \"MSc Mathematics\", \"MSc Mathematics\", \"MSc Mathematics\", \"MSc Mathematics\", \"MSc Mathematics\", \"MSc Mathematics\", \"MSc Mathematics\", \"MSc Mathematics\", \"MSc Mathematics\", \"MSc Mathematics\", \"MSc Mathematics\", \"MSc Mathematics\", \"MSc Mathematics\", \"MSc Mathematics\", \"MA Islamic Studies\", \"MA Islamic Studies\", \"MA Islamic Studies\", \"MA Islamic Studies\", \"MA Islamic Studies\", \"MA Islamic Studies\", \"MCS\", \"MCS\", \"MCS\", \"MCS\", \"MCS\", \"MCS\", \"MCS\", \"MCS\", \"MCS\", \"MCS\", \"MCS\", \"MCS\", \"MCS\", \"MCS\", \"MCS\", \"MCS\", \"MCS\", \"MCS\", \"MCS\", \"MCS\", \"MCS\", \"MCS\", \"MCS\", \"MCS\", \"MCS\", \"MCS\", \"MCS\", \"MCS\", \"MCS\", \"MCS\", \"MCS\", \"MCS\", \"MCS\", \"MCS\", \"MCS\", \"MCS\", \"MCS\", \"MCS\", \"MCS\", \"MCS\", \"MCS\", \"MCS\", \"MCS\", \"MCS\", \"MCS\", \"MCS\", \"MCS\", \"MCS\", \"MCS\", \"MCS\", \"MCS\", \"MCS\", \"MCS\", \"MCS\", \"MCS\", \"MCS\", \"MCS\", \"MCS\", \"MCS\", \"MCS\", \"MCS\", \"MCS\", \"MCS\", \"MCS\", \"MCS\", \"MCS\", \"MCS\", \"MCS\", \"MCS\", \"MCS\", \"MCS\", \"MCS\", \"MCS\", \"MCS\", \"MCS\", \"MCS\", \"BS CS\", \"BS CS\", \"BS CS\", \"BS CS\", \"BS CS\", \"BS CS\", \"BS CS\", \"BS CS\", \"BS CS\", \"BS CS\", \"BS CS\", \"BS CS\", \"BS CS\", \"BS CS\", \"BS CS\", \"BS CS\", \"BS CS\", \"BS CS\", \"BS CS\", \"BS CS\", \"BS CS\", \"BS CS\", \"BS CS\", \"BS CS\", \"BS CS\", \"BS CS\", \"BS CS\", \"BS CS\", \"BS CS\", \"BS CS\", \"BS CS\", \"BS CS\", \"BS CS\", \"BS CS\", \"BS CS\", \"BS CS\", \"BS CS\", \"BS CS\", \"BS CS\", \"BS CS\", \"BS CS\", \"BS CS\", \"BS CS\", \"BS CS\", \"BS CS\", \"BS CS\", \"BS CS\", \"BS CS\", \"BS CS\", \"BS CS\", \"BS CS\", \"BS CS\", \"BS CS\", \"BS CS\", \"BS CS\", \"BS CS\", \"BS CS\", \"BS CS\", \"BS CS\", \"BS CS\", \"BS CS\", \"BS CS\", \"BS CS\", \"BS CS\", \"BBA (Hons) after 12 years of education\", \"BBA (Hons) after 12 years of education\", \"BBA (Hons) after 12 years of education\", \"BBA (Hons) after 12 years of education\", \"BBA (Hons) after 12 years of education\", \"BBA (Hons) after 12 years of education\", \"BBA (Hons) after 12 years of education\", \"BBA (Hons) after 12 years of education\", \"BBA (Hons) after 12 years of education\", \"BBA (Hons) after 12 years of education\", \"BBA (Hons) after 12 years of education\", \"BBA (Hons) after 12 years of education\", \"BBA (Hons) after 12 years of education\", \"BBA (Hons) after 12 years of education\", \"BBA (Hons) after 12 years of education\", \"BBA (Hons) after 12 years of education\", \"BBA (Hons) after 12 years of education\", \"BBA (Hons) after 12 years of education\", \"BBA (Hons) after 12 years of education\", \"BBA (Hons) after 12 years of education\", \"BBA (Hons) after 12 years of education\", \"BBA (Hons) after 12 years of education\", \"BBA (Hons) after 12 years of education\", \"BBA (Hons) after 12 years of education\", \"BBA (Hons) after 12 years of education\", \"BBA (Hons) after 12 years of education\", \"BS Applied Psychology\", \"BS Applied Psychology\", \"BS Applied Psychology\", \"BS Applied Psychology\", \"BS Applied Psychology\", \"BS Applied Psychology\", \"BS Applied Psychology\", \"BS Applied Psychology\", \"MSc Applied Psychology\", \"MSc Applied Psychology\", \"MSc Applied Psychology\", \"MSc Applied Psychology\", \"MSc Applied Psychology\", \"MSc Applied Psychology\", \"MSc Applied Psychology\", \"MSc Applied Psychology\", \"MSc Applied Psychology\", \"MSc Applied Psychology\", \"MSc Applied Psychology\", \"MSc Applied Psychology\", \"MSc Applied Psychology\", \"MSc Applied Psychology\", \"MSc Applied Psychology\", \"MSc Applied Psychology\", \"Master in Public Administration\", \"Master in Public Administration\", \"Master in Public Administration\", \"Master in Public Administration\", \"Master in Public Administration\", \"Master in  Public Administration\", \"Master in  Public Administration\", \"Master in  Public Administration\", \"Master in  Public Administration\", \"Master in  Public Administration\", \"MSc Botany\", \"MSc Botany\", \"MSc Botany\", \"MSc Botany\", \"MSc Botany\", \"MSc Botany\", \"MSc Botany\", \"MSc Botany\", \"MSc Botany\", \"MSc Botany\", \"MSc Botany\", \"MSc Botany\", \"MSc Botany\", \"MSc Botany\", \"MSc Botany\", \"MSc Botany\", \"MSc Botany\", \"MSc Botany\", \"MSc Botany\", \"MSc Botany\", \"MSc Botany\", \"MSc Botany\", \"MSc Botany\", \"MSc Botany\", \"MSc Botany\", \"MSc Botany\", \"MSc Botany\", \"MSc Botany\", \"MSc Botany\", \"MSc Botany\", \"MSc Botany\", \"MSc Botany\", \"MSc Botany\", \"MSc Botany\", \"MSc Botany\", \"MSc Botany\", \"MSc Botany\", \"MSc Botany\", \"MSc Botany\", \"MSc Botany\", \"MSc Botany\", \"MSc Botany\", \"MSc Botany\", \"MSc Botany\", \"MSc Economics & Finance\", \"MSc Economics\", \"MSc Economics\", \"MSc Economics\", \"MSc Economics\", \"MSc Economics\", \"MSc Economics\", \"MSc Economics\", \"MSc Economics\", \"MSc Economics\", \"MSc Economics\", \"MSc Economics\", \"MSc Economics\", \"MSc Economics\", \"MSc Economics\", \"BS Economics\", \"BS Economics\", \"BS Economics\", \"BS Economics\", \"BS Economics\", \"BS Economics\", \"BS Economics\", \"BS Economics\", \"BS Economics\", \"BS Economics\", \"BS Economics\", \"BS Economics\", \"BS Economics\", \"BS Economics\", \"BS Economics\", \"BS Economics\", \"BS Economics\", \"BS Economics\", \"BS Economics\", \"BS Economics\", \"BS Economics\", \"BS Economics\", \"BS Economics\", \"BSc (Hons) Agriculture\", \"BSc (Hons) Agriculture\", \"BSc (Hons) Agriculture\", \"BSc (Hons) Agriculture\", \"BSc (Hons) Agriculture\", \"BSc (Hons) Agriculture\", \"BSc (Hons) Agriculture\", \"BSc (Hons) Agriculture\", \"BSc (Hons) Agriculture\", \"BSc (Hons) Agriculture\", \"BSc (Hons) Agriculture\", \"BSc (Hons) Agriculture\", \"BSc (Hons) Agriculture\", \"BSc (Hons) Agriculture\", \"BSc (Hons) Agriculture\", \"BSc (Hons) Agriculture\", \"BSc (Hons) Agriculture\", \"BSc (Hons) Agriculture\", \"BSc (Hons) Agriculture\", \"BSc (Hons) Agriculture\", \"BSc (Hons) Agriculture\", \"BSc (Hons) Agriculture\", \"BSc (Hons) Agriculture\", \"BSc (Hons) Agriculture\", \"BSc (Hons) Agriculture\", \"BSc (Hons) Agriculture\", \"BSc (Hons) Agriculture\", \"BSc (Hons) Agriculture\", \"BSc (Hons) Agriculture\", \"BSc (Hons) Agriculture\", \"BSc (Hons) Agriculture\", \"BSc (Hons) Agriculture\", \"BSc (Hons) Agriculture\", \"BSc (Hons) Agriculture\", \"BSc (Hons) Agriculture\", \"BSc (Hons) Agriculture\", \"BSc (Hons) Agriculture\", \"BSc (Hons) Agriculture\", \"BSc (Hons) Agriculture\", \"BSc (Hons) Agriculture\", \"BSc (Hons) Agriculture\", \"BSc (Hons) Agriculture\", \"BSc (Hons) Agriculture\", \"BSc (Hons) Agriculture\", \"BSc (Hons) Agriculture\", \"BSc (Hons) Agriculture\", \"BSc (Hons) Agriculture\", \"BSc (Hons) Agriculture\", \"BSc (Hons) Agriculture\", \"BSc (Hons) Agriculture\", \"BSc (Hons) Agriculture\", \"BSc (Hons) Agriculture\", \"BSc (Hons) Agriculture\", \"BSc (Hons) Agriculture\", \"BSc (Hons) Agriculture\", \"BSc (Hons) Agriculture\", \"BSc (Hons) Agriculture\", \"BSc (Hons) Agriculture\", \"BSc (Hons) Agriculture\", \"BSc (Hons) Agriculture\", \"BSc (Hons) Agriculture\", \"BSc (Hons) Agriculture\", \"BSc (Hons) Agriculture\", \"BSc (Hons) Agriculture\", \"BSc (Hons) Agriculture\", \"BSc (Hons) Agriculture\", \"BSc (Hons) Agriculture\", \"BSc (Hons) Agriculture\", \"BSc (Hons) Agriculture\", \"BSc (Hons) Agriculture\", \"BSc (Hons) Agriculture\", \"BSc (Hons) Agriculture\", \"BSc (Hons) Agriculture\", \"BSc (Hons) Agriculture\", \"BSc (Hons) Agriculture\", \"BSc (Hons) Agriculture\", \"BSc (Hons) Agriculture\", \"BSc (Hons) Agriculture\", \"BSc (Hons) Agriculture\", \"BSc (Hons) Agriculture\", \"BSc (Hons) Agriculture\", \"BSc (Hons) Agriculture\", \"BSc (Hons) Agriculture\", \"BSc (Hons) Agriculture\", \"BSc (Hons) Agriculture\", \"BSc (Hons) Agriculture\", \"BSc (Hons) Agriculture\", \"BSc (Hons) Agriculture\", \"BSc (Hons) Agriculture\", \"BSc (Hons) Agriculture\", \"BSc (Hons) Agriculture\", \"BSc (Hons) Agriculture\", \"BSc (Hons) Agriculture\", \"BSc (Hons) Agriculture\", \"BSc (Hons) Agriculture\", \"BSc (Hons) Agriculture\", \"BSc (Hons) Agriculture\", \"BSc (Hons) Agriculture\", \"BSc (Hons) Agriculture\", \"BSc (Hons) Agriculture\", \"BSc (Hons) Agriculture\", \"BSc (Hons) Agriculture\", \"BSc (Hons) Agriculture\", \"BSc (Hons) Agriculture\", \"BSc (Hons) Agriculture\", \"BSc (Hons) Agriculture\", \"BSc (Hons) Agriculture\", \"BSc (Hons) Agriculture\", \"BSc (Hons) Agriculture\", \"BSc (Hons) Agriculture\", \"BSc (Hons) Agriculture\", \"BSc (Hons) Agriculture\", \"BSc (Hons) Agriculture\", \"BSc (Hons) Agriculture\", \"BSc (Hons) Agriculture\", \"BSc (Hons) Agriculture\", \"BSc (Hons) Agriculture\", \"BSc (Hons) Agriculture\", \"BSc (Hons) Agriculture\", \"BSc (Hons) Agriculture\", \"BSc (Hons) Agriculture\", \"BSc (Hons) Agriculture\", \"BSc (Hons) Agriculture\", \"BSc (Hons) Agriculture\", \"BSc (Hons) Agriculture\", \"BSc (Hons) Agriculture\", \"BSc (Hons) Agriculture\", \"BSc (Hons) Agriculture\", \"BSc (Hons) Agriculture\", \"BSc (Hons) Agriculture\", \"BSc (Hons) Agriculture\", \"BSc (Hons) Agriculture\", \"BSc (Hons) Agriculture\", \"BSc (Hons) Agriculture\", \"BSc (Hons) Agriculture\", \"BSc (Hons) Agriculture\", \"BSc (Hons) Agriculture\", \"BSc (Hons) Agriculture\", \"BSc (Hons) Agriculture\", \"BSc (Hons) Agriculture\", \"BSc (Hons) Agriculture\", \"BSc (Hons) Agriculture\", \"BSc (Hons) Agriculture\", \"MSc Statistics\", \"MSc Statistics\", \"MSc Statistics\", \"MSc Statistics\", \"MSc Statistics\", \"MSc Statistics\", \"MSc Statistics\", \"MSc Statistics\", \"MSc Statistics\", \"MSc Statistics\", \"MSc Statistics\", \"MSc Statistics\", \"MSc Statistics\", \"MSc Statistics\", \"MSc Statistics\", \"MSc Statistics\", \"BS Statistics \", \"BS Statistics \", \"BS Statistics \", \"BS Statistics \", \"BS Statistics \", \"BS Statistics \", \"BS Statistics \", \"BS Statistics \", \"BS Statistics \", \"BS Statistics \", \"BS Statistics \", \"BS Statistics \", \"BS Statistics \", \"BS Statistics \", \"BS Statistics \", \"BS Statistics \", \"BS Statistics \", \"BS Statistics \", \"BS Statistics \", \"BS Statistics \", \"BS Statistics \", \"MSc Physics\", \"MSc Physics\", \"MSc Physics\", \"MSc Physics\", \"MSc Physics\", \"MSc Physics\", \"MSc Physics\", \"MSc Physics\", \"MSc Physics\", \"MSc Physics\", \"MSc Physics\", \"MSc Physics\", \"MSc Physics\", \"MSc Physics\", \"MSc Physics\", \"MSc Physics\", \"MSc Physics\", \"MSc Physics\", \"MSc Physics\", \"MSc Physics\", \"MSc Physics\", \"MSc Physics\", \"MSc Physics\", \"MSc Physics\", \"MSc Physics\", \"MSc Physics\", \"MSc Physics\", \"MSc Physics\", \"MSc Physics\", \"MSc Physics\", \"MSc Physics\", \"MSc Physics\", \"MSc Physics\", \"MSc Physics\", \"MSc Physics\", \"MSc Physics\", \"MSc Physics\", \"MSc Physics\", \"MSc Physics\", \"BS Physics\", \"BS Physics\", \"BS Physics\", \"BS Physics\", \"BS Physics\", \"BS Physics\", \"BS Physics\", \"BS Physics\", \"BS Physics\", \"BS Physics\", \"BS Physics\", \"BS Physics\", \"BS Physics\", \"BS Physics\", \"BS Physics\", \"BS Physics\", \"BS Physics\", \"BS Physics\", \"BS Physics\", \"BS Physics\", \"BS Physics\", \"BS Physics\", \"BS Physics\", \"BS Physics\", \"BS Physics\", \"BS Physics\", \"BS Physics\", \"MSc Mathematics\", \"MSc Mathematics\", \"MSc Mathematics\", \"MSc Mathematics\", \"MSc Mathematics\", \"MSc Mathematics\", \"MSc Mathematics\", \"MSc Mathematics\", \"MSc Mathematics\", \"MSc Mathematics\", \"MSc Mathematics\", \"MSc Mathematics\", \"MSc Mathematics\", \"MSc Mathematics\", \"MSc Mathematics\", \"MSc Mathematics\", \"MSc Mathematics\", \"MSc Mathematics\", \"MSc Mathematics\", \"MSc Mathematics\", \"MSc Mathematics\", \"MSc Mathematics\", \"MSc Mathematics\", \"MSc Mathematics\", \"MSc Mathematics\", \"MSc Mathematics\", \"MSc Mathematics\", \"MSc Mathematics\", \"MSc Mathematics\", \"MSc Mathematics\", \"MSc Mathematics\", \"MSc Mathematics\", \"MSc Mathematics\", \"MSc Mathematics\", \"MSc Mathematics\", \"MSc Mathematics\", \"MSc Mathematics\", \"MSc Mathematics\", \"MSc Mathematics\", \"MSc Mathematics\", \"MSc Mathematics\", \"MSc Mathematics\", \"MSc Mathematics\", \"MSc Mathematics\", \"MSc Mathematics\", \"MSc Mathematics\", \"BS (Hons) Botany & Zoology\", \"BS (Hons) Botany & Zoology\", \"BS (Hons) Botany & Zoology\", \"BS (Hons) Botany & Zoology\", \"BS (Hons) Botany & Zoology\", \"BS (Hons) Botany & Zoology\", \"BS (Hons) Botany & Zoology\", \"BS (Hons) Botany & Zoology\", \"BS (Hons) Botany & Zoology\", \"BS (Hons) Botany & Zoology\", \"BS (Hons) Botany & Zoology\", \"BS (Hons) Botany & Zoology\", \"BS (Hons) Botany & Zoology\", \"BS (Hons) Botany & Zoology\", \"BS (Hons) Botany & Zoology\", \"BS (Hons) Botany & Zoology\", \"BS (Hons) Botany & Zoology\", \"BS (Hons) Botany & Zoology\", \"BS (Hons) Botany & Zoology\", \"BS (Hons) Botany & Zoology\", \"BS (Hons) Botany & Zoology\", \"BS (Hons) Botany & Zoology\", \"BS (Hons) Botany & Zoology\", \"BS (Hons) Botany & Zoology\", \"BS (Hons) Botany & Zoology\", \"BS (Hons) Botany & Zoology\", \"MSc Geography \", \"MSc Geography \", \"MSc Geography \", \"MSc Geography \", \"MSc Geography \", \"MSc Geography \", \"BS Geography\", \"BS Geography\", \"BS Geography\", \"BS Geography\", \"MSc Chemistry\", \"MSc Chemistry\", \"MSc Chemistry\", \"MSc Chemistry\", \"MSc Chemistry\", \"MSc Chemistry\", \"MSc Chemistry\", \"MSc Chemistry\", \"MSc Chemistry\", \"MSc Chemistry\", \"MSc Chemistry\", \"MSc Chemistry\", \"MSc Chemistry\", \"MSc Chemistry\", \"MSc Chemistry\", \"MSc Chemistry\", \"MSc Chemistry\", \"MSc Chemistry\", \"MSc Chemistry\", \"MSc Chemistry\", \"MSc Chemistry\", \"MSc Chemistry\", \"MSc Chemistry\", \"MSc Chemistry\", \"MSc Chemistry\", \"MSc Chemistry\", \"MSc Chemistry\", \"MSc Chemistry\", \"MSc Chemistry\", \"MSc Chemistry\", \"MSc Chemistry\", \"MSc Chemistry\", \"MSc Chemistry\", \"MSc Chemistry\", \"MSc Chemistry\", \"MSc Chemistry\", \"MSc Chemistry\", \"MSc Chemistry\", \"MSc Chemistry\", \"MSc Chemistry\", \"MSc Chemistry\", \"MSc Chemistry\", \"BS Chemistry (E)\", \"BS Chemistry (E)\", \"BS Chemistry (E)\", \"BS Chemistry (E)\", \"BS Chemistry (E)\", \"BS Chemistry (E)\", \"BS Chemistry (E)\", \"BS Chemistry (E)\", \"BS Chemistry (E)\", \"BS Chemistry (E)\", \"BS Chemistry (E)\", \"BS Chemistry (E)\", \"BS Chemistry (E)\", \"BS Chemistry (E)\", \"BS Chemistry (E)\", \"BS Chemistry (E)\", \"BS Chemistry (E)\", \"BS Chemistry (E)\", \"BS Chemistry (E)\", \"BS Chemistry (E)\", \"BS Chemistry (E)\", \"BS Chemistry (E)\", \"BS Chemistry (E)\", \"BS Chemistry (E)\", \"BS Chemistry (E)\", \"BS Chemistry (E)\", \"BS Chemistry (E)\", \"BS Chemistry (E)\", \"BS Chemistry (E)\", \"BS Chemistry (E)\", \"BS Biochemistry & Biotechnology\", \"BS Biochemistry & Biotechnology\", \"BS Biochemistry & Biotechnology\", \"BS Biochemistry & Biotechnology\", \"BS Biochemistry & Biotechnology\", \"BS Biochemistry & Biotechnology\", \"BS Biochemistry & Biotechnology\", \"BS Biochemistry & Biotechnology\", \"BS Biochemistry & Biotechnology\", \"BS Biochemistry & Biotechnology\", \"BS Biochemistry & Biotechnology\", \"BS Biochemistry & Biotechnology\", \"BS Biochemistry & Biotechnology\", \"BS Biochemistry & Biotechnology\", \"BS Biochemistry & Biotechnology\", \"BS Biochemistry & Biotechnology\", \"BS Biochemistry & Biotechnology\", \"BS Biochemistry & Biotechnology\", \"BS Biochemistry & Biotechnology\", \"BS Biochemistry & Biotechnology\", \"BS Biochemistry & Biotechnology\", \"BS Biochemistry & Biotechnology\", \"BS Biochemistry & Biotechnology\", \"BS Biochemistry & Biotechnology\", \"BS Biochemistry & Biotechnology\", \"BS Biochemistry & Biotechnology\", \"BS Biochemistry & Biotechnology\", \"BS Biochemistry & Biotechnology\", \"BS Biochemistry & Biotechnology\", \"BS Biochemistry & Biotechnology\", \"MBA After 14 years of Education (Morning) 4 year program\", \"MBA After 14 years of Education (Morning) 4 year program\", \"MBA After 14 years of Education (Morning) 4 year program\", \"MBA After 14 years of Education (Morning) 4 year program\", \"MBA After 14 years of Education (Morning) 4 year program\", \"MBA After 14 years of Education (Morning) 4 year program\", \"MBA After 14 years of Education (Morning) 4 year program\", \"MBA After 14 years of Education (Morning) 4 year program\", \"MBA After 14 years of Education (Morning) 4 year program\", \"MBA After 14 years of Education (Morning) 4 year program\", \"MBA After 14 years of Education (Morning) 4 year program\", \"MBA After 14 years of Education (Morning) 4 year program\", \"MBA After 14 years of Education (Morning) 4 year program\", \"MBA After 14 years of Education (Morning) 4 year program\", \"MBA After 14 years of Education (Morning) 4 year program\", \"MBA After 14 years of Education (Morning) 4 year program\", \"MBA After 14 years of Education (Morning) 4 year program\", \"MBA After 14 years of Education (Morning) 4 year program\", \"BBA (Hons) after 12 years of education\", \"BBA (Hons) after 12 years of education\", \"BBA (Hons) after 12 years of education\", \"BBA (Hons) after 12 years of education\", \"BBA (Hons) after 12 years of education\", \"BBA (Hons) after 12 years of education\", \"BBA (Hons) after 12 years of education\", \"BBA (Hons) after 12 years of education\", \"BBA (Hons) after 12 years of education\", \"BBA (Hons) after 12 years of education\", \"BBA (Hons) after 12 years of education\", \"BBA (Hons) after 12 years of education\", \"BBA (Hons) after 12 years of education\", \"BBA (Hons) after 12 years of education\", \"BBA (Hons) after 12 years of education\", \"BBA (Hons) after 12 years of education\", \"BBA (Hons) after 12 years of education\", \"BBA (Hons) after 12 years of education\", \"BBA (Hons) after 12 years of education\", \"BBA (Hons) after 12 years of education\", \"BBA (Hons) after 12 years of education\", \"BBA (Hons) after 12 years of education\", \"BBA (Hons) after 12 years of education\", \"BBA (Hons) after 12 years of education\", \"BBA (Hons) after 12 years of education\", \"BBA (Hons) after 12 years of education\", \"BBA (Hons) after 12 years of education\", \"BBA (Hons) after 12 years of education\", \"BBA (Hons) after 12 years of education\", \"BBA (Hons) after 12 years of education\", \"BBA (Hons) after 12 years of education\", \"BBA (Hons) after 12 years of education\", \"BBA (Hons) after 12 years of education\", \"BBA (Hons) after 12 years of education\", \"BBA (Hons) after 12 years of education\", \"BBA (Hons) after 12 years of education\", \"BBA (Hons) after 12 years of education\", \"BBA (Hons) after 12 years of education\", \"BBA (Hons) after 12 years of education\", \"BBA (Hons) after 12 years of education\", \"BBA (Hons) after 12 years of education\", \"BBA (Hons) after 12 years of education\", \"BBA (Hons) after 12 years of education\", \"BBA (Hons) after 12 years of education\", \"BBA (Hons) after 12 years of education\", \"BBA (Hons) after 12 years of education\", \"BBA (Hons) after 12 years of education\", \"BBA (Hons) after 12 years of education\", \"BBA (Hons) after 12 years of education\", \"BBA (Hons) after 12 years of education\", \"BBA (Hons) after 12 years of education\", \"BBA (Hons) after 12 years of education\", \"BBA (Hons) after 12 years of education\", \"BBA (Hons) after 12 years of education\", \"BBA (Hons) after 12 years of education\", \"BBA (Hons) after 12 years of education\", \"BBA (Hons) after 12 years of education\", \"BBA (Hons) after 12 years of education\", \"MCS\", \"MCS\", \"MCS\", \"MCS\", \"MCS\", \"MCS\", \"MCS\", \"MCS\", \"MCS\", \"MCS\", \"MCS\", \"MCS\", \"MCS\", \"MCS\", \"MCS\", \"MCS\", \"MCS\", \"MCS\", \"MCS\", \"MCS\", \"MCS\", \"MCS\", \"MCS\", \"MCS\", \"MCS\", \"MCS\", \"MCS\", \"MCS\", \"MCS\", \"MCS\", \"MCS\", \"MCS\", \"MCS\", \"MCS\", \"MCS\", \"MCS\", \"MCS\", \"MCS\", \"MCS\", \"MCS\", \"MCS\", \"MCS\", \"MCS\", \"MCS\", \"MCS\", \"MCS\", \"MCS\", \"MCS\", \"MCS\", \"BS CS\", \"BS CS\", \"BS CS\", \"BS CS\", \"BS CS\", \"BS CS\", \"BS CS\", \"BS CS\", \"BS CS\", \"BS CS\", \"BS CS\", \"BS CS\", \"BS CS\", \"BS CS\", \"BS CS\", \"BS CS\", \"BS CS\", \"BS CS\", \"BS CS\", \"BS CS\", \"BS CS\", \"BS CS\", \"BS CS\", \"BS CS\", \"BS CS\", \"BS CS\", \"BS CS\", \"BS CS\", \"BS CS\", \"BS CS\", \"BS CS\", \"BS IT\", \"BS IT\", \"BS IT\", \"BS IT\", \"BS IT\", \"BS IT\", \"BS IT\", \"BS IT\", \"BS IT\", \"BS IT\", \"BS IT\", \"BS IT\", \"BS IT\", \"BS IT\", \"BS IT\", \"BS IT\", \"BS IT\", \"BS IT\", \"BS IT\", \"MSc Accounting & Finance\", \"MSc Accounting & Finance\", \"MSc Accounting & Finance\", \"MSc Accounting & Finance\", \"MSc Accounting & Finance\", \"MSc Accounting & Finance\", \"MSc Accounting & Finance\", \"MSc Accounting & Finance\", \"MSc Accounting & Finance\", \"MCom\", \"MCom\", \"MCom\", \"MCom\", \"MCom\", \"BS Commerce \", \"BS Commerce \", \"BS Commerce \", \"BS Commerce \", \"BS Commerce \", \"BS Commerce \", \"BS Commerce \", \"BS Commerce \", \"BS Commerce \", \"BS Commerce \", \"BS Commerce \", \"LLB  5 years  (Under Semester System)\", \"LLB  5 years  (Under Semester System)\", \"LLB  5 years  (Under Semester System)\", \"LLB  5 years  (Under Semester System)\", \"LLB  5 years  (Under Semester System)\", \"LLB  5 years  (Under Semester System)\", \"LLB  5 years  (Under Semester System)\", \"LLB  5 years  (Under Semester System)\", \"LLB  5 years  (Under Semester System)\", \"LLB  5 years  (Under Semester System)\", \"LLB  5 years  (Under Semester System)\", \"LLB  5 years  (Under Semester System)\", \"LLB  5 years  (Under Semester System)\", \"LLB  5 years  (Under Semester System)\", \"LLB  5 years  (Under Semester System)\", \"LLB  5 years  (Under Semester System)\", \"LLB  5 years  (Under Semester System)\", \"LLB  5 years  (Under Semester System)\", \"LLB  5 years  (Under Semester System)\", \"LLB  5 years  (Under Semester System)\", \"LLB  5 years  (Under Semester System)\", \"LLB  5 years  (Under Semester System)\", \"LLB  5 years  (Under Semester System)\", \"MA Islamic Studies with specialization in Hadith & Seerah \", \"MA Islamic Studies with specialization in Hadith & Seerah \", \"MA Islamic Studies with specialization in Hadith & Seerah \", \"MA Islamic Studies with specialization in Hadith & Seerah \", \"MA Islamic Studies with specialization in Hadith & Seerah \", \"MA Islamic Studies with specialization in Hadith & Seerah \", \"MA Islamic Studies with specialization in Hadith & Seerah \", \"MA Islamic Studies with specialization in Hadith & Seerah \", \"MA Islamic Studies with specialization in Hadith & Seerah \", \"MA Islamic Studies with specialization in Hadith & Seerah \", \"MA Islamic Studies with specialization in Hadith & Seerah \", \"MA Islamic Studies with specialization in Quran & Tafseer\", \"MA Islamic Studies with specialization in Quran & Tafseer\", \"MA Islamic Studies with specialization in Quran & Tafseer\", \"MA Islamic Studies with specialization in Quran & Tafseer\", \"MA Islamic Studies with specialization in Quran & Tafseer\", \"MA Islamic Studies with specialization in Quran & Tafseer\", \"MA Islamic Studies\", \"MA Islamic Studies\", \"MA Islamic Studies\", \"MA Islamic Studies\", \"MA Islamic Studies\", \"MA Islamic Studies\", \"MA Islamic Studies\", \"MA Islamic Studies\", \"MA Islamic Studies\", \"MA Islamic Studies\", \"MA Islamic Studies\", \"MA Islamic Studies\", \"MA Islamic Studies\", \"MA Islamic Studies\", \"MA Islamic Studies\", \"MA Islamic Studies\", \"MA Islamic Studies\", \"MA Islamic Studies\", \"MA Islamic Studies\", \"MA Islamic Studies\", \"MA Islamic Studies\", \"BS Islamic Studies\", \"BS Islamic Studies\", \"BS Islamic Studies\", \"BS Islamic Studies\", \"BS Islamic Studies\", \"BS Islamic Studies\", \"BS Islamic Studies\", \"BS Islamic Studies\", \"BS Islamic Studies\", \"BS Islamic Studies\", \"BS Islamic Studies\", \"BS Islamic Studies\", \"BS Islamic Studies\", \"BS Islamic Studies\", \"BS Islamic Studies\", \"BS Islamic Studies\", \"BS Islamic Studies\", \"BS Islamic Studies\", \"BS Islamic Studies\", \"BS Islamic Studies\", \"BS Islamic Studies\", \"BS Islamic Studies\", \"MA Pakistan Studies\", \"MA Pakistan Studies\", \"BS Pakistan Studies\", \"BS Pakistan Studies\", \"BS History\", \"MA Arabic\", \"MA Arabic\", \"MA Arabic\", \"MA Arabic\", \"MA Arabic\", \"MA Social Work\", \"MA Social Work\", \"MA Social Work\", \"MA Social Work\", \"MA Social Work\", \"BS Social Work\", \"BS Social Work\", \"BS Social Work\", \"BS Social Work\", \"BS Social Work\", \"BS Social Work\", \"BS Social Work\", \"M.Sc. Physical Education\", \"M.Sc. Physical Education\", \"M.Sc. Physical Education\", \"M.Sc. Physical Education\", \"M.Sc. Physical Education\", \"M.Sc. Physical Education\", \"M.Sc. Physical Education\", \"M.Sc. Physical Education\", \"M.Sc. Physical Education\", \"M.Sc. Physical Education\", \"M.Sc. Physical Education\", \"M.Sc. Physical Education\", \"M.Sc. Physical Education\", \"M.Sc. Physical Education\", \"M.Sc. Physical Education\", \"M.Sc. Physical Education\", \"M.Sc. Physical Education\", \"M.Sc. Physical Education\", \"M.Sc. Physical Education\", \"M.Sc. Physical Education\", \"M.Sc. Physical Education\", \"M.Sc. Physical Education\", \"M.Sc. Physical Education\", \"M.Sc. Physical Education\", \"M.Sc. Physical Education\", \"M.Sc. Physical Education\", \"M.Sc. Physical Education\", \"M.Sc. Physical Education\", \"M.Sc. Physical Education\", \"M.Sc. Physical Education\", \"M.Sc. Physical Education\", \"M.Sc. Physical Education\", \"M.Sc. Physical Education\", \"M.Sc. Physical Education\", \"M.Sc. Physical Education\", \"M.Sc. Physical Education\", \"M.Sc. Physical Education\", \"M.Sc. Physical Education\", \"M.Sc. Physical Education\", \"BEd 1.5-years (after MA/MSc/BS)\", \"BEd 1.5-years (after MA/MSc/BS)\", \"BEd 4-years (after FA/FSc)\", \"BEd 4-years (after FA/FSc)\", \"BEd 4-years (after FA/FSc)\", \"BEd 4-years (after FA/FSc)\", \"BEd 4-years (after FA/FSc)\", \"MEd (after BEd/BS Ed)\", \"MEd (after BEd/BS Ed)\", \"MA Education\", \"MA Education\", \"MA Education\", \"MA Education\", \"MA Education\", \"MA Education\", \"MA Education\", \"MA Education\", \"MA Education\", \"MA Education\", \"MA Education\", \"MA Education\", \"MA Education\", \"MA Education\", \"MA Education\", \"MA Education\", \"MA Education\", \"MA Education\", \"MA Education\", \"MA Education\", \"MA Education\", \"MA Education\", \"MA Education\", \"MA Education\", \"BS Secondary Education\", \"BS Secondary Education\", \"BS Secondary Education\", \"BS Secondary Education\", \"BS Secondary Education\", \"BS Secondary Education\", \"BS Secondary Education\", \"BS Secondary Education\", \"BS Secondary Education\", \"BS Secondary Education\", \"BS Secondary Education\", \"BS Secondary Education\", \"BS Secondary Education\", \"BS Secondary Education\", \"BS Secondary Education\", \"BS Secondary Education\", \"BS Secondary Education\", \"BS Secondary Education\", \"BS Secondary Education\", \"BS Secondary Education\", \"BS Secondary Education\", \"BS Secondary Education\", \"BS Secondary Education\", \"BS Secondary Education\", \"MSc Applied Psychology\", \"MSc Applied Psychology\", \"MSc Applied Psychology\", \"MSc Applied Psychology\", \"MSc Applied Psychology\", \"MSc Applied Psychology\", \"MSc Applied Psychology\", \"MSc Applied Psychology\", \"MSc Applied Psychology\", \"MSc Applied Psychology\", \"MSc Applied Psychology\", \"MSc Applied Psychology\", \"MSc Applied Psychology\", \"MSc Applied Psychology\", \"MSc Applied Psychology\", \"MSc Applied Psychology\", \"MSc Applied Psychology\", \"MSc Applied Psychology\", \"MSc Applied Psychology\", \"MSc Applied Psychology\", \"MSc Applied Psychology\", \"MSc Applied Psychology\", \"MSc Applied Psychology\", \"MSc Applied Psychology\", \"MSc Applied Psychology\", \"MSc Applied Psychology\", \"MSc Applied Psychology\", \"BS Applied Psychology\", \"BS Applied Psychology\", \"BS Applied Psychology\", \"BS Applied Psychology\", \"BS Applied Psychology\", \"BS Applied Psychology\", \"BS Applied Psychology\", \"BS Applied Psychology\", \"BS Applied Psychology\", \"BS Applied Psychology\", \"BS Applied Psychology\", \"BS Applied Psychology\", \"BS Applied Psychology\", \"BS Applied Psychology\", \"BS Applied Psychology\", \"BS Applied Psychology\", \"BS Applied Psychology\", \"BS Applied Psychology\", \"BS Applied Psychology\", \"BS Applied Psychology\", \"BS Applied Psychology\", \"BS Applied Psychology\", \"BS Applied Psychology\", \"BS Applied Psychology\", \"BS Applied Psychology\", \"BS Applied Psychology\", \"Bachelor in Fine Arts & Design with specialization in Painting - Graphic Art - Sculpture - Graphic Design - Textile Design (4 years)\", \"Bachelor in Fine Arts & Design with specialization in Painting - Graphic Art - Sculpture - Graphic Design - Textile Design (4 years)\", \"Bachelor in Fine Arts & Design with specialization in Painting - Graphic Art - Sculpture - Graphic Design - Textile Design (4 years)\", \"Bachelor in Fine Arts & Design with specialization in Painting - Graphic Art - Sculpture - Graphic Design - Textile Design (4 years)\", \"Bachelor in Fine Arts & Design with specialization in Painting - Graphic Art - Sculpture - Graphic Design - Textile Design (4 years)\", \"Bachelor in Fine Arts & Design with specialization in Painting - Graphic Art - Sculpture - Graphic Design - Textile Design (4 years)\", \"Bachelor in Fine Arts & Design with specialization in Painting - Graphic Art - Sculpture - Graphic Design - Textile Design (4 years)\", \"Bachelor in Fine Arts & Design with specialization in Painting - Graphic Art - Sculpture - Graphic Design - Textile Design (4 years)\", \"Bachelor in Fine Arts & Design with specialization in Painting - Graphic Art - Sculpture - Graphic Design - Textile Design (4 years)\", \"Bachelor in Fine Arts & Design with specialization in Painting - Graphic Art - Sculpture - Graphic Design - Textile Design (4 years)\", \"Bachelor in Fine Arts & Design with specialization in Painting - Graphic Art - Sculpture - Graphic Design - Textile Design (4 years)\", \"Bachelor in Fine Arts & Design with specialization in Painting - Graphic Art - Sculpture - Graphic Design - Textile Design (4 years)\", \"Bachelor in Fine Arts & Design with specialization in Painting - Graphic Art - Sculpture - Graphic Design - Textile Design (4 years)\", \"Bachelor in Fine Arts & Design with specialization in Painting - Graphic Art - Sculpture - Graphic Design - Textile Design (4 years)\", \"Bachelor in Fine Arts & Design with specialization in Painting - Graphic Art - Sculpture - Graphic Design - Textile Design (4 years)\", \"Bachelor in Fine Arts & Design with specialization in Painting - Graphic Art - Sculpture - Graphic Design - Textile Design (4 years)\", \"Bachelor in Fine Arts & Design with specialization in Painting - Graphic Art - Sculpture - Graphic Design - Textile Design (4 years)\", \"Bachelor in Fine Arts & Design with specialization in Painting - Graphic Art - Sculpture - Graphic Design - Textile Design (4 years)\", \"Bachelor in Fine Arts & Design with specialization in Painting - Graphic Art - Sculpture - Graphic Design - Textile Design (4 years)\", \"Bachelor in Fine Arts & Design with specialization in Painting - Graphic Art - Sculpture - Graphic Design - Textile Design (4 years)\", \"MA Fine Arts with specialization in Painting - Printmaking - Miniature - Sculpture (2 years)\", \"MA Fine Arts with specialization in Painting - Printmaking - Miniature - Sculpture (2 years)\", \"MA Fine Arts with specialization in Painting - Printmaking - Miniature - Sculpture (2 years)\", \"MA Fine Arts with specialization in Painting - Printmaking - Miniature - Sculpture (2 years)\", \"MA Fine Arts with specialization in Painting - Printmaking - Miniature - Sculpture (2 years)\", \"MA Urdu & Iqbaliat\", \"MA Urdu & Iqbaliat\", \"MA Urdu & Iqbaliat\", \"MA Urdu & Iqbaliat\", \"MA Urdu & Iqbaliat\", \"MA Urdu & Iqbaliat\", \"MA Urdu & Iqbaliat\", \"MA Urdu & Iqbaliat\", \"MA Urdu & Iqbaliat\", \"MA Urdu & Iqbaliat\", \"MA Urdu & Iqbaliat\", \"MA Urdu & Iqbaliat\", \"MA Urdu & Iqbaliat\", \"MA Urdu & Iqbaliat\", \"MA Urdu & Iqbaliat\", \"MA Urdu & Iqbaliat\", \"MA Urdu & Iqbaliat\", \"MA Urdu & Iqbaliat\", \"MA Urdu & Iqbaliat\", \"MA Urdu & Iqbaliat\", \"MA Urdu & Iqbaliat\", \"MA Urdu & Iqbaliat\", \"MA Urdu & Iqbaliat\", \"MA Urdu & Iqbaliat\", \"MA Urdu & Iqbaliat\", \"MA Urdu & Iqbaliat\", \"MA Urdu & Iqbaliat\", \"MA Urdu & Iqbaliat\", \"MA Urdu & Iqbaliat\", \"MA Urdu & Iqbaliat\", \"MA Urdu & Iqbaliat\", \"MA Urdu & Iqbaliat\", \"MA Urdu & Iqbaliat\", \"MA Urdu & Iqbaliat\", \"MA Urdu & Iqbaliat\", \"MA Urdu & Iqbaliat\", \"MA Urdu & Iqbaliat\", \"MA Urdu & Iqbaliat\", \"MA Urdu & Iqbaliat\", \"MA Urdu & Iqbaliat\", \"MA Urdu & Iqbaliat\", \"MA Urdu & Iqbaliat\", \"MA Urdu & Iqbaliat\", \"MA Political Science\", \"MA Political Science\", \"MA Political Science\", \"MA Political Science\", \"BS Political Science\", \"BS Political Science\", \"BS Political Science\", \"BS Political Science\", \"BS Political Science\", \"BS Political Science\", \"BS Political Science\", \"BS Political Science\", \"BS Political Science\", \"BS Political Science\", \"BS Political Science\", \"BS Political Science\", \"Master in  Public Administration (E)\", \"Master in  Public Administration (E)\", \"Master in  Public Administration (E)\", \"Master in  Public Administration (E)\", \"Master in  Public Administration (E)\", \"Master in  Public Administration (E)\", \"Master in  Public Administration (E)\", \"Master in  Public Administration (E)\", \"Master in  Public Administration (E)\", \"Master in  Public Administration (E)\", \"Master in  Public Administration (E)\", \"Master in  Public Administration (E)\", \"BS Public Administration\", \"BS Public Administration\", \"BS Public Administration\", \"BS Public Administration\", \"BS Public Administration\", \"BS Public Administration\", \"BS Public Administration\", \"BS Public Administration\", \"BS Public Administration\", \"BS Public Administration\", \"BS Public Administration\", \"BS Public Administration\", \"BS Public Administration\", \"BS Public Administration\", \"BS Public Administration\", \"BS Public Administration\", \"BS Public Administration\", \"BS Public Administration\", \"BS Public Administration\", \"BS Public Administration\", \"BS Public Administration\", \"BS Public Administration\", \"BS Public Administration\", \"BS Public Administration\", \"BS Public Administration\", \"BS Public Administration\", \"MA Media Studies\", \"MA Media Studies\", \"MA Media Studies\", \"MA Media Studies\", \"BS Media Studies\", \"BS Media Studies\", \"BS Media Studies\", \"BS Media Studies\", \"BS Media Studies\", \"BS Media Studies\", \"BS Media Studies\", \"BS Media Studies\", \"BS Media Studies\", \"BS Media Studies\", \"BS Media Studies\", \"BS Media Studies\", \"BS Media Studies\", \"BS Media Studies\", \"BS Media Studies\", \"BS Media Studies\", \"BS Media Studies\", \"BS Media Studies\", \"BS Media Studies\", \"BS Media Studies\", \"BS Media Studies\", \"BS Media Studies\", \"BS Media Studies\", \"BS Media Studies\", \"MLISc\", \"MLISc\", \"MLISc\", \"MLISc\", \"BS Library & Information Science\", \"BS Library & Information Science\", \"BS Library & Information Science\", \"MA International Relations\", \"MA English\", \"MA English\", \"MA English\", \"MA English\", \"MA English\", \"MA English\", \"MA English\", \"MA English\", \"MA English\", \"MA English\", \"MA English Language & Literature\", \"MA English Language & Literature\", \"MA English Language & Literature\", \"MA English Language & Literature\", \"MA English Language & Literature\", \"MA English Language & Literature\", \"MA English Language & Literature\", \"MA English Language & Literature\", \"MA English Language & Literature\", \"MA English Language & Literature\", \"MA English Language & Literature\", \"MA English Language & Literature\", \"MA English Language & Literature\", \"MA English Language & Literature\", \"MA English Language & Literature\", \"MA English Literature\", \"MA English Literature\", \"MA English Literature\", \"MA English Literature\", \"MA English Literature\", \"MA English Literature\", \"MA English Literature\", \"MA English Literature\", \"MA English Literature\", \"MA English Literature\", \"MA English Literature\", \"MA English Literature\", \"MA English Literature\", \"MA English Literature\", \"MA English Literature\", \"MA English Literature\", \"MA English Literature\", \"MA English Literature\", \"MA English Literature\", \"MA English Literature\", \"MA English Literature\", \"MA English Literature\", \"MA English Literature\", \"MA English Literature\", \"MA English Literature\", \"MA English Literature\", \"MA English Literature\", \"MA English Literature\", \"MA English Literature\", \"MA English Literature\", \"MA English Literature\", \"MA English Literature\", \"MA English Literature\", \"MA English Literature\", \"MA English Literature\", \"MA English Literature\", \"MA English Literature\", \"MA English Linguistics\", \"MA English Linguistics\", \"MA English Linguistics\", \"MA English Linguistics\", \"MA English Linguistics\", \"MA English Linguistics\", \"MA English Linguistics\", \"MA English Linguistics\", \"MA English Linguistics\", \"MA English Linguistics\", \"MA English Linguistics\", \"MA English Linguistics\", \"MA English Linguistics\", \"MA English Linguistics\", \"MA English Linguistics\", \"MA English Linguistics\", \"MA English Linguistics\", \"MA English Linguistics\", \"MA English Linguistics\", \"MA English Linguistics\", \"MA English Linguistics\", \"MA English Linguistics\", \"MA English Linguistics\", \"MA English Linguistics\", \"MA English Linguistics\", \"MA English Linguistics\", \"MA English Linguistics\", \"MA English Linguistics\", \"MA English Linguistics\", \"MA English Linguistics\", \"BA(Hons) English\", \"BA(Hons) English\", \"BA(Hons) English\", \"BA(Hons) English\", \"BA(Hons) English\", \"BA(Hons) English\", \"BA(Hons) English\", \"BA(Hons) English\", \"BA(Hons) English\", \"BA(Hons) English\", \"BA(Hons) English\", \"BA(Hons) English\", \"BA(Hons) English\", \"BA(Hons) English\", \"BA(Hons) English\", \"BA(Hons) English\", \"BA(Hons) English\", \"BA(Hons) English\", \"BA(Hons) English\", \"BA(Hons) English\", \"BA(Hons) English\", \"BA(Hons) English\", \"BA(Hons) English\", \"BA(Hons) English\", \"BA(Hons) English\", \"BA(Hons) English\", \"BA(Hons) English\", \"BA(Hons) English\", \"BA(Hons) English\", \"BA(Hons) English\", \"BA(Hons) English\"], \"xaxis\": \"x\", \"y\": [843, 841, 850, 840, 1012, 651, 882, 883, 843, 868, 858, 823, 836, 838, 975, 827, 850, 857, 823, 828, 824, 863, 851, 844, 637, 837, 943, 819, 880, 853, 850, 840, 820, 398, 374, 427, 418, 386, 396, 393, 453, 388, 466, 441, 492, 475, 524, 495, 454, 487, 445, 520, 394, 395, 497, 443, 495, 369, 407, 427, 437, 366, 492, 442, 530, 466, 514, 544, 533, 488, 554, 480, 469, 514, 512, 480, 596, 539, 470, 557, 504, 508, 557, 460, 540, 453, 567, 617, 518, 486, 480, 480, 509, 587, 559, 540, 480, 544, 535, 495, 471, 532, 496, 541, 519, 536, 537, 567, 535, 490, 536, 474, 480, 498, 534, 500, 504, 487, 611, 489, 483, 490, 512, 509, 547, 558, 423, 515, 511, 523, 530, 518, 562, 492, 542, 555, 507, 360, 589, 539, 481, 461, 441, 458, 409, 464, 428, 482, 432, 486, 435, 474, 556, 414, 406, 465, 443, 386, 445, 405, 462, 480, 547, 457, 495, 502, 425, 481, 464, 409, 483, 481, 437, 556, 540, 499, 444, 446, 500, 567, 487, 387, 570, 370, 465, 465, 401, 481, 481, 457, 426, 437, 450, 518, 469, 469, 480, 480, 396, 466, 400, 531, 462, 523, 530, 523, 467, 462, 453, 536, 511, 468, 422, 480, 419, 442, 440, 921, 583, 604, 852, 614, 798, 647, 601, 659, 679, 583, 801, 666, 680, 691, 579, 813, 622, 662, 646, 703, 555, 700, 605, 713, 718, 683, 636, 661, 543, 589, 650, 601, 690, 752, 678, 834, 532, 643, 652, 598, 743, 618, 569, 652, 676, 686, 662, 602, 643, 612, 664, 600, 662, 547, 614, 770, 722, 678, 563, 644, 635, 581, 1018, 650, 617, 510, 855, 614, 647, 649, 920, 585, 516, 618, 534, 742, 708, 529, 500, 509, 785, 513, 502, 812, 763, 591, 718, 632, 525, 605, 676, 625, 641, 539, 602, 537, 819, 450, 455, 512, 464, 517, 473, 442, 506, 472, 473, 480, 444, 485, 389, 411, 534, 371, 360, 422, 474, 466, 438, 436, 434, 368, 421, 408, 424, 437, 448, 448, 381, 558, 416, 419, 537, 448, 411, 383, 426, 432, 604, 425, 418, 466, 422, 418, 427, 471, 436, 398, 503, 452, 438, 484, 465, 490, 489, 482, 418, 429, 437, 469, 431, 403, 447, 434, 404, 469, 471, 424, 572, 526, 416, 423, 404, 465, 458, 450, 437, 424, 384, 480, 525, 411, 645, 609, 556, 579, 557, 613, 582, 703, 601, 583, 561, 611, 570, 584, 754, 619, 561, 669, 550, 782, 626, 637, 734, 588, 903, 805, 922, 561, 655, 774, 728, 809, 664, 786, 815, 740, 742, 836, 723, 975, 727, 601, 688, 697, 864, 780, 900, 623, 742, 668, 597, 607, 643, 666, 819, 722, 704, 653, 955, 644, 912, 739, 689, 880, 919, 721, 922, 874, 544, 577, 868, 661, 695, 772, 725, 773, 603, 755, 845, 616, 569, 909, 667, 635, 684, 751, 662, 926, 836, 687, 641, 648, 627, 670, 620, 708, 808, 874, 629, 671, 640, 642, 782, 816, 648, 781, 621, 865, 645, 850, 622, 806, 926, 796, 599, 906, 655, 625, 584, 769, 902, 661, 917, 864, 606, 932, 894, 688, 661, 679, 753, 643, 623, 642, 606, 605, 624, 662, 629, 646, 727, 612, 649, 588, 726, 877, 864, 759, 607, 657, 685, 697, 666, 718, 729, 685, 645, 692, 872, 861, 678, 807, 660, 651, 750, 779, 501, 456, 387, 418, 393, 398, 433, 391, 409, 460, 440, 463, 475, 438, 403, 486, 835, 602, 763, 582, 641, 685, 513, 579, 617, 754, 661, 672, 805, 738, 513, 596, 643, 646, 697, 659, 531, 550, 502, 534, 527, 536, 577, 500, 563, 530, 565, 516, 566, 602, 517, 519, 466, 461, 480, 556, 554, 525, 526, 520, 555, 556, 574, 560, 591, 557, 459, 511, 485, 608, 565, 480, 483, 567, 513, 686, 872, 897, 892, 913, 908, 984, 556, 967, 846, 875, 936, 873, 879, 844, 885, 870, 883, 864, 950, 885, 858, 902, 862, 897, 951, 888, 910, 527, 579, 587, 599, 575, 554, 539, 549, 614, 624, 548, 524, 630, 603, 596, 629, 561, 590, 595, 627, 600, 642, 596, 580, 610, 614, 524, 579, 548, 624, 599, 621, 548, 579, 604, 547, 537, 616, 583, 580, 576, 643, 554, 618, 583, 459, 967, 942, 967, 978, 954, 963, 937, 959, 961, 929, 933, 950, 941, 907, 919, 941, 937, 964, 930, 931, 950, 935, 979, 959, 948, 928, 414, 451, 422, 437, 480, 400, 597, 512, 633, 699, 503, 557, 522, 567, 535, 526, 514, 500, 507, 508, 515, 514, 523, 544, 535, 501, 521, 527, 501, 512, 502, 523, 540, 535, 531, 566, 544, 509, 572, 542, 532, 564, 500, 538, 547, 528, 547, 616, 565, 513, 527, 500, 982, 992, 983, 982, 969, 972, 1012, 970, 967, 980, 968, 993, 799, 974, 978, 989, 961, 971, 972, 961, 975, 965, 989, 975, 982, 971, 981, 979, 946, 916, 945, 948, 958, 991, 973, 961, 968, 953, 947, 965, 945, 833, 982, 940, 957, 795, 946, 744, 979, 982, 1010, 958, 956, 980, 814, 973, 958, 951, 961, 953, 402, 474, 500, 458, 470, 397, 483, 421, 702, 480, 375, 420, 506, 503, 461, 415, 395, 402, 729, 701, 691, 692, 752, 897, 732, 702, 714, 825, 974, 828, 760, 907, 675, 791, 730, 754, 958, 694, 660, 898, 891, 741, 707, 750, 670, 800, 911, 771, 695, 691, 855, 682, 776, 807, 876, 764, 764, 647, 817, 913, 711, 733, 730, 729, 754, 703, 755, 773, 918, 709, 755, 752, 726, 780, 799, 664, 525, 538, 497, 556, 482, 544, 489, 539, 536, 453, 508, 613, 494, 495, 533, 538, 510, 479, 488, 503, 534, 480, 522, 530, 582, 555, 484, 523, 492, 515, 531, 500, 530, 548, 547, 557, 520, 494, 497, 533, 500, 470, 496, 489, 598, 549, 524, 528, 509, 893, 814, 822, 850, 834, 913, 802, 849, 922, 822, 853, 741, 662, 913, 830, 938, 698, 824, 845, 920, 907, 868, 846, 874, 867, 854, 814, 859, 873, 852, 835, 825, 820, 836, 804, 825, 913, 671, 752, 808, 800, 782, 822, 791, 784, 811, 801, 832, 840, 825, 397, 483, 440, 455, 487, 491, 595, 489, 490, 604, 473, 451, 489, 519, 644, 671, 668, 568, 538, 663, 591, 500, 557, 495, 644, 700, 648, 661, 640, 671, 661, 656, 652, 931, 705, 775, 925, 788, 660, 652, 712, 645, 711, 701, 657, 726, 799, 712, 493, 522, 550, 646, 542, 498, 665, 415, 564, 466, 474, 412, 424, 470, 481, 524, 422, 522, 480, 537, 456, 475, 452, 379, 522, 400, 379, 480, 454, 498, 472, 480, 564, 520, 509, 427, 418, 529, 606, 677, 573, 714, 734, 674, 652, 554, 658, 537, 669, 603, 528, 508, 495, 614, 605, 669, 577, 624, 644, 817, 431, 422, 645, 559, 514, 564, 617, 601, 426, 471, 546, 417, 449, 440, 531, 687, 550, 651, 628, 633, 564, 754, 454, 520, 496, 450, 513, 467, 465, 528, 529, 552, 467, 531, 486, 453, 480, 501, 504, 534, 498, 472, 447, 451, 525, 519, 485, 497, 485, 484, 469, 463, 447, 496, 488, 481, 490, 532, 537, 480, 507, 0, 0, 566, 611, 495, 597, 520, 0, 0, 439, 482, 547, 487, 447, 386, 478, 551, 472, 480, 470, 364, 437, 437, 467, 588, 383, 398, 434, 449, 394, 583, 426, 429, 540, 620, 562, 513, 588, 563, 539, 495, 798, 512, 748, 657, 628, 740, 725, 670, 690, 660, 660, 568, 681, 613, 509, 621, 512, 377, 543, 455, 499, 441, 435, 463, 462, 529, 402, 379, 379, 434, 548, 552, 396, 461, 529, 403, 507, 462, 470, 454, 466, 427, 431, 744, 660, 865, 851, 907, 799, 923, 802, 733, 804, 952, 711, 727, 848, 772, 731, 733, 836, 847, 816, 971, 696, 936, 658, 657, 929, 680, 567, 526, 797, 496, 837, 601, 535, 633, 650, 709, 665, 576, 628, 841, 504, 564, 627, 665, 615, 431, 438, 463, 620, 423, 600, 727, 591, 643, 593, 521, 535, 512, 560, 531, 494, 506, 530, 509, 473, 489, 482, 513, 584, 601, 581, 430, 538, 498, 514, 486, 526, 600, 495, 486, 473, 464, 491, 493, 589, 532, 549, 568, 518, 570, 483, 509, 488, 431, 376, 409, 392, 547, 545, 530, 608, 572, 717, 626, 561, 506, 567, 561, 531, 507, 484, 421, 403, 442, 492, 537, 490, 456, 389, 409, 568, 595, 668, 615, 733, 561, 624, 666, 539, 496, 554, 543, 738, 634, 760, 648, 694, 611, 552, 787, 517, 566, 712, 552, 668, 539, 554, 451, 387, 542, 504, 659, 804, 678, 533, 506, 601, 649, 595, 613, 601, 520, 517, 553, 573, 598, 638, 809, 724, 633, 622, 568, 506, 568, 573, 384, 396, 436, 474, 650, 562, 683, 366, 519, 417, 445, 468, 585, 418, 556, 462, 569, 468, 496, 547, 595, 480, 391, 450, 492, 605, 444, 505, 549, 581, 544, 463, 536, 492, 542, 500, 586, 471, 522, 517, 561, 517, 510, 574, 572, 463, 526, 466, 504, 511, 516, 480, 492, 550, 503, 649, 538, 493, 560, 434, 519, 480, 470, 547, 540, 424, 609, 549, 569, 540, 512, 546, 501, 480, 574, 528, 480, 573, 413, 612, 467, 429, 517, 498, 507, 408, 442, 502, 601, 542, 403, 559, 482, 518, 451, 398, 456, 432, 511, 484, 857, 842, 789, 879, 841, 903, 892, 879, 911, 942, 903, 816, 841, 824, 982, 507, 832, 795, 869, 616, 633, 850, 975, 885, 895, 918, 853, 829, 810, 881, 839], \"yaxis\": \"y\"}, {\"hovertemplate\": \"Domicile=OPEN<br>Programme=%{x}<br>Terminal Degree=%{y}<extra></extra>\", \"legendgroup\": \"OPEN\", \"marker\": {\"color\": \"#EF553B\", \"symbol\": \"circle\"}, \"mode\": \"markers\", \"name\": \"OPEN\", \"showlegend\": true, \"type\": \"scattergl\", \"x\": [\"BS Mathematics\", \"BS Mathematics\", \"BS Mathematics\", \"BS Mathematics\", \"BS Mathematics\", \"BS Mathematics\", \"BS Mathematics\", \"BS Mathematics\", \"M.Sc. Physical Education\", \"MCS\", \"MCS\", \"MCS\", \"BS CS\", \"BS CS\", \"BS CS\", \"BS CS\", \"BBA (Hons) after 12 years of education\", \"BS Applied Psychology\", \"MSc Applied Psychology\", \"Master in  Public Administration\", \"MSc Botany\", \"MSc Botany\", \"MSc Botany\", \"MSc Botany\", \"MSc Botany\", \"MSc Botany\", \"MSc Economics\", \"MSc Economics\", \"MSc Economics\", \"MSc Economics\", \"MSc Economics\", \"MSc Economics\", \"BS Economics\", \"BS Economics\", \"BS Economics\", \"BS Economics\", \"BS Economics\", \"BS Economics\", \"BS Economics\", \"BS Economics\", \"BS Economics\", \"BS Economics\", \"BS Economics\", \"BS Economics\", \"BS Economics\", \"BS Economics\", \"BS Economics\", \"BS Economics\", \"BS Economics\", \"BS Economics\", \"BSc (Hons) Agriculture\", \"BSc (Hons) Agriculture\", \"BSc (Hons) Agriculture\", \"BSc (Hons) Agriculture\", \"BSc (Hons) Agriculture\", \"BSc (Hons) Agriculture\", \"BSc (Hons) Agriculture\", \"BSc (Hons) Agriculture\", \"BSc (Hons) Agriculture\", \"BSc (Hons) Agriculture\", \"BSc (Hons) Agriculture\", \"BSc (Hons) Agriculture\", \"BSc (Hons) Agriculture\", \"BSc (Hons) Agriculture\", \"BSc (Hons) Agriculture\", \"BSc (Hons) Agriculture\", \"BSc (Hons) Agriculture\", \"BSc (Hons) Agriculture\", \"BSc (Hons) Agriculture\", \"BSc (Hons) Agriculture\", \"BSc (Hons) Agriculture\", \"BSc (Hons) Agriculture\", \"BSc (Hons) Agriculture\", \"BSc (Hons) Agriculture\", \"BSc (Hons) Agriculture\", \"BSc (Hons) Agriculture\", \"BSc (Hons) Agriculture\", \"BSc (Hons) Agriculture\", \"BSc (Hons) Agriculture\", \"BSc (Hons) Agriculture\", \"BSc (Hons) Agriculture\", \"BSc (Hons) Agriculture\", \"BSc (Hons) Agriculture\", \"BSc (Hons) Agriculture\", \"BSc (Hons) Agriculture\", \"BSc (Hons) Agriculture\", \"BSc (Hons) Agriculture\", \"BSc (Hons) Agriculture\", \"BSc (Hons) Agriculture\", \"BSc (Hons) Agriculture\", \"BSc (Hons) Agriculture\", \"BSc (Hons) Agriculture\", \"BSc (Hons) Agriculture\", \"BSc (Hons) Agriculture\", \"BSc (Hons) Agriculture\", \"BSc (Hons) Agriculture\", \"BSc (Hons) Agriculture\", \"BSc (Hons) Agriculture\", \"BSc (Hons) Agriculture\", \"BSc (Hons) Agriculture\", \"BSc (Hons) Agriculture\", \"BSc (Hons) Agriculture\", \"BSc (Hons) Agriculture\", \"BSc (Hons) Agriculture\", \"BS Statistics \", \"BS Statistics \", \"BS Statistics \", \"BS Statistics \", \"BS Statistics \", \"BS Statistics \", \"BS Statistics \", \"BS Statistics \", \"BS Statistics \", \"BS Statistics \", \"MSc Physics\", \"MSc Physics\", \"MSc Physics\", \"MSc Physics\", \"MSc Physics\", \"MSc Physics\", \"MSc Physics\", \"MSc Physics\", \"MSc Physics\", \"MSc Physics\", \"MSc Physics\", \"BS Physics\", \"BS Physics\", \"BS Physics\", \"BS Physics\", \"BS Physics\", \"BS Physics\", \"MSc Mathematics\", \"MSc Mathematics\", \"MSc Mathematics\", \"MSc Mathematics\", \"MSc Mathematics\", \"MSc Mathematics\", \"MSc Mathematics\", \"BS (Hons) Botany & Zoology\", \"BS (Hons) Botany & Zoology\", \"BS (Hons) Botany & Zoology\", \"BS (Hons) Botany & Zoology\", \"BS (Hons) Botany & Zoology\", \"BS (Hons) Botany & Zoology\", \"BS (Hons) Botany & Zoology\", \"BS (Hons) Botany & Zoology\", \"BS (Hons) Botany & Zoology\", \"BS (Hons) Botany & Zoology\", \"BS (Hons) Botany & Zoology\", \"BS (Hons) Botany & Zoology\", \"MSc Geography \", \"MSc Geography \", \"BS Geography\", \"MSc Chemistry\", \"MSc Chemistry\", \"MSc Chemistry\", \"MSc Chemistry\", \"MSc Chemistry\", \"MSc Chemistry\", \"MSc Chemistry\", \"BS Chemistry (E)\", \"BS Chemistry (E)\", \"BS Chemistry (E)\", \"BS Chemistry (E)\", \"BS Chemistry (E)\", \"BS Chemistry (E)\", \"BS Chemistry (E)\", \"BS Chemistry (E)\", \"BS Chemistry (E)\", \"BS Chemistry (E)\", \"BS Chemistry (E)\", \"BS Chemistry (E)\", \"BS Chemistry (E)\", \"BS Chemistry (E)\", \"BS Biochemistry & Biotechnology\", \"BS Biochemistry & Biotechnology\", \"BS Biochemistry & Biotechnology\", \"BS Biochemistry & Biotechnology\", \"BS Biochemistry & Biotechnology\", \"BS Biochemistry & Biotechnology\", \"BS Biochemistry & Biotechnology\", \"BS Biochemistry & Biotechnology\", \"BS Biochemistry & Biotechnology\", \"BS Biochemistry & Biotechnology\", \"BS Biochemistry & Biotechnology\", \"BS Biochemistry & Biotechnology\", \"BS Biochemistry & Biotechnology\", \"MBA After 14 years of Education (Morning) 4 year program\", \"MBA After 14 years of Education (Morning) 4 year program\", \"MBA After 14 years of Education (Morning) 4 year program\", \"MBA After 14 years of Education (Morning) 4 year program\", \"MBA After 14 years of Education (Morning) 4 year program\", \"MBA After 14 years of Education (Morning) 4 year program\", \"MBA After 14 years of Education (Morning) 4 year program\", \"MBA After 14 years of Education (Morning) 4 year program\", \"MBA After 14 years of Education (Morning) 4 year program\", \"MBA After 14 years of Education (Morning) 4 year program\", \"MBA After 14 years of Education (Morning) 4 year program\", \"MBA After 14 years of Education (Morning) 4 year program\", \"BBA (Hons) after 12 years of education\", \"BBA (Hons) after 12 years of education\", \"BBA (Hons) after 12 years of education\", \"BBA (Hons) after 12 years of education\", \"BBA (Hons) after 12 years of education\", \"BBA (Hons) after 12 years of education\", \"BBA (Hons) after 12 years of education\", \"BBA (Hons) after 12 years of education\", \"BBA (Hons) after 12 years of education\", \"BBA (Hons) after 12 years of education\", \"BBA (Hons) after 12 years of education\", \"BBA (Hons) after 12 years of education\", \"BBA (Hons) after 12 years of education\", \"BBA (Hons) after 12 years of education\", \"BBA (Hons) after 12 years of education\", \"BBA (Hons) after 12 years of education\", \"BBA (Hons) after 12 years of education\", \"BBA (Hons) after 12 years of education\", \"BBA (Hons) after 12 years of education\", \"BBA (Hons) after 12 years of education\", \"BBA (Hons) after 12 years of education\", \"BBA (Hons) after 12 years of education\", \"MCS\", \"MCS\", \"BS CS\", \"BS CS\", \"BS CS\", \"BS CS\", \"BS CS\", \"BS CS\", \"BS CS\", \"BS CS\", \"BS CS\", \"BS CS\", \"BS IT\", \"BS IT\", \"BS IT\", \"BS IT\", \"BS IT\", \"BS IT\", \"BS IT\", \"BS IT\", \"BS IT\", \"BS IT\", \"BS IT\", \"BS IT\", \"BS IT\", \"BS IT\", \"BS IT\", \"BS IT\", \"BS IT\", \"BS IT\", \"BS IT\", \"BS IT\", \"MSc Accounting & Finance\", \"MSc Accounting & Finance\", \"MSc Accounting & Finance\", \"MSc Accounting & Finance\", \"MCom\", \"BS Commerce \", \"BS Commerce \", \"BS Commerce \", \"BS Commerce \", \"BS Commerce \", \"LLB  5 years  (Under Semester System)\", \"LLB  5 years  (Under Semester System)\", \"LLB  5 years  (Under Semester System)\", \"LLB  5 years  (Under Semester System)\", \"LLB  5 years  (Under Semester System)\", \"LLB  5 years  (Under Semester System)\", \"LLB  5 years  (Under Semester System)\", \"LLB  5 years  (Under Semester System)\", \"LLB  5 years  (Under Semester System)\", \"LLB  5 years  (Under Semester System)\", \"LLB  5 years  (Under Semester System)\", \"LLB  5 years  (Under Semester System)\", \"LLB  5 years  (Under Semester System)\", \"LLB  5 years  (Under Semester System)\", \"MA Islamic Studies with specialization in Hadith & Seerah \", \"MA Islamic Studies with specialization in Hadith & Seerah \", \"MA Islamic Studies with specialization in Hadith & Seerah \", \"MA Islamic Studies with specialization in Quran & Tafseer\", \"MA Islamic Studies with specialization in Quran & Tafseer\", \"MA Islamic Studies\", \"BS Islamic Studies\", \"BS Islamic Studies\", \"BS Islamic Studies\", \"BS Islamic Studies\", \"BS Islamic Studies\", \"MA Pakistan Studies\", \"MA Pakistan Studies\", \"MA Arabic\", \"MA Social Work\", \"BS Social Work\", \"BS Social Work\", \"BS Social Work\", \"BS Social Work\", \"BS Social Work\", \"BS Social Work\", \"BS Social Work\", \"BS Social Work\", \"BS Social Work\", \"BS Social Work\", \"M.Sc. Physical Education\", \"M.Sc. Physical Education\", \"M.Sc. Physical Education\", \"M.Sc. Physical Education\", \"M.Sc. Physical Education\", \"M.Sc. Physical Education\", \"M.Sc. Physical Education\", \"M.Sc. Physical Education\", \"BEd 1.5-years (after MA/MSc/BS)\", \"BEd 4-years (after FA/FSc)\", \"MEd (after BEd/BS Ed)\", \"MEd (after BEd/BS Ed)\", \"MEd (after BEd/BS Ed)\", \"MA Education\", \"BS Secondary Education\", \"BS Secondary Education\", \"BS Secondary Education\", \"BS Secondary Education\", \"BS Secondary Education\", \"BS Secondary Education\", \"BS Secondary Education\", \"BS Secondary Education\", \"BS Secondary Education\", \"BS Secondary Education\", \"BS Secondary Education\", \"BS Secondary Education\", \"BS Secondary Education\", \"MSc Applied Psychology\", \"MSc Applied Psychology\", \"MSc Applied Psychology\", \"MSc Applied Psychology\", \"MSc Applied Psychology\", \"MSc Applied Psychology\", \"BS Applied Psychology\", \"BS Applied Psychology\", \"BS Applied Psychology\", \"BS Applied Psychology\", \"BS Applied Psychology\", \"BS Applied Psychology\", \"BS Applied Psychology\", \"BS Applied Psychology\", \"BS Applied Psychology\", \"Bachelor in Fine Arts & Design with specialization in Painting - Graphic Art - Sculpture - Graphic Design - Textile Design (4 years)\", \"Bachelor in Fine Arts & Design with specialization in Painting - Graphic Art - Sculpture - Graphic Design - Textile Design (4 years)\", \"Bachelor in Fine Arts & Design with specialization in Painting - Graphic Art - Sculpture - Graphic Design - Textile Design (4 years)\", \"Bachelor in Fine Arts & Design with specialization in Painting - Graphic Art - Sculpture - Graphic Design - Textile Design (4 years)\", \"Bachelor in Fine Arts & Design with specialization in Painting - Graphic Art - Sculpture - Graphic Design - Textile Design (4 years)\", \"Bachelor in Fine Arts & Design with specialization in Painting - Graphic Art - Sculpture - Graphic Design - Textile Design (4 years)\", \"Bachelor in Fine Arts & Design with specialization in Painting - Graphic Art - Sculpture - Graphic Design - Textile Design (4 years)\", \"Bachelor in Fine Arts & Design with specialization in Painting - Graphic Art - Sculpture - Graphic Design - Textile Design (4 years)\", \"Bachelor in Fine Arts & Design with specialization in Painting - Graphic Art - Sculpture - Graphic Design - Textile Design (4 years)\", \"Bachelor in Fine Arts & Design with specialization in Painting - Graphic Art - Sculpture - Graphic Design - Textile Design (4 years)\", \"Bachelor in Fine Arts & Design with specialization in Painting - Graphic Art - Sculpture - Graphic Design - Textile Design (4 years)\", \"MA Fine Arts with specialization in Painting - Printmaking - Miniature - Sculpture (2 years)\", \"MA Fine Arts with specialization in Painting - Printmaking - Miniature - Sculpture (2 years)\", \"MA Fine Arts with specialization in Painting - Printmaking - Miniature - Sculpture (2 years)\", \"MA Fine Arts with specialization in Painting - Printmaking - Miniature - Sculpture (2 years)\", \"MA Fine Arts with specialization in Painting - Printmaking - Miniature - Sculpture (2 years)\", \"MA Urdu & Iqbaliat\", \"MA Urdu & Iqbaliat\", \"MA Urdu & Iqbaliat\", \"MA Urdu & Iqbaliat\", \"MA Political Science\", \"BS Political Science\", \"BS Political Science\", \"BS Political Science\", \"BS Political Science\", \"BS Political Science\", \"BS Political Science\", \"BS Political Science\", \"BS Political Science\", \"BS Political Science\", \"BS Political Science\", \"BS Political Science\", \"BS Political Science\", \"BS Political Science\", \"BS Political Science\", \"BS Political Science\", \"Master in  Public Administration (E)\", \"Master in  Public Administration (E)\", \"Master in  Public Administration (E)\", \"Master in  Public Administration (E)\", \"Master in  Public Administration (E)\", \"BS Public Administration\", \"BS Public Administration\", \"BS Public Administration\", \"BS Public Administration\", \"BS Public Administration\", \"BS Public Administration\", \"BS Public Administration\", \"BS Public Administration\", \"MA Media Studies\", \"BS Media Studies\", \"BS Media Studies\", \"BS Media Studies\", \"BS Media Studies\", \"BS Media Studies\", \"BS Media Studies\", \"BS Media Studies\", \"BS Media Studies\", \"BS Media Studies\", \"BS Library & Information Science\", \"BS Library & Information Science\", \"BS Library & Information Science\", \"MA International Relations\", \"MA International Relations\", \"MA International Relations\", \"MA International Relations\", \"MA International Relations\", \"MA English\", \"MA English Literature\", \"MA English Literature\", \"MA English Literature\", \"MA English Linguistics\", \"BA(Hons) English\", \"BA(Hons) English\", \"BA(Hons) English\", \"BA(Hons) English\", \"BA(Hons) English\", \"BA(Hons) English\", \"BA(Hons) English\", \"BA(Hons) English\", \"BA(Hons) English\", \"BA(Hons) English\"], \"xaxis\": \"x\", \"y\": [914, 839, 808, 919, 987, 870, 839, 712, 542, 454, 399, 485, 681, 728, 776, 679, 639, 671, 534, 440, 437, 434, 453, 488, 441, 507, 505, 467, 447, 437, 439, 430, 644, 701, 680, 639, 698, 682, 729, 682, 685, 775, 748, 630, 632, 692, 863, 645, 607, 620, 955, 905, 882, 637, 727, 710, 864, 725, 794, 909, 960, 711, 732, 823, 856, 745, 779, 757, 834, 715, 919, 889, 902, 958, 906, 854, 720, 747, 833, 743, 800, 846, 766, 763, 796, 737, 697, 776, 889, 876, 699, 731, 750, 927, 842, 750, 705, 910, 957, 802, 772, 727, 689, 680, 684, 710, 764, 670, 610, 585, 604, 630, 748, 675, 385, 514, 566, 570, 523, 548, 415, 584, 497, 564, 530, 848, 783, 652, 881, 858, 669, 613, 615, 473, 603, 650, 608, 602, 780, 975, 960, 938, 972, 960, 969, 972, 967, 881, 686, 632, 480, 375, 720, 549, 581, 544, 581, 583, 577, 524, 804, 780, 989, 990, 983, 760, 992, 1007, 987, 984, 978, 992, 824, 890, 801, 970, 977, 889, 866, 976, 964, 975, 977, 966, 1003, 818, 646, 600, 534, 554, 490, 514, 497, 426, 467, 462, 418, 495, 531, 781, 780, 808, 746, 942, 867, 917, 768, 796, 974, 812, 892, 754, 773, 841, 756, 751, 755, 763, 758, 855, 582, 542, 519, 856, 849, 913, 920, 888, 838, 925, 857, 865, 772, 767, 829, 861, 856, 884, 834, 842, 927, 851, 854, 791, 951, 736, 831, 852, 848, 853, 809, 794, 702, 435, 464, 438, 403, 600, 664, 608, 686, 611, 558, 776, 715, 844, 785, 842, 661, 732, 785, 687, 885, 880, 776, 841, 501, 400, 546, 518, 596, 508, 549, 680, 616, 610, 634, 551, 480, 455, 459, 609, 791, 597, 536, 663, 786, 606, 606, 618, 714, 717, 506, 486, 527, 480, 515, 536, 529, 450, 0, 766, 0, 0, 0, 484, 717, 499, 799, 636, 579, 606, 539, 784, 717, 735, 638, 692, 535, 440, 488, 558, 454, 403, 540, 957, 815, 948, 881, 888, 874, 780, 901, 722, 526, 836, 674, 566, 630, 614, 778, 819, 827, 842, 646, 538, 458, 491, 473, 433, 530, 533, 554, 568, 485, 790, 670, 715, 703, 752, 610, 514, 607, 564, 962, 844, 680, 967, 817, 746, 366, 680, 433, 449, 600, 694, 687, 628, 625, 637, 671, 620, 687, 391, 529, 580, 579, 600, 902, 652, 579, 580, 529, 586, 555, 650, 441, 474, 494, 456, 455, 382, 492, 362, 554, 424, 734, 812, 920, 915, 943, 939, 939, 921, 798, 592], \"yaxis\": \"y\"}],\n",
       "                        {\"legend\": {\"title\": {\"text\": \"Domicile\"}, \"tracegroupgap\": 0}, \"margin\": {\"t\": 60}, \"template\": {\"data\": {\"bar\": [{\"error_x\": {\"color\": \"#2a3f5f\"}, \"error_y\": {\"color\": \"#2a3f5f\"}, \"marker\": {\"line\": {\"color\": \"#E5ECF6\", \"width\": 0.5}}, \"type\": \"bar\"}], \"barpolar\": [{\"marker\": {\"line\": {\"color\": \"#E5ECF6\", \"width\": 0.5}}, \"type\": \"barpolar\"}], \"carpet\": [{\"aaxis\": {\"endlinecolor\": \"#2a3f5f\", \"gridcolor\": \"white\", \"linecolor\": \"white\", \"minorgridcolor\": \"white\", \"startlinecolor\": \"#2a3f5f\"}, \"baxis\": {\"endlinecolor\": \"#2a3f5f\", \"gridcolor\": \"white\", \"linecolor\": \"white\", \"minorgridcolor\": \"white\", \"startlinecolor\": \"#2a3f5f\"}, \"type\": \"carpet\"}], \"choropleth\": [{\"colorbar\": {\"outlinewidth\": 0, \"ticks\": \"\"}, \"type\": \"choropleth\"}], \"contour\": [{\"colorbar\": {\"outlinewidth\": 0, \"ticks\": \"\"}, \"colorscale\": [[0.0, \"#0d0887\"], [0.1111111111111111, \"#46039f\"], [0.2222222222222222, \"#7201a8\"], [0.3333333333333333, \"#9c179e\"], [0.4444444444444444, \"#bd3786\"], [0.5555555555555556, \"#d8576b\"], [0.6666666666666666, \"#ed7953\"], [0.7777777777777778, \"#fb9f3a\"], [0.8888888888888888, \"#fdca26\"], [1.0, \"#f0f921\"]], \"type\": \"contour\"}], \"contourcarpet\": [{\"colorbar\": {\"outlinewidth\": 0, \"ticks\": \"\"}, \"type\": \"contourcarpet\"}], \"heatmap\": [{\"colorbar\": {\"outlinewidth\": 0, \"ticks\": \"\"}, \"colorscale\": [[0.0, \"#0d0887\"], [0.1111111111111111, \"#46039f\"], [0.2222222222222222, \"#7201a8\"], [0.3333333333333333, \"#9c179e\"], [0.4444444444444444, \"#bd3786\"], [0.5555555555555556, \"#d8576b\"], [0.6666666666666666, \"#ed7953\"], [0.7777777777777778, \"#fb9f3a\"], [0.8888888888888888, \"#fdca26\"], [1.0, \"#f0f921\"]], \"type\": \"heatmap\"}], \"heatmapgl\": [{\"colorbar\": {\"outlinewidth\": 0, \"ticks\": \"\"}, \"colorscale\": [[0.0, \"#0d0887\"], [0.1111111111111111, \"#46039f\"], [0.2222222222222222, \"#7201a8\"], [0.3333333333333333, \"#9c179e\"], [0.4444444444444444, \"#bd3786\"], [0.5555555555555556, \"#d8576b\"], [0.6666666666666666, \"#ed7953\"], [0.7777777777777778, \"#fb9f3a\"], [0.8888888888888888, \"#fdca26\"], [1.0, \"#f0f921\"]], \"type\": \"heatmapgl\"}], \"histogram\": [{\"marker\": {\"colorbar\": {\"outlinewidth\": 0, \"ticks\": \"\"}}, \"type\": \"histogram\"}], \"histogram2d\": [{\"colorbar\": {\"outlinewidth\": 0, \"ticks\": \"\"}, \"colorscale\": [[0.0, \"#0d0887\"], [0.1111111111111111, \"#46039f\"], [0.2222222222222222, \"#7201a8\"], [0.3333333333333333, \"#9c179e\"], [0.4444444444444444, \"#bd3786\"], [0.5555555555555556, \"#d8576b\"], [0.6666666666666666, \"#ed7953\"], [0.7777777777777778, \"#fb9f3a\"], [0.8888888888888888, \"#fdca26\"], [1.0, \"#f0f921\"]], \"type\": \"histogram2d\"}], \"histogram2dcontour\": [{\"colorbar\": {\"outlinewidth\": 0, \"ticks\": \"\"}, \"colorscale\": [[0.0, \"#0d0887\"], [0.1111111111111111, \"#46039f\"], [0.2222222222222222, \"#7201a8\"], [0.3333333333333333, \"#9c179e\"], [0.4444444444444444, \"#bd3786\"], [0.5555555555555556, \"#d8576b\"], [0.6666666666666666, \"#ed7953\"], [0.7777777777777778, \"#fb9f3a\"], [0.8888888888888888, \"#fdca26\"], [1.0, \"#f0f921\"]], \"type\": \"histogram2dcontour\"}], \"mesh3d\": [{\"colorbar\": {\"outlinewidth\": 0, \"ticks\": \"\"}, \"type\": \"mesh3d\"}], \"parcoords\": [{\"line\": {\"colorbar\": {\"outlinewidth\": 0, \"ticks\": \"\"}}, \"type\": \"parcoords\"}], \"pie\": [{\"automargin\": true, \"type\": \"pie\"}], \"scatter\": [{\"marker\": {\"colorbar\": {\"outlinewidth\": 0, \"ticks\": \"\"}}, \"type\": \"scatter\"}], \"scatter3d\": [{\"line\": {\"colorbar\": {\"outlinewidth\": 0, \"ticks\": \"\"}}, \"marker\": {\"colorbar\": {\"outlinewidth\": 0, \"ticks\": \"\"}}, \"type\": \"scatter3d\"}], \"scattercarpet\": [{\"marker\": {\"colorbar\": {\"outlinewidth\": 0, \"ticks\": \"\"}}, \"type\": \"scattercarpet\"}], \"scattergeo\": [{\"marker\": {\"colorbar\": {\"outlinewidth\": 0, \"ticks\": \"\"}}, \"type\": \"scattergeo\"}], \"scattergl\": [{\"marker\": {\"colorbar\": {\"outlinewidth\": 0, \"ticks\": \"\"}}, \"type\": \"scattergl\"}], \"scattermapbox\": [{\"marker\": {\"colorbar\": {\"outlinewidth\": 0, \"ticks\": \"\"}}, \"type\": \"scattermapbox\"}], \"scatterpolar\": [{\"marker\": {\"colorbar\": {\"outlinewidth\": 0, \"ticks\": \"\"}}, \"type\": \"scatterpolar\"}], \"scatterpolargl\": [{\"marker\": {\"colorbar\": {\"outlinewidth\": 0, \"ticks\": \"\"}}, \"type\": \"scatterpolargl\"}], \"scatterternary\": [{\"marker\": {\"colorbar\": {\"outlinewidth\": 0, \"ticks\": \"\"}}, \"type\": \"scatterternary\"}], \"surface\": [{\"colorbar\": {\"outlinewidth\": 0, \"ticks\": \"\"}, \"colorscale\": [[0.0, \"#0d0887\"], [0.1111111111111111, \"#46039f\"], [0.2222222222222222, \"#7201a8\"], [0.3333333333333333, \"#9c179e\"], [0.4444444444444444, \"#bd3786\"], [0.5555555555555556, \"#d8576b\"], [0.6666666666666666, \"#ed7953\"], [0.7777777777777778, \"#fb9f3a\"], [0.8888888888888888, \"#fdca26\"], [1.0, \"#f0f921\"]], \"type\": \"surface\"}], \"table\": [{\"cells\": {\"fill\": {\"color\": \"#EBF0F8\"}, \"line\": {\"color\": \"white\"}}, \"header\": {\"fill\": {\"color\": \"#C8D4E3\"}, \"line\": {\"color\": \"white\"}}, \"type\": \"table\"}]}, \"layout\": {\"annotationdefaults\": {\"arrowcolor\": \"#2a3f5f\", \"arrowhead\": 0, \"arrowwidth\": 1}, \"coloraxis\": {\"colorbar\": {\"outlinewidth\": 0, \"ticks\": \"\"}}, \"colorscale\": {\"diverging\": [[0, \"#8e0152\"], [0.1, \"#c51b7d\"], [0.2, \"#de77ae\"], [0.3, \"#f1b6da\"], [0.4, \"#fde0ef\"], [0.5, \"#f7f7f7\"], [0.6, \"#e6f5d0\"], [0.7, \"#b8e186\"], [0.8, \"#7fbc41\"], [0.9, \"#4d9221\"], [1, \"#276419\"]], \"sequential\": [[0.0, \"#0d0887\"], [0.1111111111111111, \"#46039f\"], [0.2222222222222222, \"#7201a8\"], [0.3333333333333333, \"#9c179e\"], [0.4444444444444444, \"#bd3786\"], [0.5555555555555556, \"#d8576b\"], [0.6666666666666666, \"#ed7953\"], [0.7777777777777778, \"#fb9f3a\"], [0.8888888888888888, \"#fdca26\"], [1.0, \"#f0f921\"]], \"sequentialminus\": [[0.0, \"#0d0887\"], [0.1111111111111111, \"#46039f\"], [0.2222222222222222, \"#7201a8\"], [0.3333333333333333, \"#9c179e\"], [0.4444444444444444, \"#bd3786\"], [0.5555555555555556, \"#d8576b\"], [0.6666666666666666, \"#ed7953\"], [0.7777777777777778, \"#fb9f3a\"], [0.8888888888888888, \"#fdca26\"], [1.0, \"#f0f921\"]]}, \"colorway\": [\"#636efa\", \"#EF553B\", \"#00cc96\", \"#ab63fa\", \"#FFA15A\", \"#19d3f3\", \"#FF6692\", \"#B6E880\", \"#FF97FF\", \"#FECB52\"], \"font\": {\"color\": \"#2a3f5f\"}, \"geo\": {\"bgcolor\": \"white\", \"lakecolor\": \"white\", \"landcolor\": \"#E5ECF6\", \"showlakes\": true, \"showland\": true, \"subunitcolor\": \"white\"}, \"hoverlabel\": {\"align\": \"left\"}, \"hovermode\": \"closest\", \"mapbox\": {\"style\": \"light\"}, \"paper_bgcolor\": \"white\", \"plot_bgcolor\": \"#E5ECF6\", \"polar\": {\"angularaxis\": {\"gridcolor\": \"white\", \"linecolor\": \"white\", \"ticks\": \"\"}, \"bgcolor\": \"#E5ECF6\", \"radialaxis\": {\"gridcolor\": \"white\", \"linecolor\": \"white\", \"ticks\": \"\"}}, \"scene\": {\"xaxis\": {\"backgroundcolor\": \"#E5ECF6\", \"gridcolor\": \"white\", \"gridwidth\": 2, \"linecolor\": \"white\", \"showbackground\": true, \"ticks\": \"\", \"zerolinecolor\": \"white\"}, \"yaxis\": {\"backgroundcolor\": \"#E5ECF6\", \"gridcolor\": \"white\", \"gridwidth\": 2, \"linecolor\": \"white\", \"showbackground\": true, \"ticks\": \"\", \"zerolinecolor\": \"white\"}, \"zaxis\": {\"backgroundcolor\": \"#E5ECF6\", \"gridcolor\": \"white\", \"gridwidth\": 2, \"linecolor\": \"white\", \"showbackground\": true, \"ticks\": \"\", \"zerolinecolor\": \"white\"}}, \"shapedefaults\": {\"line\": {\"color\": \"#2a3f5f\"}}, \"ternary\": {\"aaxis\": {\"gridcolor\": \"white\", \"linecolor\": \"white\", \"ticks\": \"\"}, \"baxis\": {\"gridcolor\": \"white\", \"linecolor\": \"white\", \"ticks\": \"\"}, \"bgcolor\": \"#E5ECF6\", \"caxis\": {\"gridcolor\": \"white\", \"linecolor\": \"white\", \"ticks\": \"\"}}, \"title\": {\"x\": 0.05}, \"xaxis\": {\"automargin\": true, \"gridcolor\": \"white\", \"linecolor\": \"white\", \"ticks\": \"\", \"title\": {\"standoff\": 15}, \"zerolinecolor\": \"white\", \"zerolinewidth\": 2}, \"yaxis\": {\"automargin\": true, \"gridcolor\": \"white\", \"linecolor\": \"white\", \"ticks\": \"\", \"title\": {\"standoff\": 15}, \"zerolinecolor\": \"white\", \"zerolinewidth\": 2}}}, \"xaxis\": {\"anchor\": \"y\", \"domain\": [0.0, 1.0], \"title\": {\"text\": \"Programme\"}}, \"yaxis\": {\"anchor\": \"x\", \"domain\": [0.0, 1.0], \"title\": {\"text\": \"Terminal Degree\"}}},\n",
       "                        {\"responsive\": true}\n",
       "                    ).then(function(){\n",
       "                            \n",
       "var gd = document.getElementById('b618551d-467e-4c84-8014-d78018916f9f');\n",
       "var x = new MutationObserver(function (mutations, observer) {{\n",
       "        var display = window.getComputedStyle(gd).display;\n",
       "        if (!display || display === 'none') {{\n",
       "            console.log([gd, 'removed!']);\n",
       "            Plotly.purge(gd);\n",
       "            observer.disconnect();\n",
       "        }}\n",
       "}});\n",
       "\n",
       "// Listen for the removal of the full notebook cells\n",
       "var notebookContainer = gd.closest('#notebook-container');\n",
       "if (notebookContainer) {{\n",
       "    x.observe(notebookContainer, {childList: true});\n",
       "}}\n",
       "\n",
       "// Listen for the clearing of the current output cell\n",
       "var outputEl = gd.closest('.output');\n",
       "if (outputEl) {{\n",
       "    x.observe(outputEl, {childList: true});\n",
       "}}\n",
       "\n",
       "                        })\n",
       "                };\n",
       "                });\n",
       "            </script>\n",
       "        </div>"
      ]
     },
     "metadata": {},
     "output_type": "display_data"
    }
   ],
   "source": [
    "# x and y given as DataFrame columns\n",
    "import plotly.express as px\n",
    "import pandas as pd\n",
    "df = pd.read_csv('dataset/sp18/sp18-for-weka-2020-01-19-jif-clean-all-programes-admission-test-terminal-degree.csv')\n",
    "print(df.columns)\n",
    "fig = px.scatter(df, x=\"Programme\", y=\"Terminal Degree\",color=\"Domicile\")\n",
    "fig.show()"
   ]
  },
  {
   "cell_type": "code",
   "execution_count": 5,
   "metadata": {},
   "outputs": [
    {
     "name": "stdout",
     "output_type": "stream",
     "text": [
      "Index(['Merit Score', 'Domicile', 'Programme'], dtype='object')\n"
     ]
    },
    {
     "data": {
      "application/vnd.plotly.v1+json": {
       "config": {
        "plotlyServerURL": "https://plot.ly"
       },
       "data": [
        {
         "hovertemplate": "Domicile=Bahawalpur<br>Programme=%{x}<br>Merit Score=%{y}<extra></extra>",
         "legendgroup": "Bahawalpur",
         "marker": {
          "color": "#636efa",
          "symbol": "circle"
         },
         "mode": "markers",
         "name": "Bahawalpur",
         "showlegend": true,
         "type": "scatter",
         "x": [
          "BS CS",
          "BS CS",
          "BS CS",
          "BS CS",
          "BS CS",
          "BS CS",
          "BS CS",
          "BS CS",
          "BS CS",
          "BS CS",
          "BS CS",
          "BS CS",
          "BS CS",
          "BS CS",
          "BS CS",
          "BS CS",
          "BS CS",
          "BS CS",
          "BS CS",
          "BS CS",
          "BS CS",
          "BS CS",
          "BS CS",
          "BS CS",
          "BS CS",
          "BS CS",
          "BS CS",
          "BS CS",
          "BS CS",
          "BS CS",
          "BS CS",
          "BS CS",
          "BS CS",
          "BS CS",
          "BS CS",
          "BS CS",
          "BS CS",
          "BS CS",
          "BS CS",
          "BS CS",
          "BS CS",
          "BS CS",
          "BS CS",
          "BS CS",
          "BS CS",
          "BS CS",
          "BS CS",
          "BS CS",
          "BS CS",
          "BS CS",
          "BS CS",
          "BS CS",
          "BS CS",
          "BS CS",
          "BS CS",
          "BS CS",
          "BS CS",
          "BS CS",
          "BS CS",
          "BS CS",
          "BS CS",
          "BS CS",
          "BS CS",
          "BS CS",
          "BS CS",
          "BS CS",
          "BS CS",
          "BS CS",
          "BS CS",
          "BS CS",
          "BS CS",
          "BS CS",
          "BS CS",
          "BS CS",
          "BS CS",
          "BS CS",
          "BS CS",
          "BS CS",
          "BS CS",
          "BS CS",
          "BS CS",
          "BS CS",
          "BS CS",
          "BS CS",
          "BS CS",
          "BS CS",
          "BS CS",
          "BS CS",
          "BS CS",
          "BS CS",
          "BS CS",
          "BS CS",
          "BS CS",
          "BS CS",
          "BS CS",
          "BBA (Hons) after 12 years of education",
          "BBA (Hons) after 12 years of education",
          "BBA (Hons) after 12 years of education",
          "BBA (Hons) after 12 years of education",
          "BBA (Hons) after 12 years of education",
          "BBA (Hons) after 12 years of education",
          "BBA (Hons) after 12 years of education",
          "BBA (Hons) after 12 years of education",
          "BBA (Hons) after 12 years of education",
          "BBA (Hons) after 12 years of education",
          "BBA (Hons) after 12 years of education",
          "BBA (Hons) after 12 years of education",
          "BBA (Hons) after 12 years of education",
          "BBA (Hons) after 12 years of education",
          "BBA (Hons) after 12 years of education",
          "BBA (Hons) after 12 years of education",
          "BBA (Hons) after 12 years of education",
          "BBA (Hons) after 12 years of education",
          "BBA (Hons) after 12 years of education",
          "BBA (Hons) after 12 years of education",
          "BBA (Hons) after 12 years of education",
          "BBA (Hons) after 12 years of education",
          "BBA (Hons) after 12 years of education",
          "BBA (Hons) after 12 years of education",
          "BBA (Hons) after 12 years of education",
          "BBA (Hons) after 12 years of education",
          "BBA (Hons) after 12 years of education",
          "BBA (Hons) after 12 years of education",
          "BBA (Hons) after 12 years of education",
          "BBA (Hons) after 12 years of education",
          "BBA (Hons) after 12 years of education",
          "BBA (Hons) after 12 years of education",
          "BBA (Hons) after 12 years of education",
          "BBA (Hons) after 12 years of education",
          "BBA (Hons) after 12 years of education",
          "BBA (Hons) after 12 years of education",
          "BBA (Hons) after 12 years of education",
          "BBA (Hons) after 12 years of education",
          "BBA (Hons) after 12 years of education",
          "BBA (Hons) after 12 years of education",
          "BBA (Hons) after 12 years of education",
          "BBA (Hons) after 12 years of education",
          "BBA (Hons) after 12 years of education",
          "BBA (Hons) after 12 years of education",
          "BBA (Hons) after 12 years of education",
          "BBA (Hons) after 12 years of education",
          "BBA (Hons) after 12 years of education",
          "BBA (Hons) after 12 years of education",
          "BBA (Hons) after 12 years of education",
          "BBA (Hons) after 12 years of education",
          "BBA (Hons) after 12 years of education",
          "BBA (Hons) after 12 years of education",
          "BBA (Hons) after 12 years of education",
          "BBA (Hons) after 12 years of education",
          "BBA (Hons) after 12 years of education",
          "BBA (Hons) after 12 years of education",
          "BBA (Hons) after 12 years of education",
          "BBA (Hons) after 12 years of education",
          "BBA (Hons) after 12 years of education",
          "BBA (Hons) after 12 years of education",
          "BBA (Hons) after 12 years of education",
          "BBA (Hons) after 12 years of education",
          "BBA (Hons) after 12 years of education",
          "BBA (Hons) after 12 years of education",
          "BBA (Hons) after 12 years of education",
          "BBA (Hons) after 12 years of education",
          "BBA (Hons) after 12 years of education",
          "BBA (Hons) after 12 years of education",
          "BBA (Hons) after 12 years of education",
          "BBA (Hons) after 12 years of education",
          "BBA (Hons) after 12 years of education",
          "BBA (Hons) after 12 years of education",
          "BBA (Hons) after 12 years of education",
          "BBA (Hons) after 12 years of education",
          "BBA (Hons) after 12 years of education",
          "BBA (Hons) after 12 years of education",
          "BBA (Hons) after 12 years of education",
          "BBA (Hons) after 12 years of education",
          "BBA (Hons) after 12 years of education",
          "BBA (Hons) after 12 years of education",
          "BBA (Hons) after 12 years of education",
          "BBA (Hons) after 12 years of education",
          "BBA (Hons) after 12 years of education",
          "BBA (Hons) after 12 years of education"
         ],
         "xaxis": "x",
         "y": [
          83,
          53,
          54,
          77,
          55,
          72,
          58,
          54,
          59,
          61,
          53,
          72,
          60,
          61,
          62,
          52,
          73,
          56,
          60,
          58,
          63,
          50,
          63,
          55,
          64,
          65,
          62,
          57,
          60,
          49,
          53,
          59,
          54,
          62,
          68,
          61,
          75,
          48,
          58,
          59,
          54,
          67,
          56,
          51,
          59,
          61,
          62,
          58,
          54,
          58,
          55,
          60,
          54,
          60,
          49,
          55,
          70,
          65,
          61,
          51,
          58,
          57,
          52,
          92,
          81,
          74,
          72,
          77,
          75,
          83,
          72,
          77,
          82,
          74,
          77,
          65,
          60,
          83,
          75,
          85,
          63,
          74,
          76,
          83,
          82,
          78,
          76,
          79,
          78,
          77,
          74,
          78,
          79,
          77,
          75,
          59,
          56,
          46,
          77,
          55,
          58,
          59,
          83,
          53,
          46,
          56,
          48,
          67,
          64,
          48,
          45,
          46,
          69,
          46,
          45,
          73,
          69,
          53,
          65,
          57,
          45,
          66,
          63,
          61,
          62,
          68,
          79,
          66,
          63,
          64,
          75,
          88,
          75,
          69,
          82,
          61,
          71,
          66,
          68,
          87,
          63,
          60,
          81,
          81,
          67,
          64,
          68,
          60,
          72,
          82,
          70,
          63,
          62,
          77,
          62,
          70,
          73,
          79,
          69,
          69,
          58,
          74,
          83,
          64,
          66,
          66,
          66,
          68,
          63,
          68,
          70,
          83,
          64,
          68,
          68,
          66,
          70,
          72,
          60
         ],
         "yaxis": "y"
        },
        {
         "hovertemplate": "Domicile=OPEN<br>Programme=%{x}<br>Merit Score=%{y}<extra></extra>",
         "legendgroup": "OPEN",
         "marker": {
          "color": "#EF553B",
          "symbol": "circle"
         },
         "mode": "markers",
         "name": "OPEN",
         "showlegend": true,
         "type": "scatter",
         "x": [
          "BS CS",
          "BS CS",
          "BS CS",
          "BS CS",
          "BS CS",
          "BS CS",
          "BS CS",
          "BS CS",
          "BS CS",
          "BS CS",
          "BS CS",
          "BS CS",
          "BS CS",
          "BS CS",
          "BBA (Hons) after 12 years of education",
          "BBA (Hons) after 12 years of education",
          "BBA (Hons) after 12 years of education",
          "BBA (Hons) after 12 years of education",
          "BBA (Hons) after 12 years of education",
          "BBA (Hons) after 12 years of education",
          "BBA (Hons) after 12 years of education",
          "BBA (Hons) after 12 years of education",
          "BBA (Hons) after 12 years of education",
          "BBA (Hons) after 12 years of education",
          "BBA (Hons) after 12 years of education",
          "BBA (Hons) after 12 years of education",
          "BBA (Hons) after 12 years of education",
          "BBA (Hons) after 12 years of education",
          "BBA (Hons) after 12 years of education",
          "BBA (Hons) after 12 years of education",
          "BBA (Hons) after 12 years of education",
          "BBA (Hons) after 12 years of education",
          "BBA (Hons) after 12 years of education",
          "BBA (Hons) after 12 years of education",
          "BBA (Hons) after 12 years of education",
          "BBA (Hons) after 12 years of education",
          "BBA (Hons) after 12 years of education"
         ],
         "xaxis": "x",
         "y": [
          61,
          66,
          70,
          61,
          77,
          77,
          83,
          83,
          80,
          76,
          84,
          77,
          78,
          70,
          58,
          71,
          70,
          73,
          67,
          85,
          78,
          83,
          69,
          72,
          88,
          73,
          81,
          68,
          70,
          76,
          68,
          68,
          68,
          69,
          67,
          77,
          52
         ],
         "yaxis": "y"
        }
       ],
       "layout": {
        "legend": {
         "title": {
          "text": "Domicile"
         },
         "tracegroupgap": 0
        },
        "margin": {
         "t": 60
        },
        "template": {
         "data": {
          "bar": [
           {
            "error_x": {
             "color": "#2a3f5f"
            },
            "error_y": {
             "color": "#2a3f5f"
            },
            "marker": {
             "line": {
              "color": "#E5ECF6",
              "width": 0.5
             }
            },
            "type": "bar"
           }
          ],
          "barpolar": [
           {
            "marker": {
             "line": {
              "color": "#E5ECF6",
              "width": 0.5
             }
            },
            "type": "barpolar"
           }
          ],
          "carpet": [
           {
            "aaxis": {
             "endlinecolor": "#2a3f5f",
             "gridcolor": "white",
             "linecolor": "white",
             "minorgridcolor": "white",
             "startlinecolor": "#2a3f5f"
            },
            "baxis": {
             "endlinecolor": "#2a3f5f",
             "gridcolor": "white",
             "linecolor": "white",
             "minorgridcolor": "white",
             "startlinecolor": "#2a3f5f"
            },
            "type": "carpet"
           }
          ],
          "choropleth": [
           {
            "colorbar": {
             "outlinewidth": 0,
             "ticks": ""
            },
            "type": "choropleth"
           }
          ],
          "contour": [
           {
            "colorbar": {
             "outlinewidth": 0,
             "ticks": ""
            },
            "colorscale": [
             [
              0,
              "#0d0887"
             ],
             [
              0.1111111111111111,
              "#46039f"
             ],
             [
              0.2222222222222222,
              "#7201a8"
             ],
             [
              0.3333333333333333,
              "#9c179e"
             ],
             [
              0.4444444444444444,
              "#bd3786"
             ],
             [
              0.5555555555555556,
              "#d8576b"
             ],
             [
              0.6666666666666666,
              "#ed7953"
             ],
             [
              0.7777777777777778,
              "#fb9f3a"
             ],
             [
              0.8888888888888888,
              "#fdca26"
             ],
             [
              1,
              "#f0f921"
             ]
            ],
            "type": "contour"
           }
          ],
          "contourcarpet": [
           {
            "colorbar": {
             "outlinewidth": 0,
             "ticks": ""
            },
            "type": "contourcarpet"
           }
          ],
          "heatmap": [
           {
            "colorbar": {
             "outlinewidth": 0,
             "ticks": ""
            },
            "colorscale": [
             [
              0,
              "#0d0887"
             ],
             [
              0.1111111111111111,
              "#46039f"
             ],
             [
              0.2222222222222222,
              "#7201a8"
             ],
             [
              0.3333333333333333,
              "#9c179e"
             ],
             [
              0.4444444444444444,
              "#bd3786"
             ],
             [
              0.5555555555555556,
              "#d8576b"
             ],
             [
              0.6666666666666666,
              "#ed7953"
             ],
             [
              0.7777777777777778,
              "#fb9f3a"
             ],
             [
              0.8888888888888888,
              "#fdca26"
             ],
             [
              1,
              "#f0f921"
             ]
            ],
            "type": "heatmap"
           }
          ],
          "heatmapgl": [
           {
            "colorbar": {
             "outlinewidth": 0,
             "ticks": ""
            },
            "colorscale": [
             [
              0,
              "#0d0887"
             ],
             [
              0.1111111111111111,
              "#46039f"
             ],
             [
              0.2222222222222222,
              "#7201a8"
             ],
             [
              0.3333333333333333,
              "#9c179e"
             ],
             [
              0.4444444444444444,
              "#bd3786"
             ],
             [
              0.5555555555555556,
              "#d8576b"
             ],
             [
              0.6666666666666666,
              "#ed7953"
             ],
             [
              0.7777777777777778,
              "#fb9f3a"
             ],
             [
              0.8888888888888888,
              "#fdca26"
             ],
             [
              1,
              "#f0f921"
             ]
            ],
            "type": "heatmapgl"
           }
          ],
          "histogram": [
           {
            "marker": {
             "colorbar": {
              "outlinewidth": 0,
              "ticks": ""
             }
            },
            "type": "histogram"
           }
          ],
          "histogram2d": [
           {
            "colorbar": {
             "outlinewidth": 0,
             "ticks": ""
            },
            "colorscale": [
             [
              0,
              "#0d0887"
             ],
             [
              0.1111111111111111,
              "#46039f"
             ],
             [
              0.2222222222222222,
              "#7201a8"
             ],
             [
              0.3333333333333333,
              "#9c179e"
             ],
             [
              0.4444444444444444,
              "#bd3786"
             ],
             [
              0.5555555555555556,
              "#d8576b"
             ],
             [
              0.6666666666666666,
              "#ed7953"
             ],
             [
              0.7777777777777778,
              "#fb9f3a"
             ],
             [
              0.8888888888888888,
              "#fdca26"
             ],
             [
              1,
              "#f0f921"
             ]
            ],
            "type": "histogram2d"
           }
          ],
          "histogram2dcontour": [
           {
            "colorbar": {
             "outlinewidth": 0,
             "ticks": ""
            },
            "colorscale": [
             [
              0,
              "#0d0887"
             ],
             [
              0.1111111111111111,
              "#46039f"
             ],
             [
              0.2222222222222222,
              "#7201a8"
             ],
             [
              0.3333333333333333,
              "#9c179e"
             ],
             [
              0.4444444444444444,
              "#bd3786"
             ],
             [
              0.5555555555555556,
              "#d8576b"
             ],
             [
              0.6666666666666666,
              "#ed7953"
             ],
             [
              0.7777777777777778,
              "#fb9f3a"
             ],
             [
              0.8888888888888888,
              "#fdca26"
             ],
             [
              1,
              "#f0f921"
             ]
            ],
            "type": "histogram2dcontour"
           }
          ],
          "mesh3d": [
           {
            "colorbar": {
             "outlinewidth": 0,
             "ticks": ""
            },
            "type": "mesh3d"
           }
          ],
          "parcoords": [
           {
            "line": {
             "colorbar": {
              "outlinewidth": 0,
              "ticks": ""
             }
            },
            "type": "parcoords"
           }
          ],
          "pie": [
           {
            "automargin": true,
            "type": "pie"
           }
          ],
          "scatter": [
           {
            "marker": {
             "colorbar": {
              "outlinewidth": 0,
              "ticks": ""
             }
            },
            "type": "scatter"
           }
          ],
          "scatter3d": [
           {
            "line": {
             "colorbar": {
              "outlinewidth": 0,
              "ticks": ""
             }
            },
            "marker": {
             "colorbar": {
              "outlinewidth": 0,
              "ticks": ""
             }
            },
            "type": "scatter3d"
           }
          ],
          "scattercarpet": [
           {
            "marker": {
             "colorbar": {
              "outlinewidth": 0,
              "ticks": ""
             }
            },
            "type": "scattercarpet"
           }
          ],
          "scattergeo": [
           {
            "marker": {
             "colorbar": {
              "outlinewidth": 0,
              "ticks": ""
             }
            },
            "type": "scattergeo"
           }
          ],
          "scattergl": [
           {
            "marker": {
             "colorbar": {
              "outlinewidth": 0,
              "ticks": ""
             }
            },
            "type": "scattergl"
           }
          ],
          "scattermapbox": [
           {
            "marker": {
             "colorbar": {
              "outlinewidth": 0,
              "ticks": ""
             }
            },
            "type": "scattermapbox"
           }
          ],
          "scatterpolar": [
           {
            "marker": {
             "colorbar": {
              "outlinewidth": 0,
              "ticks": ""
             }
            },
            "type": "scatterpolar"
           }
          ],
          "scatterpolargl": [
           {
            "marker": {
             "colorbar": {
              "outlinewidth": 0,
              "ticks": ""
             }
            },
            "type": "scatterpolargl"
           }
          ],
          "scatterternary": [
           {
            "marker": {
             "colorbar": {
              "outlinewidth": 0,
              "ticks": ""
             }
            },
            "type": "scatterternary"
           }
          ],
          "surface": [
           {
            "colorbar": {
             "outlinewidth": 0,
             "ticks": ""
            },
            "colorscale": [
             [
              0,
              "#0d0887"
             ],
             [
              0.1111111111111111,
              "#46039f"
             ],
             [
              0.2222222222222222,
              "#7201a8"
             ],
             [
              0.3333333333333333,
              "#9c179e"
             ],
             [
              0.4444444444444444,
              "#bd3786"
             ],
             [
              0.5555555555555556,
              "#d8576b"
             ],
             [
              0.6666666666666666,
              "#ed7953"
             ],
             [
              0.7777777777777778,
              "#fb9f3a"
             ],
             [
              0.8888888888888888,
              "#fdca26"
             ],
             [
              1,
              "#f0f921"
             ]
            ],
            "type": "surface"
           }
          ],
          "table": [
           {
            "cells": {
             "fill": {
              "color": "#EBF0F8"
             },
             "line": {
              "color": "white"
             }
            },
            "header": {
             "fill": {
              "color": "#C8D4E3"
             },
             "line": {
              "color": "white"
             }
            },
            "type": "table"
           }
          ]
         },
         "layout": {
          "annotationdefaults": {
           "arrowcolor": "#2a3f5f",
           "arrowhead": 0,
           "arrowwidth": 1
          },
          "coloraxis": {
           "colorbar": {
            "outlinewidth": 0,
            "ticks": ""
           }
          },
          "colorscale": {
           "diverging": [
            [
             0,
             "#8e0152"
            ],
            [
             0.1,
             "#c51b7d"
            ],
            [
             0.2,
             "#de77ae"
            ],
            [
             0.3,
             "#f1b6da"
            ],
            [
             0.4,
             "#fde0ef"
            ],
            [
             0.5,
             "#f7f7f7"
            ],
            [
             0.6,
             "#e6f5d0"
            ],
            [
             0.7,
             "#b8e186"
            ],
            [
             0.8,
             "#7fbc41"
            ],
            [
             0.9,
             "#4d9221"
            ],
            [
             1,
             "#276419"
            ]
           ],
           "sequential": [
            [
             0,
             "#0d0887"
            ],
            [
             0.1111111111111111,
             "#46039f"
            ],
            [
             0.2222222222222222,
             "#7201a8"
            ],
            [
             0.3333333333333333,
             "#9c179e"
            ],
            [
             0.4444444444444444,
             "#bd3786"
            ],
            [
             0.5555555555555556,
             "#d8576b"
            ],
            [
             0.6666666666666666,
             "#ed7953"
            ],
            [
             0.7777777777777778,
             "#fb9f3a"
            ],
            [
             0.8888888888888888,
             "#fdca26"
            ],
            [
             1,
             "#f0f921"
            ]
           ],
           "sequentialminus": [
            [
             0,
             "#0d0887"
            ],
            [
             0.1111111111111111,
             "#46039f"
            ],
            [
             0.2222222222222222,
             "#7201a8"
            ],
            [
             0.3333333333333333,
             "#9c179e"
            ],
            [
             0.4444444444444444,
             "#bd3786"
            ],
            [
             0.5555555555555556,
             "#d8576b"
            ],
            [
             0.6666666666666666,
             "#ed7953"
            ],
            [
             0.7777777777777778,
             "#fb9f3a"
            ],
            [
             0.8888888888888888,
             "#fdca26"
            ],
            [
             1,
             "#f0f921"
            ]
           ]
          },
          "colorway": [
           "#636efa",
           "#EF553B",
           "#00cc96",
           "#ab63fa",
           "#FFA15A",
           "#19d3f3",
           "#FF6692",
           "#B6E880",
           "#FF97FF",
           "#FECB52"
          ],
          "font": {
           "color": "#2a3f5f"
          },
          "geo": {
           "bgcolor": "white",
           "lakecolor": "white",
           "landcolor": "#E5ECF6",
           "showlakes": true,
           "showland": true,
           "subunitcolor": "white"
          },
          "hoverlabel": {
           "align": "left"
          },
          "hovermode": "closest",
          "mapbox": {
           "style": "light"
          },
          "paper_bgcolor": "white",
          "plot_bgcolor": "#E5ECF6",
          "polar": {
           "angularaxis": {
            "gridcolor": "white",
            "linecolor": "white",
            "ticks": ""
           },
           "bgcolor": "#E5ECF6",
           "radialaxis": {
            "gridcolor": "white",
            "linecolor": "white",
            "ticks": ""
           }
          },
          "scene": {
           "xaxis": {
            "backgroundcolor": "#E5ECF6",
            "gridcolor": "white",
            "gridwidth": 2,
            "linecolor": "white",
            "showbackground": true,
            "ticks": "",
            "zerolinecolor": "white"
           },
           "yaxis": {
            "backgroundcolor": "#E5ECF6",
            "gridcolor": "white",
            "gridwidth": 2,
            "linecolor": "white",
            "showbackground": true,
            "ticks": "",
            "zerolinecolor": "white"
           },
           "zaxis": {
            "backgroundcolor": "#E5ECF6",
            "gridcolor": "white",
            "gridwidth": 2,
            "linecolor": "white",
            "showbackground": true,
            "ticks": "",
            "zerolinecolor": "white"
           }
          },
          "shapedefaults": {
           "line": {
            "color": "#2a3f5f"
           }
          },
          "ternary": {
           "aaxis": {
            "gridcolor": "white",
            "linecolor": "white",
            "ticks": ""
           },
           "baxis": {
            "gridcolor": "white",
            "linecolor": "white",
            "ticks": ""
           },
           "bgcolor": "#E5ECF6",
           "caxis": {
            "gridcolor": "white",
            "linecolor": "white",
            "ticks": ""
           }
          },
          "title": {
           "x": 0.05
          },
          "xaxis": {
           "automargin": true,
           "gridcolor": "white",
           "linecolor": "white",
           "ticks": "",
           "title": {
            "standoff": 15
           },
           "zerolinecolor": "white",
           "zerolinewidth": 2
          },
          "yaxis": {
           "automargin": true,
           "gridcolor": "white",
           "linecolor": "white",
           "ticks": "",
           "title": {
            "standoff": 15
           },
           "zerolinecolor": "white",
           "zerolinewidth": 2
          }
         }
        },
        "xaxis": {
         "anchor": "y",
         "domain": [
          0,
          1
         ],
         "title": {
          "text": "Programme"
         }
        },
        "yaxis": {
         "anchor": "x",
         "domain": [
          0,
          1
         ],
         "title": {
          "text": "Merit Score"
         }
        }
       }
      },
      "text/html": [
       "<div>\n",
       "        \n",
       "        \n",
       "            <div id=\"b1ebb264-0634-49f1-bb33-bb351684ba25\" class=\"plotly-graph-div\" style=\"height:525px; width:100%;\"></div>\n",
       "            <script type=\"text/javascript\">\n",
       "                require([\"plotly\"], function(Plotly) {\n",
       "                    window.PLOTLYENV=window.PLOTLYENV || {};\n",
       "                    \n",
       "                if (document.getElementById(\"b1ebb264-0634-49f1-bb33-bb351684ba25\")) {\n",
       "                    Plotly.newPlot(\n",
       "                        'b1ebb264-0634-49f1-bb33-bb351684ba25',\n",
       "                        [{\"hovertemplate\": \"Domicile=Bahawalpur<br>Programme=%{x}<br>Merit Score=%{y}<extra></extra>\", \"legendgroup\": \"Bahawalpur\", \"marker\": {\"color\": \"#636efa\", \"symbol\": \"circle\"}, \"mode\": \"markers\", \"name\": \"Bahawalpur\", \"showlegend\": true, \"type\": \"scatter\", \"x\": [\"BS CS\", \"BS CS\", \"BS CS\", \"BS CS\", \"BS CS\", \"BS CS\", \"BS CS\", \"BS CS\", \"BS CS\", \"BS CS\", \"BS CS\", \"BS CS\", \"BS CS\", \"BS CS\", \"BS CS\", \"BS CS\", \"BS CS\", \"BS CS\", \"BS CS\", \"BS CS\", \"BS CS\", \"BS CS\", \"BS CS\", \"BS CS\", \"BS CS\", \"BS CS\", \"BS CS\", \"BS CS\", \"BS CS\", \"BS CS\", \"BS CS\", \"BS CS\", \"BS CS\", \"BS CS\", \"BS CS\", \"BS CS\", \"BS CS\", \"BS CS\", \"BS CS\", \"BS CS\", \"BS CS\", \"BS CS\", \"BS CS\", \"BS CS\", \"BS CS\", \"BS CS\", \"BS CS\", \"BS CS\", \"BS CS\", \"BS CS\", \"BS CS\", \"BS CS\", \"BS CS\", \"BS CS\", \"BS CS\", \"BS CS\", \"BS CS\", \"BS CS\", \"BS CS\", \"BS CS\", \"BS CS\", \"BS CS\", \"BS CS\", \"BS CS\", \"BS CS\", \"BS CS\", \"BS CS\", \"BS CS\", \"BS CS\", \"BS CS\", \"BS CS\", \"BS CS\", \"BS CS\", \"BS CS\", \"BS CS\", \"BS CS\", \"BS CS\", \"BS CS\", \"BS CS\", \"BS CS\", \"BS CS\", \"BS CS\", \"BS CS\", \"BS CS\", \"BS CS\", \"BS CS\", \"BS CS\", \"BS CS\", \"BS CS\", \"BS CS\", \"BS CS\", \"BS CS\", \"BS CS\", \"BS CS\", \"BS CS\", \"BBA (Hons) after 12 years of education\", \"BBA (Hons) after 12 years of education\", \"BBA (Hons) after 12 years of education\", \"BBA (Hons) after 12 years of education\", \"BBA (Hons) after 12 years of education\", \"BBA (Hons) after 12 years of education\", \"BBA (Hons) after 12 years of education\", \"BBA (Hons) after 12 years of education\", \"BBA (Hons) after 12 years of education\", \"BBA (Hons) after 12 years of education\", \"BBA (Hons) after 12 years of education\", \"BBA (Hons) after 12 years of education\", \"BBA (Hons) after 12 years of education\", \"BBA (Hons) after 12 years of education\", \"BBA (Hons) after 12 years of education\", \"BBA (Hons) after 12 years of education\", \"BBA (Hons) after 12 years of education\", \"BBA (Hons) after 12 years of education\", \"BBA (Hons) after 12 years of education\", \"BBA (Hons) after 12 years of education\", \"BBA (Hons) after 12 years of education\", \"BBA (Hons) after 12 years of education\", \"BBA (Hons) after 12 years of education\", \"BBA (Hons) after 12 years of education\", \"BBA (Hons) after 12 years of education\", \"BBA (Hons) after 12 years of education\", \"BBA (Hons) after 12 years of education\", \"BBA (Hons) after 12 years of education\", \"BBA (Hons) after 12 years of education\", \"BBA (Hons) after 12 years of education\", \"BBA (Hons) after 12 years of education\", \"BBA (Hons) after 12 years of education\", \"BBA (Hons) after 12 years of education\", \"BBA (Hons) after 12 years of education\", \"BBA (Hons) after 12 years of education\", \"BBA (Hons) after 12 years of education\", \"BBA (Hons) after 12 years of education\", \"BBA (Hons) after 12 years of education\", \"BBA (Hons) after 12 years of education\", \"BBA (Hons) after 12 years of education\", \"BBA (Hons) after 12 years of education\", \"BBA (Hons) after 12 years of education\", \"BBA (Hons) after 12 years of education\", \"BBA (Hons) after 12 years of education\", \"BBA (Hons) after 12 years of education\", \"BBA (Hons) after 12 years of education\", \"BBA (Hons) after 12 years of education\", \"BBA (Hons) after 12 years of education\", \"BBA (Hons) after 12 years of education\", \"BBA (Hons) after 12 years of education\", \"BBA (Hons) after 12 years of education\", \"BBA (Hons) after 12 years of education\", \"BBA (Hons) after 12 years of education\", \"BBA (Hons) after 12 years of education\", \"BBA (Hons) after 12 years of education\", \"BBA (Hons) after 12 years of education\", \"BBA (Hons) after 12 years of education\", \"BBA (Hons) after 12 years of education\", \"BBA (Hons) after 12 years of education\", \"BBA (Hons) after 12 years of education\", \"BBA (Hons) after 12 years of education\", \"BBA (Hons) after 12 years of education\", \"BBA (Hons) after 12 years of education\", \"BBA (Hons) after 12 years of education\", \"BBA (Hons) after 12 years of education\", \"BBA (Hons) after 12 years of education\", \"BBA (Hons) after 12 years of education\", \"BBA (Hons) after 12 years of education\", \"BBA (Hons) after 12 years of education\", \"BBA (Hons) after 12 years of education\", \"BBA (Hons) after 12 years of education\", \"BBA (Hons) after 12 years of education\", \"BBA (Hons) after 12 years of education\", \"BBA (Hons) after 12 years of education\", \"BBA (Hons) after 12 years of education\", \"BBA (Hons) after 12 years of education\", \"BBA (Hons) after 12 years of education\", \"BBA (Hons) after 12 years of education\", \"BBA (Hons) after 12 years of education\", \"BBA (Hons) after 12 years of education\", \"BBA (Hons) after 12 years of education\", \"BBA (Hons) after 12 years of education\", \"BBA (Hons) after 12 years of education\", \"BBA (Hons) after 12 years of education\"], \"xaxis\": \"x\", \"y\": [83, 53, 54, 77, 55, 72, 58, 54, 59, 61, 53, 72, 60, 61, 62, 52, 73, 56, 60, 58, 63, 50, 63, 55, 64, 65, 62, 57, 60, 49, 53, 59, 54, 62, 68, 61, 75, 48, 58, 59, 54, 67, 56, 51, 59, 61, 62, 58, 54, 58, 55, 60, 54, 60, 49, 55, 70, 65, 61, 51, 58, 57, 52, 92, 81, 74, 72, 77, 75, 83, 72, 77, 82, 74, 77, 65, 60, 83, 75, 85, 63, 74, 76, 83, 82, 78, 76, 79, 78, 77, 74, 78, 79, 77, 75, 59, 56, 46, 77, 55, 58, 59, 83, 53, 46, 56, 48, 67, 64, 48, 45, 46, 69, 46, 45, 73, 69, 53, 65, 57, 45, 66, 63, 61, 62, 68, 79, 66, 63, 64, 75, 88, 75, 69, 82, 61, 71, 66, 68, 87, 63, 60, 81, 81, 67, 64, 68, 60, 72, 82, 70, 63, 62, 77, 62, 70, 73, 79, 69, 69, 58, 74, 83, 64, 66, 66, 66, 68, 63, 68, 70, 83, 64, 68, 68, 66, 70, 72, 60], \"yaxis\": \"y\"}, {\"hovertemplate\": \"Domicile=OPEN<br>Programme=%{x}<br>Merit Score=%{y}<extra></extra>\", \"legendgroup\": \"OPEN\", \"marker\": {\"color\": \"#EF553B\", \"symbol\": \"circle\"}, \"mode\": \"markers\", \"name\": \"OPEN\", \"showlegend\": true, \"type\": \"scatter\", \"x\": [\"BS CS\", \"BS CS\", \"BS CS\", \"BS CS\", \"BS CS\", \"BS CS\", \"BS CS\", \"BS CS\", \"BS CS\", \"BS CS\", \"BS CS\", \"BS CS\", \"BS CS\", \"BS CS\", \"BBA (Hons) after 12 years of education\", \"BBA (Hons) after 12 years of education\", \"BBA (Hons) after 12 years of education\", \"BBA (Hons) after 12 years of education\", \"BBA (Hons) after 12 years of education\", \"BBA (Hons) after 12 years of education\", \"BBA (Hons) after 12 years of education\", \"BBA (Hons) after 12 years of education\", \"BBA (Hons) after 12 years of education\", \"BBA (Hons) after 12 years of education\", \"BBA (Hons) after 12 years of education\", \"BBA (Hons) after 12 years of education\", \"BBA (Hons) after 12 years of education\", \"BBA (Hons) after 12 years of education\", \"BBA (Hons) after 12 years of education\", \"BBA (Hons) after 12 years of education\", \"BBA (Hons) after 12 years of education\", \"BBA (Hons) after 12 years of education\", \"BBA (Hons) after 12 years of education\", \"BBA (Hons) after 12 years of education\", \"BBA (Hons) after 12 years of education\", \"BBA (Hons) after 12 years of education\", \"BBA (Hons) after 12 years of education\"], \"xaxis\": \"x\", \"y\": [61, 66, 70, 61, 77, 77, 83, 83, 80, 76, 84, 77, 78, 70, 58, 71, 70, 73, 67, 85, 78, 83, 69, 72, 88, 73, 81, 68, 70, 76, 68, 68, 68, 69, 67, 77, 52], \"yaxis\": \"y\"}],\n",
       "                        {\"legend\": {\"title\": {\"text\": \"Domicile\"}, \"tracegroupgap\": 0}, \"margin\": {\"t\": 60}, \"template\": {\"data\": {\"bar\": [{\"error_x\": {\"color\": \"#2a3f5f\"}, \"error_y\": {\"color\": \"#2a3f5f\"}, \"marker\": {\"line\": {\"color\": \"#E5ECF6\", \"width\": 0.5}}, \"type\": \"bar\"}], \"barpolar\": [{\"marker\": {\"line\": {\"color\": \"#E5ECF6\", \"width\": 0.5}}, \"type\": \"barpolar\"}], \"carpet\": [{\"aaxis\": {\"endlinecolor\": \"#2a3f5f\", \"gridcolor\": \"white\", \"linecolor\": \"white\", \"minorgridcolor\": \"white\", \"startlinecolor\": \"#2a3f5f\"}, \"baxis\": {\"endlinecolor\": \"#2a3f5f\", \"gridcolor\": \"white\", \"linecolor\": \"white\", \"minorgridcolor\": \"white\", \"startlinecolor\": \"#2a3f5f\"}, \"type\": \"carpet\"}], \"choropleth\": [{\"colorbar\": {\"outlinewidth\": 0, \"ticks\": \"\"}, \"type\": \"choropleth\"}], \"contour\": [{\"colorbar\": {\"outlinewidth\": 0, \"ticks\": \"\"}, \"colorscale\": [[0.0, \"#0d0887\"], [0.1111111111111111, \"#46039f\"], [0.2222222222222222, \"#7201a8\"], [0.3333333333333333, \"#9c179e\"], [0.4444444444444444, \"#bd3786\"], [0.5555555555555556, \"#d8576b\"], [0.6666666666666666, \"#ed7953\"], [0.7777777777777778, \"#fb9f3a\"], [0.8888888888888888, \"#fdca26\"], [1.0, \"#f0f921\"]], \"type\": \"contour\"}], \"contourcarpet\": [{\"colorbar\": {\"outlinewidth\": 0, \"ticks\": \"\"}, \"type\": \"contourcarpet\"}], \"heatmap\": [{\"colorbar\": {\"outlinewidth\": 0, \"ticks\": \"\"}, \"colorscale\": [[0.0, \"#0d0887\"], [0.1111111111111111, \"#46039f\"], [0.2222222222222222, \"#7201a8\"], [0.3333333333333333, \"#9c179e\"], [0.4444444444444444, \"#bd3786\"], [0.5555555555555556, \"#d8576b\"], [0.6666666666666666, \"#ed7953\"], [0.7777777777777778, \"#fb9f3a\"], [0.8888888888888888, \"#fdca26\"], [1.0, \"#f0f921\"]], \"type\": \"heatmap\"}], \"heatmapgl\": [{\"colorbar\": {\"outlinewidth\": 0, \"ticks\": \"\"}, \"colorscale\": [[0.0, \"#0d0887\"], [0.1111111111111111, \"#46039f\"], [0.2222222222222222, \"#7201a8\"], [0.3333333333333333, \"#9c179e\"], [0.4444444444444444, \"#bd3786\"], [0.5555555555555556, \"#d8576b\"], [0.6666666666666666, \"#ed7953\"], [0.7777777777777778, \"#fb9f3a\"], [0.8888888888888888, \"#fdca26\"], [1.0, \"#f0f921\"]], \"type\": \"heatmapgl\"}], \"histogram\": [{\"marker\": {\"colorbar\": {\"outlinewidth\": 0, \"ticks\": \"\"}}, \"type\": \"histogram\"}], \"histogram2d\": [{\"colorbar\": {\"outlinewidth\": 0, \"ticks\": \"\"}, \"colorscale\": [[0.0, \"#0d0887\"], [0.1111111111111111, \"#46039f\"], [0.2222222222222222, \"#7201a8\"], [0.3333333333333333, \"#9c179e\"], [0.4444444444444444, \"#bd3786\"], [0.5555555555555556, \"#d8576b\"], [0.6666666666666666, \"#ed7953\"], [0.7777777777777778, \"#fb9f3a\"], [0.8888888888888888, \"#fdca26\"], [1.0, \"#f0f921\"]], \"type\": \"histogram2d\"}], \"histogram2dcontour\": [{\"colorbar\": {\"outlinewidth\": 0, \"ticks\": \"\"}, \"colorscale\": [[0.0, \"#0d0887\"], [0.1111111111111111, \"#46039f\"], [0.2222222222222222, \"#7201a8\"], [0.3333333333333333, \"#9c179e\"], [0.4444444444444444, \"#bd3786\"], [0.5555555555555556, \"#d8576b\"], [0.6666666666666666, \"#ed7953\"], [0.7777777777777778, \"#fb9f3a\"], [0.8888888888888888, \"#fdca26\"], [1.0, \"#f0f921\"]], \"type\": \"histogram2dcontour\"}], \"mesh3d\": [{\"colorbar\": {\"outlinewidth\": 0, \"ticks\": \"\"}, \"type\": \"mesh3d\"}], \"parcoords\": [{\"line\": {\"colorbar\": {\"outlinewidth\": 0, \"ticks\": \"\"}}, \"type\": \"parcoords\"}], \"pie\": [{\"automargin\": true, \"type\": \"pie\"}], \"scatter\": [{\"marker\": {\"colorbar\": {\"outlinewidth\": 0, \"ticks\": \"\"}}, \"type\": \"scatter\"}], \"scatter3d\": [{\"line\": {\"colorbar\": {\"outlinewidth\": 0, \"ticks\": \"\"}}, \"marker\": {\"colorbar\": {\"outlinewidth\": 0, \"ticks\": \"\"}}, \"type\": \"scatter3d\"}], \"scattercarpet\": [{\"marker\": {\"colorbar\": {\"outlinewidth\": 0, \"ticks\": \"\"}}, \"type\": \"scattercarpet\"}], \"scattergeo\": [{\"marker\": {\"colorbar\": {\"outlinewidth\": 0, \"ticks\": \"\"}}, \"type\": \"scattergeo\"}], \"scattergl\": [{\"marker\": {\"colorbar\": {\"outlinewidth\": 0, \"ticks\": \"\"}}, \"type\": \"scattergl\"}], \"scattermapbox\": [{\"marker\": {\"colorbar\": {\"outlinewidth\": 0, \"ticks\": \"\"}}, \"type\": \"scattermapbox\"}], \"scatterpolar\": [{\"marker\": {\"colorbar\": {\"outlinewidth\": 0, \"ticks\": \"\"}}, \"type\": \"scatterpolar\"}], \"scatterpolargl\": [{\"marker\": {\"colorbar\": {\"outlinewidth\": 0, \"ticks\": \"\"}}, \"type\": \"scatterpolargl\"}], \"scatterternary\": [{\"marker\": {\"colorbar\": {\"outlinewidth\": 0, \"ticks\": \"\"}}, \"type\": \"scatterternary\"}], \"surface\": [{\"colorbar\": {\"outlinewidth\": 0, \"ticks\": \"\"}, \"colorscale\": [[0.0, \"#0d0887\"], [0.1111111111111111, \"#46039f\"], [0.2222222222222222, \"#7201a8\"], [0.3333333333333333, \"#9c179e\"], [0.4444444444444444, \"#bd3786\"], [0.5555555555555556, \"#d8576b\"], [0.6666666666666666, \"#ed7953\"], [0.7777777777777778, \"#fb9f3a\"], [0.8888888888888888, \"#fdca26\"], [1.0, \"#f0f921\"]], \"type\": \"surface\"}], \"table\": [{\"cells\": {\"fill\": {\"color\": \"#EBF0F8\"}, \"line\": {\"color\": \"white\"}}, \"header\": {\"fill\": {\"color\": \"#C8D4E3\"}, \"line\": {\"color\": \"white\"}}, \"type\": \"table\"}]}, \"layout\": {\"annotationdefaults\": {\"arrowcolor\": \"#2a3f5f\", \"arrowhead\": 0, \"arrowwidth\": 1}, \"coloraxis\": {\"colorbar\": {\"outlinewidth\": 0, \"ticks\": \"\"}}, \"colorscale\": {\"diverging\": [[0, \"#8e0152\"], [0.1, \"#c51b7d\"], [0.2, \"#de77ae\"], [0.3, \"#f1b6da\"], [0.4, \"#fde0ef\"], [0.5, \"#f7f7f7\"], [0.6, \"#e6f5d0\"], [0.7, \"#b8e186\"], [0.8, \"#7fbc41\"], [0.9, \"#4d9221\"], [1, \"#276419\"]], \"sequential\": [[0.0, \"#0d0887\"], [0.1111111111111111, \"#46039f\"], [0.2222222222222222, \"#7201a8\"], [0.3333333333333333, \"#9c179e\"], [0.4444444444444444, \"#bd3786\"], [0.5555555555555556, \"#d8576b\"], [0.6666666666666666, \"#ed7953\"], [0.7777777777777778, \"#fb9f3a\"], [0.8888888888888888, \"#fdca26\"], [1.0, \"#f0f921\"]], \"sequentialminus\": [[0.0, \"#0d0887\"], [0.1111111111111111, \"#46039f\"], [0.2222222222222222, \"#7201a8\"], [0.3333333333333333, \"#9c179e\"], [0.4444444444444444, \"#bd3786\"], [0.5555555555555556, \"#d8576b\"], [0.6666666666666666, \"#ed7953\"], [0.7777777777777778, \"#fb9f3a\"], [0.8888888888888888, \"#fdca26\"], [1.0, \"#f0f921\"]]}, \"colorway\": [\"#636efa\", \"#EF553B\", \"#00cc96\", \"#ab63fa\", \"#FFA15A\", \"#19d3f3\", \"#FF6692\", \"#B6E880\", \"#FF97FF\", \"#FECB52\"], \"font\": {\"color\": \"#2a3f5f\"}, \"geo\": {\"bgcolor\": \"white\", \"lakecolor\": \"white\", \"landcolor\": \"#E5ECF6\", \"showlakes\": true, \"showland\": true, \"subunitcolor\": \"white\"}, \"hoverlabel\": {\"align\": \"left\"}, \"hovermode\": \"closest\", \"mapbox\": {\"style\": \"light\"}, \"paper_bgcolor\": \"white\", \"plot_bgcolor\": \"#E5ECF6\", \"polar\": {\"angularaxis\": {\"gridcolor\": \"white\", \"linecolor\": \"white\", \"ticks\": \"\"}, \"bgcolor\": \"#E5ECF6\", \"radialaxis\": {\"gridcolor\": \"white\", \"linecolor\": \"white\", \"ticks\": \"\"}}, \"scene\": {\"xaxis\": {\"backgroundcolor\": \"#E5ECF6\", \"gridcolor\": \"white\", \"gridwidth\": 2, \"linecolor\": \"white\", \"showbackground\": true, \"ticks\": \"\", \"zerolinecolor\": \"white\"}, \"yaxis\": {\"backgroundcolor\": \"#E5ECF6\", \"gridcolor\": \"white\", \"gridwidth\": 2, \"linecolor\": \"white\", \"showbackground\": true, \"ticks\": \"\", \"zerolinecolor\": \"white\"}, \"zaxis\": {\"backgroundcolor\": \"#E5ECF6\", \"gridcolor\": \"white\", \"gridwidth\": 2, \"linecolor\": \"white\", \"showbackground\": true, \"ticks\": \"\", \"zerolinecolor\": \"white\"}}, \"shapedefaults\": {\"line\": {\"color\": \"#2a3f5f\"}}, \"ternary\": {\"aaxis\": {\"gridcolor\": \"white\", \"linecolor\": \"white\", \"ticks\": \"\"}, \"baxis\": {\"gridcolor\": \"white\", \"linecolor\": \"white\", \"ticks\": \"\"}, \"bgcolor\": \"#E5ECF6\", \"caxis\": {\"gridcolor\": \"white\", \"linecolor\": \"white\", \"ticks\": \"\"}}, \"title\": {\"x\": 0.05}, \"xaxis\": {\"automargin\": true, \"gridcolor\": \"white\", \"linecolor\": \"white\", \"ticks\": \"\", \"title\": {\"standoff\": 15}, \"zerolinecolor\": \"white\", \"zerolinewidth\": 2}, \"yaxis\": {\"automargin\": true, \"gridcolor\": \"white\", \"linecolor\": \"white\", \"ticks\": \"\", \"title\": {\"standoff\": 15}, \"zerolinecolor\": \"white\", \"zerolinewidth\": 2}}}, \"xaxis\": {\"anchor\": \"y\", \"domain\": [0.0, 1.0], \"title\": {\"text\": \"Programme\"}}, \"yaxis\": {\"anchor\": \"x\", \"domain\": [0.0, 1.0], \"title\": {\"text\": \"Merit Score\"}}},\n",
       "                        {\"responsive\": true}\n",
       "                    ).then(function(){\n",
       "                            \n",
       "var gd = document.getElementById('b1ebb264-0634-49f1-bb33-bb351684ba25');\n",
       "var x = new MutationObserver(function (mutations, observer) {{\n",
       "        var display = window.getComputedStyle(gd).display;\n",
       "        if (!display || display === 'none') {{\n",
       "            console.log([gd, 'removed!']);\n",
       "            Plotly.purge(gd);\n",
       "            observer.disconnect();\n",
       "        }}\n",
       "}});\n",
       "\n",
       "// Listen for the removal of the full notebook cells\n",
       "var notebookContainer = gd.closest('#notebook-container');\n",
       "if (notebookContainer) {{\n",
       "    x.observe(notebookContainer, {childList: true});\n",
       "}}\n",
       "\n",
       "// Listen for the clearing of the current output cell\n",
       "var outputEl = gd.closest('.output');\n",
       "if (outputEl) {{\n",
       "    x.observe(outputEl, {childList: true});\n",
       "}}\n",
       "\n",
       "                        })\n",
       "                };\n",
       "                });\n",
       "            </script>\n",
       "        </div>"
      ]
     },
     "metadata": {},
     "output_type": "display_data"
    }
   ],
   "source": [
    "# x and y given as DataFrame columns\n",
    "import plotly.express as px\n",
    "import pandas as pd\n",
    "df = pd.read_csv('dataset/sp18/sp18-for-weka-2020-02-09-jif-clean-bscs-bba.csv')\n",
    "print(df.columns)\n",
    "fig = px.scatter(df, x=\"Programme\", y=\"Merit Score\",color=\"Domicile\")\n",
    "fig.show()"
   ]
  },
  {
   "cell_type": "code",
   "execution_count": null,
   "metadata": {},
   "outputs": [],
   "source": [
    "import plotly.express as px\n",
    "df = px.data.iris()\n",
    "fig = px.scatter(df, x=\"sepal_width\", y=\"sepal_length\", color=\"species\",\n",
    "                 size='petal_length', hover_data=['petal_width'])\n",
    "fig.show()"
   ]
  },
  {
   "cell_type": "code",
   "execution_count": null,
   "metadata": {},
   "outputs": [],
   "source": [
    "import plotly.graph_objects as go\n",
    "import pandas as pd\n",
    "\n",
    "data= pd.read_csv(\"https://raw.githubusercontent.com/plotly/datasets/master/2014_usa_states.csv\")\n",
    "\n",
    "fig = go.Figure(data=go.Scatter(x=data['Postal'],\n",
    "                                y=data['Population'],\n",
    "                                mode='markers',\n",
    "                                marker_color=data['Population'],\n",
    "                                text=data['State'])) # hover text goes here\n",
    "\n",
    "fig.update_layout(title='Population of USA States')\n",
    "fig.show()"
   ]
  },
  {
   "cell_type": "code",
   "execution_count": null,
   "metadata": {},
   "outputs": [],
   "source": [
    "import plotly.graph_objects as go\n",
    "import numpy as np\n",
    "\n",
    "N = 100000\n",
    "fig = go.Figure(data=go.Scattergl(\n",
    "    x = np.random.randn(N),\n",
    "    y = np.random.randn(N),\n",
    "    mode='markers',\n",
    "    marker=dict(\n",
    "        color=np.random.randn(N),\n",
    "        colorscale='Viridis',\n",
    "        line_width=1\n",
    "    )\n",
    "))\n",
    "\n",
    "fig.show()"
   ]
  },
  {
   "cell_type": "code",
   "execution_count": null,
   "metadata": {},
   "outputs": [],
   "source": [
    "print (\"test\")"
   ]
  },
  {
   "cell_type": "code",
   "execution_count": null,
   "metadata": {},
   "outputs": [],
   "source": []
  }
 ],
 "metadata": {
  "kernelspec": {
   "display_name": "Python 3",
   "language": "python",
   "name": "python3"
  },
  "language_info": {
   "codemirror_mode": {
    "name": "ipython",
    "version": 3
   },
   "file_extension": ".py",
   "mimetype": "text/x-python",
   "name": "python",
   "nbconvert_exporter": "python",
   "pygments_lexer": "ipython3",
   "version": "3.7.4"
  }
 },
 "nbformat": 4,
 "nbformat_minor": 2
}
